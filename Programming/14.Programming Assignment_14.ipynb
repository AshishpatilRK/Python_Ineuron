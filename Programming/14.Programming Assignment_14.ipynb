{
 "cells": [
  {
   "cell_type": "markdown",
   "id": "0ba9a7e6",
   "metadata": {},
   "source": [
    "# Programming Assignment_14"
   ]
  },
  {
   "cell_type": "markdown",
   "id": "46011ea1",
   "metadata": {},
   "source": [
    "### Q1 Define a class with a generator which can iterate the numbers, which are divisible by 7, between a given range 0 and n."
   ]
  },
  {
   "cell_type": "code",
   "execution_count": 3,
   "id": "046584e9",
   "metadata": {},
   "outputs": [],
   "source": [
    "class Task1:  # class\n",
    "    def gen(self, n):     # create generator\n",
    "        for i in range(n+1):  # range 0 to n\n",
    "            if i%7 == 0: # remainder 0 when i divide by 7\n",
    "                yield i"
   ]
  },
  {
   "cell_type": "code",
   "execution_count": 4,
   "id": "f993fc8b",
   "metadata": {},
   "outputs": [
    {
     "data": {
      "text/plain": [
       "[0, 7, 14, 21, 28, 35, 42, 49, 56, 63, 70, 77, 84, 91, 98]"
      ]
     },
     "execution_count": 4,
     "metadata": {},
     "output_type": "execute_result"
    }
   ],
   "source": [
    "nums = Task1()   # Object\n",
    "\n",
    "[i for i in nums.gen(100)]  # print list using generator"
   ]
  },
  {
   "cell_type": "markdown",
   "id": "8111bc56",
   "metadata": {},
   "source": [
    "### Q2.   Write a program to compute the frequency of the words from the input. The output should output after sorting the key alphanumerically. \n",
    "### Suppose the following input is supplied to the program: New to Python or choosing between Python 2 and Python 3? Read Python 2 or Python 3. \n",
    "### Then, the output should be: 2:2 3.:1 3?:1 New:1 Python:5 Read:1 and:1 between:1 choosing:1 or:2 to:1            \n"
   ]
  },
  {
   "cell_type": "code",
   "execution_count": 5,
   "id": "2979be00",
   "metadata": {},
   "outputs": [
    {
     "name": "stdout",
     "output_type": "stream",
     "text": [
      "Enter the string New to Python or choosing between Python 2 and Python 3? Read Python 2 or Python 3.\n",
      "2:2\n",
      "3.:1\n",
      "3?:1\n",
      "New:1\n",
      "Python:5\n",
      "Read:1\n",
      "and:1\n",
      "between:1\n",
      "choosing:1\n",
      "or:2\n",
      "to:1\n"
     ]
    }
   ],
   "source": [
    "string = input('Enter the string ').split()  # split string\n",
    "word = sorted(set(string))     # sort alphbetically\n",
    "\n",
    "for i in word:\n",
    "    print(\"{0}:{1}\".format(i,string.count(i)))  # count words in list words"
   ]
  },
  {
   "cell_type": "markdown",
   "id": "0eae54f7",
   "metadata": {},
   "source": [
    "### Q3. Define a class Person and its two child classes: Male and Female. All classes have a method &quot;getGender&quot; which can print &quot;Male&quot; for Male class and &quot;Female&quot; for Femaleclass."
   ]
  },
  {
   "cell_type": "code",
   "execution_count": 6,
   "id": "c1180165",
   "metadata": {},
   "outputs": [
    {
     "name": "stdout",
     "output_type": "stream",
     "text": [
      "Male\n",
      "Female\n"
     ]
    }
   ],
   "source": [
    "class Person(object):  # class person\n",
    "    def getGender( self ):  # getGender method\n",
    "        return \"Unknown\"\n",
    "\n",
    "class Male( Person ):  # class male\n",
    "    def getGender( self ): # getGender method\n",
    "        return \"Male\"\n",
    "\n",
    "class Female( Person ): # class female\n",
    "    def getGender( self ):  # getGender method\n",
    "        return \"Female\"\n",
    "\n",
    "objMale = Male()  # object\n",
    "objFemale= Female()     # object\n",
    "print(objMale.getGender())\n",
    "print(objFemale.getGender())"
   ]
  },
  {
   "cell_type": "markdown",
   "id": "3882073b",
   "metadata": {},
   "source": [
    "### Q4. Please write a program to generate all sentences where subject is in [&quot;I&quot;, &quot;You&quot;] and verb is in [&quot;Play&quot;, &quot;Love&quot;] and the object is in [&quot;Hockey&quot;,&quot;Football&quot;]."
   ]
  },
  {
   "cell_type": "code",
   "execution_count": 7,
   "id": "4d3ea9e7",
   "metadata": {},
   "outputs": [
    {
     "name": "stdout",
     "output_type": "stream",
     "text": [
      "I Play Hockey\n",
      "I Play Football\n",
      "I Love Hockey\n",
      "I Love Football\n",
      "You Play Hockey\n",
      "You Play Football\n",
      "You Love Hockey\n",
      "You Love Football\n"
     ]
    }
   ],
   "source": [
    "subject=[\"I\", \"You\"]\n",
    "verb=[\"Play\", \"Love\"]\n",
    "obj=[\"Hockey\",\"Football\"]\n",
    "\n",
    "sentence_list = []\n",
    "\n",
    "for i in subject:   #iterate over subject\n",
    "    for j in verb: # iterate over verb\n",
    "        for k in obj: # iterate over object\n",
    "            sentence_list.append(i + \" \" + j + \" \" + k)  #append list\n",
    "            \n",
    "for sentence in sentence_list: # iterate over sentence_list:\n",
    "    print(sentence) "
   ]
  },
  {
   "cell_type": "markdown",
   "id": "9ff8ea7b",
   "metadata": {},
   "source": [
    "### Q5. Please write a program to compress and decompress the string &quot;hello world!hello world!hello world!hello world!&quot;."
   ]
  },
  {
   "cell_type": "code",
   "execution_count": 9,
   "id": "c4fa1fb0",
   "metadata": {},
   "outputs": [
    {
     "name": "stdout",
     "output_type": "stream",
     "text": [
      "b'x\\x9c\\xcbH\\xcd\\xc9\\xc9W(\\xcf/\\xcaIQ\\xcc \\x82\\r\\x00\\xbd[\\x11\\xf5'\n",
      "b'hello world!hello world!hello world!hello world!'\n"
     ]
    }
   ],
   "source": [
    "import zlib    # import library\n",
    "s = 'hello world!hello world!hello world!hello world!'\n",
    "# In Python 3 zlib.compress() accepts only DataType <bytes>\n",
    "y = bytes(s, 'utf-8')\n",
    "x = zlib.compress(y)\n",
    "print(x)\n",
    "print(zlib.decompress(x))"
   ]
  },
  {
   "cell_type": "markdown",
   "id": "bbff00f5",
   "metadata": {},
   "source": [
    "### Q6. Please write a binary search function which searches an item in a sorted list. The function should return the index of element to be searched in the list."
   ]
  },
  {
   "cell_type": "code",
   "execution_count": 10,
   "id": "dd639e4d",
   "metadata": {},
   "outputs": [
    {
     "data": {
      "text/plain": [
       "3"
      ]
     },
     "execution_count": 10,
     "metadata": {},
     "output_type": "execute_result"
    }
   ],
   "source": [
    "def binarySearch(list1, n):  \n",
    "    \n",
    "    \n",
    "    low = 0  \n",
    "    high = len(list1) - 1  \n",
    "    mid = 0  \n",
    "  \n",
    "    while low <= high:  \n",
    "        mid = (high + low) // 2  \n",
    "        if list1[mid] < n:  \n",
    "            low = mid + 1  \n",
    "        elif list1[mid] > n:  \n",
    "            high = mid - 1  \n",
    "        else:  \n",
    "            return mid  \n",
    "    return -1\n",
    "\n",
    "sorted_list = [1, 3, 10, 22, 43, 78, 100,22]\n",
    "\n",
    "binarySearch(sorted_list, 22)"
   ]
  },
  {
   "cell_type": "code",
   "execution_count": null,
   "id": "4728ee58",
   "metadata": {},
   "outputs": [],
   "source": []
  }
 ],
 "metadata": {
  "kernelspec": {
   "display_name": "Python 3 (ipykernel)",
   "language": "python",
   "name": "python3"
  },
  "language_info": {
   "codemirror_mode": {
    "name": "ipython",
    "version": 3
   },
   "file_extension": ".py",
   "mimetype": "text/x-python",
   "name": "python",
   "nbconvert_exporter": "python",
   "pygments_lexer": "ipython3",
   "version": "3.9.13"
  }
 },
 "nbformat": 4,
 "nbformat_minor": 5
}
