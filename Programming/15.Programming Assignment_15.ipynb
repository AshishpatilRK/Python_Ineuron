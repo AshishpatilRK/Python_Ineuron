{
 "cells": [
  {
   "cell_type": "markdown",
   "id": "560b11ad",
   "metadata": {},
   "source": [
    "# Programming Assignment_15"
   ]
  },
  {
   "cell_type": "markdown",
   "id": "415f2c3a",
   "metadata": {},
   "source": [
    "### Q1. Please write a program using generator to print the numbers which can be divisible by 5 and 7 between 0 and n in comma separated form while n is input by console.\n",
    "### Example:  If the following n is given as input to the program:100 Then, the output of the program should be: 0,35,70"
   ]
  },
  {
   "cell_type": "code",
   "execution_count": 1,
   "id": "af7087de",
   "metadata": {},
   "outputs": [],
   "source": [
    "def task1(n):   # generator\n",
    "    \n",
    "    for i in range(n+1):\n",
    "        if i % 5 == 0 and i % 7 == 0:\n",
    "            yield str(i)+' '  # # generator return yield"
   ]
  },
  {
   "cell_type": "code",
   "execution_count": 2,
   "id": "3a147666",
   "metadata": {},
   "outputs": [
    {
     "data": {
      "text/plain": [
       "<generator object task1 at 0x0000020312FF7040>"
      ]
     },
     "execution_count": 2,
     "metadata": {},
     "output_type": "execute_result"
    }
   ],
   "source": [
    "task1(100) # create generator"
   ]
  },
  {
   "cell_type": "code",
   "execution_count": 3,
   "id": "ceeaf903",
   "metadata": {},
   "outputs": [
    {
     "name": "stdout",
     "output_type": "stream",
     "text": [
      "0 , 35 , 70 \n"
     ]
    }
   ],
   "source": [
    "print(', '.join([i for i in task1(100)]))  #to print the numbers which can be divisible by 5 and 7 "
   ]
  },
  {
   "cell_type": "markdown",
   "id": "6385ddcd",
   "metadata": {},
   "source": [
    "### Q2. Please write a program using generator to print the even numbers between 0 and n in comma separated form while n is input by console.\n",
    "### Example: If the following n is given as input to the program: 10 Then, the output of the program should be: 0,2,4,6,8,10"
   ]
  },
  {
   "cell_type": "code",
   "execution_count": 4,
   "id": "da4a1002",
   "metadata": {},
   "outputs": [
    {
     "name": "stdout",
     "output_type": "stream",
     "text": [
      "0, 2, 4, 6, 8, 10\n"
     ]
    }
   ],
   "source": [
    "def task2(n):  # generator\n",
    "\n",
    "    for i in range(n+1):\n",
    "        if i % 2 == 0:   # for even number\n",
    "            yield str(i)     # generator return yield\n",
    "            \n",
    "print(', '.join([i for i in task2(10)])) # to print the even numbers between 0 and 10"
   ]
  },
  {
   "cell_type": "markdown",
   "id": "69e83a77",
   "metadata": {},
   "source": [
    "### Q3. The Fibonacci Sequence is computed based on the following formula:\n",
    "### f(n)=0 if n=0\n",
    "### f(n)=1 if n=1\n",
    "### f(n)=f(n-1)+f(n-2) if n&gt;1\n",
    "### Please write a program using list comprehension to print the Fibonacci Sequence in comma separated form with a given n input by console.\n",
    "### Example:If the following n is given as input to the program: 7 Then, the output of the program should be: 0,1,1,2,3,5,8,13"
   ]
  },
  {
   "cell_type": "code",
   "execution_count": 5,
   "id": "c3a167ae",
   "metadata": {},
   "outputs": [
    {
     "name": "stdout",
     "output_type": "stream",
     "text": [
      "0,1,1,2,3,5,8,13\n"
     ]
    }
   ],
   "source": [
    "def fibo(n): # generator\n",
    "    i = 0\n",
    "    j = 1\n",
    "    for k in range(n+1):  \n",
    "        yield i      # generator return yield\n",
    "        i,j = j, i+j\n",
    "        \n",
    "        \n",
    "print(','.join([str(num) for num in fibo(7)]))  # list comprehension to print the Fibonacci Sequence"
   ]
  },
  {
   "cell_type": "markdown",
   "id": "cbd9d36a",
   "metadata": {},
   "source": [
    "### Q4. Assuming that we have some email addresses in the &quot;username@companyname.com&quot; format, please write program to print the user name of a given email address. Both user names and  company names are composed of letters only.\n",
    "### Example: If the following email address is given as input to the program: john@google.com Then, the output of the program should be: john"
   ]
  },
  {
   "cell_type": "code",
   "execution_count": 6,
   "id": "09eb42b5",
   "metadata": {},
   "outputs": [
    {
     "data": {
      "text/plain": [
       "'john'"
      ]
     },
     "execution_count": 6,
     "metadata": {},
     "output_type": "execute_result"
    }
   ],
   "source": [
    "def username(email: str):\n",
    "    return email.split('@')[0]   # split email and give first element\n",
    "\n",
    "username('john@google.com')  "
   ]
  },
  {
   "cell_type": "markdown",
   "id": "c4605006",
   "metadata": {},
   "source": [
    "### Q5. Define a class named Shape and its subclass Square. The Square class has an init functionwhich takes a length as argument. Both classes have a area function which can print the area of the shape where Shape&#39;s area is 0 by default."
   ]
  },
  {
   "cell_type": "code",
   "execution_count": 9,
   "id": "248145ec",
   "metadata": {},
   "outputs": [
    {
     "name": "stdout",
     "output_type": "stream",
     "text": [
      "0\n",
      "9\n"
     ]
    }
   ],
   "source": [
    "class Shape(object):  # class Shape\n",
    "    def __init__(self):\n",
    "        pass\n",
    "\n",
    "    def area(self):  #  area function\n",
    "        return 0   # Shape's area is 0 by default.\n",
    "\n",
    "class Square(Shape):  # subclass Square\n",
    "    def __init__(self, l):\n",
    "        Shape.__init__(self)\n",
    "        self.length = l\n",
    "\n",
    "    def area(self):  #area function\n",
    "        return self.length*self.length\n",
    "\n",
    "shape_obj = Shape()  #  shape object\n",
    "\n",
    "print(shape_obj.area())\n",
    "\n",
    "objSquare= Square(3)  # square object\n",
    "print(objSquare.area())"
   ]
  },
  {
   "cell_type": "markdown",
   "id": "685a1e93",
   "metadata": {},
   "source": []
  }
 ],
 "metadata": {
  "kernelspec": {
   "display_name": "Python 3 (ipykernel)",
   "language": "python",
   "name": "python3"
  },
  "language_info": {
   "codemirror_mode": {
    "name": "ipython",
    "version": 3
   },
   "file_extension": ".py",
   "mimetype": "text/x-python",
   "name": "python",
   "nbconvert_exporter": "python",
   "pygments_lexer": "ipython3",
   "version": "3.9.13"
  }
 },
 "nbformat": 4,
 "nbformat_minor": 5
}
