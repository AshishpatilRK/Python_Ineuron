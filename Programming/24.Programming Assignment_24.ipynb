{
 "cells": [
  {
   "cell_type": "markdown",
   "id": "bd821559",
   "metadata": {},
   "source": [
    "# Programming Assignment_24"
   ]
  },
  {
   "cell_type": "markdown",
   "id": "77f7dd8c",
   "metadata": {},
   "source": [
    "### Q1. Create a function that takes an integer and returns a list from 1 to the given number, where:\n",
    "### 1. If the number can be divided evenly by 4, amplify it by 10 (i.e. return 10 times the number).\n",
    "### 2. If the number cannot be divided evenly by 4, simply return the number.\n",
    "### Examples\n",
    "### amplify(4) ➞ [1, 2, 3, 40]\n",
    "### amplify(3) ➞ [1, 2, 3]\n",
    "### amplify(25) ➞ [1, 2, 3, 40, 5, 6, 7, 80, 9, 10, 11, 120, 13, 14, 15, 160, 17, 18, 19, 200, 21, 22, 23, 240, 25]\n",
    "* Notes\n",
    "   * The given integer will always be equal to or greater than 1.\n",
    "   * Include the number (see example above).\n",
    "   * To perform this problem with its intended purpose, try doing it with list\n",
    "   * comprehensions. If that&#39;s too difficult, just solve the challenge any way you can."
   ]
  },
  {
   "cell_type": "code",
   "execution_count": 1,
   "id": "37cc696a",
   "metadata": {},
   "outputs": [],
   "source": [
    "def amplify(n):\n",
    "    return [i*10 if i % 4 == 0 else i for i in range(1,n+1)] # in range of n if i divide by 4 and remainder 0 - then i * 10"
   ]
  },
  {
   "cell_type": "code",
   "execution_count": 2,
   "id": "51891623",
   "metadata": {},
   "outputs": [
    {
     "name": "stdout",
     "output_type": "stream",
     "text": [
      "[1, 2, 3, 40]\n",
      "[1, 2, 3]\n",
      "[1, 2, 3, 40, 5, 6, 7, 80, 9, 10, 11, 120, 13, 14, 15, 160, 17, 18, 19, 200, 21, 22, 23, 240, 25]\n"
     ]
    }
   ],
   "source": [
    "print(amplify(4))\n",
    "print(amplify(3))\n",
    "print(amplify(25))"
   ]
  },
  {
   "cell_type": "markdown",
   "id": "57f84f90",
   "metadata": {},
   "source": [
    "### Q2.Create a function that takes a list of numbers and return the number that&#39;s unique.\n",
    "### Examples\n",
    "### unique([3, 3, 3, 7, 3, 3]) ➞ 7\n",
    "### unique([0, 0, 0.77, 0, 0]) ➞ 0.77\n",
    "### unique([0, 1, 1, 1, 1, 1, 1, 1]) ➞ 0\n",
    "* Notes\n",
    "   * Test cases will always have exactly one unique number while all others are the same."
   ]
  },
  {
   "cell_type": "code",
   "execution_count": 5,
   "id": "e4ae7062",
   "metadata": {},
   "outputs": [],
   "source": [
    "def unique(lst: list):\n",
    "    res = []\n",
    "    for i in set(lst): # iterate over set of list\n",
    "        if lst.count(i) == 1: # count of element is equal to 1  means unique\n",
    "            res.append(i) # append res list\n",
    "    return res"
   ]
  },
  {
   "cell_type": "code",
   "execution_count": 6,
   "id": "6579f3ee",
   "metadata": {},
   "outputs": [
    {
     "name": "stdout",
     "output_type": "stream",
     "text": [
      "[7]\n",
      "[0.77]\n",
      "[0]\n"
     ]
    }
   ],
   "source": [
    "print(unique([3, 3, 3, 7, 3, 3]))\n",
    "print(unique([0, 0, 0.77, 0, 0]))\n",
    "print(unique([0, 1, 1, 1, 1, 1, 1, 1]))"
   ]
  },
  {
   "cell_type": "markdown",
   "id": "2e2d38db",
   "metadata": {},
   "source": [
    "### Q3. Your task is to create a Circle constructor that creates a circle with a radius provided by an argument. The circles constructed must have two getters getArea() (PIr^2) and getPerimeter() (2PI*r) which give both respective areas and perimeter (circumference).\n",
    "### For help with this class, I have provided you with a Rectangle constructor which you can use as a base example.\n",
    "### Examples\n",
    "#### circy = Circle(11)\n",
    "#### circy.getArea()\n",
    "#### Should return 380.132711084365\n",
    "#### circy = Circle(4.44)\n",
    "#### circy.getPerimeter()\n",
    "#### Should return 27.897342763877365\n",
    "* Notes\n",
    "    * Round results up to the nearest integer."
   ]
  },
  {
   "cell_type": "code",
   "execution_count": 3,
   "id": "d64ad85c",
   "metadata": {},
   "outputs": [],
   "source": [
    "import math\n",
    "\n",
    "class Circle:\n",
    "    def __init__(self, r):  # constructor\n",
    "        self.r = r\n",
    "    \n",
    "    def getArea(self):\n",
    "        return round(math.pi * (self.r ** 2)) # area of circle pi * r ** 2\n",
    "    \n",
    "    def getPerimeter(self):\n",
    "        return round(2 * math.pi * self.r)  # perimeter of circle 2 * pi * r"
   ]
  },
  {
   "cell_type": "code",
   "execution_count": 4,
   "id": "edf1cacb",
   "metadata": {},
   "outputs": [
    {
     "name": "stdout",
     "output_type": "stream",
     "text": [
      "380\n",
      "28\n"
     ]
    }
   ],
   "source": [
    "shape = Circle(11)\n",
    "print(shape.getArea())\n",
    "\n",
    "shape = Circle(4.44)\n",
    "print(shape.getPerimeter())"
   ]
  },
  {
   "cell_type": "markdown",
   "id": "c9833574",
   "metadata": {},
   "source": [
    "###  Q4. Create a function that takes a list of strings and return a list, sorted from shortest to longest.\n",
    "### Examples\n",
    "#### sort_by_length([&quot;Google&quot;, &quot;Apple&quot;, &quot;Microsoft&quot;])\n",
    "#### ➞ [&quot;Apple&quot;, &quot;Google&quot;, &quot;Microsoft&quot;]\n",
    "#### sort_by_length([&quot;Leonardo&quot;, &quot;Michelangelo&quot;, &quot;Raphael&quot;, &quot;Donatello&quot;])\n",
    "#### ➞ [&quot;Raphael&quot;, &quot;Leonardo&quot;, &quot;Donatello&quot;, &quot;Michelangelo&quot;]\n",
    "#### sort_by_length([&quot;Turing&quot;, &quot;Einstein&quot;, &quot;Jung&quot;])\n",
    "#### ➞ [&quot;Jung&quot;, &quot;Turing&quot;, &quot;Einstein&quot;]\n",
    "* Notes\n",
    "   * All test cases contain lists with strings of different lengths, so you won&#39;t have to deal with multiple strings of the same length."
   ]
  },
  {
   "cell_type": "code",
   "execution_count": 7,
   "id": "ee404f60",
   "metadata": {},
   "outputs": [],
   "source": [
    "def sort_by_length(lst):\n",
    "    return sorted(lst, key = len)   # using sorted fun and its parameter key = len"
   ]
  },
  {
   "cell_type": "code",
   "execution_count": 8,
   "id": "5defea9d",
   "metadata": {},
   "outputs": [
    {
     "name": "stdout",
     "output_type": "stream",
     "text": [
      "['Apple', 'Google', 'Microsoft']\n",
      "['Raphael', 'Leonardo', 'Donatello', 'Michelangelo']\n",
      "['Jung', 'Turing', 'Einstein']\n"
     ]
    }
   ],
   "source": [
    "print(sort_by_length(['Google', 'Apple', 'Microsoft']))\n",
    "print(sort_by_length(['Leonardo', 'Michelangelo', 'Raphael', 'Donatello']))\n",
    "print(sort_by_length(['Turing', 'Einstein', 'Jung']))"
   ]
  },
  {
   "cell_type": "markdown",
   "id": "a987454e",
   "metadata": {},
   "source": [
    "### Q5. Create a function that validates whether three given integers form a Pythagorean triplet. The sum of the squares of the two smallest integers must equal the square of the largest number to be validated.\n",
    "\n",
    "### Examples\n",
    "### is_triplet(3, 4, 5) ➞ True\n",
    "#### 3² + 4² = 25\n",
    "#### 5² = 25\n",
    "### is_triplet(13, 5, 12) ➞ True\n",
    "#### 5² + 12² = 169\n",
    "####  13² = 169\n",
    "### is_triplet(1, 2, 3) ➞ False\n",
    "#### 1² + 2² = 5\n",
    "#### 3² = 9\n",
    "* Notes\n",
    "   * Numbers may not be given in a sorted order."
   ]
  },
  {
   "cell_type": "code",
   "execution_count": 9,
   "id": "d035b2cf",
   "metadata": {},
   "outputs": [],
   "source": [
    "def is_triplet(a,b,c):\n",
    "    lst = [a, b, c]  # create list\n",
    "    lst.sort()  # sort list\n",
    "    if lst[0] ** 2 + lst[1] ** 2 == lst[2] ** 2: # use Pythagorean triplet condition\n",
    "        return True\n",
    "    else:\n",
    "        return False"
   ]
  },
  {
   "cell_type": "code",
   "execution_count": 10,
   "id": "4eb2d5d3",
   "metadata": {},
   "outputs": [
    {
     "name": "stdout",
     "output_type": "stream",
     "text": [
      "True\n",
      "True\n",
      "False\n"
     ]
    }
   ],
   "source": [
    "print(is_triplet(3, 4, 5))\n",
    "print(is_triplet(13, 5, 12))\n",
    "print(is_triplet(1, 2, 3))"
   ]
  },
  {
   "cell_type": "code",
   "execution_count": null,
   "id": "15131b16",
   "metadata": {},
   "outputs": [],
   "source": []
  }
 ],
 "metadata": {
  "kernelspec": {
   "display_name": "Python 3 (ipykernel)",
   "language": "python",
   "name": "python3"
  },
  "language_info": {
   "codemirror_mode": {
    "name": "ipython",
    "version": 3
   },
   "file_extension": ".py",
   "mimetype": "text/x-python",
   "name": "python",
   "nbconvert_exporter": "python",
   "pygments_lexer": "ipython3",
   "version": "3.9.13"
  }
 },
 "nbformat": 4,
 "nbformat_minor": 5
}
