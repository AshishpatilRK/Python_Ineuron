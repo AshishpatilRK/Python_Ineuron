{
 "cells": [
  {
   "cell_type": "markdown",
   "id": "6c3bdf31",
   "metadata": {},
   "source": [
    "# Programming Assignment_5"
   ]
  },
  {
   "cell_type": "markdown",
   "id": "78c6b068",
   "metadata": {},
   "source": [
    "### Q1. Write a Python Program to Find LCM?"
   ]
  },
  {
   "cell_type": "code",
   "execution_count": 1,
   "id": "d4bba083",
   "metadata": {},
   "outputs": [
    {
     "name": "stdout",
     "output_type": "stream",
     "text": [
      "Enter num1 : 16\n",
      "Enter num1 : 4\n",
      "The LCM of 16 and 4 is 16\n"
     ]
    }
   ],
   "source": [
    "# LCM: Least Common Multiple/ Lowest Common Multiple\n",
    "# It is the smallest positive integer that is divisible by both \"a\" and \"b\"\n",
    "\n",
    "a = int(input(\"Enter num1 : \"))\n",
    "b = int(input(\"Enter num1 : \"))\n",
    "\n",
    "# lets find biggest number\n",
    "if a > b:\n",
    "    bigger = a\n",
    "else:\n",
    "    bigger = b\n",
    "    \n",
    "while(True):\n",
    "    if bigger % a == 0 and bigger % b == 0 : # find num, when bigger num divide by a and b and remainder is 0 \n",
    "        lcm = bigger\n",
    "        break  # when get num exit loop\n",
    "    bigger+=1\n",
    "    \n",
    "print(\"The LCM of {} and {} is {}\".format(a,b,lcm))"
   ]
  },
  {
   "cell_type": "markdown",
   "id": "aa1f630b",
   "metadata": {},
   "source": [
    "### Q2. Write a Python Program to Find HCF?"
   ]
  },
  {
   "cell_type": "code",
   "execution_count": 2,
   "id": "5d4097e3",
   "metadata": {},
   "outputs": [
    {
     "name": "stdout",
     "output_type": "stream",
     "text": [
      "Enter num1 : 9\n",
      "Enter num1 : 18\n",
      "The hcf of 9 and 18 is 9\n"
     ]
    }
   ],
   "source": [
    "# HCF: Highest Common Factor\n",
    "# is the largest positive integer that evenly divides the numbers without a remainder\n",
    "\n",
    "a = int(input(\"Enter num1 : \"))\n",
    "b = int(input(\"Enter num1 : \"))\n",
    "\n",
    "# lets find smallest number\n",
    "if a < b:  # if a is less than b\n",
    "    smaller = a\n",
    "else:\n",
    "    smaller = b\n",
    "hcf = 0   \n",
    "for i in range(1,smaller+1):  # range is frm 1 to smaller + 1\n",
    "    if a % i == 0 and b % i == 0 :\n",
    "        hcf = i\n",
    "    \n",
    "print(\"The hcf of {} and {} is {}\".format(a,b,hcf))"
   ]
  },
  {
   "cell_type": "markdown",
   "id": "23e566cf",
   "metadata": {},
   "source": [
    "### Q3. Write a Python Program to Convert Decimal to Binary, Octal and Hexadecimal?"
   ]
  },
  {
   "cell_type": "code",
   "execution_count": 3,
   "id": "136ff2b5",
   "metadata": {},
   "outputs": [
    {
     "name": "stdout",
     "output_type": "stream",
     "text": [
      "Enter number :111\n",
      "111 in binary :  0b1101111\n",
      "111 in Octal :  0o157\n",
      "111 in Hexadecimal :  0x6f\n"
     ]
    }
   ],
   "source": [
    "num=int(input(\"Enter number :\"))\n",
    "\n",
    "print(num, \"in binary : \", bin(num)) #use bin() function\n",
    "print(num, \"in Octal : \", oct(num))  # use oct()  function\n",
    "print(num, \"in Hexadecimal : \",hex(num)) # use of hex()  function"
   ]
  },
  {
   "cell_type": "markdown",
   "id": "b645f650",
   "metadata": {},
   "source": [
    "### Q4. Write a Python Program To Find ASCII value of a character?"
   ]
  },
  {
   "cell_type": "code",
   "execution_count": 4,
   "id": "02e864be",
   "metadata": {},
   "outputs": [
    {
     "name": "stdout",
     "output_type": "stream",
     "text": [
      "Enter a Charecter : F\n",
      "Ascii value of F is 70\n"
     ]
    }
   ],
   "source": [
    "str = input(\"Enter a Charecter : \")\n",
    "# ord gives the ASCII value of a character\n",
    "print(\"Ascii value of {} is {}\".format(str,ord(str))) # Use ord(str)  function "
   ]
  },
  {
   "cell_type": "markdown",
   "id": "16ce60a2",
   "metadata": {},
   "source": [
    "### Q5. Write a Python Program to Make a Simple Calculator with 4 basic mathematical operations?"
   ]
  },
  {
   "cell_type": "code",
   "execution_count": 6,
   "id": "755950a1",
   "metadata": {},
   "outputs": [
    {
     "name": "stdout",
     "output_type": "stream",
     "text": [
      "Enter num1 :18\n",
      "Enter num2 :3\n",
      "Enter + for addition : \n",
      "Enter - for Subtraction :\n",
      "Enter * for multiplication :\n",
      "Enter / for division : /\n",
      "18.0 / 3.0 = 6.0\n"
     ]
    }
   ],
   "source": [
    "num1 = float(input(\"Enter num1 :\"))\n",
    "num2 = float(input(\"Enter num2 :\"))\n",
    "\n",
    "operation = input(\"Enter + for addition : \\nEnter - for Subtraction :\\nEnter * for multiplication :\\nEnter / for division : \")\n",
    "\n",
    "add = num1 + num2  # addition\n",
    "sub = num1 - num2  # substaction\n",
    "mul = num1 * num2  # multiply\n",
    " \n",
    "\n",
    "if operation == \"+\":  # if operation is addition\n",
    "    print(\"{} + {} = {}\".format(num1,num2,add))\n",
    "elif operation == \"-\":  # if operation is substaction\n",
    "    print(\"{} - {} = {}\".format(num1,num2,sub))\n",
    "elif operation == \"*\":  # if operation is multiply\n",
    "    print(\"{} * {} = {}\".format(num1,num2,mul))\n",
    "elif operation == \"/\":   # if operation is division\n",
    "    if num1 == 0 or num2 == 0: # num 1 and num2 is 0\n",
    "        print(\"Division with zero is not possible\")\n",
    "    else:\n",
    "        div = num1 / num2  # if operation is division\n",
    "        print(\"{} / {} = {}\".format(num1,num2,div))\n",
    "else:\n",
    "    print(\"Invalid input\")\n",
    "    "
   ]
  },
  {
   "cell_type": "code",
   "execution_count": null,
   "id": "f71b4db5",
   "metadata": {},
   "outputs": [],
   "source": []
  },
  {
   "cell_type": "code",
   "execution_count": null,
   "id": "28464868",
   "metadata": {},
   "outputs": [],
   "source": []
  },
  {
   "cell_type": "code",
   "execution_count": null,
   "id": "6b405f63",
   "metadata": {},
   "outputs": [],
   "source": []
  },
  {
   "cell_type": "code",
   "execution_count": null,
   "id": "6ff05229",
   "metadata": {},
   "outputs": [],
   "source": []
  },
  {
   "cell_type": "code",
   "execution_count": null,
   "id": "eef507a8",
   "metadata": {},
   "outputs": [],
   "source": []
  }
 ],
 "metadata": {
  "kernelspec": {
   "display_name": "Python 3 (ipykernel)",
   "language": "python",
   "name": "python3"
  },
  "language_info": {
   "codemirror_mode": {
    "name": "ipython",
    "version": 3
   },
   "file_extension": ".py",
   "mimetype": "text/x-python",
   "name": "python",
   "nbconvert_exporter": "python",
   "pygments_lexer": "ipython3",
   "version": "3.9.13"
  }
 },
 "nbformat": 4,
 "nbformat_minor": 5
}
