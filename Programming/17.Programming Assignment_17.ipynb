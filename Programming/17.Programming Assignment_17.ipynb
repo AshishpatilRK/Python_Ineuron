{
 "cells": [
  {
   "cell_type": "markdown",
   "id": "8ee95b0e",
   "metadata": {},
   "source": [
    "# Programming Assignment_17"
   ]
  },
  {
   "cell_type": "markdown",
   "id": "95bca292",
   "metadata": {},
   "source": [
    "### Q1. Create a function that takes three arguments a, b, c and returns the sum of the numbers that are evenly divided by c from the range a, b inclusive.\n",
    "### Examples\n",
    "### evenly_divisible(1, 10, 20) ➞ 0\n",
    "### No number between 1 and 10 can be evenly divided by 20.\n",
    "### evenly_divisible(1, 10, 2) ➞ 30\n",
    "### 2 + 4 + 6 + 8 + 10 = 30\n",
    "### evenly_divisible(1, 10, 3) ➞ 18\n",
    "### 3 + 6 + 9 = 18"
   ]
  },
  {
   "cell_type": "code",
   "execution_count": 1,
   "id": "cbffbabd",
   "metadata": {},
   "outputs": [
    {
     "name": "stdout",
     "output_type": "stream",
     "text": [
      "0\n",
      "30\n",
      "18\n"
     ]
    }
   ],
   "source": [
    "def evenly_divisible(a, b, c):\n",
    "    total = 0   # take variable = 0\n",
    "    \n",
    "    for i in range(a, b + 1): # range from a to b+1\n",
    "        if i % c == 0:  # remainder 0 when i divide by c \n",
    "            total += i # # addition of these numbers\n",
    "            \n",
    "    return total\n",
    "\n",
    "\n",
    "print(evenly_divisible(1, 10, 20))\n",
    "print(evenly_divisible(1, 10, 2))\n",
    "print(evenly_divisible(1, 10, 3))"
   ]
  },
  {
   "cell_type": "markdown",
   "id": "1dc8178e",
   "metadata": {},
   "source": [
    "### Q2. Create a function that returns True if a given inequality expression is correct and False otherwise.\n",
    "### Examples\n",
    "### correct_signs(&quot;3 &lt; 7 &lt; 11&quot;) ➞ True\n",
    "### correct_signs(&quot;13 &gt; 44 &gt; 33 &gt; 1&quot;) ➞ False\n",
    "### correct_signs(&quot;1 &lt; 2 &lt; 6 &lt; 9 &gt; 3&quot;) ➞ True"
   ]
  },
  {
   "cell_type": "code",
   "execution_count": 2,
   "id": "f2198e72",
   "metadata": {},
   "outputs": [
    {
     "name": "stdout",
     "output_type": "stream",
     "text": [
      "True\n",
      "False\n",
      "True\n"
     ]
    }
   ],
   "source": [
    "def correct_signs (txt) : \n",
    "    return eval (txt)     # use evaluate function - return True / False\n",
    "print(correct_signs(\"3 < 7 < 11\"))\n",
    "print(correct_signs(\"13 > 44 > 33 > 1\"))\n",
    "print(correct_signs(\"1 < 2 < 6 < 9 > 3\"))"
   ]
  },
  {
   "cell_type": "markdown",
   "id": "3bfb01b2",
   "metadata": {},
   "source": [
    "### Q3. Create a function that replaces all the vowels in a string with a specified character.\n",
    "### Examples\n",
    "### replace_vowels(&quot;the aardvark&quot;, &quot;#&quot;) ➞ &quot;th# ##rdv#rk&quot;\n",
    "### replace_vowels(&quot;minnie mouse&quot;, &quot;?&quot;) ➞ &quot;m?nn?? m??s?&quot;\n",
    "### replace_vowels(&quot;shakespeare&quot;, &quot;*&quot;) ➞ &quot;sh*k*sp**r*&quot;"
   ]
  },
  {
   "cell_type": "code",
   "execution_count": 5,
   "id": "ae843154",
   "metadata": {},
   "outputs": [
    {
     "name": "stdout",
     "output_type": "stream",
     "text": [
      "th# ##rdv#rk\n",
      "m?nn?? m??s?\", \"?\n",
      "sh*k*sp**r*\n"
     ]
    }
   ],
   "source": [
    "def replace_vowels(string, char):\n",
    "    \n",
    "    new_string = []\n",
    "    vowels = ['a', 'e', 'i', 'o', 'u'] # take list of vowels\n",
    "    \n",
    "    for c in list(string): # character in string\n",
    "        if c in vowels:   # if it is also in  vowels list\n",
    "            new_string.append(char)  # append char in  new_string \n",
    "        else:\n",
    "            new_string.append(c) # otherwise  # append c in  new_string \n",
    "            \n",
    "    return \"\".join(new_string) \n",
    "\n",
    "\n",
    "print(replace_vowels('the aardvark', '#')) \n",
    "print(replace_vowels('minnie mouse\", \"?', '?'))\n",
    "print(replace_vowels('shakespeare', '*'))"
   ]
  },
  {
   "cell_type": "markdown",
   "id": "566d0cc7",
   "metadata": {},
   "source": [
    "### Q4. Write a function that calculates the factorial of a number recursively.\n",
    "### Examples\n",
    "### factorial(5) ➞ 120\n",
    "### factorial(3) ➞ 6\n",
    "### factorial(1) ➞ 1\n",
    "### factorial(0) ➞ 1"
   ]
  },
  {
   "cell_type": "code",
   "execution_count": 6,
   "id": "401c74fe",
   "metadata": {},
   "outputs": [
    {
     "data": {
      "text/plain": [
       "120"
      ]
     },
     "execution_count": 6,
     "metadata": {},
     "output_type": "execute_result"
    }
   ],
   "source": [
    "def factorial(n):\n",
    "    if n <= 1:    # n is less than 1\n",
    "        return 1\n",
    "    else:\n",
    "        return n * factorial(n-1) # recursion - means calling function again and again upto base condition\n",
    "factorial(5)"
   ]
  },
  {
   "cell_type": "markdown",
   "id": "4ee6a3b4",
   "metadata": {},
   "source": [
    "### Q5. Hamming distance is the number of characters that differ between two strings.\n",
    "### To illustrate:\n",
    "### String1: &quot;abcbba&quot;\n",
    "### String2: &quot;abcbda&quot;\n",
    "### Hamming Distance: 1 - &quot;b&quot; vs. &quot;d&quot; is the only difference.\n",
    "### Create a function that computes the hamming distance between two strings.\n",
    "### Examples\n",
    "### hamming_distance(&quot;abcde&quot;, &quot;bcdef&quot;) ➞ 5\n",
    "### hamming_distance(&quot;abcde&quot;, &quot;abcde&quot;) ➞ 0\n",
    "### hamming_distance(&quot;strong&quot;, &quot;strung&quot;) ➞ 1"
   ]
  },
  {
   "cell_type": "code",
   "execution_count": 7,
   "id": "1ca87734",
   "metadata": {},
   "outputs": [],
   "source": [
    "def hamming_distance(str1, str2):\n",
    "    i = 0\n",
    "    count = 0\n",
    "    while(i < len(str1)): # while loop run until i less than length of str1\n",
    "        if(str1[i] != str2[i]): # if i in both string is not same\n",
    "            count += 1  # then count increases\n",
    "        i += 1\n",
    "    return count  # return count"
   ]
  },
  {
   "cell_type": "code",
   "execution_count": 8,
   "id": "093fb57d",
   "metadata": {},
   "outputs": [
    {
     "name": "stdout",
     "output_type": "stream",
     "text": [
      "5\n",
      "1\n",
      "0\n"
     ]
    }
   ],
   "source": [
    "print(hamming_distance(\"abcde\", \"bcdef\"))\n",
    "print(hamming_distance('strong', 'strung'))\n",
    "print(hamming_distance('abcde', 'abcde'))"
   ]
  },
  {
   "cell_type": "markdown",
   "id": "f19e59d1",
   "metadata": {},
   "source": []
  },
  {
   "cell_type": "markdown",
   "id": "5d30f372",
   "metadata": {},
   "source": []
  },
  {
   "cell_type": "markdown",
   "id": "6a1ef0b8",
   "metadata": {},
   "source": []
  },
  {
   "cell_type": "markdown",
   "id": "91c5631c",
   "metadata": {},
   "source": []
  }
 ],
 "metadata": {
  "kernelspec": {
   "display_name": "Python 3 (ipykernel)",
   "language": "python",
   "name": "python3"
  },
  "language_info": {
   "codemirror_mode": {
    "name": "ipython",
    "version": 3
   },
   "file_extension": ".py",
   "mimetype": "text/x-python",
   "name": "python",
   "nbconvert_exporter": "python",
   "pygments_lexer": "ipython3",
   "version": "3.9.13"
  }
 },
 "nbformat": 4,
 "nbformat_minor": 5
}
