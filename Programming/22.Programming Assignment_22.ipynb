{
 "cells": [
  {
   "cell_type": "markdown",
   "id": "5903b6be",
   "metadata": {},
   "source": [
    "# Programming Assignment_22"
   ]
  },
  {
   "cell_type": "markdown",
   "id": "e882ae29",
   "metadata": {},
   "source": [
    "### Q1. Create a function that takes three parameters where:\n",
    "*  x is the start of the range (inclusive).\n",
    "* y is the end of the range (inclusive).\n",
    "*  n is the divisor to be checked against.\n",
    "### Return an ordered list with numbers in the range that are divisible by the third parameter n. Return an empty list if there are no numbers that are divisible by n.\n",
    "### Examples\n",
    "### list_operation(1, 10, 3) ➞ [3, 6, 9]\n",
    "### list_operation(7, 9, 2) ➞ [8]\n",
    "### list_operation(15, 20, 7) ➞ []"
   ]
  },
  {
   "cell_type": "code",
   "execution_count": 1,
   "id": "b35d20e5",
   "metadata": {},
   "outputs": [],
   "source": [
    "def list_operation(x, y, z):\n",
    "    return [i for i in range(x, y+1) if i%z == 0] # #taking range from x to y and i in range should divide by z remanider 0"
   ]
  },
  {
   "cell_type": "code",
   "execution_count": 2,
   "id": "d0c203a3",
   "metadata": {},
   "outputs": [
    {
     "name": "stdout",
     "output_type": "stream",
     "text": [
      "[3, 6, 9]\n",
      "[8]\n",
      "[]\n"
     ]
    }
   ],
   "source": [
    "print(list_operation(1, 10, 3))\n",
    "print(list_operation(7, 9, 2))\n",
    "print(list_operation(15, 20, 7))"
   ]
  },
  {
   "cell_type": "markdown",
   "id": "c1d785f9",
   "metadata": {},
   "source": [
    "### Q2. Create a function that takes in two lists and returns True if the second list follows the first list by one element, and False otherwise. In other words, determine if the second list is the first list shifted to the right by 1.\n",
    "### Examples\n",
    "### simon_says([1, 2], [5, 1]) ➞ True\n",
    "### simon_says([1, 2], [5, 5]) ➞ False\n",
    "### simon_says([1, 2, 3, 4, 5], [0, 1, 2, 3, 4]) ➞ True\n",
    "### simon_says([1, 2, 3, 4, 5], [5, 5, 1, 2, 3]) ➞ False\n",
    "* Notes\n",
    "  * Both input lists will be of the same length, and will have a minimum length of 2.\n",
    "  * The values of the 0-indexed element in the second list and the n-1th indexed element in the first list do not matter."
   ]
  },
  {
   "cell_type": "code",
   "execution_count": 3,
   "id": "91fef1fa",
   "metadata": {},
   "outputs": [],
   "source": [
    "def simon_says(lst1: list, lst2: list) -> bool:\n",
    "    lst1 = lst1[:-1]  # slice list - by not taking last element from lst1\n",
    "    lst2 = lst2[1:]   # slice list - by not taking  first element from lst2\n",
    "    if lst1 == lst2:\n",
    "        return True\n",
    "    return False"
   ]
  },
  {
   "cell_type": "code",
   "execution_count": 4,
   "id": "71fa7d98",
   "metadata": {},
   "outputs": [
    {
     "name": "stdout",
     "output_type": "stream",
     "text": [
      "True\n",
      "False\n",
      "True\n",
      "False\n"
     ]
    }
   ],
   "source": [
    "print(simon_says([1, 2], [5, 1]))\n",
    "print(simon_says([1, 2], [5, 5]))\n",
    "print(simon_says([1, 2, 3, 4, 5], [0, 1, 2, 3, 4]))\n",
    "print(simon_says([1, 2, 3, 4, 5], [5, 5, 1, 2, 3]))"
   ]
  },
  {
   "cell_type": "markdown",
   "id": "9c53d48a",
   "metadata": {},
   "source": [
    "### Q3. A group of friends have decided to start a secret society. The name will be the first letter of each of their names, sorted in alphabetical order. Create a function that takes in a list of names and returns the name of the secret society.\n",
    "\n",
    "### Examples\n",
    "### society_name([&quot;Adam&quot;, &quot;Sarah&quot;, &quot;Malcolm&quot;]) ➞ &quot;AMS&quot;\n",
    "### society_name([&quot;Harry&quot;, &quot;Newt&quot;, &quot;Luna&quot;, &quot;Cho&quot;])&quot;CHLN&quot;society_name([&quot;Phoebe&quot;, &quot;Chandler&quot;, &quot;Rachel&quot;, &quot;Ross&quot;, &quot;Monica&quot;, &quot;Joey&quot;])"
   ]
  },
  {
   "cell_type": "code",
   "execution_count": 5,
   "id": "35cccba6",
   "metadata": {},
   "outputs": [],
   "source": [
    "def society_name(lst: list):\n",
    "    name = ''\n",
    "    for i in lst:\n",
    "        name += i[0]    # slice 1st character in list word\n",
    "    return ''.join(sorted(name)) # join this"
   ]
  },
  {
   "cell_type": "code",
   "execution_count": 6,
   "id": "51c5f7bc",
   "metadata": {},
   "outputs": [
    {
     "name": "stdout",
     "output_type": "stream",
     "text": [
      "AMS\n",
      "CHLN\n",
      "CJMPRR\n"
     ]
    }
   ],
   "source": [
    "print(society_name([\"Adam\", \"Sarah\", \"Malcolm\"]))\n",
    "print(society_name([\"Harry\", \"Newt\", \"Luna\", \"Cho\"]))\n",
    "print(society_name([\"Phoebe\", \"Chandler\", \"Rachel\", \"Ross\", \"Monica\", \"Joey\"]))"
   ]
  },
  {
   "cell_type": "markdown",
   "id": "5356a31e",
   "metadata": {},
   "source": [
    "### Q4. An isogram is a word that has no duplicate letters. Create a function that takes a string and returns either True or False depending on whether or not it&#39;s an &quot;isogram&quot;.\n",
    "### Examples\n",
    "### is_isogram(&quot;Algorism&quot;) ➞ True\n",
    "### is_isogram(&quot;PasSword&quot;) ➞ False\n",
    "### Not case sensitive.\n",
    "### is_isogram(&quot;Consecutive&quot;) ➞ False\n",
    "* Notes\n",
    "   * Ignore letter case (should not be case sensitive).\n",
    "   * All test cases contain valid one word strings."
   ]
  },
  {
   "cell_type": "code",
   "execution_count": 9,
   "id": "2ed63541",
   "metadata": {},
   "outputs": [],
   "source": [
    "def is_isogram(s):\n",
    "    for i in range(len(s)):\n",
    "        if s.lower().count(s[i]) > 1: #  If element count in list is greater than 1 return False  \n",
    "            return False\n",
    "    else:\n",
    "        return True"
   ]
  },
  {
   "cell_type": "code",
   "execution_count": 12,
   "id": "b8b74ec5",
   "metadata": {},
   "outputs": [
    {
     "name": "stdout",
     "output_type": "stream",
     "text": [
      "True\n",
      "False\n",
      "False\n",
      "False\n"
     ]
    }
   ],
   "source": [
    "print(is_isogram(\"Algorism\"))\n",
    "print(is_isogram(\"PasSword\"))\n",
    "print(is_isogram(\"Password\"))\n",
    "print(is_isogram(\"Consecutive\"))"
   ]
  },
  {
   "cell_type": "markdown",
   "id": "21972efd",
   "metadata": {},
   "source": [
    "### Q5. Create a function that takes a string and returns True or False, depending on whether the characters are in order or not.\n",
    "### Examples\n",
    "### is_in_order(&quot;abc&quot;) ➞ True\n",
    "### is_in_order(&quot;edabit&quot;) ➞ False\n",
    "### is_in_order(&quot;123&quot;) ➞ True\n",
    "### is_in_order(&quot;xyzz&quot;) ➞ True\n",
    "* Notes\n",
    "   * You don&#39;t have to handle empty strings."
   ]
  },
  {
   "cell_type": "code",
   "execution_count": 7,
   "id": "b785eb9f",
   "metadata": {},
   "outputs": [],
   "source": [
    "def is_in_order(string: str) -> bool:\n",
    "    return True if list(string) == sorted(list(string)) else False  # after sorting list will same then return True \n",
    "                                                                    # otherwise False"
   ]
  },
  {
   "cell_type": "code",
   "execution_count": 8,
   "id": "8006928c",
   "metadata": {},
   "outputs": [
    {
     "name": "stdout",
     "output_type": "stream",
     "text": [
      "True\n",
      "False\n",
      "True\n",
      "True\n"
     ]
    }
   ],
   "source": [
    "print(is_in_order(\"abc\"))\n",
    "print(is_in_order(\"edabit\"))\n",
    "print(is_in_order(\"123\"))\n",
    "print(is_in_order(\"xyzz\"))"
   ]
  }
 ],
 "metadata": {
  "kernelspec": {
   "display_name": "Python 3 (ipykernel)",
   "language": "python",
   "name": "python3"
  },
  "language_info": {
   "codemirror_mode": {
    "name": "ipython",
    "version": 3
   },
   "file_extension": ".py",
   "mimetype": "text/x-python",
   "name": "python",
   "nbconvert_exporter": "python",
   "pygments_lexer": "ipython3",
   "version": "3.9.13"
  }
 },
 "nbformat": 4,
 "nbformat_minor": 5
}
