{
 "cells": [
  {
   "cell_type": "markdown",
   "id": "7444ab78",
   "metadata": {},
   "source": [
    "# Programming Assignment_18"
   ]
  },
  {
   "cell_type": "markdown",
   "id": "33ff9fe8",
   "metadata": {},
   "source": [
    "### Q1.Create a function that takes a list of non-negative integers and strings and return a new list without the strings.\n",
    "### Examples\n",
    "### filter_list([1, 2, &quot;a&quot;, &quot;b&quot;]) ➞ [1, 2]\n",
    "### filter_list([1, &quot;a&quot;, &quot;b&quot;, 0, 15]) ➞ [1, 0, 15]\n",
    "### filter_list([1, 2, &quot;aasf&quot;, &quot;1&quot;, &quot;123&quot;, 123]) ➞ [1, 2, 123]"
   ]
  },
  {
   "cell_type": "code",
   "execution_count": 1,
   "id": "6a979767",
   "metadata": {},
   "outputs": [
    {
     "name": "stdout",
     "output_type": "stream",
     "text": [
      "[1, 2]\n",
      "[1, 0, 15]\n",
      "[1, 2, 123]\n"
     ]
    }
   ],
   "source": [
    "def filter_list(lst):\n",
    "    return [i for i in lst if type(i) is not str] # # filter only numbers not sting\n",
    "\n",
    "print(filter_list([1, 2, 'a', 'b']))\n",
    "print(filter_list([1, 'a', 'b', 0, 15]))\n",
    "print(filter_list([1, 2, 'aasf', '1', '123', 123]))"
   ]
  },
  {
   "cell_type": "markdown",
   "id": "7cfa2500",
   "metadata": {},
   "source": [
    "### Q2. The &quot;Reverser&quot; takes a string as input and returns that string in reverse order, with the opposite case.\n",
    "### Examples\n",
    "### reverse(&quot;Hello World&quot;) ➞ &quot;DLROw OLLEh&quot;\n",
    "### reverse(&quot;ReVeRsE&quot;) ➞ &quot;eSrEvEr&quot;\n",
    "### reverse(&quot;Radar&quot;) ➞ &quot;RADAr&quot;"
   ]
  },
  {
   "cell_type": "code",
   "execution_count": 2,
   "id": "511ff94c",
   "metadata": {},
   "outputs": [
    {
     "name": "stdout",
     "output_type": "stream",
     "text": [
      "DLROw OLLEh\n",
      "eSrEvEr\n",
      "RADAr\n"
     ]
    }
   ],
   "source": [
    "def Reverser(string):\n",
    "    return string[::-1].swapcase() #  reverse string with change letter capital to small or small to capital\n",
    "\n",
    "print(Reverser('Hello World'))\n",
    "print(Reverser('ReVeRsE'))\n",
    "print(Reverser('Radar'))"
   ]
  },
  {
   "cell_type": "markdown",
   "id": "e8294eaa",
   "metadata": {},
   "source": [
    "### Q3You can assign variables from lists like this:\n",
    "### lst = [1, 2, 3, 4, 5, 6]\n",
    "### first = lst[0]\n",
    "### middle = lst[1:-1]\n",
    "### last = lst[-1]\n",
    "### print(first) ➞ outputs 1\n",
    "### print(middle) ➞ outputs [2, 3, 4, 5]\n",
    "### print(last) ➞ outputs 6\n",
    "### With Python 3, you can assign variables from lists in a much more succinct way. Create\n",
    "### variables first, middle and last from the given list using destructuring assignment\n",
    "### (check the Resources tab for some examples), where:\n",
    "### first ➞ 1\n",
    "### middle ➞ [2, 3, 4, 5]\n",
    "### last ➞ 6\n",
    "### Your task is to unpack the list writeyourcodehere into three variables, being first,\n",
    "### middle, and last, with middle being everything in between the first and last element. Then\n",
    "### print all three variables.\n"
   ]
  },
  {
   "cell_type": "code",
   "execution_count": 3,
   "id": "7c171ded",
   "metadata": {},
   "outputs": [
    {
     "name": "stdout",
     "output_type": "stream",
     "text": [
      "1\n",
      "[2, 3, 4, 5]\n",
      "6\n"
     ]
    }
   ],
   "source": [
    "lst = [1, 2, 3, 4, 5, 6]\n",
    "first ,*middle,last = lst   # get first and last letter also remaining as middle\n",
    "\n",
    "print(first)\n",
    "print(middle)\n",
    "print(last)"
   ]
  },
  {
   "cell_type": "markdown",
   "id": "4fb377a6",
   "metadata": {},
   "source": [
    "### Q4. Write a function that calculates the factorial of a number recursively.\n",
    "### Examples\n",
    "### factorial(5) ➞ 120\n",
    "### factorial(3) ➞ 6\n",
    "### factorial(1) ➞ 1\n",
    "### factorial(0) ➞ 1"
   ]
  },
  {
   "cell_type": "code",
   "execution_count": 4,
   "id": "2fb544d9",
   "metadata": {},
   "outputs": [
    {
     "data": {
      "text/plain": [
       "720"
      ]
     },
     "execution_count": 4,
     "metadata": {},
     "output_type": "execute_result"
    }
   ],
   "source": [
    "def factorial(num):\n",
    "    if num <= 1:\n",
    "        return 1\n",
    "    else:\n",
    "        return num * factorial(num-1) # use recursion means - same function call again until base condition\n",
    "factorial(6)"
   ]
  },
  {
   "cell_type": "markdown",
   "id": "93ce4865",
   "metadata": {},
   "source": [
    "### Q5. Write a function that moves all elements of one type to the end of the list.\n",
    "### Examples\n",
    "### move_to_end([1, 3, 2, 4, 4, 1], 1) ➞ [3, 2, 4, 4, 1, 1]\n",
    "###  Move all the 1s to the end of the array.\n",
    "### move_to_end([7, 8, 9, 1, 2, 3, 4], 9) ➞ [7, 8, 1, 2, 3, 4, 9]\n",
    "### move_to_end([&quot;a&quot;, &quot;a&quot;, &quot;a&quot;, &quot;b&quot;], &quot;a&quot;) ➞ [&quot;b&quot;, &quot;a&quot;, &quot;a&quot;, &quot;a&quot;]"
   ]
  },
  {
   "cell_type": "code",
   "execution_count": 5,
   "id": "a2d501e1",
   "metadata": {},
   "outputs": [],
   "source": [
    "def move_to_end(lst: list, element):\n",
    "    \n",
    "    final_lst = []\n",
    "    \n",
    "    for i in lst:\n",
    "        if i == element:\n",
    "            final_lst.insert(0, i) # use element in function when in list inset at first to final_list\n",
    "        else:\n",
    "            final_lst.append(i)  # then append remaining element\n",
    "    \n",
    "    for i in range(len(final_lst)):\n",
    "        temp = final_lst[i]  # take temp variable as final_list items\n",
    "        if temp == element:   # if temp is elemnent in function\n",
    "            final_lst.remove(temp)  # # remove from first \n",
    "            final_lst.append(temp)  # then append at end of list\n",
    "            \n",
    "    return final_lst"
   ]
  },
  {
   "cell_type": "code",
   "execution_count": 6,
   "id": "4f924ce5",
   "metadata": {},
   "outputs": [
    {
     "data": {
      "text/plain": [
       "[3, 2, 4, 4, 1, 1]"
      ]
     },
     "execution_count": 6,
     "metadata": {},
     "output_type": "execute_result"
    }
   ],
   "source": [
    "move_to_end([1, 3, 2, 4, 4, 1], 1)"
   ]
  },
  {
   "cell_type": "code",
   "execution_count": 7,
   "id": "f7c41699",
   "metadata": {},
   "outputs": [
    {
     "data": {
      "text/plain": [
       "['b', 'a', 'a', 'a']"
      ]
     },
     "execution_count": 7,
     "metadata": {},
     "output_type": "execute_result"
    }
   ],
   "source": [
    "move_to_end([\"a\", \"a\", \"a\", \"b\"], \"a\")"
   ]
  },
  {
   "cell_type": "code",
   "execution_count": null,
   "id": "6fad9fff",
   "metadata": {},
   "outputs": [],
   "source": []
  }
 ],
 "metadata": {
  "kernelspec": {
   "display_name": "Python 3 (ipykernel)",
   "language": "python",
   "name": "python3"
  },
  "language_info": {
   "codemirror_mode": {
    "name": "ipython",
    "version": 3
   },
   "file_extension": ".py",
   "mimetype": "text/x-python",
   "name": "python",
   "nbconvert_exporter": "python",
   "pygments_lexer": "ipython3",
   "version": "3.9.13"
  }
 },
 "nbformat": 4,
 "nbformat_minor": 5
}
