{
 "cells": [
  {
   "cell_type": "markdown",
   "id": "df00dcc1",
   "metadata": {},
   "source": [
    "# Programming Assignment_11"
   ]
  },
  {
   "cell_type": "markdown",
   "id": "730cab59",
   "metadata": {},
   "source": [
    "### Q1. Write a Python program to find words which are greater than given length k?"
   ]
  },
  {
   "cell_type": "code",
   "execution_count": 1,
   "id": "fa01335e",
   "metadata": {},
   "outputs": [
    {
     "data": {
      "text/plain": [
       "['bananana', 'almond']"
      ]
     },
     "execution_count": 1,
     "metadata": {},
     "output_type": "execute_result"
    }
   ],
   "source": [
    "def test(list_of_words: list, k: int):\n",
    "    output = []\n",
    "    for i in list_of_words:\n",
    "        if len(i) > k:    # length of word in list greater than k\n",
    "            output.append(i)  # append in list\n",
    "             \n",
    "    return output\n",
    "\n",
    "list_of_words = ['Apple', 'bananana', 'kiwi', 'berry', 'almond']\n",
    "k = 5\n",
    "\n",
    "test(list_of_words, k)"
   ]
  },
  {
   "cell_type": "markdown",
   "id": "3a5a7368",
   "metadata": {},
   "source": [
    "### Q2. Write a Python program for removing i-th character from a string?"
   ]
  },
  {
   "cell_type": "code",
   "execution_count": 2,
   "id": "437153ca",
   "metadata": {},
   "outputs": [
    {
     "data": {
      "text/plain": [
       "'abcdfgh'"
      ]
     },
     "execution_count": 2,
     "metadata": {},
     "output_type": "execute_result"
    }
   ],
   "source": [
    "def test1(string: str, i):\n",
    "    string = string.replace(string[i], '')  # replace string character with empty-''\n",
    "    return string\n",
    "\n",
    "test1('abcdEfgh', 4)"
   ]
  },
  {
   "cell_type": "markdown",
   "id": "1f0c917f",
   "metadata": {},
   "source": [
    "### Q3. Write a Python program to split and join a string?"
   ]
  },
  {
   "cell_type": "code",
   "execution_count": 3,
   "id": "db2240b7",
   "metadata": {},
   "outputs": [
    {
     "name": "stdout",
     "output_type": "stream",
     "text": [
      "['Machine', 'Learning', 'and', 'Artificial', 'Intelligence']\n",
      "Machine Learning and Artificial Intelligence\n"
     ]
    }
   ],
   "source": [
    "string = \"Machine Learning and Artificial Intelligence\"\n",
    "\n",
    "split = string.split(' ') # split string\n",
    "print(split)   # print list\n",
    "\n",
    "join = \" \".join(split)  # join the string from words in list\n",
    "print(join)"
   ]
  },
  {
   "cell_type": "markdown",
   "id": "b2b52fe0",
   "metadata": {},
   "source": [
    "### Q4. Write a Python to check if a given string is binary string or not?"
   ]
  },
  {
   "cell_type": "code",
   "execution_count": 4,
   "id": "da08939d",
   "metadata": {},
   "outputs": [
    {
     "name": "stdout",
     "output_type": "stream",
     "text": [
      "Enter the string : 01011023001110011\n",
      "Not Binary\n"
     ]
    }
   ],
   "source": [
    "def checkBinary(str):\n",
    "    binary = '01'  # take binary variable be 01\n",
    "    for i in range(len(str)):\n",
    "        if str[i] not in binary:  # if element not in binary variable\n",
    "            print('Not Binary')\n",
    "            break\n",
    "    else:\n",
    "        print('Its a Binary')\n",
    "        \n",
    "str = input(\"Enter the string : \")\n",
    "checkBinary(str)      "
   ]
  },
  {
   "cell_type": "markdown",
   "id": "2c207353",
   "metadata": {},
   "source": [
    "### Q5. Write a Python program to find uncommon words from two Strings?"
   ]
  },
  {
   "cell_type": "code",
   "execution_count": 5,
   "id": "d468e701",
   "metadata": {},
   "outputs": [],
   "source": [
    "def task5(string1, string2):\n",
    "    string1 = string1.split(' ')  # split string\n",
    "    string2 = string2.split(' ')  # split string\n",
    "    uncommon = []\n",
    "    \n",
    "    for i in set(string1): # if take set of string1 and iterate over with for loop\n",
    "        if i not in string2:  # if word not in string2\n",
    "            uncommon.append(i) # append in uncommon list\n",
    "\n",
    "    for i in set(string2):  #if take set of string2 and iterate over with for loop\n",
    "        if i not in string1:  # if word not in string1\n",
    "            uncommon.append(i) # append in uncommon list\n",
    "            \n",
    "    return uncommon"
   ]
  },
  {
   "cell_type": "code",
   "execution_count": 6,
   "id": "83d3c633",
   "metadata": {},
   "outputs": [
    {
     "data": {
      "text/plain": [
       "['string',\n",
       " 'and',\n",
       " 'join',\n",
       " 'split',\n",
       " 'words',\n",
       " 'uncommon',\n",
       " 'from',\n",
       " 'Strings',\n",
       " 'two',\n",
       " 'find']"
      ]
     },
     "execution_count": 6,
     "metadata": {},
     "output_type": "execute_result"
    }
   ],
   "source": [
    "string1 = \"Write a Python program to split and join a string\"\n",
    "string2 = \"Write a Python program to find uncommon words from two Strings\"\n",
    "\n",
    "task5(string1, string2)"
   ]
  },
  {
   "cell_type": "markdown",
   "id": "c19d4337",
   "metadata": {},
   "source": [
    "### Q6. Write a Python to find all duplicate characters in string?"
   ]
  },
  {
   "cell_type": "code",
   "execution_count": 3,
   "id": "3073239b",
   "metadata": {},
   "outputs": [
    {
     "name": "stdout",
     "output_type": "stream",
     "text": [
      "Enter the string a : programming\n"
     ]
    },
    {
     "data": {
      "text/plain": [
       "['r', 'g', 'm']"
      ]
     },
     "execution_count": 3,
     "metadata": {},
     "output_type": "execute_result"
    }
   ],
   "source": [
    "def test2(string: str):\n",
    "    duplicate = []\n",
    "    for i in str:\n",
    "        if str.count(i) > 1 : #  characters in string greater than 1\n",
    "            if i not in duplicate: # characters in string but not  duplicate\n",
    "                duplicate.append(i)\n",
    "    return duplicate\n",
    "str = input(\"Enter the string a : \").lower()        \n",
    "test2(str)"
   ]
  },
  {
   "cell_type": "markdown",
   "id": "2cdcc766",
   "metadata": {},
   "source": [
    "### Q7. Write a Python Program to check if a string contains any special character?"
   ]
  },
  {
   "cell_type": "code",
   "execution_count": 4,
   "id": "e20a1a5b",
   "metadata": {},
   "outputs": [
    {
     "name": "stdout",
     "output_type": "stream",
     "text": [
      "Enter the string a : wow!!@@@##$$\n",
      "String wow!!@@@##$$ has special charecter/s : ['!', '!', '@', '@', '@', '#', '#', '$', '$']\n"
     ]
    }
   ],
   "source": [
    "import string\n",
    "\n",
    "string_char = string.punctuation  # get all punctuation or  special character\n",
    "spChar = []\n",
    "\n",
    "str = input(\"Enter the string a : \").lower()\n",
    "for i in str:   # characters in string\n",
    "    if i in string_char: # these are all in  string_char\n",
    "        spChar.append(i) # appen in spChar\n",
    "if len(spChar) > 0:\n",
    "    print(\"String {} has special charecter/s : {}\".format(str,spChar))"
   ]
  },
  {
   "cell_type": "code",
   "execution_count": null,
   "id": "df177a34",
   "metadata": {},
   "outputs": [],
   "source": []
  }
 ],
 "metadata": {
  "kernelspec": {
   "display_name": "Python 3 (ipykernel)",
   "language": "python",
   "name": "python3"
  },
  "language_info": {
   "codemirror_mode": {
    "name": "ipython",
    "version": 3
   },
   "file_extension": ".py",
   "mimetype": "text/x-python",
   "name": "python",
   "nbconvert_exporter": "python",
   "pygments_lexer": "ipython3",
   "version": "3.9.13"
  }
 },
 "nbformat": 4,
 "nbformat_minor": 5
}
