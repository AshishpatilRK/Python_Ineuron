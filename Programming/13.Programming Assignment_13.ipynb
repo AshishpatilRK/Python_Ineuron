{
 "cells": [
  {
   "cell_type": "markdown",
   "id": "ab05bdf9",
   "metadata": {},
   "source": [
    "# Programming Assignment_13"
   ]
  },
  {
   "cell_type": "markdown",
   "id": "345d53f8",
   "metadata": {},
   "source": [
    "### Q1"
   ]
  },
  {
   "cell_type": "markdown",
   "id": "6c598d23",
   "metadata": {},
   "source": [
    "             Write a program that calculates and prints the value according to the given formula:\n",
    "                                Q = Square root of [(2 * C * D)/H]\n",
    "             Following are the fixed values of C and H:\n",
    "                                C is 50. H is 30.\n",
    "                                D is the variable whose values should be input to your program in a comma-separated\n",
    "                                sequence.\n",
    "                                Example\n",
    "                                Let us assume the following comma separated input sequence is given to the program:\n",
    "                                100,150,180\n",
    "                                The output of the program should be:\n",
    "                                18,22,24"
   ]
  },
  {
   "cell_type": "code",
   "execution_count": 4,
   "id": "12a49148",
   "metadata": {},
   "outputs": [
    {
     "name": "stdout",
     "output_type": "stream",
     "text": [
      "Value of D in with comma separated: 100,150,180\n",
      "18,22,24\n"
     ]
    }
   ],
   "source": [
    "import math\n",
    "\n",
    "numbers = input(\"Value of D in with comma separated: \")\n",
    "numbers = numbers.split(',') # split the numbers\n",
    "\n",
    "result_list = []\n",
    "result_string = '' # empty string\n",
    "for D in numbers:\n",
    "    Q = round(math.sqrt(2 * 50 * int(D) / 30)) # use formulae and using for loop add value of dD\n",
    "    result_list.append(str(Q))  # result apppend\n",
    "    \n",
    "print(','.join(result_list)) #join result"
   ]
  },
  {
   "cell_type": "markdown",
   "id": "c507fddc",
   "metadata": {},
   "source": [
    "### Q2"
   ]
  },
  {
   "cell_type": "markdown",
   "id": "8b5c5082",
   "metadata": {},
   "source": [
    "            Write a program which takes 2 digits, X,Y as input and generates a 2-dimensional array. The\n",
    "            element value in the i-th row and j-th column of the array should be i*j.\n",
    "            Note: i=0,1.., X-1; j=0,1,¡Y-1.\n",
    "            Example\n",
    "            Suppose the following inputs are given to the program:\n",
    "            3,5\n",
    "            Then, the output of the program should be:\n",
    "            [[0, 0, 0, 0, 0], [0, 1, 2, 3, 4], [0, 2, 4, 6, 8]]"
   ]
  },
  {
   "cell_type": "code",
   "execution_count": 5,
   "id": "b1624db7",
   "metadata": {},
   "outputs": [
    {
     "name": "stdout",
     "output_type": "stream",
     "text": [
      "Enter X value: 3\n",
      "Enter Y value: 5\n",
      "[[0, 0, 0, 0, 0], [0, 1, 2, 3, 4], [0, 2, 4, 6, 8]]\n"
     ]
    }
   ],
   "source": [
    "x = int(input(\"Enter X value: \")) \n",
    "y = int(input(\"Enter Y value: \"))\n",
    "matrix = []\n",
    "for i in range(x): # range 0 to 3-1\n",
    "    row = []\n",
    "    for j in range(y): # range from 0 to 5-1\n",
    "        row.append(i*j) # product of i * j \n",
    "    matrix.append(row) # append row list\n",
    "print(matrix)"
   ]
  },
  {
   "cell_type": "markdown",
   "id": "6063ed36",
   "metadata": {},
   "source": [
    "### Q3"
   ]
  },
  {
   "cell_type": "markdown",
   "id": "7b8e89e0",
   "metadata": {},
   "source": [
    "           Write a program that accepts a comma separated sequence of words as input and prints the\n",
    "            words in a comma-separated sequence after sorting them alphabetically.\n",
    "            Suppose the following input is supplied to the program:\n",
    "            without,hello,bag,world\n",
    "            Then, the output should be:\n",
    "            bag,hello,without,world"
   ]
  },
  {
   "cell_type": "code",
   "execution_count": 15,
   "id": "29e81566",
   "metadata": {},
   "outputs": [
    {
     "name": "stdout",
     "output_type": "stream",
     "text": [
      "Enter comma seperated words: without,hello,bag,world\n",
      "bag,hello,without,world\n"
     ]
    }
   ],
   "source": [
    "words = list(input(\"Enter comma seperated words: \").split(','))  # make list of split words by comma\n",
    "words.sort()   # sort list\n",
    "print(','.join(words)) # join words"
   ]
  },
  {
   "cell_type": "markdown",
   "id": "c844a919",
   "metadata": {},
   "source": [
    "### Q4"
   ]
  },
  {
   "cell_type": "markdown",
   "id": "fdc42185",
   "metadata": {},
   "source": [
    "           Write a program that accepts a sequence of whitespace separated words as input and prints\n",
    "            the words after removing all duplicate words and sorting them alphanumerically.\n",
    "            Suppose the following input is supplied to the program:\n",
    "            hello world and practice makes perfect and hello world again\n",
    "            Then, the output should be:\n",
    "            again and hello makes perfect practice world"
   ]
  },
  {
   "cell_type": "code",
   "execution_count": 14,
   "id": "54c75f6b",
   "metadata": {},
   "outputs": [
    {
     "name": "stdout",
     "output_type": "stream",
     "text": [
      "Enter comma seperated words: hello world and practice makes perfect and hello world again\n",
      "again and hello makes perfect practice world\n"
     ]
    }
   ],
   "source": [
    "words = list(set(input(\"Enter comma seperated words: \").split(' '))) # list of set of spliting words\n",
    "words.sort() # sort list\n",
    "print(' '.join(words)) # join words"
   ]
  },
  {
   "cell_type": "markdown",
   "id": "340c8593",
   "metadata": {},
   "source": [
    "### Q5"
   ]
  },
  {
   "cell_type": "markdown",
   "id": "4d522b43",
   "metadata": {},
   "source": [
    "          Write a program that accepts a sentence and calculate the number of letters and digits.\n",
    "            Suppose the following input is supplied to the program:\n",
    "            hello world! 123\n",
    "            Then, the output should be:\n",
    "            LETTERS 10\n",
    "            DIGITS 3"
   ]
  },
  {
   "cell_type": "code",
   "execution_count": 16,
   "id": "0b6e6b51",
   "metadata": {},
   "outputs": [
    {
     "name": "stdout",
     "output_type": "stream",
     "text": [
      "Input a string : hello world! 123\n",
      "Letters 10\n",
      "Digits 3\n"
     ]
    }
   ],
   "source": [
    "s = input(\"Input a string : \")\n",
    "digits=letters=0  # take variable to 0\n",
    "for c in s:\n",
    "    if c.isdigit(): # c is digit \n",
    "        digits += 1  # count digits\n",
    "    elif c.isalpha(): # c is  letters \n",
    "        letters += 1  # count letters\n",
    "    else:\n",
    "        pass\n",
    "print(\"Letters\", letters)\n",
    "print(\"Digits\", digits)"
   ]
  },
  {
   "cell_type": "markdown",
   "id": "600fd3d6",
   "metadata": {},
   "source": [
    "### Q6"
   ]
  },
  {
   "cell_type": "markdown",
   "id": "d41b954e",
   "metadata": {},
   "source": [
    "           A website requires the users to input username and password to register. Write a program to\n",
    "            check the validity of password input by users.\n",
    "            Following are the criteria for checking the password:\n",
    "            1. At least 1 letter between [a-z]\n",
    "            2. At least 1 number between [0-9]\n",
    "            1. At least 1 letter between [A-Z]\n",
    "            3. At least 1 character from [$#@]\n",
    "            4. Minimum length of transaction password: 6\n",
    "            5. Maximum length of transaction password: 12\n",
    "            Your program should accept a sequence of comma separated passwords and will check them\n",
    "            according to the above criteria. Passwords that match the criteria are to be printed, each\n",
    "            separated by a comma.\n",
    "            Example\n",
    "            If the following passwords are given as input to the program:\n",
    "            ABd1234@1,a F1#,2w3E*,2We3345\n",
    "            Then, the output of the program should be:\n",
    "            ABd1234@1"
   ]
  },
  {
   "cell_type": "code",
   "execution_count": 17,
   "id": "f7fe5e37",
   "metadata": {},
   "outputs": [
    {
     "name": "stdout",
     "output_type": "stream",
     "text": [
      "Enter the Input String: ABd1234@1,a F1#,2w3E*,2We3345\n",
      "ABd1234@1\n"
     ]
    }
   ],
   "source": [
    "def checkPassword():\n",
    "    in_string = input(\"Enter the Input String: \") # enter string\n",
    "    small_list = \"abcdefghijklmnopqrstuvwxyz\" # string of small alphabets\n",
    "    cap_list = \"ABCDEFGHIJKLMNOPQRSTUVWXYZ\"   # string of Capital alphabets\n",
    "    num_list = \"0123456789\"   # string of numbers\n",
    "    special_list = \"$#@\"      # string of special words\n",
    "    for ele in in_string.split(\",\"):  # split the string\n",
    "        if len(ele) <= 12 and len(ele) >=6 : # give condition for password \n",
    "            if any(i.isupper() for i in ele):# if any letter in  password is capital\n",
    "                if any(i.islower() for i in ele): # if any letter in  password is small\n",
    "                    if any(i for i in ele if i in special_list): # if letter in  password is in special_list\n",
    "                        print(ele) # print list\n",
    "                               \n",
    "checkPassword() "
   ]
  },
  {
   "cell_type": "code",
   "execution_count": null,
   "id": "b42c8d9e",
   "metadata": {},
   "outputs": [],
   "source": []
  }
 ],
 "metadata": {
  "kernelspec": {
   "display_name": "Python 3 (ipykernel)",
   "language": "python",
   "name": "python3"
  },
  "language_info": {
   "codemirror_mode": {
    "name": "ipython",
    "version": 3
   },
   "file_extension": ".py",
   "mimetype": "text/x-python",
   "name": "python",
   "nbconvert_exporter": "python",
   "pygments_lexer": "ipython3",
   "version": "3.9.13"
  }
 },
 "nbformat": 4,
 "nbformat_minor": 5
}
