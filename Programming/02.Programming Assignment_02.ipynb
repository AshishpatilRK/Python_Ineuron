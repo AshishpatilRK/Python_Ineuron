{
 "cells": [
  {
   "cell_type": "markdown",
   "id": "7e82d703",
   "metadata": {},
   "source": [
    "# Programming Assignment_2"
   ]
  },
  {
   "cell_type": "markdown",
   "id": "4eeb7849",
   "metadata": {},
   "source": [
    "### Q1. Write a Python program to convert kilometers to miles?"
   ]
  },
  {
   "cell_type": "code",
   "execution_count": 1,
   "id": "b15a1d38",
   "metadata": {},
   "outputs": [
    {
     "name": "stdout",
     "output_type": "stream",
     "text": [
      "Enter kilometers :50\n",
      "50.000 kilometers is equal to 31.050 miles\n"
     ]
    }
   ],
   "source": [
    "kilometers = float(input(\"Enter kilometers :\"))\n",
    "conversionUnit = 0.621    # conversion unit\n",
    "miles = kilometers * conversionUnit\n",
    "print(\"%0.3f kilometers is equal to %0.3f miles\"%(kilometers,miles))"
   ]
  },
  {
   "cell_type": "markdown",
   "id": "a00c6395",
   "metadata": {},
   "source": [
    "### Q2. Write a Python program to convert Celsius to Fahrenheit?"
   ]
  },
  {
   "cell_type": "code",
   "execution_count": 2,
   "id": "f93b25df",
   "metadata": {},
   "outputs": [
    {
     "name": "stdout",
     "output_type": "stream",
     "text": [
      "Celsius : 10\n",
      "10.00 celsius is 50.00 fahrenheit\n"
     ]
    }
   ],
   "source": [
    "# Fahrenheit = celsius *(9/5) + 32\n",
    "\n",
    "celsius = float(input(\"Celsius : \"))\n",
    "fahrenheit = 9/5 * celsius + 32 # formulae\n",
    "print(\"%0.2f celsius is %0.2f fahrenheit\"%(celsius,fahrenheit))"
   ]
  },
  {
   "cell_type": "markdown",
   "id": "55dbb469",
   "metadata": {},
   "source": [
    "### Q3. Write a Python program to display calendar?"
   ]
  },
  {
   "cell_type": "code",
   "execution_count": 3,
   "id": "3b916c41",
   "metadata": {},
   "outputs": [
    {
     "name": "stdout",
     "output_type": "stream",
     "text": [
      " Enter Year : 2023\n",
      "Enter Month : 6\n",
      "Calender\n",
      "     June 2023\n",
      "Mo Tu We Th Fr Sa Su\n",
      "          1  2  3  4\n",
      " 5  6  7  8  9 10 11\n",
      "12 13 14 15 16 17 18\n",
      "19 20 21 22 23 24 25\n",
      "26 27 28 29 30\n",
      "\n"
     ]
    }
   ],
   "source": [
    "import calendar\n",
    "\n",
    "y = int(input(\" Enter Year : \"))\n",
    "m = int(input(\"Enter Month : \"))\n",
    "\n",
    "try :\n",
    "    print(\"Calender\")\n",
    "    print(calendar.month(y,m))\n",
    "except:\n",
    "    print(\"Out of range\")"
   ]
  },
  {
   "cell_type": "markdown",
   "id": "b103569b",
   "metadata": {},
   "source": [
    "### Q4. Write a Python program to solve quadratic equation?"
   ]
  },
  {
   "cell_type": "code",
   "execution_count": 6,
   "id": "9571f193",
   "metadata": {},
   "outputs": [
    {
     "name": "stdout",
     "output_type": "stream",
     "text": [
      "ax^2 + bx^1 + c = 0\n",
      "Enter the coeff a, b and constant c\n",
      "Enter the coeff a: 1\n",
      "Enter the coeff b: 4\n",
      "Enter the constant c: 1\n",
      "\n",
      "For quadratic equation 1x^2 + (4)x^1 + 1\n",
      "The solutions are: -0.2679491924311228 and -3.732050807568877\n"
     ]
    }
   ],
   "source": [
    "import math\n",
    "\n",
    "print(\"ax^2 + bx^1 + c = 0\")\n",
    "print(\"Enter the coeff a, b and constant c\")\n",
    "\n",
    "a = int(input((\"Enter the coeff a: \")))\n",
    "b = int(input((\"Enter the coeff b: \")))\n",
    "c = int(input((\"Enter the constant c: \")))\n",
    "\n",
    "d = (b**2) - (4*a*c)\n",
    "\n",
    "root1 = ((-1*b)+(math.sqrt(d))) / (2*a)\n",
    "root2 = ((-1*b)-(math.sqrt(d))) / (2*a)\n",
    "\n",
    "print(f'\\nFor quadratic equation {a}x^2 + ({b})x^1 + {c}')\n",
    "print(f'The solutions are: {root1} and {root2}')"
   ]
  },
  {
   "cell_type": "markdown",
   "id": "4c86ed78",
   "metadata": {},
   "source": [
    "### Q5. Write a Python program to swap two variables without temp variable?"
   ]
  },
  {
   "cell_type": "code",
   "execution_count": 7,
   "id": "16aef5df",
   "metadata": {},
   "outputs": [
    {
     "name": "stdout",
     "output_type": "stream",
     "text": [
      "Num1 : 45\n",
      "Num2 : 65\n",
      "Before swaping x = 45, y = 65\n",
      "After swaping x = 65, y = 45\n"
     ]
    }
   ],
   "source": [
    "x = int(input(\"Num1 : \"))\n",
    "y = int(input(\"Num2 : \"))\n",
    "print(\"Before swaping x = {}, y = {}\".format(x,y))\n",
    "#swaping :)\n",
    "y,x = x,y\n",
    "print(\"After swaping x = {}, y = {}\".format(x,y))"
   ]
  },
  {
   "cell_type": "markdown",
   "id": "6a7f4a46",
   "metadata": {},
   "source": []
  },
  {
   "cell_type": "markdown",
   "id": "16d8126f",
   "metadata": {},
   "source": []
  },
  {
   "cell_type": "markdown",
   "id": "14ebdb0b",
   "metadata": {},
   "source": []
  }
 ],
 "metadata": {
  "kernelspec": {
   "display_name": "Python 3 (ipykernel)",
   "language": "python",
   "name": "python3"
  },
  "language_info": {
   "codemirror_mode": {
    "name": "ipython",
    "version": 3
   },
   "file_extension": ".py",
   "mimetype": "text/x-python",
   "name": "python",
   "nbconvert_exporter": "python",
   "pygments_lexer": "ipython3",
   "version": "3.9.13"
  }
 },
 "nbformat": 4,
 "nbformat_minor": 5
}
