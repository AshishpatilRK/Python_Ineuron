{
 "cells": [
  {
   "cell_type": "markdown",
   "id": "a7eac9dc",
   "metadata": {},
   "source": [
    "# Programming Assignment_21"
   ]
  },
  {
   "cell_type": "markdown",
   "id": "4e6f7da1",
   "metadata": {},
   "source": [
    "### Q1. Write a function that takes a list and a number as arguments. Add the number to the end of the list, then remove the first element of the list. The function should then return the updated list.\n",
    "### Examples\n",
    "### next_in_line([5, 6, 7, 8, 9], 1) ➞ [6, 7, 8, 9, 1]\n",
    "### next_in_line([7, 6, 3, 23, 17], 10) ➞ [6, 3, 23, 17, 10]\n",
    "### next_in_line([1, 10, 20, 42 ], 6) ➞ [10, 20, 42, 6]\n",
    "### next_in_line([], 6) ➞ &quot;No list has been selected&quot;"
   ]
  },
  {
   "cell_type": "code",
   "execution_count": 1,
   "id": "37e42ba3",
   "metadata": {},
   "outputs": [
    {
     "name": "stdout",
     "output_type": "stream",
     "text": [
      "[6, 7, 8, 9, 1]\n",
      "[6, 3, 23, 17, 10]\n",
      "[10, 20, 42, 6]\n",
      "No list has been selected\n"
     ]
    }
   ],
   "source": [
    "def next_in_line(lst: list, num):\n",
    "    if len(lst) > 0:\n",
    "        lst.append(num)# append num in function \n",
    "        return lst[1:]  # slicing start from index 1 so remove 1 st element\n",
    "    else:\n",
    "        return \"No list has been selected\"\n",
    "    \n",
    "print(next_in_line([5, 6, 7, 8, 9], 1))\n",
    "print(next_in_line([7, 6, 3, 23, 17], 10))\n",
    "print(next_in_line([1, 10, 20, 42 ], 6))\n",
    "print(next_in_line([], 6))"
   ]
  },
  {
   "cell_type": "markdown",
   "id": "e800302d",
   "metadata": {},
   "source": [
    "### Q2. Create the function that takes a list of dictionaries and returns the sum of people&#39;s budgets.\n",
    "### Examples\n",
    "### get_budgets([{ &quot;name&quot;: &quot;John&quot;, &quot;age&quot;: 21, &quot;budget&quot;: 23000 },{ &quot;name&quot;: &quot;Steve&quot;, &quot;age&quot;: 32, &quot;budget&quot;: 40000 },{ &quot;name&quot;: &quot;Martin&quot;, &quot;age&quot;: 16, &quot;budget&quot;: 2700 }]) ➞ 65700\n",
    "### get_budgets([{ &quot;name&quot;: &quot;John&quot;, &quot;age&quot;: 21, &quot;budget&quot;: 29000{&quot;name&quot;: &quot;Steve&quot;, &quot;age&quot;: 32, &quot;budget&quot;: 32000 },{ &quot;name&quot;: &quot;Martin&quot;, &quot;age&quot;: 16, &quot;budget&quot;: 1600 }]) ➞ 62600"
   ]
  },
  {
   "cell_type": "code",
   "execution_count": 2,
   "id": "c3eb6c9f",
   "metadata": {},
   "outputs": [],
   "source": [
    "def get_budgets(lst: list):\n",
    "    total = 0\n",
    "    for d in lst: # iterate over list \n",
    "        total += d['budget']  # from dictinaries  select key  ['budget'] and total of its values\n",
    "    return total"
   ]
  },
  {
   "cell_type": "code",
   "execution_count": 3,
   "id": "ae7d0742",
   "metadata": {},
   "outputs": [
    {
     "data": {
      "text/plain": [
       "65700"
      ]
     },
     "execution_count": 3,
     "metadata": {},
     "output_type": "execute_result"
    }
   ],
   "source": [
    "get_budgets([{ \"name\": \"John\", \"age\": 21, \"budget\": 23000 },\n",
    "             { \"name\": \"Steve\", \"age\": 32, \"budget\": 40000 },\n",
    "             { \"name\": \"Martin\", \"age\": 16, \"budget\": 2700 }])"
   ]
  },
  {
   "cell_type": "code",
   "execution_count": 4,
   "id": "65f99873",
   "metadata": {},
   "outputs": [
    {
     "data": {
      "text/plain": [
       "62600"
      ]
     },
     "execution_count": 4,
     "metadata": {},
     "output_type": "execute_result"
    }
   ],
   "source": [
    "get_budgets([{ \"name\": \"John\", \"age\": 21, \"budget\": 29000},\n",
    "              {\"name\": \"Steve\", \"age\": 32, \"budget\": 32000 },\n",
    "             { \"name\": \"Martin\", \"age\": 16, \"budget\": 1600 }])"
   ]
  },
  {
   "cell_type": "markdown",
   "id": "478a78c8",
   "metadata": {},
   "source": [
    "### Q3. Create a function that takes a string and returns a string with its letters in alphabetical order.\n",
    "### Examples\n",
    "### alphabet_soup(&quot;hello&quot;) ➞ &quot;ehllo&quot;\n",
    "### alphabet_soup(&quot;edabit&quot;) ➞ &quot;abdeit&quot;\n",
    "### alphabet_soup(&quot;hacker&quot;) ➞ &quot;acehkr&quot;\n",
    "### alphabet_soup(&quot;geek&quot;) ➞ &quot;eegk&quot;\n",
    "### alphabet_soup(&quot;javascript&quot;) ➞ &quot;aacijprstv&quot;"
   ]
  },
  {
   "cell_type": "code",
   "execution_count": 5,
   "id": "a8c13c52",
   "metadata": {},
   "outputs": [],
   "source": [
    "def alphabet_soup(string: str):\n",
    "    string = sorted(string)  # sorted tthe string\n",
    "    return \"\".join(string)  # join string after sorting"
   ]
  },
  {
   "cell_type": "code",
   "execution_count": 6,
   "id": "f226d371",
   "metadata": {},
   "outputs": [
    {
     "name": "stdout",
     "output_type": "stream",
     "text": [
      "ehllo\n",
      "abdeit\n",
      "acehkr\n",
      "eegk\n",
      "aacijprstv\n"
     ]
    }
   ],
   "source": [
    "print(alphabet_soup('hello'))\n",
    "print(alphabet_soup('edabit'))\n",
    "print(alphabet_soup('hacker'))\n",
    "print(alphabet_soup('geek'))\n",
    "print(alphabet_soup('javascript'))"
   ]
  },
  {
   "cell_type": "markdown",
   "id": "4e272cc8",
   "metadata": {},
   "source": [
    "### Q4. Suppose that you invest  10,000 dollers for 10 years at an interest rate of 6% compounded monthly. What will be the value of your investment at the end of the 10 year period?\n",
    "### Create a function that accepts the principal p, the term in years t, the interest rate r, and the number of compounding periods per year n. The function returns the value at the end of term rounded to the nearest cent.\n",
    "###  For the example above:\n",
    "### compound_interest(10000, 10, 0.06, 12) ➞ 18193.97\n",
    "### Note that the interest rate is given as a decimal and n=12 because with monthly compounding there are 12 periods per year. Compounding can also be done annually, quarterly, weekly, ordaily.\n",
    "### Examples\n",
    "### compound_interest(100, 1, 0.05, 1) ➞ 105.0\n",
    "### compound_interest(3500, 15, 0.1, 4) ➞ 15399.26\n",
    "### compound_interest(100000, 20, 0.15, 365) ➞ 2007316.26"
   ]
  },
  {
   "cell_type": "code",
   "execution_count": 7,
   "id": "8032d83c",
   "metadata": {},
   "outputs": [],
   "source": [
    "def compound_interest(amt, yrs, interest, compPeriod):\n",
    "    get_value = amt *(1 + (interest/compPeriod)) ** (yrs * compPeriod)  # using formulae for compound interest\n",
    "    return round(get_value,2)"
   ]
  },
  {
   "cell_type": "code",
   "execution_count": 8,
   "id": "099d59b0",
   "metadata": {},
   "outputs": [
    {
     "name": "stdout",
     "output_type": "stream",
     "text": [
      "105.0\n",
      "15399.26\n",
      "2007316.26\n"
     ]
    }
   ],
   "source": [
    "print(compound_interest(100, 1, 0.05, 1))\n",
    "print(compound_interest(3500, 15, 0.1, 4))\n",
    "print(compound_interest(100000, 20, 0.15, 365))"
   ]
  },
  {
   "cell_type": "markdown",
   "id": "92dc7687",
   "metadata": {},
   "source": [
    "### Q5. Write a function that takes a list of elements and returns only the integers.\n",
    "### Examples\n",
    "### return_only_integer([9, 2, &quot;space&quot;, &quot;car&quot;, &quot;lion&quot;, 16]) ➞ [9, 2, 16]\n",
    "### return_only_integer([&quot;hello&quot;, 81, &quot;basketball&quot;, 123, &quot;fox&quot;]) ➞ [81, 123]\n",
    "### return_only_integer([10, &quot;121&quot;, 56, 20, &quot;car&quot;, 3, &quot;lion&quot;]) ➞ [10, 56, 20,3]\n",
    "### return_only_integer([&quot;String&quot;, True, 3.3, 1]) ➞ [1]"
   ]
  },
  {
   "cell_type": "code",
   "execution_count": 9,
   "id": "83dc2e0f",
   "metadata": {},
   "outputs": [],
   "source": [
    "def return_only_integer(lst: list):\n",
    "    return [x for x in lst if type(x) == int]   # filter out integer values from list"
   ]
  },
  {
   "cell_type": "code",
   "execution_count": 10,
   "id": "fecd0f09",
   "metadata": {},
   "outputs": [
    {
     "name": "stdout",
     "output_type": "stream",
     "text": [
      "[9, 2, 16]\n",
      "[81, 123]\n",
      "[10, 56, 20, 3]\n",
      "[1]\n"
     ]
    }
   ],
   "source": [
    "print(return_only_integer([9, 2, 'space', 'car', 'lion', 16]))\n",
    "print(return_only_integer(['hello', 81, 'basketball', 123, 'fox']))\n",
    "print(return_only_integer([10, '121', 56, 20, 'car', 3, 'lion']))\n",
    "print(return_only_integer(['String', True, 3.3, 1]))"
   ]
  },
  {
   "cell_type": "code",
   "execution_count": null,
   "id": "8ac6b08d",
   "metadata": {},
   "outputs": [],
   "source": []
  }
 ],
 "metadata": {
  "kernelspec": {
   "display_name": "Python 3 (ipykernel)",
   "language": "python",
   "name": "python3"
  },
  "language_info": {
   "codemirror_mode": {
    "name": "ipython",
    "version": 3
   },
   "file_extension": ".py",
   "mimetype": "text/x-python",
   "name": "python",
   "nbconvert_exporter": "python",
   "pygments_lexer": "ipython3",
   "version": "3.9.13"
  }
 },
 "nbformat": 4,
 "nbformat_minor": 5
}
