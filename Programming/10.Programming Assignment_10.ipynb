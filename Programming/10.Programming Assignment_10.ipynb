{
 "cells": [
  {
   "cell_type": "markdown",
   "id": "ac541828",
   "metadata": {},
   "source": [
    "# Programming Assignment_10"
   ]
  },
  {
   "cell_type": "markdown",
   "id": "3baa27b7",
   "metadata": {},
   "source": [
    "### Q1. Write a Python program to find sum of elements in list?"
   ]
  },
  {
   "cell_type": "code",
   "execution_count": 1,
   "id": "a126fdb2",
   "metadata": {},
   "outputs": [
    {
     "name": "stdout",
     "output_type": "stream",
     "text": [
      "Sum of elements in List 210\n"
     ]
    }
   ],
   "source": [
    "l = [10,20,30,40,50,60]  # list\n",
    "\n",
    "s = 0\n",
    "for i in l:\n",
    "    s += i # sum of each element in list using for loop\n",
    "    \n",
    "print(\"Sum of elements in List\",s)"
   ]
  },
  {
   "cell_type": "markdown",
   "id": "ca3d56e5",
   "metadata": {},
   "source": [
    "OR"
   ]
  },
  {
   "cell_type": "markdown",
   "id": "f070583a",
   "metadata": {},
   "source": [
    "### Q2. Write a Python program to Multiply all numbers in the list?"
   ]
  },
  {
   "cell_type": "code",
   "execution_count": 5,
   "id": "c22c5115",
   "metadata": {},
   "outputs": [
    {
     "name": "stdout",
     "output_type": "stream",
     "text": [
      "720000000\n"
     ]
    }
   ],
   "source": [
    "l = [10,20,30,40,50,60] #list\n",
    "m = 1  # take var m is 1\n",
    "for i in l:\n",
    "    m *= i # multiply of each element in list using for loop\n",
    "    \n",
    "print(m)"
   ]
  },
  {
   "cell_type": "markdown",
   "id": "b229db8a",
   "metadata": {},
   "source": [
    "### Q3. Write a Python program to find smallest number in a list?"
   ]
  },
  {
   "cell_type": "code",
   "execution_count": 4,
   "id": "58c72bcb",
   "metadata": {},
   "outputs": [
    {
     "name": "stdout",
     "output_type": "stream",
     "text": [
      "2\n"
     ]
    }
   ],
   "source": [
    "l = [343,5654,4464,234,2,45,5,474,4,24,241,4,646] # list\n",
    "\n",
    "minimum = l[0]  # take min variable 1st element in list\n",
    "for i in l:  # iterate over each element\n",
    "    if i < minimum: \n",
    "        minimum = i # if minimum from previous  now take is as minimum\n",
    "        \n",
    "print(minimum)"
   ]
  },
  {
   "cell_type": "markdown",
   "id": "2b756fe1",
   "metadata": {},
   "source": [
    "### Q4. Write a Python program to find largest number in a list?"
   ]
  },
  {
   "cell_type": "code",
   "execution_count": 6,
   "id": "1c56629d",
   "metadata": {},
   "outputs": [
    {
     "name": "stdout",
     "output_type": "stream",
     "text": [
      "5654\n"
     ]
    }
   ],
   "source": [
    "l = [343,5654,4464,234,2,45,5,474,4,24,241,4,646]\n",
    "max = l[0] # take max variable 1st element in list\n",
    "for i in l: # iterate over each element\n",
    "    if i > max: # if maximum from previous  now take is as maximum\n",
    "        max = i\n",
    "        \n",
    "print(max)"
   ]
  },
  {
   "cell_type": "markdown",
   "id": "cb28e2f2",
   "metadata": {},
   "source": [
    "### Q5. Write a Python program to find second largest number in a list?"
   ]
  },
  {
   "cell_type": "code",
   "execution_count": 7,
   "id": "975a049c",
   "metadata": {},
   "outputs": [
    {
     "name": "stdout",
     "output_type": "stream",
     "text": [
      "Second largest number: 34\n"
     ]
    }
   ],
   "source": [
    "l = [1,2,34,6,5,54,23,22]\n",
    "l.sort(reverse=True)         # sort the list\n",
    "print(\"Second largest number:\", l[1]) # after sorting"
   ]
  },
  {
   "cell_type": "markdown",
   "id": "d0d1311f",
   "metadata": {},
   "source": [
    "### Q6. Write a Python program to find N largest elements from a list?"
   ]
  },
  {
   "cell_type": "code",
   "execution_count": 21,
   "id": "33179847",
   "metadata": {},
   "outputs": [
    {
     "name": "stdout",
     "output_type": "stream",
     "text": [
      "Enter the length of list : 5\n",
      "3\n",
      "7\n",
      "9\n",
      "3\n",
      "7\n",
      "[3, 7, 9, 3, 7]\n",
      "[3, 3, 7, 7, 9]\n",
      "N largest number:3\n",
      "3 largest elements from the list: [7, 7, 9]\n"
     ]
    }
   ],
   "source": [
    "n = int(input(\"Enter the length of list : \"))\n",
    "lst = []\n",
    "\n",
    "for i in range(n):\n",
    "    lst.append(int(input())) # append list\n",
    "print(lst)\n",
    "lst.sort()  # sort list\n",
    "print(lst)\n",
    "nlargest = int(input(\"N largest numbers:\")) # n largest numbers\n",
    "\n",
    "if n < nlargest :\n",
    "    print(\"value is larger than list length\")\n",
    "else:\n",
    "    print(nlargest,\"largest elements from the list:\",lst[(n-nlargest):])"
   ]
  },
  {
   "cell_type": "markdown",
   "id": "a5ca92f7",
   "metadata": {},
   "source": [
    "### Q7. Write a Python program to print even numbers in a list?"
   ]
  },
  {
   "cell_type": "code",
   "execution_count": 18,
   "id": "65b7cf2e",
   "metadata": {},
   "outputs": [
    {
     "name": "stdout",
     "output_type": "stream",
     "text": [
      "The lenth of list : 5\n",
      "4\n",
      "3\n",
      "1\n",
      "8\n",
      "6\n",
      "[4, 3, 1, 8, 6]\n",
      "The even numbers: [4, 8, 6]\n"
     ]
    }
   ],
   "source": [
    "n = int(input(\"The lenth of list : \"))\n",
    "lst = []\n",
    "\n",
    "for i in range(n):\n",
    "    lst.append(int(input())) # append list\n",
    "print(lst)\n",
    "evenlist =[]\n",
    "\n",
    "for i in lst:\n",
    "    if i % 2 == 0:  # condition for even number\n",
    "        evenlist.append(i)\n",
    "print(\"The even numbers:\",evenlist)"
   ]
  },
  {
   "cell_type": "markdown",
   "id": "dbcc4b12",
   "metadata": {},
   "source": [
    "### Q8. Write a Python program to print odd numbers in a List?"
   ]
  },
  {
   "cell_type": "code",
   "execution_count": 17,
   "id": "aca9d433",
   "metadata": {},
   "outputs": [
    {
     "name": "stdout",
     "output_type": "stream",
     "text": [
      "The lenth of list : 5\n",
      "4\n",
      "7\n",
      "9\n",
      "3\n",
      "1\n",
      "[4, 7, 9, 3, 1]\n",
      "The odd numbers : [7, 9, 3, 1]\n"
     ]
    }
   ],
   "source": [
    "n = int(input(\"The lenth of list : \"))\n",
    "lst = []\n",
    "\n",
    "for i in range(n):\n",
    "    lst.append(int(input()))  # append list\n",
    "print(lst)\n",
    "oddlist =[]\n",
    "\n",
    "for i in lst:\n",
    "    if i % 2 == 1:  # condition for odd numbers\n",
    "        oddlist.append(i)\n",
    "print(\"The odd numbers :\",oddlist)"
   ]
  },
  {
   "cell_type": "markdown",
   "id": "01f286f8",
   "metadata": {},
   "source": [
    "### Q9. Write a Python program to Remove empty List from List?"
   ]
  },
  {
   "cell_type": "code",
   "execution_count": 14,
   "id": "cd6d0504",
   "metadata": {},
   "outputs": [
    {
     "name": "stdout",
     "output_type": "stream",
     "text": [
      "[2, [], 4, 5, [], 6, 8, [], 3]\n",
      "[2, 4, 5, 6, 8, 3]\n"
     ]
    }
   ],
   "source": [
    "lst = [2,[],4,5,[],6,8,[],3]\n",
    "print(lst)\n",
    "removedlist = [ele for ele in lst if ele != []]  # remove empty list\n",
    "print(removedlist)"
   ]
  },
  {
   "cell_type": "markdown",
   "id": "9a3186d9",
   "metadata": {},
   "source": [
    "### Q10. Write a Python program to Cloning or Copying a list?"
   ]
  },
  {
   "cell_type": "code",
   "execution_count": 15,
   "id": "32eb9421",
   "metadata": {},
   "outputs": [
    {
     "name": "stdout",
     "output_type": "stream",
     "text": [
      "Enter the length of list : 5\n",
      "6\n",
      "8\n",
      "3\n",
      "5\n",
      "6\n",
      "[6, 8, 3, 5, 6]\n",
      "[6, 8, 3, 5, 6]\n",
      "[6, 8, 3, 5, 6]\n",
      "[6, 8, 3, 5, 6]\n",
      "[6, 8, 3, 5, 6]\n"
     ]
    }
   ],
   "source": [
    "n = int(input(\"Enter the length of list : \"))\n",
    "lst = []\n",
    "\n",
    "for i in range(n):\n",
    "    lst.append(int(input()))\n",
    "print(lst)\n",
    "\n",
    "\n",
    "#Method 1\n",
    "lstcopy = lst[:]  # Cloning By list slicing lst[:]\n",
    "print(lstcopy)\n",
    "\n",
    "#method2\n",
    "lst2 = lst.copy()  #Cloning By list copying lst.copy() \n",
    "print(lst2)\n",
    "\n",
    "\n",
    "#Method3\n",
    "lstcomprah = [i for i in lst]  # Cloning By list Comprahention\n",
    "print(lstcomprah)\n",
    "\n",
    "\n",
    "#method4\n",
    "lstappend=[]\n",
    "for i in lst : lstappend.append(i) # \"Cloning By list append \n",
    "print(lstappend)"
   ]
  },
  {
   "cell_type": "markdown",
   "id": "d61db616",
   "metadata": {},
   "source": [
    "### Q11. Write a Python program to Count occurrences of an element in a list?"
   ]
  },
  {
   "cell_type": "code",
   "execution_count": 16,
   "id": "b4d7acfd",
   "metadata": {},
   "outputs": [
    {
     "data": {
      "text/plain": [
       "5"
      ]
     },
     "execution_count": 16,
     "metadata": {},
     "output_type": "execute_result"
    }
   ],
   "source": [
    "l = [1,1,1, 3, 4, 1, 7, 8, 6,6,2,1]\n",
    "\n",
    "def occurrences(lst, element):\n",
    "    count = 0\n",
    "    for i in lst:\n",
    "        if i == element: # if element comes increases count numbers\n",
    "            count += 1\n",
    "            \n",
    "    return count\n",
    "\n",
    "occurrences(l,1)"
   ]
  },
  {
   "cell_type": "code",
   "execution_count": null,
   "id": "95831d78",
   "metadata": {},
   "outputs": [],
   "source": []
  }
 ],
 "metadata": {
  "kernelspec": {
   "display_name": "Python 3 (ipykernel)",
   "language": "python",
   "name": "python3"
  },
  "language_info": {
   "codemirror_mode": {
    "name": "ipython",
    "version": 3
   },
   "file_extension": ".py",
   "mimetype": "text/x-python",
   "name": "python",
   "nbconvert_exporter": "python",
   "pygments_lexer": "ipython3",
   "version": "3.9.13"
  }
 },
 "nbformat": 4,
 "nbformat_minor": 5
}
