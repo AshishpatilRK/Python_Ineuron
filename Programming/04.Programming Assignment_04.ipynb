{
 "cells": [
  {
   "cell_type": "markdown",
   "id": "c090d578",
   "metadata": {},
   "source": [
    "# Programming Assignment_4"
   ]
  },
  {
   "cell_type": "markdown",
   "id": "e5e13b19",
   "metadata": {},
   "source": [
    "### Q1. Write a Python Program to Find the Factorial of a Number?"
   ]
  },
  {
   "cell_type": "code",
   "execution_count": 3,
   "id": "09044cbe",
   "metadata": {},
   "outputs": [
    {
     "name": "stdout",
     "output_type": "stream",
     "text": [
      "Enter a Number : 5\n",
      "Factorial of 5 is 120\n"
     ]
    }
   ],
   "source": [
    "# Factorial of a number\n",
    "num = int(input(\"Enter a Number : \"))\n",
    "fact = 1\n",
    "if num < 0: # num less than 0\n",
    "    print(\"Can not calculate Factorial\")\n",
    "elif num == 0:  # num is equal to 0\n",
    "    print(\"Factorial of zero is 1\")\n",
    "else:\n",
    "    for i in range(1,num+1): # use for loop and range upto num\n",
    "        fact = fact * i\n",
    "print(\"Factorial of {} is {}\".format(num, fact))"
   ]
  },
  {
   "cell_type": "markdown",
   "id": "91f72e6b",
   "metadata": {},
   "source": [
    "### Q2. Write a Python Program to Display the multiplication Table?"
   ]
  },
  {
   "cell_type": "code",
   "execution_count": 4,
   "id": "123046a8",
   "metadata": {},
   "outputs": [
    {
     "name": "stdout",
     "output_type": "stream",
     "text": [
      "Enter a Number: 9\n",
      "\n",
      "Multiplication table for number 9\n",
      "\n",
      "9 X 1 = 9\n",
      "9 X 2 = 18\n",
      "9 X 3 = 27\n",
      "9 X 4 = 36\n",
      "9 X 5 = 45\n",
      "9 X 6 = 54\n",
      "9 X 7 = 63\n",
      "9 X 8 = 72\n",
      "9 X 9 = 81\n",
      "9 X 10 = 90\n"
     ]
    }
   ],
   "source": [
    "# Multiplication table\n",
    "num = int(input(\"Enter a Number: \"))\n",
    "\n",
    "print(\"\\nMultiplication table for number {}\\n\".format(num))\n",
    "for i in range(1,11):  # range from 1 to 11-1\n",
    "    print(\"{} X {} = {}\".format(num,i,i*num))"
   ]
  },
  {
   "cell_type": "markdown",
   "id": "fb15e1e4",
   "metadata": {},
   "source": [
    "### Q3. Write a Python Program to Print the Fibonacci sequence?"
   ]
  },
  {
   "cell_type": "code",
   "execution_count": 8,
   "id": "53073fdc",
   "metadata": {},
   "outputs": [
    {
     "name": "stdout",
     "output_type": "stream",
     "text": [
      "enter a number to find the fibonacci series : 20\n",
      "Fibonacci series upto  20 :\n",
      "0 1 1 2 3 5 8 13 21 34 55 89 144 233 377 610 987 1597 2584 4181 6765 "
     ]
    }
   ],
   "source": [
    "# Fibonacci series - > 1, 1, 2, 3, 5,8,13........\n",
    "\n",
    "seq = int(input(\"enter a number to find the fibonacci series : \"))\n",
    "count = 0\n",
    "f1 , f2 = 0,1\n",
    "\n",
    "if seq <= 0:  # less than 0\n",
    "    print(\"Please enter a positive number\")\n",
    "elif seq == 1:  # equal to 1\n",
    "    print(\"Fibonacci series upto \",seq, \":\")\n",
    "    print(f1)\n",
    "else:\n",
    "    print(\"Fibonacci series upto \",seq, \":\")\n",
    "    while count <= seq:        # run until count less or equal to seq\n",
    "        print(f1, end=\" \")\n",
    "        fth = f1 + f2\n",
    "        f1,f2 = f2, fth\n",
    "        count+=1\n"
   ]
  },
  {
   "cell_type": "markdown",
   "id": "0b7d25c9",
   "metadata": {},
   "source": [
    "### Q4. Write a Python Program to Check Armstrong Number?"
   ]
  },
  {
   "cell_type": "code",
   "execution_count": 9,
   "id": "c7fb933f",
   "metadata": {},
   "outputs": [
    {
     "name": "stdout",
     "output_type": "stream",
     "text": [
      "Enter the number : 153\n",
      "Number is armstrong number\n"
     ]
    }
   ],
   "source": [
    "## finding for a single number\n",
    "num = int(input(\"Enter the number : \"))\n",
    "\n",
    "power = len(str(num))  # length of number\n",
    "\n",
    "temp = num  # take temp is equal to num\n",
    "sum = 0\n",
    "while temp > 0:  # if temp > 0 uptil while loop run\n",
    "    digit = temp % 10  # remainder is digit\n",
    "    sum = sum + digit ** power  # # sum is digit's power\n",
    "    temp = temp//10\n",
    "if num == sum :  # num is equal to sum\n",
    "    print(\"Number is armstrong number\")\n",
    "else:\n",
    "    print(\"Not an armstrong number\")"
   ]
  },
  {
   "cell_type": "markdown",
   "id": "a5e9219b",
   "metadata": {},
   "source": [
    "### Q5. Write a Python Program to Find Armstrong Number in an Interval?"
   ]
  },
  {
   "cell_type": "code",
   "execution_count": 11,
   "id": "82822796",
   "metadata": {},
   "outputs": [
    {
     "name": "stdout",
     "output_type": "stream",
     "text": [
      "Lower limit : 100\n",
      "Upper limit : 1000\n",
      "153 is an Armstrong number\n",
      "370 is an Armstrong number\n",
      "371 is an Armstrong number\n",
      "407 is an Armstrong number\n"
     ]
    }
   ],
   "source": [
    "## fining for a range of numbers\n",
    "low = int(input(\"Lower limit : \"))\n",
    "up = int(input(\"Upper limit : \"))\n",
    "\n",
    "\n",
    "for num in range(low,up+1): range upto low to up +1\n",
    "    power = len(str(num)) # length of num\n",
    "    temp = num  # temparory\n",
    "    sum = 0\n",
    "    while temp > 0: # run until temp > 0\n",
    "        digit = temp % 10   # remainder digit\n",
    "        sum = sum + digit ** power  # sum of digit's power\n",
    "        temp = temp//10  # temp divide by 10\n",
    "    if num == sum : if num is equal to sum\n",
    "        print(num,\"is an Armstrong number\")"
   ]
  },
  {
   "cell_type": "markdown",
   "id": "60b88d50",
   "metadata": {},
   "source": [
    "### Q6. Write a Python Program to Find the Sum of Natural Numbers?"
   ]
  },
  {
   "cell_type": "code",
   "execution_count": 13,
   "id": "0ef4f68d",
   "metadata": {},
   "outputs": [
    {
     "name": "stdout",
     "output_type": "stream",
     "text": [
      "enter the number : 10\n",
      "Sum of natural numbers upto 10 is 55\n"
     ]
    }
   ],
   "source": [
    "num = int(input(\"enter the number : \"))\n",
    "sum = 0\n",
    "for i in range(0,num+1): # range from 0 to num+1\n",
    "    sum+=i  # Sum of Natural Numbers\n",
    "print(\"Sum of natural numbers upto {} is {}\".format(num,sum))"
   ]
  }
 ],
 "metadata": {
  "kernelspec": {
   "display_name": "Python 3 (ipykernel)",
   "language": "python",
   "name": "python3"
  },
  "language_info": {
   "codemirror_mode": {
    "name": "ipython",
    "version": 3
   },
   "file_extension": ".py",
   "mimetype": "text/x-python",
   "name": "python",
   "nbconvert_exporter": "python",
   "pygments_lexer": "ipython3",
   "version": "3.9.13"
  }
 },
 "nbformat": 4,
 "nbformat_minor": 5
}
