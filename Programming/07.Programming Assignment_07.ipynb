{
 "cells": [
  {
   "cell_type": "markdown",
   "id": "f021ebce",
   "metadata": {},
   "source": [
    "# Programming Assignment_7"
   ]
  },
  {
   "cell_type": "markdown",
   "id": "0a041073",
   "metadata": {},
   "source": [
    "### Q1. Write a Python Program to find sum of array?"
   ]
  },
  {
   "cell_type": "code",
   "execution_count": 1,
   "id": "d375cf35",
   "metadata": {},
   "outputs": [
    {
     "name": "stdout",
     "output_type": "stream",
     "text": [
      "Sum of array:  778\n"
     ]
    }
   ],
   "source": [
    "l = [12,32,333,-412, 123,690]\n",
    "\n",
    "Sum = 0 # take sum variable = 0\n",
    "for i in l: # take each element in list\n",
    "    Sum += i  # sum of elements\n",
    "    \n",
    "print(\"Sum of array: \", Sum) # print sum"
   ]
  },
  {
   "cell_type": "markdown",
   "id": "496545bc",
   "metadata": {},
   "source": [
    "OR"
   ]
  },
  {
   "cell_type": "code",
   "execution_count": 3,
   "id": "587b504c",
   "metadata": {},
   "outputs": [
    {
     "data": {
      "text/plain": [
       "778"
      ]
     },
     "execution_count": 3,
     "metadata": {},
     "output_type": "execute_result"
    }
   ],
   "source": [
    "lst = [12,32,333,-412, 123,690]\n",
    "sum(lst) # use sum() function"
   ]
  },
  {
   "cell_type": "markdown",
   "id": "f55b6e00",
   "metadata": {},
   "source": [
    "### Q2. Write a Python Program to find largest element in an array?"
   ]
  },
  {
   "cell_type": "code",
   "execution_count": 1,
   "id": "84b87793",
   "metadata": {},
   "outputs": [
    {
     "name": "stdout",
     "output_type": "stream",
     "text": [
      "Largest element in the array [100, 4, 10, 7, 5, 9] is 100 \n"
     ]
    }
   ],
   "source": [
    "lst = [100,4,10,7,5,9]\n",
    "maxm = 0  # take max variable = 0\n",
    "for i in range(0,len(lst)): #range of len of list\n",
    "    if maxm < lst[i]:  #if max less than element\n",
    "        maxm = lst[i] # max is equal to element in list\n",
    "        \n",
    "print(\"Largest element in the array {} is {} \".format(lst,maxm))"
   ]
  },
  {
   "cell_type": "markdown",
   "id": "54ac111a",
   "metadata": {},
   "source": [
    "OR"
   ]
  },
  {
   "cell_type": "code",
   "execution_count": 2,
   "id": "26b55195",
   "metadata": {},
   "outputs": [
    {
     "name": "stdout",
     "output_type": "stream",
     "text": [
      "lstgetst elemnt in the array [100, 4, 10, 7, 5, 9] is 100\n"
     ]
    }
   ],
   "source": [
    "lst = [100,4,10,7,5,9]\n",
    "s = max(lst)  # use max() function\n",
    "print(\"lstgetst elemnt in the array {} is {}\".format(lst,max(lst)))"
   ]
  },
  {
   "cell_type": "markdown",
   "id": "18d076c7",
   "metadata": {},
   "source": [
    "### Q3. Write a Python Program for array rotation?"
   ]
  },
  {
   "cell_type": "code",
   "execution_count": 5,
   "id": "5ac1d57e",
   "metadata": {},
   "outputs": [
    {
     "name": "stdout",
     "output_type": "stream",
     "text": [
      "Enter the lenth of your list : 5\n",
      "2\n",
      "4\n",
      "5\n",
      "7\n",
      "9\n",
      "The List is  [2, 4, 5, 7, 9]\n",
      "Enter Rotation Right/Left : left\n",
      "Enter the number of elements to rotate < : 2\n",
      "After Left rotation :  [5, 7, 9, 2, 4]\n"
     ]
    }
   ],
   "source": [
    "n = int(input(\"Enter the lenth of your list : \"))\n",
    "lst = []  # take empty list\n",
    " \n",
    "for i in range(n):  # take range of length of list\n",
    "    lst.append(int(input())) # append of list \n",
    "print(\"The List is \",lst)    # print list\n",
    "rotation = input(\"Enter Rotation Right/Left : \")  # enter rotation\n",
    "nele = int(input(\"Enter the number of elements to rotate < : \")) # enter number of elements to rotate\n",
    "if nele > n: # if elements greater than n\n",
    "    print(\"can not rotate as elements to rotate is larger then list lengh\")\n",
    "else:\n",
    "    rlst = [] \n",
    "    if rotation.upper() == \"RIGHT\":# if right rotate\n",
    "        rlst[:] = lst[-nele:] + lst[:(n-nele)] # rotate elements in list right rotation\n",
    "        print(\"After right rotation : \",rlst)\n",
    "    elif rotation.upper() == \"LEFT\": #if left rotate\n",
    "        rlst[:] = lst[nele:n] + lst[:nele]   # rotate elements in list left rotation\n",
    "        print(\"After Left rotation : \",rlst)\n",
    "    else:\n",
    "        print(\"Invalid Entry\")"
   ]
  },
  {
   "cell_type": "markdown",
   "id": "8b74027d",
   "metadata": {},
   "source": [
    "OR"
   ]
  },
  {
   "cell_type": "code",
   "execution_count": 6,
   "id": "c129bb72",
   "metadata": {},
   "outputs": [
    {
     "name": "stdout",
     "output_type": "stream",
     "text": [
      "Rotated array: [6, 5, 4, 3, 2, 1]\n"
     ]
    }
   ],
   "source": [
    "# array rotation by reversing list\n",
    "l = [1,2,3,4,5,6]\n",
    "\n",
    "print(\"Rotated array:\",l[::-1])  # array rotation by reversing it "
   ]
  },
  {
   "cell_type": "markdown",
   "id": "e96f35d0",
   "metadata": {},
   "source": [
    "### Q4. Write a Python Program to Split the array and add the first part to the end?"
   ]
  },
  {
   "cell_type": "code",
   "execution_count": 7,
   "id": "b7496ea6",
   "metadata": {},
   "outputs": [
    {
     "name": "stdout",
     "output_type": "stream",
     "text": [
      "Enter the lenth of your list : 5\n",
      "2\n",
      "5\n",
      "7\n",
      "9\n",
      "4\n",
      "The List is  [2, 5, 7, 9, 4]\n",
      "Enter the number of elements to split < : 3\n",
      "The split list is : [2, 5, 7]\n",
      "The List after split and add : [9, 4, 2, 5, 7]\n"
     ]
    }
   ],
   "source": [
    "n = int(input(\"Enter the lenth of your list : \"))\n",
    "lst = []  # empty list\n",
    "\n",
    "for i in range(n):  # range of length of list i.e n\n",
    "    lst.append(int(input())) # append list\n",
    "print(\"The List is \",lst)  # print list\n",
    "\n",
    "nele = int(input(\"Enter the number of elements to split < : \")) # enter the no of elements to split\n",
    "if nele > n: # no of elements grater than n\n",
    "    print(\"can not split as elements to split is larger then list lengh\")\n",
    "else:\n",
    "    print(\"The split list is :\",lst[:nele]) # split the list\n",
    "    rlst[:] = lst[nele:n] + lst[:nele] # # put first part to end\n",
    "    print(\"The List after split and add :\", rlst) # print list"
   ]
  },
  {
   "cell_type": "markdown",
   "id": "3ea8feb9",
   "metadata": {},
   "source": [
    "OR"
   ]
  },
  {
   "cell_type": "code",
   "execution_count": 8,
   "id": "36b9f4e5",
   "metadata": {},
   "outputs": [
    {
     "name": "stdout",
     "output_type": "stream",
     "text": [
      "[2, 3, 4, 5, 6, 1]\n"
     ]
    }
   ],
   "source": [
    "# append first element to last\n",
    "l = [1,2,3,4,5,6] # list\n",
    "\n",
    "l.append(l[0]) # append first element to last \n",
    "l.pop(0)  # remove first element\n",
    "\n",
    "print(l) # print list"
   ]
  },
  {
   "cell_type": "markdown",
   "id": "0f300314",
   "metadata": {},
   "source": [
    "### Q5. Write a Python Program to check if given array is Monotonic?"
   ]
  },
  {
   "cell_type": "markdown",
   "id": "2c6e5002",
   "metadata": {},
   "source": [
    "* An array is said to be monotonic in nature if it is either continuously increasing or continuously decreasing."
   ]
  },
  {
   "cell_type": "code",
   "execution_count": 9,
   "id": "04864b0e",
   "metadata": {},
   "outputs": [
    {
     "name": "stdout",
     "output_type": "stream",
     "text": [
      "Enter the lenth of your list : 5\n",
      "2\n",
      "5\n",
      "1\n",
      "7\n",
      "8\n",
      "The List is  [2, 5, 1, 7, 8]\n",
      "Not Monotonic\n"
     ]
    }
   ],
   "source": [
    "n = int(input(\"Enter the lenth of your list : \"))\n",
    "lst = [] # list\n",
    "\n",
    "for i in range(n): # range of n\n",
    "    lst.append(int(input())) # append list\n",
    "print(\"The List is \",lst)\n",
    "\n",
    "if all((lst[i] <= lst[i+1] for i in range(n-1)) or (lst[i] >= lst[i+1] for i in range(n-1))): # condition for monotonic\n",
    "    print(\"Monotonic\")         # increasing or decreasing\n",
    "else:\n",
    "    print(\"Not Monotonic\")"
   ]
  },
  {
   "cell_type": "markdown",
   "id": "02d8ae25",
   "metadata": {},
   "source": [
    "OR"
   ]
  },
  {
   "cell_type": "code",
   "execution_count": 10,
   "id": "03e6362b",
   "metadata": {},
   "outputs": [],
   "source": [
    "def is_monotonic(arr):\n",
    "    decreasing = all(arr[i] >= arr[i+1] for i in range(len(arr)-1)) # condition for monotonic  - decreasing\n",
    "    if decreasing:\n",
    "        return True\n",
    "    \n",
    "    increasing = all(arr[i] <= arr[i+1] for i in range(len(arr)-1))  # condition for monotonic  - increasing\n",
    "    if increasing:\n",
    "        return True\n",
    "    \n",
    "    return False"
   ]
  },
  {
   "cell_type": "code",
   "execution_count": 11,
   "id": "6e9d91af",
   "metadata": {},
   "outputs": [
    {
     "data": {
      "text/plain": [
       "True"
      ]
     },
     "execution_count": 11,
     "metadata": {},
     "output_type": "execute_result"
    }
   ],
   "source": [
    "l1 = [1,2,3,4,5]\n",
    "is_monotonic(l1)"
   ]
  },
  {
   "cell_type": "code",
   "execution_count": 12,
   "id": "09e8c2bb",
   "metadata": {},
   "outputs": [
    {
     "data": {
      "text/plain": [
       "True"
      ]
     },
     "execution_count": 12,
     "metadata": {},
     "output_type": "execute_result"
    }
   ],
   "source": [
    "l2 = [5,4,3,2,1]\n",
    "is_monotonic(l2)"
   ]
  },
  {
   "cell_type": "code",
   "execution_count": 13,
   "id": "cc2b1a0a",
   "metadata": {},
   "outputs": [
    {
     "data": {
      "text/plain": [
       "False"
      ]
     },
     "execution_count": 13,
     "metadata": {},
     "output_type": "execute_result"
    }
   ],
   "source": [
    "l3 = [5,4,3,2,1,9]\n",
    "is_monotonic(l3)"
   ]
  },
  {
   "cell_type": "code",
   "execution_count": null,
   "id": "db942778",
   "metadata": {},
   "outputs": [],
   "source": []
  }
 ],
 "metadata": {
  "kernelspec": {
   "display_name": "Python 3 (ipykernel)",
   "language": "python",
   "name": "python3"
  },
  "language_info": {
   "codemirror_mode": {
    "name": "ipython",
    "version": 3
   },
   "file_extension": ".py",
   "mimetype": "text/x-python",
   "name": "python",
   "nbconvert_exporter": "python",
   "pygments_lexer": "ipython3",
   "version": "3.9.13"
  }
 },
 "nbformat": 4,
 "nbformat_minor": 5
}
