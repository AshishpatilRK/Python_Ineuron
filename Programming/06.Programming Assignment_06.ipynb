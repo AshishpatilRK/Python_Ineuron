{
 "cells": [
  {
   "cell_type": "markdown",
   "id": "85823304",
   "metadata": {},
   "source": [
    "# Programming Assignment_6"
   ]
  },
  {
   "cell_type": "markdown",
   "id": "55024142",
   "metadata": {},
   "source": [
    "### Q1. Write a Python Program to Display Fibonacci Sequence Using Recursion?"
   ]
  },
  {
   "cell_type": "code",
   "execution_count": 2,
   "id": "25d5d093",
   "metadata": {},
   "outputs": [
    {
     "name": "stdout",
     "output_type": "stream",
     "text": [
      "enter a number : 8\n",
      "Fibonacci series 8 :\n",
      "0 1 1 2 3 5 8 13 "
     ]
    }
   ],
   "source": [
    "# Fibonacci series - > 1, 1, 2, 3, 5,8,13........\n",
    "def fibo(n):\n",
    "    if n <= 1:  # num less than 1\n",
    "        return n\n",
    "    else:\n",
    "        return fibo(n-1) +  fibo(n-2) # recurssion means use same fun again again until base condition comes\n",
    "sequence = int(input(\"enter a number : \"))\n",
    "\n",
    "\n",
    "if sequence <= 0:   # num less than 0\n",
    "    print(\"Please enter a positive number\")\n",
    "elif sequence == 1:  # num equal to 1\n",
    "    print(\"Fibonacci series\",sequence, \":\")\n",
    "    print(f1)\n",
    "else:\n",
    "    print(\"Fibonacci series\",sequence, \":\")\n",
    "    for i in range(sequence):       \n",
    "        print(fibo(i),end=' ') # call above function"
   ]
  },
  {
   "cell_type": "markdown",
   "id": "36d747bd",
   "metadata": {},
   "source": [
    "### Q2. Write a Python Program to Find Factorial of Number Using Recursion?"
   ]
  },
  {
   "cell_type": "code",
   "execution_count": 3,
   "id": "ee32d1b8",
   "metadata": {},
   "outputs": [
    {
     "name": "stdout",
     "output_type": "stream",
     "text": [
      "Enter a Number : 5\n",
      "Factorial of 5 is 120\n"
     ]
    }
   ],
   "source": [
    "# Factorial of a number\n",
    "\n",
    "def fact(n):  \n",
    "    if n == 1: # n is equal to 1\n",
    "        return n\n",
    "    else:\n",
    "        return n * fact(n-1)    #  use recursion means use function again and again uptil base condition\n",
    "        \n",
    "\n",
    "num = int(input(\"Enter a Number : \"))\n",
    "if num < 0:  # num is less than 0\n",
    "    print(\"Can not calculate Factorial of a negative number\")        \n",
    "elif num == 0: # num is equal to 0\n",
    "    print(\"Factorial of zero is 1\")\n",
    "else:\n",
    "    print(\"Factorial of {} is {}\".format(num, fact(num))) # call fact() function"
   ]
  },
  {
   "cell_type": "markdown",
   "id": "a3f81fcb",
   "metadata": {},
   "source": [
    "### Q3. Write a Python Program to calculate your Body Mass Index?"
   ]
  },
  {
   "cell_type": "code",
   "execution_count": 4,
   "id": "29a12a9d",
   "metadata": {},
   "outputs": [
    {
     "name": "stdout",
     "output_type": "stream",
     "text": [
      "enter your height in feet : 7\n",
      "enter your weight in kilo : 80\n",
      "The BIM is =  1.6326530612244898\n"
     ]
    }
   ],
   "source": [
    "# BMI = weight / Height * height\n",
    "\n",
    "h = float(input(\"enter your height in feet : \"))  # height\n",
    "w = float(input(\"enter your weight in kilo : \"))  # weight\n",
    "\n",
    "bmi = w/(h**2)  # bmi formulae\n",
    "\n",
    "print(\"The BIM is = \",bmi)"
   ]
  },
  {
   "cell_type": "markdown",
   "id": "30252d9d",
   "metadata": {},
   "source": [
    "### Q4. Write a Python Program to calculate the natural logarithm of any number?"
   ]
  },
  {
   "cell_type": "code",
   "execution_count": 5,
   "id": "84305742",
   "metadata": {},
   "outputs": [
    {
     "name": "stdout",
     "output_type": "stream",
     "text": [
      "Enter a number : 5\n",
      "Log of 5 is 1.6094379124341003\n"
     ]
    }
   ],
   "source": [
    "import math  # import math nodule\n",
    "x = int(input((\"Enter a number : \")))\n",
    "log = math.log(x)  #  find log of any number\n",
    "print(\"Log of {} is {}\".format(x, log)) # print log of num"
   ]
  },
  {
   "cell_type": "markdown",
   "id": "a7620a9c",
   "metadata": {},
   "source": [
    "### Q5. Write a Python Program for cube sum of first n natural numbers?"
   ]
  },
  {
   "cell_type": "code",
   "execution_count": 9,
   "id": "8926627b",
   "metadata": {},
   "outputs": [
    {
     "name": "stdout",
     "output_type": "stream",
     "text": [
      "Enter n : 4\n",
      "Cube sum of 4 natural numbers is 100\n"
     ]
    }
   ],
   "source": [
    "n = int(input(\"Enter n : \"))\n",
    "sum = 0\n",
    "for i in range(1,n+1):  #range 1 to n+1\n",
    "    sum+=i**3   # sum of ube sum of  n natural numbers\n",
    "print(\"Cube sum of {} natural numbers is {}\".format(n,sum)) # print sum pf cub of num"
   ]
  },
  {
   "cell_type": "code",
   "execution_count": null,
   "id": "dd5fbd8d",
   "metadata": {},
   "outputs": [],
   "source": []
  }
 ],
 "metadata": {
  "kernelspec": {
   "display_name": "Python 3 (ipykernel)",
   "language": "python",
   "name": "python3"
  },
  "language_info": {
   "codemirror_mode": {
    "name": "ipython",
    "version": 3
   },
   "file_extension": ".py",
   "mimetype": "text/x-python",
   "name": "python",
   "nbconvert_exporter": "python",
   "pygments_lexer": "ipython3",
   "version": "3.9.13"
  }
 },
 "nbformat": 4,
 "nbformat_minor": 5
}
