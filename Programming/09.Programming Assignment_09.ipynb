{
 "cells": [
  {
   "cell_type": "markdown",
   "id": "4af6fe6e",
   "metadata": {},
   "source": [
    "# Programming Assignment_9"
   ]
  },
  {
   "cell_type": "markdown",
   "id": "be152224",
   "metadata": {},
   "source": [
    "### Q1. Write a Python program to check if the given number is a Disarium Number?"
   ]
  },
  {
   "cell_type": "markdown",
   "id": "90fb94f6",
   "metadata": {},
   "source": [
    "* A number is said to be the Disarium number when the sum of its digit raised to the power of their respective positions becomes equal to the number itself."
   ]
  },
  {
   "cell_type": "code",
   "execution_count": 3,
   "id": "e29fc020",
   "metadata": {},
   "outputs": [
    {
     "name": "stdout",
     "output_type": "stream",
     "text": [
      "Enter the number :135\n",
      "135 Number is Disarium\n"
     ]
    }
   ],
   "source": [
    "def isDisarium(num):\n",
    "    sum = 0\n",
    "    while(num>0):\n",
    "        cnt= len(str(num))\n",
    "        digit = num%10      \n",
    "        sum= sum + digit**cnt    # sum of  remainder/digit and power cnt i.e len of num\n",
    "        cnt-=1\n",
    "        num = num//10\n",
    "    return sum\n",
    "\n",
    "num = int(input(\"Enter the number :\"))\n",
    "\n",
    "\n",
    "sum = isDisarium(num)\n",
    "if sum == num:  # sum of its digit raised to the power  becomes equal to the number itself.\n",
    "    print(num,\"Number is Disarium\")\n",
    "else:\n",
    "    print(num,\"Number is not Disarium\")"
   ]
  },
  {
   "cell_type": "markdown",
   "id": "c884eb42",
   "metadata": {},
   "source": [
    "### Q2. Write a Python program to print all disarium numbers between 1 to 100?"
   ]
  },
  {
   "cell_type": "code",
   "execution_count": 4,
   "id": "253046e3",
   "metadata": {},
   "outputs": [
    {
     "name": "stdout",
     "output_type": "stream",
     "text": [
      "Disarium numbers in range 1 to 100\n",
      "[1, 2, 3, 4, 5, 6, 7, 8, 9, 89]\n"
     ]
    }
   ],
   "source": [
    "def isDisarium(num):\n",
    "    sum = 0\n",
    "    while(num>0):\n",
    "        cnt= len(str(num))\n",
    "        digit = num%10\n",
    "        sum= sum + digit**cnt    # sum of its digit raised to the power  becomes equal to the number itself.\n",
    "        cnt-=1\n",
    "        num = num//10\n",
    "    return sum\n",
    "\n",
    "print(\"Disarium numbers in range 1 to 100\")\n",
    "disariumNum = []\n",
    "\n",
    "for i in range(1,101):  # take range\n",
    "    sum = 0\n",
    "    sum = isDisarium(i)\n",
    "    if sum == i:\n",
    "        disariumNum.append(i)         # append list\n",
    "print(disariumNum)"
   ]
  },
  {
   "cell_type": "markdown",
   "id": "eab5595f",
   "metadata": {},
   "source": [
    "### Q3. Write a Python program to check if the given number is Happy Number?"
   ]
  },
  {
   "cell_type": "markdown",
   "id": "973daba7",
   "metadata": {},
   "source": [
    "* A number is said to be happy if it yields 1 when replaced by the sum of squares of its digits repeatedly. If this process results in an endless cycle of numbers containing 4, then the number will be an unhappy number."
   ]
  },
  {
   "cell_type": "code",
   "execution_count": 5,
   "id": "4719ccf5",
   "metadata": {},
   "outputs": [
    {
     "name": "stdout",
     "output_type": "stream",
     "text": [
      "Enter the number :100\n",
      "100 Is a Happy Number\n"
     ]
    }
   ],
   "source": [
    "def isHappy(num):\n",
    "    sum = 0\n",
    "    while(num>0):\n",
    "        digit = num%10\n",
    "        sum= sum + digit**2        # sum of  remainder/digit \n",
    "        num = num//10\n",
    "    return sum  # get sum\n",
    "\n",
    "num = int(input(\"Enter the number :\"))\n",
    "result = num\n",
    "\n",
    "\n",
    "while (result != 1 and result != 4): \n",
    "    result = isHappy(result)\n",
    "\n",
    "if result == 1:\n",
    "    print(num,\"Is a Happy Number\")\n",
    "else:\n",
    "    print(num,\" Is a Unhappy Number\")"
   ]
  },
  {
   "cell_type": "markdown",
   "id": "57b60327",
   "metadata": {},
   "source": [
    "### Q4. Write a Python program to print all happy numbers between 1 and 100?"
   ]
  },
  {
   "cell_type": "code",
   "execution_count": 6,
   "id": "e0fcffcb",
   "metadata": {},
   "outputs": [
    {
     "name": "stdout",
     "output_type": "stream",
     "text": [
      "Happy numbers in range 1 to 100\n",
      "[1, 7, 10, 13, 19, 23, 28, 31, 32, 44, 49, 68, 70, 79, 82, 86, 91, 94, 97, 100]\n"
     ]
    }
   ],
   "source": [
    "def isHappy(num):\n",
    "    sum = 0  # take sum variable\n",
    "    while(num>0):\n",
    "        digit = num%10\n",
    "        sum= sum + digit**2        # sum of digits square for happy number\n",
    "        num = num//10\n",
    "    return sum\n",
    "\n",
    "print(\"Happy numbers in range 1 to 100\")\n",
    "result=num=i=0\n",
    "happyNum = []    # list\n",
    "for i in range(1,101):\n",
    "    result = i\n",
    "    while (result != 1 and result != 4):\n",
    "        result = isHappy(result)    \n",
    "    if result == 1:\n",
    "        happyNum.append(i)\n",
    "print(happyNum)"
   ]
  },
  {
   "cell_type": "markdown",
   "id": "ece80aa4",
   "metadata": {},
   "source": [
    "### Q5. Write a Python program to determine whether the given number is a Harshad Number?"
   ]
  },
  {
   "cell_type": "markdown",
   "id": "12b764aa",
   "metadata": {},
   "source": [
    "* If a number is divisible by the sum of its digits, then it will be known as a Harshad Number"
   ]
  },
  {
   "cell_type": "code",
   "execution_count": 7,
   "id": "ee6be7ae",
   "metadata": {},
   "outputs": [
    {
     "name": "stdout",
     "output_type": "stream",
     "text": [
      "Enter the number :156\n",
      "156 Is a Harshad number\n"
     ]
    }
   ],
   "source": [
    "def digitSum(num):\n",
    "    sum = 0\n",
    "    while(num>0): # while loop run until num>0\n",
    "        digit = num%10 # remainder\n",
    "        sum= sum + digit      # sum of digit(remainder)\n",
    "        num = num//10 \n",
    "    return sum\n",
    "\n",
    "num = int(input(\"Enter the number :\"))\n",
    "sum = digitSum(num)   # call function\n",
    "\n",
    "if num % sum == 0: # if remainder is zero\n",
    "    print(num,\"Is a Harshad number\")\n",
    "else:\n",
    "    print(num,\"Is not a Harshad number\")"
   ]
  },
  {
   "cell_type": "markdown",
   "id": "34f9f5c0",
   "metadata": {},
   "source": [
    "### Q6. Write a Python program to print all pronic numbers between 1 and 100?"
   ]
  },
  {
   "cell_type": "markdown",
   "id": "d4c4b3f3",
   "metadata": {},
   "source": [
    "* The pronic number is a product of two consecutive integers of the form: n(n+1)."
   ]
  },
  {
   "cell_type": "code",
   "execution_count": 9,
   "id": "5bf5c4ee",
   "metadata": {},
   "outputs": [
    {
     "name": "stdout",
     "output_type": "stream",
     "text": [
      "Pronic numbers in range 1 to 100\n",
      "[2, 6, 12, 20, 30, 42, 56, 72, 90]\n"
     ]
    }
   ],
   "source": [
    "def isPronicNum(num):\n",
    "    isPronic = False #  take variable as False\n",
    "    for i in range(1,num+1): \n",
    "        if i*(i+1) == num: # take condition for pronic number\n",
    "            isPronic = True # if condition met \n",
    "            break\n",
    "    return isPronic\n",
    "\n",
    "print(\"Pronic numbers in range 1 to 100\")\n",
    "pronicNum = []\n",
    "for i in range(1,101):\n",
    "    if isPronicNum(i): # call function\n",
    "        pronicNum.append(i) # append list\n",
    "print(pronicNum) # print list"
   ]
  },
  {
   "cell_type": "markdown",
   "id": "736f84a2",
   "metadata": {},
   "source": []
  }
 ],
 "metadata": {
  "kernelspec": {
   "display_name": "Python 3 (ipykernel)",
   "language": "python",
   "name": "python3"
  },
  "language_info": {
   "codemirror_mode": {
    "name": "ipython",
    "version": 3
   },
   "file_extension": ".py",
   "mimetype": "text/x-python",
   "name": "python",
   "nbconvert_exporter": "python",
   "pygments_lexer": "ipython3",
   "version": "3.9.13"
  }
 },
 "nbformat": 4,
 "nbformat_minor": 5
}
