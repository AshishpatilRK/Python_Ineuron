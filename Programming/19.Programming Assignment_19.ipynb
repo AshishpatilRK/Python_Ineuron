{
 "cells": [
  {
   "cell_type": "markdown",
   "id": "aec4fc86",
   "metadata": {},
   "source": [
    "# Programming Assignment_19"
   ]
  },
  {
   "cell_type": "markdown",
   "id": "85fea328",
   "metadata": {},
   "source": [
    "### Q1. Create a function that takes a string and returns a string in which each character is repeated once.\n",
    "### Examples\n",
    "### double_char(&quot;String&quot;) ➞ &quot;SSttrriinngg&quot;\n",
    "### double_char(&quot;Hello World!&quot;) ➞ &quot;HHeelllloo WWoorrlldd!!&quot;\n",
    "### double_char(&quot;1234!_ &quot;) ➞ &quot;11223344!!__ &quot;"
   ]
  },
  {
   "cell_type": "code",
   "execution_count": 1,
   "id": "971561eb",
   "metadata": {},
   "outputs": [
    {
     "name": "stdout",
     "output_type": "stream",
     "text": [
      "SSttrriinngg\n",
      "HHeelllloo  WWoorrlldd!!\n",
      "11223344!!__  \n"
     ]
    }
   ],
   "source": [
    "def double(string):\n",
    "    return ''.join([c+c for c in string])  # join letters with  each character is repeated once\n",
    "\n",
    "print(double('String'))\n",
    "print(double('Hello World!'))\n",
    "print(double('1234!_ '))"
   ]
  },
  {
   "cell_type": "markdown",
   "id": "3e8f74bb",
   "metadata": {},
   "source": [
    "### Q2.  Create a function that reverses a boolean value and returns the string &quot;boolean expected&quot; if another variable type is given.\n",
    "### Examples\n",
    "### reverse(True) ➞ False\n",
    "### reverse(False) ➞ True\n",
    "### reverse(0) ➞ &quot;boolean expected&quot;\n",
    "### reverse(None) ➞ &quot;boolean expected&quot;"
   ]
  },
  {
   "cell_type": "code",
   "execution_count": 2,
   "id": "e2b329e5",
   "metadata": {},
   "outputs": [
    {
     "name": "stdout",
     "output_type": "stream",
     "text": [
      "False\n",
      "True\n",
      "boolean expected\n",
      "boolean expected\n"
     ]
    }
   ],
   "source": [
    "def reversee(arg):\n",
    "    return not arg if type(arg) == bool else \"boolean expected\" # reverses a boolean value and \n",
    "                             # use if - else                                  # returns the string \"boolean expected\"\n",
    "                                                                     #  if another variable type is given.\n",
    "print(reversee(True)) \n",
    "print(reversee(False)) \n",
    "print(reversee(0)) \n",
    "print(reversee(None))"
   ]
  },
  {
   "cell_type": "markdown",
   "id": "3198bd6a",
   "metadata": {},
   "source": [
    "### Q3. Create a function that returns the thickness (in meters) of a piece of paper after folding it n number of times. The paper starts off with a thickness of 0.5mm.\n",
    "### Examples\n",
    "### num_layers(1) ➞ &quot;0.001m&quot;\n",
    "### Paper folded once is 1mm (equal to 0.001m)\n",
    "### num_layers(4) ➞ &quot;0.008m&quot;\n",
    "### Paper folded 4 times is 8mm (equal to 0.008m)\n",
    "### num_layers(21) ➞ &quot;1048.576m&quot;\n",
    "### Paper folded 21 times is 1048576mm (equal to 1048.576m)"
   ]
  },
  {
   "cell_type": "code",
   "execution_count": 1,
   "id": "280bab61",
   "metadata": {},
   "outputs": [
    {
     "name": "stdout",
     "output_type": "stream",
     "text": [
      "0.001m\n",
      "0.008m\n",
      "1048.576m\n"
     ]
    }
   ],
   "source": [
    "def num_layers(n):\n",
    "    thickness = 0.5\n",
    "    for i in range(n):\n",
    "        thickness *= 2  \n",
    "    return str(thickness / 1000)+'m'\n",
    "\n",
    "print(num_layers(1))\n",
    "print(num_layers(4))\n",
    "print(num_layers(21))"
   ]
  },
  {
   "cell_type": "markdown",
   "id": "4d77982d",
   "metadata": {},
   "source": [
    "### Q4. Create a function that takes a single string as argument and returns an ordered list containing the indices of all capital letters in the string.\n",
    "### Examples\n",
    "### index_of_caps(&quot;eDaBiT&quot;) ➞ [1, 3, 5]\n",
    "### index_of_caps(&quot;eQuINoX&quot;) ➞ [1, 3, 4, 6]\n",
    "### index_of_caps(&quot;determine&quot;) ➞ []\n",
    "### index_of_caps(&quot;STRIKE&quot;) ➞ [0, 1, 2, 3, 4, 5]\n",
    "### index_of_caps(&quot;sUn&quot;) ➞ [1]"
   ]
  },
  {
   "cell_type": "code",
   "execution_count": 4,
   "id": "ebfdfe3b",
   "metadata": {},
   "outputs": [
    {
     "name": "stdout",
     "output_type": "stream",
     "text": [
      "[1, 3, 5]\n",
      "[1, 3, 4, 6]\n",
      "[]\n",
      "[0, 1, 2, 3, 4, 5]\n",
      "[1]\n"
     ]
    }
   ],
   "source": [
    "def index_of_caps(word):\n",
    "    indices = []\n",
    "    for i in range(len(word)):  # range over length of word\n",
    "        if word[i].isupper():   # if i is Capital letter\n",
    "             indices.append(i)  # append its index\n",
    "    return indices # return indexs\n",
    "\n",
    "print(index_of_caps('eDaBiT'))\n",
    "print(index_of_caps('eQuINoX')) \n",
    "print(index_of_caps('determine'))\n",
    "print(index_of_caps('STRIKE'))\n",
    "print(index_of_caps('sUn'))"
   ]
  },
  {
   "cell_type": "markdown",
   "id": "54b80703",
   "metadata": {},
   "source": [
    "### Q5. Using list comprehensions, create a function that finds all even numbers from 1 to the given number.\n",
    "### Examples\n",
    "### find_even_nums(8) ➞ [2, 4, 6, 8]\n",
    "### find_even_nums(4) ➞ [2, 4]\n",
    "### find_even_nums(2) ➞ [2]"
   ]
  },
  {
   "cell_type": "code",
   "execution_count": 6,
   "id": "bc3f82d6",
   "metadata": {},
   "outputs": [
    {
     "name": "stdout",
     "output_type": "stream",
     "text": [
      "[2, 4, 6, 8]\n",
      "[2, 4]\n",
      "[2]\n"
     ]
    }
   ],
   "source": [
    "def find_even_nums(n):\n",
    "    even =[x for x in range(2,n+1) if x % 2 == 0]  # use of list comprehensions , all even numbers from 1 to the given number\n",
    "    return even\n",
    "\n",
    "print(find_even_nums(8))\n",
    "print(find_even_nums(4))\n",
    "print(find_even_nums(2))"
   ]
  },
  {
   "cell_type": "markdown",
   "id": "40899084",
   "metadata": {},
   "source": []
  },
  {
   "cell_type": "markdown",
   "id": "7e0fb8b0",
   "metadata": {},
   "source": []
  },
  {
   "cell_type": "markdown",
   "id": "8ae46030",
   "metadata": {},
   "source": []
  },
  {
   "cell_type": "markdown",
   "id": "8f6660da",
   "metadata": {},
   "source": []
  }
 ],
 "metadata": {
  "kernelspec": {
   "display_name": "Python 3 (ipykernel)",
   "language": "python",
   "name": "python3"
  },
  "language_info": {
   "codemirror_mode": {
    "name": "ipython",
    "version": 3
   },
   "file_extension": ".py",
   "mimetype": "text/x-python",
   "name": "python",
   "nbconvert_exporter": "python",
   "pygments_lexer": "ipython3",
   "version": "3.9.13"
  }
 },
 "nbformat": 4,
 "nbformat_minor": 5
}
