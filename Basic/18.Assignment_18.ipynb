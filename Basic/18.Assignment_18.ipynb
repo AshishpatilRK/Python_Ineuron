{
 "cells": [
  {
   "cell_type": "markdown",
   "id": "12bf68dd",
   "metadata": {},
   "source": [
    "# Assignment_18"
   ]
  },
  {
   "cell_type": "markdown",
   "id": "40a53763",
   "metadata": {},
   "source": [
    "### Q1. Create a zoo.py file first. Define the hours() function, which prints the string &#39;Open 9-5 daily&#39;. Then, use the interactive interpreter to import the zoo module and call its hours() function."
   ]
  },
  {
   "cell_type": "markdown",
   "id": "6ea69834",
   "metadata": {},
   "source": [
    "**Ans :**"
   ]
  },
  {
   "cell_type": "code",
   "execution_count": 1,
   "id": "808f9aba",
   "metadata": {},
   "outputs": [
    {
     "name": "stdout",
     "output_type": "stream",
     "text": [
      "Open 9-5 daily\n"
     ]
    }
   ],
   "source": [
    "import zoo\n",
    "zoo.hours()"
   ]
  },
  {
   "cell_type": "markdown",
   "id": "a549c438",
   "metadata": {},
   "source": [
    "### Q2. In the interactive interpreter, import the zoo module as menagerie and call its hours() function."
   ]
  },
  {
   "cell_type": "markdown",
   "id": "668ba50e",
   "metadata": {},
   "source": [
    "**Ans :**"
   ]
  },
  {
   "cell_type": "code",
   "execution_count": 2,
   "id": "7d46a2f1",
   "metadata": {},
   "outputs": [
    {
     "name": "stdout",
     "output_type": "stream",
     "text": [
      "Open 9-5 daily\n"
     ]
    }
   ],
   "source": [
    "import zoo as managerie\n",
    "managerie.hours()"
   ]
  },
  {
   "cell_type": "markdown",
   "id": "5de3a426",
   "metadata": {},
   "source": [
    "### Q3. Using the interpreter, explicitly import and call the hours() function from zoo."
   ]
  },
  {
   "cell_type": "markdown",
   "id": "505de73b",
   "metadata": {},
   "source": [
    "**Ans :**"
   ]
  },
  {
   "cell_type": "code",
   "execution_count": 3,
   "id": "b30b6e22",
   "metadata": {},
   "outputs": [
    {
     "name": "stdout",
     "output_type": "stream",
     "text": [
      "Open 9-5 daily\n"
     ]
    }
   ],
   "source": [
    "from zoo import hours\n",
    "hours()"
   ]
  },
  {
   "cell_type": "markdown",
   "id": "ef83a7fb",
   "metadata": {},
   "source": [
    "### Q4. Import the hours() function as info and call it."
   ]
  },
  {
   "cell_type": "markdown",
   "id": "def431e4",
   "metadata": {},
   "source": [
    "**Ans :**"
   ]
  },
  {
   "cell_type": "code",
   "execution_count": 4,
   "id": "955fb6a7",
   "metadata": {},
   "outputs": [
    {
     "name": "stdout",
     "output_type": "stream",
     "text": [
      "Open 9-5 daily\n"
     ]
    }
   ],
   "source": [
    "from zoo import hours as info\n",
    "info()"
   ]
  },
  {
   "cell_type": "markdown",
   "id": "7f5ed964",
   "metadata": {},
   "source": [
    "### Q5. Create a plain dictionary with the key-value pairs &#39;a&#39;: 1, &#39;b&#39;: 2, and &#39;c&#39;: 3, and print it out."
   ]
  },
  {
   "cell_type": "markdown",
   "id": "b980c12c",
   "metadata": {},
   "source": [
    "**Ans :**"
   ]
  },
  {
   "cell_type": "code",
   "execution_count": 5,
   "id": "5f81e459",
   "metadata": {},
   "outputs": [
    {
     "name": "stdout",
     "output_type": "stream",
     "text": [
      "{'a': 1, 'b': 2, 'c': 3}\n"
     ]
    }
   ],
   "source": [
    "plain = {'a': 1, 'b': 2, 'c': 3}\n",
    "print(plain)"
   ]
  },
  {
   "cell_type": "markdown",
   "id": "6882722a",
   "metadata": {},
   "source": [
    "### Q6.Make an OrderedDict called fancy from the same pairs listed in 5 and print it. Did it print in thesame order as plain?"
   ]
  },
  {
   "cell_type": "markdown",
   "id": "6000e6b3",
   "metadata": {},
   "source": [
    "**Ans :**"
   ]
  },
  {
   "cell_type": "code",
   "execution_count": 6,
   "id": "341766c8",
   "metadata": {},
   "outputs": [
    {
     "name": "stdout",
     "output_type": "stream",
     "text": [
      "OrderedDict([('a', 1), ('b', 2), ('c', 3)])\n"
     ]
    }
   ],
   "source": [
    "from collections import OrderedDict\n",
    "\n",
    "fancy = OrderedDict()\n",
    "fancy['a'] = 1\n",
    "fancy['b'] = 2\n",
    "fancy['c'] = 3\n",
    "\n",
    "print(fancy)"
   ]
  },
  {
   "cell_type": "markdown",
   "id": "05ef2e6a",
   "metadata": {},
   "source": [
    "### Q7. Make a default dictionary called dict_of_lists and pass it the argument list. Make the list dict_of_lists[&#39;a&#39;] and append the value &#39;something for a&#39; to it in one assignment. Print dict_of_lists[&#39;a&#39;]."
   ]
  },
  {
   "cell_type": "markdown",
   "id": "2597aed5",
   "metadata": {},
   "source": [
    "**Ans :**"
   ]
  },
  {
   "cell_type": "code",
   "execution_count": 7,
   "id": "8572bde4",
   "metadata": {},
   "outputs": [
    {
     "data": {
      "text/plain": [
       "['something for a']"
      ]
     },
     "execution_count": 7,
     "metadata": {},
     "output_type": "execute_result"
    }
   ],
   "source": [
    "from collections import defaultdict\n",
    "dict_of_lists = defaultdict(list)  #a default dictionary \n",
    "dict_of_lists['a'].append('something for a')   # append the value 'something for a' \n",
    "dict_of_lists['a']"
   ]
  },
  {
   "cell_type": "markdown",
   "id": "8d2183af",
   "metadata": {},
   "source": []
  },
  {
   "cell_type": "markdown",
   "id": "08b03212",
   "metadata": {},
   "source": []
  },
  {
   "cell_type": "markdown",
   "id": "1f5e7277",
   "metadata": {},
   "source": []
  },
  {
   "cell_type": "markdown",
   "id": "11ce7e33",
   "metadata": {},
   "source": []
  },
  {
   "cell_type": "markdown",
   "id": "b4b577ad",
   "metadata": {},
   "source": []
  },
  {
   "cell_type": "markdown",
   "id": "450d1cb4",
   "metadata": {},
   "source": []
  }
 ],
 "metadata": {
  "kernelspec": {
   "display_name": "Python 3 (ipykernel)",
   "language": "python",
   "name": "python3"
  },
  "language_info": {
   "codemirror_mode": {
    "name": "ipython",
    "version": 3
   },
   "file_extension": ".py",
   "mimetype": "text/x-python",
   "name": "python",
   "nbconvert_exporter": "python",
   "pygments_lexer": "ipython3",
   "version": "3.9.13"
  }
 },
 "nbformat": 4,
 "nbformat_minor": 5
}
