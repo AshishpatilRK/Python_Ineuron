{
 "cells": [
  {
   "cell_type": "markdown",
   "id": "687fb723",
   "metadata": {},
   "source": [
    "# Assignment_2"
   ]
  },
  {
   "cell_type": "markdown",
   "id": "0ccff306",
   "metadata": {},
   "source": [
    "### Q 1. What are the two values of the Boolean data type? How do you write them?"
   ]
  },
  {
   "cell_type": "markdown",
   "id": "3be122e0",
   "metadata": {},
   "source": [
    "**Ans :**"
   ]
  },
  {
   "cell_type": "code",
   "execution_count": 1,
   "id": "b2314cf5",
   "metadata": {},
   "outputs": [
    {
     "name": "stdout",
     "output_type": "stream",
     "text": [
      "<class 'bool'>\n",
      "<class 'bool'>\n"
     ]
    }
   ],
   "source": [
    "# these are two values of of Boolean data type \n",
    "data = True\n",
    "info = False\n",
    "print(type(data))\n",
    "print(type(info))"
   ]
  },
  {
   "cell_type": "markdown",
   "id": "55d967e9",
   "metadata": {},
   "source": [
    "These are two type of boolean value (True,False)."
   ]
  },
  {
   "cell_type": "markdown",
   "id": "7a9967b8",
   "metadata": {},
   "source": [
    "### Q 2. What are the three different types of Boolean operators?"
   ]
  },
  {
   "cell_type": "markdown",
   "id": "8bf0b818",
   "metadata": {},
   "source": [
    "**Ans :**"
   ]
  },
  {
   "cell_type": "markdown",
   "id": "280c9787",
   "metadata": {},
   "source": [
    "Three different types of Boolean operators :"
   ]
  },
  {
   "cell_type": "markdown",
   "id": "1c76e964",
   "metadata": {},
   "source": [
    "1. The AND operator (&& or \"and\")\n",
    "2. The OR operator (|| or \"or\")\n",
    "3. The NOT operator (not)"
   ]
  },
  {
   "cell_type": "code",
   "execution_count": 2,
   "id": "554753d4",
   "metadata": {},
   "outputs": [
    {
     "name": "stdout",
     "output_type": "stream",
     "text": [
      "True\n",
      "True\n",
      "False\n"
     ]
    }
   ],
   "source": [
    "a=100\n",
    "b=200\n",
    "print(a>50 and b>100)     # Example of boolean and\n",
    "print(a>200 or b>100)      # Example of boolean or\n",
    "print(not(a>10))             # Example of boolean not"
   ]
  },
  {
   "cell_type": "markdown",
   "id": "7bf0ea36",
   "metadata": {},
   "source": [
    "### Q 3. Make a list of each Boolean operator's truth tables (i.e. every possible combination of Boolean values for the operator and what it evaluate ). "
   ]
  },
  {
   "cell_type": "markdown",
   "id": "fa730d47",
   "metadata": {},
   "source": [
    "**Ans :**"
   ]
  },
  {
   "cell_type": "markdown",
   "id": "41066e51",
   "metadata": {},
   "source": [
    "**AND Boolean Operator :**"
   ]
  },
  {
   "cell_type": "markdown",
   "id": "08365fa6",
   "metadata": {},
   "source": [
    "* True and True = True\n",
    "* True and False = False\n",
    "* False and True = False\n",
    "* False and False = False"
   ]
  },
  {
   "cell_type": "markdown",
   "id": "233f93ab",
   "metadata": {},
   "source": [
    "**OR Boolean Operator :**"
   ]
  },
  {
   "cell_type": "markdown",
   "id": "ed5bd262",
   "metadata": {},
   "source": [
    "* True or True = True\n",
    "* True or False = True\n",
    "* False or True = True\n",
    "* False or False = False"
   ]
  },
  {
   "cell_type": "markdown",
   "id": "6f985346",
   "metadata": {},
   "source": [
    "**NOT Boolean Operator :** "
   ]
  },
  {
   "cell_type": "markdown",
   "id": "92191ec8",
   "metadata": {},
   "source": [
    "* not(True) = False\n",
    "* not(False) = True"
   ]
  },
  {
   "cell_type": "markdown",
   "id": "b11549af",
   "metadata": {},
   "source": [
    "### Q 4. What are the values of the following expressions?\n",
    "**(5 > 4) and (3 == 5)**<br>\n",
    "**not (5 > 4)**<br>\n",
    "**(5 > 4) or (3 == 5)**<br>\n",
    "**not ((5 > 4) or (3 == 5))**<br>\n",
    "**(True and True) and (True == False)**<br>\n",
    "**(not False) or (not True)**<br>\n"
   ]
  },
  {
   "cell_type": "markdown",
   "id": "be126bf4",
   "metadata": {},
   "source": [
    "**Ans :**"
   ]
  },
  {
   "cell_type": "code",
   "execution_count": 3,
   "id": "7bfaac87",
   "metadata": {},
   "outputs": [
    {
     "name": "stdout",
     "output_type": "stream",
     "text": [
      "False\n"
     ]
    }
   ],
   "source": [
    "print((5 > 4) and (3 == 5)) "
   ]
  },
  {
   "cell_type": "code",
   "execution_count": 4,
   "id": "bb753f21",
   "metadata": {},
   "outputs": [
    {
     "name": "stdout",
     "output_type": "stream",
     "text": [
      "False\n"
     ]
    }
   ],
   "source": [
    "print(not(5 > 4))"
   ]
  },
  {
   "cell_type": "code",
   "execution_count": 5,
   "id": "7e6115b8",
   "metadata": {},
   "outputs": [
    {
     "name": "stdout",
     "output_type": "stream",
     "text": [
      "True\n"
     ]
    }
   ],
   "source": [
    "print((5 > 4) or (3 == 5))"
   ]
  },
  {
   "cell_type": "code",
   "execution_count": 6,
   "id": "3ef27274",
   "metadata": {},
   "outputs": [
    {
     "name": "stdout",
     "output_type": "stream",
     "text": [
      "False\n"
     ]
    }
   ],
   "source": [
    "print(not((5 > 4) or (3 == 5)))"
   ]
  },
  {
   "cell_type": "code",
   "execution_count": 7,
   "id": "793d2ffc",
   "metadata": {},
   "outputs": [
    {
     "name": "stdout",
     "output_type": "stream",
     "text": [
      "False\n"
     ]
    }
   ],
   "source": [
    "print((True and True) and (True == False))"
   ]
  },
  {
   "cell_type": "code",
   "execution_count": 8,
   "id": "3398bbe1",
   "metadata": {},
   "outputs": [
    {
     "name": "stdout",
     "output_type": "stream",
     "text": [
      "True\n"
     ]
    }
   ],
   "source": [
    "print((not False) or (not True))"
   ]
  },
  {
   "cell_type": "markdown",
   "id": "212f88de",
   "metadata": {},
   "source": [
    "### Q 5. What are the six comparison operators?"
   ]
  },
  {
   "cell_type": "markdown",
   "id": "65a3b4c8",
   "metadata": {},
   "source": [
    "**Ans :**"
   ]
  },
  {
   "cell_type": "markdown",
   "id": "b8fdae03",
   "metadata": {},
   "source": [
    "In Python, there are six types of comparison operators:\n",
    "\n",
    "1. Less than (<)\n",
    "2. Greater than (>)\n",
    "3. Less than or equal to (<=)\n",
    "4. Greater than or equal to (>=)\n",
    "5. Equal to (==)\n",
    "6. Not equal to (!=)"
   ]
  },
  {
   "cell_type": "markdown",
   "id": "32786117",
   "metadata": {},
   "source": [
    "###  Q 6. How do you tell the difference between the equal to and assignment operators? Describe a condition and when you would use one."
   ]
  },
  {
   "cell_type": "markdown",
   "id": "43f1b8e5",
   "metadata": {},
   "source": [
    "**Ans :**"
   ]
  },
  {
   "cell_type": "markdown",
   "id": "eb6c3e0a",
   "metadata": {},
   "source": [
    "**Assignment Operator('='):**<br> \n",
    "The “=” is an assignment operator used to assign the value on the right to the variable on the left. "
   ]
  },
  {
   "cell_type": "code",
   "execution_count": 9,
   "id": "807b7367",
   "metadata": {},
   "outputs": [],
   "source": [
    "a = 10\n",
    "b = 20\n",
    "ch = 'y'"
   ]
  },
  {
   "cell_type": "markdown",
   "id": "52da547c",
   "metadata": {},
   "source": [
    "**Equal to Operatoer ('=='):**<br>\n",
    "The ‘==’ operator checks whether the two given operands are equal or not. If so, it returns true. Otherwise it returns false."
   ]
  },
  {
   "cell_type": "code",
   "execution_count": 10,
   "id": "4cb8481e",
   "metadata": {},
   "outputs": [
    {
     "data": {
      "text/plain": [
       "True"
      ]
     },
     "execution_count": 10,
     "metadata": {},
     "output_type": "execute_result"
    }
   ],
   "source": [
    "5==5"
   ]
  },
  {
   "cell_type": "markdown",
   "id": "88a4c85c",
   "metadata": {},
   "source": [
    "| Assignment Operator | Equal to Operator |\n",
    "|-----|:-----|\n",
    "|It is used for assigning the value to a variable |It is used for comparing two values It returns 1 if both the values are equal otherwise returns 0.  |\n",
    "|Constant term cannot be placed on left hand side. Example: 1=x; is invalid|Constant term can be placed in the left hand side. Example: 1==1 is valid and returns 1|"
   ]
  },
  {
   "cell_type": "markdown",
   "id": "8c1efb34",
   "metadata": {},
   "source": [
    "### Q 7. Identify the three blocks in this code:<br>\n",
    "**spam = 0**<br>\n",
    "**if spam == 10:**<br>\n",
    "**print('eggs')**<br>\n",
    "**if spam > 5:**<br>\n",
    "**print('bacon')**<br>\n",
    "**else:**<br>\n",
    "**print('ham')**<br>\n",
    "**print('spam')**<br>\n",
    "**print('spam')**<br>\n"
   ]
  },
  {
   "cell_type": "markdown",
   "id": "d3bc2227",
   "metadata": {},
   "source": [
    "**Ans :**"
   ]
  },
  {
   "cell_type": "code",
   "execution_count": 11,
   "id": "44810c0d",
   "metadata": {},
   "outputs": [
    {
     "name": "stdout",
     "output_type": "stream",
     "text": [
      "ham\n",
      "spam\n",
      "spam\n"
     ]
    }
   ],
   "source": [
    "spam = 0\n",
    "if spam == 10:\n",
    "       print('eggs')          # This is 1st block\n",
    "if spam > 5:\n",
    "       print('bacon')         # This is 2nd block\n",
    "else:\n",
    "    print('ham')\n",
    "    print('spam')\n",
    "    print('spam')         # This is 3rd block\n"
   ]
  },
  {
   "cell_type": "markdown",
   "id": "dc704c52",
   "metadata": {},
   "source": [
    "A code block is a group of statements that will be run as a unit.<br>"
   ]
  },
  {
   "cell_type": "markdown",
   "id": "be31a4a6",
   "metadata": {},
   "source": [
    "if (condition):<br>\n",
    " Statement 1<br>\n",
    " Statement 2<br>\n",
    " Statement 3<br>\n",
    "else:<br>\n",
    " Statement 4<br>\n",
    " Statement 5<br>\n",
    " Statement 6<br>"
   ]
  },
  {
   "cell_type": "markdown",
   "id": "a6b2fed3",
   "metadata": {},
   "source": [
    "Statements 1,2,3 will have the same indentation and therefore is of the same block. And similarly, statements 4,5,6 is of a another block."
   ]
  },
  {
   "cell_type": "markdown",
   "id": "3c6c603a",
   "metadata": {},
   "source": [
    "### Q8. Write code that prints Hello if 1 is stored in spam, prints Howdy if 2 is stored in spam, and prints Greetings! if anything else is stored in spam."
   ]
  },
  {
   "cell_type": "markdown",
   "id": "b6e337ab",
   "metadata": {},
   "source": [
    "**Ans :**"
   ]
  },
  {
   "cell_type": "code",
   "execution_count": 15,
   "id": "49a698c9",
   "metadata": {},
   "outputs": [
    {
     "name": "stdout",
     "output_type": "stream",
     "text": [
      "Hello\n",
      "Howdy\n",
      "Greeting\n"
     ]
    }
   ],
   "source": [
    "def spam_f(spam):\n",
    "    if spam == 1:\n",
    "        print('Hello')            #prints Hello\n",
    "    elif spam == 2:              # if 2 is stored in spam\n",
    "        print('Howdy')            # prints Howdy\n",
    "    else:                          # if anything else is stored in spam.¶\n",
    "        print('Greeting')         #  prints Greetings\n",
    "spam_f(1)\n",
    "spam_f(2)\n",
    "spam_f(3)"
   ]
  },
  {
   "cell_type": "markdown",
   "id": "2ef52988",
   "metadata": {},
   "source": [
    "### Q 9.  If your programme is stuck in an endless loop, what keys you’ll press?"
   ]
  },
  {
   "cell_type": "markdown",
   "id": "3ee86977",
   "metadata": {},
   "source": [
    "**Ans :**"
   ]
  },
  {
   "cell_type": "markdown",
   "id": "eed4902a",
   "metadata": {},
   "source": [
    "We use **Ctrl-C** to stop a program stuck in an infinite loop"
   ]
  },
  {
   "cell_type": "markdown",
   "id": "de9f4969",
   "metadata": {},
   "source": [
    "### Q 10. How can you tell the difference between break and continue?"
   ]
  },
  {
   "cell_type": "markdown",
   "id": "f444b8d8",
   "metadata": {},
   "source": [
    "**Ans :**"
   ]
  },
  {
   "cell_type": "markdown",
   "id": "9a7524aa",
   "metadata": {},
   "source": [
    "|Break |Continue|\n",
    "|-----|:-----|\n",
    "|It terminates the execution of remaining iteration of the loop |It terminates only the current iteration of the loop  |\n",
    "|'break' resumes the control of the program to the end of loop enclosing that 'break'.|'continue' resumes the control of the program to the next iteration of that loop enclosing 'continue'|\n",
    "|It causes early termination of loop.| It causes early execution of the next iteration.|\n",
    "|'break' stops the continuation of loop.|'continue' do not stops the continuation of loop, it only stops the current iteration.|\n"
   ]
  },
  {
   "cell_type": "code",
   "execution_count": 16,
   "id": "92bc27a6",
   "metadata": {},
   "outputs": [
    {
     "name": "stdout",
     "output_type": "stream",
     "text": [
      "5 6 7 8 9 10 11 12 13 14 15 16 17 18 19 20 21 22 23 24 25 26 27 28 29 30 31 32 33 34 35 36 37 38 39 40 41 42 43 44 45 "
     ]
    }
   ],
   "source": [
    "i=0\n",
    "while(True):      # use while loop - use True to run endlessly\n",
    "    if i+1<5:     # i+1 less than 5\n",
    "        i=i+1\n",
    "        continue  # skip the value\n",
    "    print(i+1, end=\" \")   # # if i+1 is 5 or more then print - next values\n",
    "    if (i==44):   # if value of i equals to 44 \n",
    "        break    # then break the loop\n",
    "    i=i+1"
   ]
  },
  {
   "cell_type": "markdown",
   "id": "e824aa87",
   "metadata": {},
   "source": [
    "### Q 11. In a for loop, what is the difference between range(10), range(0, 10), and range(0, 10, 1)?"
   ]
  },
  {
   "cell_type": "markdown",
   "id": "3a7d1803",
   "metadata": {},
   "source": [
    "**Ans :**"
   ]
  },
  {
   "cell_type": "code",
   "execution_count": 17,
   "id": "87c0973f",
   "metadata": {},
   "outputs": [
    {
     "name": "stdout",
     "output_type": "stream",
     "text": [
      "0 1 2 3 4 5 6 7 8 9 "
     ]
    }
   ],
   "source": [
    "for i in range(10): # range start 0 end 9\n",
    "    print(i, end = \" \")"
   ]
  },
  {
   "cell_type": "code",
   "execution_count": 18,
   "id": "01a65aee",
   "metadata": {},
   "outputs": [
    {
     "name": "stdout",
     "output_type": "stream",
     "text": [
      "0 1 2 3 4 5 6 7 8 9 "
     ]
    }
   ],
   "source": [
    "for i in range(0, 10):  # range start 0 end 9\n",
    "    print(i, end = \" \")"
   ]
  },
  {
   "cell_type": "code",
   "execution_count": 19,
   "id": "8e35e9a9",
   "metadata": {},
   "outputs": [
    {
     "name": "stdout",
     "output_type": "stream",
     "text": [
      "0 1 2 3 4 5 6 7 8 9 "
     ]
    }
   ],
   "source": [
    "for i in range(0,10, 1): # range start 0 end 9\n",
    "    print(i, end = \" \")"
   ]
  },
  {
   "cell_type": "markdown",
   "id": "50c81465",
   "metadata": {},
   "source": [
    " There is **no difference** between range (10), range (0,10) and range (0,10,1).<br>\n",
    " Range function in Python takes 3 arguments and they are **initial value, final value and increment value.**"
   ]
  },
  {
   "cell_type": "markdown",
   "id": "3ed0e768",
   "metadata": {},
   "source": [
    "### Q 12. Write a short program that prints the numbers 1 to 10 using a for loop. Then write an equivalent program that prints the numbers 1 to 10 using a while loop."
   ]
  },
  {
   "cell_type": "markdown",
   "id": "73cbe88f",
   "metadata": {},
   "source": [
    "**Ans :**"
   ]
  },
  {
   "cell_type": "code",
   "execution_count": 20,
   "id": "fbed383e",
   "metadata": {},
   "outputs": [
    {
     "name": "stdout",
     "output_type": "stream",
     "text": [
      "1 2 3 4 5 6 7 8 9 10 "
     ]
    }
   ],
   "source": [
    "for i in range(1, 11):  # range start 1 end 10 using for loop\n",
    "    print(i, end = \" \")"
   ]
  },
  {
   "cell_type": "code",
   "execution_count": 21,
   "id": "80b27083",
   "metadata": {},
   "outputs": [
    {
     "name": "stdout",
     "output_type": "stream",
     "text": [
      "1 2 3 4 5 6 7 8 9 10 "
     ]
    }
   ],
   "source": [
    "c = 1   # initiate variable c equal to 1\n",
    "while c < 11:       # while loop run until c less than 11\n",
    "    print(c, end = \" \")  # then print c values\n",
    "    c += 1"
   ]
  },
  {
   "cell_type": "markdown",
   "id": "16c757fb",
   "metadata": {},
   "source": [
    "### Q 13. If you had a function named bacon() inside a module named spam, how would you call it after importing spam?"
   ]
  },
  {
   "cell_type": "markdown",
   "id": "466de01d",
   "metadata": {},
   "source": [
    "**Ans :**"
   ]
  },
  {
   "cell_type": "markdown",
   "id": "a06f6d67",
   "metadata": {},
   "source": [
    "import spam <br>\n",
    "a = spam.bacon()"
   ]
  },
  {
   "cell_type": "code",
   "execution_count": null,
   "id": "fc41d127",
   "metadata": {},
   "outputs": [],
   "source": []
  }
 ],
 "metadata": {
  "kernelspec": {
   "display_name": "Python 3 (ipykernel)",
   "language": "python",
   "name": "python3"
  },
  "language_info": {
   "codemirror_mode": {
    "name": "ipython",
    "version": 3
   },
   "file_extension": ".py",
   "mimetype": "text/x-python",
   "name": "python",
   "nbconvert_exporter": "python",
   "pygments_lexer": "ipython3",
   "version": "3.9.13"
  }
 },
 "nbformat": 4,
 "nbformat_minor": 5
}
