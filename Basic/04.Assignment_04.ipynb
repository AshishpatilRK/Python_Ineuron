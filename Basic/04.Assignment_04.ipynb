{
 "cells": [
  {
   "cell_type": "markdown",
   "id": "78d29340",
   "metadata": {},
   "source": [
    "# Assignment_4"
   ]
  },
  {
   "cell_type": "markdown",
   "id": "70e1ee5f",
   "metadata": {},
   "source": [
    "### Q 1. What exactly is [ ]?"
   ]
  },
  {
   "cell_type": "markdown",
   "id": "b02bbf8f",
   "metadata": {},
   "source": [
    "**Ans :**"
   ]
  },
  {
   "cell_type": "markdown",
   "id": "93e3ab91",
   "metadata": {},
   "source": [
    "* [  ] represents the empty list which doesnot contain any element in it.\n",
    "* We can insert any type of data inside the list.\n"
   ]
  },
  {
   "cell_type": "code",
   "execution_count": 1,
   "id": "ca225ff7",
   "metadata": {},
   "outputs": [
    {
     "name": "stdout",
     "output_type": "stream",
     "text": [
      "[]\n",
      "<class 'list'>\n"
     ]
    }
   ],
   "source": [
    "a = []\n",
    "print(a)\n",
    "print(type(a))"
   ]
  },
  {
   "cell_type": "markdown",
   "id": "4fa72665",
   "metadata": {},
   "source": [
    "### Q 2. In a list of values stored in a variable called spam, how would you assign the value 'hello' as the third value? (Assume [2, 4, 6, 8, 10] are in spam.)"
   ]
  },
  {
   "cell_type": "markdown",
   "id": "4b45b26f",
   "metadata": {},
   "source": [
    "**Ans :**"
   ]
  },
  {
   "cell_type": "code",
   "execution_count": 2,
   "id": "30f9a9c1",
   "metadata": {},
   "outputs": [
    {
     "name": "stdout",
     "output_type": "stream",
     "text": [
      "[2, 4, 6, 8, 10]\n",
      "[2, 4, 'hello', 8, 10]\n"
     ]
    }
   ],
   "source": [
    "spam =  [2, 4, 6, 8, 10] \n",
    "print(spam)    # print spam list\n",
    "spam[2] = 'hello'       #assign the value 'hello' as the third value \n",
    "print(spam)\n"
   ]
  },
  {
   "cell_type": "markdown",
   "id": "9b8e4347",
   "metadata": {},
   "source": [
    "#### OR"
   ]
  },
  {
   "cell_type": "code",
   "execution_count": 3,
   "id": "d40bd1ea",
   "metadata": {},
   "outputs": [
    {
     "name": "stdout",
     "output_type": "stream",
     "text": [
      "[2, 4, 6, 8, 10]\n",
      "[2, 4, 'hello', 6, 8, 10]\n"
     ]
    }
   ],
   "source": [
    "spam =  [2, 4, 6, 8, 10] \n",
    "print(spam)                 # print spam list\n",
    "spam.insert(2, 'hello')       #assign the value 'hello' as the third value\n",
    "print(spam)"
   ]
  },
  {
   "cell_type": "markdown",
   "id": "fc33efe6",
   "metadata": {},
   "source": [
    "### Let's pretend the spam includes the list ['a', 'b', 'c', 'd'] for the next three queries"
   ]
  },
  {
   "cell_type": "code",
   "execution_count": 4,
   "id": "bfbdfa9f",
   "metadata": {},
   "outputs": [],
   "source": [
    "spam = ['a', 'b', 'c', 'd']"
   ]
  },
  {
   "cell_type": "markdown",
   "id": "f69ba724",
   "metadata": {},
   "source": [
    "### Q 3. What is the value of spam[int(int('3' * 2) / 11)]?"
   ]
  },
  {
   "cell_type": "markdown",
   "id": "edb8e68c",
   "metadata": {},
   "source": [
    "**Ans :**"
   ]
  },
  {
   "cell_type": "code",
   "execution_count": 5,
   "id": "587106e9",
   "metadata": {},
   "outputs": [
    {
     "data": {
      "text/plain": [
       "'d'"
      ]
     },
     "execution_count": 5,
     "metadata": {},
     "output_type": "execute_result"
    }
   ],
   "source": [
    "spam[int(int('3' * 2) / 11)]            # here , spam[int('33')/ 11]  --> spam[33 / 11]\n",
    "                                        #        spam[3] --> 'd'"
   ]
  },
  {
   "cell_type": "markdown",
   "id": "9ca279e9",
   "metadata": {},
   "source": [
    "### Q 4. What is the value of spam[-1]?"
   ]
  },
  {
   "cell_type": "markdown",
   "id": "8347e371",
   "metadata": {},
   "source": [
    "**Ans :**"
   ]
  },
  {
   "cell_type": "code",
   "execution_count": 6,
   "id": "ef62574f",
   "metadata": {},
   "outputs": [
    {
     "data": {
      "text/plain": [
       "'d'"
      ]
     },
     "execution_count": 6,
     "metadata": {},
     "output_type": "execute_result"
    }
   ],
   "source": [
    "spam = ['a', 'b', 'c', 'd']\n",
    "spam[-1]        # gives last value of list"
   ]
  },
  {
   "cell_type": "markdown",
   "id": "d3262f06",
   "metadata": {},
   "source": [
    "### Q 5. What is the value of spam[:2]?"
   ]
  },
  {
   "cell_type": "markdown",
   "id": "1f816715",
   "metadata": {},
   "source": [
    "**Ans :**"
   ]
  },
  {
   "cell_type": "code",
   "execution_count": 7,
   "id": "1116390a",
   "metadata": {},
   "outputs": [
    {
     "data": {
      "text/plain": [
       "['a', 'b']"
      ]
     },
     "execution_count": 7,
     "metadata": {},
     "output_type": "execute_result"
    }
   ],
   "source": [
    "spam = ['a', 'b', 'c', 'd']\n",
    "spam[:2]   # start from 0 to 1 index "
   ]
  },
  {
   "cell_type": "markdown",
   "id": "ce4484df",
   "metadata": {},
   "source": [
    "### Let's pretend bacon has the list [3.14, 'cat,' 11, 'cat,' True] for the next three questions."
   ]
  },
  {
   "cell_type": "code",
   "execution_count": 8,
   "id": "214d074c",
   "metadata": {},
   "outputs": [],
   "source": [
    "bacon = [3.14, 'cat', 11, 'cat', True]"
   ]
  },
  {
   "cell_type": "markdown",
   "id": "0380d768",
   "metadata": {},
   "source": [
    "### Q 6. What is the value of bacon.index('cat')?"
   ]
  },
  {
   "cell_type": "markdown",
   "id": "cd52df9e",
   "metadata": {},
   "source": [
    "**Ans :**"
   ]
  },
  {
   "cell_type": "code",
   "execution_count": 9,
   "id": "2abe0716",
   "metadata": {},
   "outputs": [
    {
     "data": {
      "text/plain": [
       "1"
      ]
     },
     "execution_count": 9,
     "metadata": {},
     "output_type": "execute_result"
    }
   ],
   "source": [
    "bacon = [3.14, 'cat', 11, 'cat', True]\n",
    "bacon.index('cat')   # give index of 'cat' value"
   ]
  },
  {
   "cell_type": "markdown",
   "id": "eaa70ecb",
   "metadata": {},
   "source": [
    "### Q 7. How does bacon.append(99) change the look of the list value in bacon?"
   ]
  },
  {
   "cell_type": "markdown",
   "id": "7e163160",
   "metadata": {},
   "source": [
    "**Ans :**"
   ]
  },
  {
   "cell_type": "code",
   "execution_count": 10,
   "id": "db249eda",
   "metadata": {},
   "outputs": [
    {
     "name": "stdout",
     "output_type": "stream",
     "text": [
      "[3.14, 'cat', 11, 'cat', True, 99]\n"
     ]
    }
   ],
   "source": [
    "bacon = [3.14, 'cat', 11, 'cat', True]\n",
    "bacon.append(99)     # add/append 99 at end of list\n",
    "print(bacon)"
   ]
  },
  {
   "cell_type": "markdown",
   "id": "21710436",
   "metadata": {},
   "source": [
    "### Q 8. How does bacon.remove('cat') change the look of the list in bacon?"
   ]
  },
  {
   "attachments": {},
   "cell_type": "markdown",
   "id": "adc56fd0",
   "metadata": {},
   "source": [
    "**Ans :**"
   ]
  },
  {
   "cell_type": "code",
   "execution_count": 11,
   "id": "50dddccf",
   "metadata": {},
   "outputs": [
    {
     "name": "stdout",
     "output_type": "stream",
     "text": [
      "[3.14, 11, 'cat', True]\n"
     ]
    }
   ],
   "source": [
    "bacon = [3.14, 'cat', 11, 'cat', True]\n",
    "bacon.remove('cat') #The remove method removes the first occurence of the element in the list\n",
    "print(bacon)"
   ]
  },
  {
   "cell_type": "markdown",
   "id": "a3de15d4",
   "metadata": {},
   "source": [
    "### Q 9. What are the list concatenation and list replication operators?"
   ]
  },
  {
   "cell_type": "markdown",
   "id": "bf3256ca",
   "metadata": {},
   "source": [
    "**Ans :**"
   ]
  },
  {
   "cell_type": "markdown",
   "id": "7c10bd19",
   "metadata": {},
   "source": [
    "list concatination operator is   +<br>\n",
    "list replication operatotor is    * \n"
   ]
  },
  {
   "cell_type": "code",
   "execution_count": 12,
   "id": "e253a8aa",
   "metadata": {},
   "outputs": [
    {
     "data": {
      "text/plain": [
       "[1, 3, 7, 9]"
      ]
     },
     "execution_count": 12,
     "metadata": {},
     "output_type": "execute_result"
    }
   ],
   "source": [
    "l1 = [1,3]\n",
    "l2 = [7,9]\n",
    "# list concatination - It will concatenate two list and it will give result as single result.\n",
    "l1+l2"
   ]
  },
  {
   "cell_type": "code",
   "execution_count": 13,
   "id": "a6dea729",
   "metadata": {},
   "outputs": [
    {
     "data": {
      "text/plain": [
       "[1, 3, 1, 3, 1, 3]"
      ]
     },
     "execution_count": 13,
     "metadata": {},
     "output_type": "execute_result"
    }
   ],
   "source": [
    "l1 = [1,3]\n",
    "\n",
    "# list replication  - It will replicate a list n times by using this operator and will give a single list as a output.\n",
    "l1*3"
   ]
  },
  {
   "cell_type": "markdown",
   "id": "08ccbd4a",
   "metadata": {},
   "source": [
    "### Q 10. What is difference between the list methods append() and insert()?"
   ]
  },
  {
   "cell_type": "markdown",
   "id": "470556a3",
   "metadata": {},
   "source": [
    "**Ans :**"
   ]
  },
  {
   "cell_type": "markdown",
   "id": "d27aac2e",
   "metadata": {},
   "source": [
    "Append() -  This command insert the data at the end of the list."
   ]
  },
  {
   "cell_type": "code",
   "execution_count": 14,
   "id": "20e2cff7",
   "metadata": {},
   "outputs": [
    {
     "name": "stdout",
     "output_type": "stream",
     "text": [
      "[1, 2, 3, 4, 5, 89]\n"
     ]
    }
   ],
   "source": [
    "l = [1,2,3,4,5]\n",
    "l.append(89)\n",
    "print(l)"
   ]
  },
  {
   "cell_type": "markdown",
   "id": "541526f2",
   "metadata": {},
   "source": [
    "Insert() - This command insert the data at given index number."
   ]
  },
  {
   "cell_type": "code",
   "execution_count": 15,
   "id": "3ccd491e",
   "metadata": {},
   "outputs": [
    {
     "data": {
      "text/plain": [
       "[1, 2, 3, 65, 4, 5]"
      ]
     },
     "execution_count": 15,
     "metadata": {},
     "output_type": "execute_result"
    }
   ],
   "source": [
    "l = [1,2,3,4,5]\n",
    "l.insert(3, 65)\n",
    "l   "
   ]
  },
  {
   "cell_type": "markdown",
   "id": "dada73a6",
   "metadata": {},
   "source": [
    "### Q 11. What are the two methods for removing items from a list?"
   ]
  },
  {
   "cell_type": "markdown",
   "id": "ce650bb5",
   "metadata": {},
   "source": [
    "**Ans :**"
   ]
  },
  {
   "cell_type": "markdown",
   "id": "d4c976fb",
   "metadata": {},
   "source": [
    "* list.remove() - Remove first item matching a value.\n",
    "* list.pop() - Remove an item at an index position and returns it.\n",
    "* del statement - Remove an item at an index position and does not return it.\n",
    "* list.clear() - removes all items from python list"
   ]
  },
  {
   "cell_type": "code",
   "execution_count": 16,
   "id": "f2966308",
   "metadata": {},
   "outputs": [
    {
     "name": "stdout",
     "output_type": "stream",
     "text": [
      "['datagy', 2, 3, 'datagy', 1]\n"
     ]
    }
   ],
   "source": [
    "# Remove a list item by value using .remove()\n",
    "values = ['datagy', 1, 2, 3, 'datagy', 1]\n",
    "values.remove(1)\n",
    "\n",
    "print(values)"
   ]
  },
  {
   "cell_type": "code",
   "execution_count": 17,
   "id": "6109986d",
   "metadata": {},
   "outputs": [
    {
     "name": "stdout",
     "output_type": "stream",
     "text": [
      "[1, 2, 3]\n"
     ]
    }
   ],
   "source": [
    "# Remove all list items by value using .remove() \n",
    "values = ['datagy', 1, 2, 3, 'datagy']\n",
    "while 'datagy' in values:\n",
    "    values.remove('datagy')\n",
    "print(values)"
   ]
  },
  {
   "cell_type": "code",
   "execution_count": 18,
   "id": "84bf54b7",
   "metadata": {},
   "outputs": [
    {
     "name": "stdout",
     "output_type": "stream",
     "text": [
      "['datagy', 1, 2, 3]\n"
     ]
    }
   ],
   "source": [
    "# Remove a list item by position using .pop()\n",
    "values = ['datagy', 1, 2, 3, 'datagy']\n",
    "values.pop()\n",
    "print(values)\n",
    "\n",
    "# Returns: [1, 2, 3, 'datagy']"
   ]
  },
  {
   "cell_type": "code",
   "execution_count": 19,
   "id": "9628aa09",
   "metadata": {},
   "outputs": [
    {
     "name": "stdout",
     "output_type": "stream",
     "text": [
      "datagy\n",
      "[1, 2, 3, 'datagy']\n"
     ]
    }
   ],
   "source": [
    "# Remove a list item by position using .pop()\n",
    "values = ['datagy', 1, 2, 3, 'datagy']\n",
    "items = values.pop(0)\n",
    "print(items)\n",
    "print(values)\n"
   ]
  },
  {
   "cell_type": "code",
   "execution_count": 20,
   "id": "90ee333d",
   "metadata": {},
   "outputs": [
    {
     "name": "stdout",
     "output_type": "stream",
     "text": [
      "[1, 2, 3, 'datagy']\n"
     ]
    }
   ],
   "source": [
    "# Remove list items by value using del \n",
    "values = ['datagy', 1, 2, 3, 'datagy']\n",
    "del values[0]\n",
    "print(values)"
   ]
  },
  {
   "cell_type": "code",
   "execution_count": 21,
   "id": "d6747d0c",
   "metadata": {},
   "outputs": [
    {
     "name": "stdout",
     "output_type": "stream",
     "text": [
      "['datagy', 3, 'datagy']\n"
     ]
    }
   ],
   "source": [
    "values = ['datagy', 1, 2, 3, 'datagy']\n",
    "del values[1:3]\n",
    "print(values)"
   ]
  },
  {
   "cell_type": "code",
   "execution_count": 22,
   "id": "54b07048",
   "metadata": {},
   "outputs": [
    {
     "name": "stdout",
     "output_type": "stream",
     "text": [
      "[]\n"
     ]
    }
   ],
   "source": [
    "# Clear an Entire list in Python\n",
    "values = ['datagy', 1, 2, 3, 'datagy']\n",
    "\n",
    "values.clear()\n",
    "print(values)\n"
   ]
  },
  {
   "cell_type": "markdown",
   "id": "b8483ff1",
   "metadata": {},
   "source": [
    "### Q 12. Describe how list values and string values are identical."
   ]
  },
  {
   "cell_type": "markdown",
   "id": "7dbf2272",
   "metadata": {},
   "source": [
    "**Ans :**"
   ]
  },
  {
   "cell_type": "markdown",
   "id": "2b643c27",
   "metadata": {},
   "source": [
    "* Strings and List is that in Python both are **sequences.** A string is a character's sequence between single or double quotations. A list is an item sequence in which each item could be anything such as a float, an integer, a string, etc\n",
    "* Strings and Lists is that both strings and lists have **lengths.** A length of a string is the number of characters in the string and a length of a list is the number of items in the list.\n",
    "* Strings and Lists is that both strings and lists have a **position.** Every character in a string as well as every item in a list has a position which is known as an **index.**\n",
    "* Strings and Lists is that both strings and lists can be used in **for loops.**\n",
    "* Strings and Lists is that both strings and lists can be **concatenated or replicated.**\n",
    "* Strings and Lists is that both strings and lists can be used with the **in and not in operators.**"
   ]
  },
  {
   "cell_type": "markdown",
   "id": "bdee8979",
   "metadata": {},
   "source": [
    "### Q 13. What's the difference between tuples and lists?"
   ]
  },
  {
   "cell_type": "markdown",
   "id": "38def133",
   "metadata": {},
   "source": [
    "**Ans :**"
   ]
  },
  {
   "cell_type": "markdown",
   "id": "ebdbfa5c",
   "metadata": {},
   "source": [
    "|No. |lists|Tuples  | \n",
    "|-----|:-----|:---:|\n",
    "|1 |Lists are created using squared bracket- [] to store multiple values in a single variable. Ex. v = ['bat', 1, 12.5].|Tuples are created using round bracket- () to store multiple values in a single variable. Ex. v = ('bat', 1, 12.5).   |\n",
    "|2|Lists are mutable.|Tuples are immutable. |\n",
    "|3|Lists are slower than Tuples.|Tuples are faster than Tuples. |"
   ]
  },
  {
   "cell_type": "markdown",
   "id": "a486df77",
   "metadata": {},
   "source": [
    "### Q 14. How do you type a tuple value that only contains the integer 42?"
   ]
  },
  {
   "cell_type": "markdown",
   "id": "e16c6138",
   "metadata": {},
   "source": [
    "**Ans :**"
   ]
  },
  {
   "cell_type": "code",
   "execution_count": 23,
   "id": "f6b3682e",
   "metadata": {},
   "outputs": [
    {
     "name": "stdout",
     "output_type": "stream",
     "text": [
      "(42,)\n",
      "<class 'tuple'>\n"
     ]
    }
   ],
   "source": [
    "a = (42,)\n",
    "print(a)\n",
    "print(type(a))"
   ]
  },
  {
   "cell_type": "markdown",
   "id": "6a84d311",
   "metadata": {},
   "source": [
    "### Q 15. How do you get a list value's tuple form? How do you get a tuple value's list form?"
   ]
  },
  {
   "cell_type": "markdown",
   "id": "bb3a5c1b",
   "metadata": {},
   "source": [
    "**Ans :**"
   ]
  },
  {
   "cell_type": "code",
   "execution_count": 24,
   "id": "0659a3c6",
   "metadata": {},
   "outputs": [
    {
     "name": "stdout",
     "output_type": "stream",
     "text": [
      "(1, 3, 6, 8, 9)\n"
     ]
    }
   ],
   "source": [
    "lis = [1,3,6,8,9]\n",
    "tup = tuple(lis)    # use tuple() function to convert list to tuple\n",
    "print(tup)"
   ]
  },
  {
   "cell_type": "code",
   "execution_count": 25,
   "id": "9dab6e55",
   "metadata": {},
   "outputs": [
    {
     "name": "stdout",
     "output_type": "stream",
     "text": [
      "[1, 3, 6, 8, 9]\n"
     ]
    }
   ],
   "source": [
    "tup = (1,3,6,8,9)\n",
    "lis = list(tup)  # use list() function to convert tuple to list\n",
    "print(lis)"
   ]
  },
  {
   "cell_type": "markdown",
   "id": "f39458fc",
   "metadata": {},
   "source": [
    "### Q 16. Variables that \"contain\" list values are not necessarily lists themselves. Instead, what do they contain?"
   ]
  },
  {
   "cell_type": "markdown",
   "id": "b4647bf8",
   "metadata": {},
   "source": [
    "**Ans :**"
   ]
  },
  {
   "cell_type": "markdown",
   "id": "21bc35a1",
   "metadata": {},
   "source": [
    "They contain references to all the list values and may contain int, str, tuple, float and etc."
   ]
  },
  {
   "cell_type": "markdown",
   "id": "9347babd",
   "metadata": {},
   "source": [
    "### Q 17. How do you distinguish between copy.copy() and copy.deepcopy()?"
   ]
  },
  {
   "cell_type": "markdown",
   "id": "c6ae5991",
   "metadata": {},
   "source": [
    "**Ans :**"
   ]
  },
  {
   "cell_type": "markdown",
   "id": "a9bd2932",
   "metadata": {},
   "source": [
    "* **Shallow copy means copy.copy()**, a reference of an object is copied into another object. It means that **any changes made to a copy of an object do reflect in the original object.** In python, this is implemented using the **“copy()”** function. "
   ]
  },
  {
   "cell_type": "code",
   "execution_count": 26,
   "id": "63317355",
   "metadata": {},
   "outputs": [
    {
     "name": "stdout",
     "output_type": "stream",
     "text": [
      "The original elements before shallow copying\n",
      "1 2 [3, 5] 4 \r\n",
      "The original elements after shallow copying\n",
      "1 2 [7, 5] 4 "
     ]
    }
   ],
   "source": [
    "import copy\n",
    " \n",
    "# initializing list 1\n",
    "li1 = [1, 2, [3,5], 4]\n",
    " \n",
    "# using copy to shallow copy\n",
    "li2 = copy.copy(li1)\n",
    " \n",
    "# original elements of list\n",
    "print (\"The original elements before shallow copying\")\n",
    "for i in range(0,len(li1)):\n",
    "    print (li1[i],end=\" \")\n",
    " \n",
    "print(\"\\r\")\n",
    " \n",
    "# adding and element to new list\n",
    "li2[2][0] = 7\n",
    " \n",
    "# checking if change is reflected\n",
    "print (\"The original elements after shallow copying\")\n",
    "for i in range(0,len( li1)):\n",
    "    print (li1[i],end=\" \")"
   ]
  },
  {
   "cell_type": "markdown",
   "id": "4876703e",
   "metadata": {},
   "source": [
    "* **Deep copy means means copy.copy()** a copy of the object is copied into another object. It means that any **changes made to a copy of the object do not reflect in the original object.** "
   ]
  },
  {
   "cell_type": "code",
   "execution_count": 27,
   "id": "bda6603a",
   "metadata": {},
   "outputs": [
    {
     "name": "stdout",
     "output_type": "stream",
     "text": [
      "The original elements before deep copying\n",
      "1 2 [3, 5] 4 \r\n",
      "The new list of elements after deep copying \n",
      "1 2 [7, 5] 4 \r\n",
      "The original elements after deep copying\n",
      "1 2 [3, 5] 4 "
     ]
    }
   ],
   "source": [
    "import copy\n",
    " \n",
    "# initializing list 1\n",
    "li1 = [1, 2, [3,5], 4]\n",
    " \n",
    "# using deepcopy to deep copy\n",
    "li2 = copy.deepcopy(li1)\n",
    " \n",
    "# original elements of list\n",
    "print (\"The original elements before deep copying\")\n",
    "for i in range(0,len(li1)):\n",
    "    print (li1[i],end=\" \")\n",
    " \n",
    "print(\"\\r\")\n",
    " \n",
    "# adding and element to new list\n",
    "li2[2][0] = 7\n",
    " \n",
    "# Change is reflected in l2\n",
    "print (\"The new list of elements after deep copying \")\n",
    "for i in range(0,len( li1)):\n",
    "    print (li2[i],end=\" \")\n",
    " \n",
    "print(\"\\r\")\n",
    " \n",
    "# Change is NOT reflected in original list\n",
    "# as it is a deep copy\n",
    "print (\"The original elements after deep copying\")\n",
    "for i in range(0,len( li1)):\n",
    "    print (li1[i],end=\" \")"
   ]
  },
  {
   "cell_type": "code",
   "execution_count": null,
   "id": "5beed23a",
   "metadata": {},
   "outputs": [],
   "source": []
  }
 ],
 "metadata": {
  "kernelspec": {
   "display_name": "Python 3 (ipykernel)",
   "language": "python",
   "name": "python3"
  },
  "language_info": {
   "codemirror_mode": {
    "name": "ipython",
    "version": 3
   },
   "file_extension": ".py",
   "mimetype": "text/x-python",
   "name": "python",
   "nbconvert_exporter": "python",
   "pygments_lexer": "ipython3",
   "version": "3.9.13"
  }
 },
 "nbformat": 4,
 "nbformat_minor": 5
}
