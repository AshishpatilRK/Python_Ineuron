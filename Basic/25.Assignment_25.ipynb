{
 "cells": [
  {
   "cell_type": "markdown",
   "id": "5a85a71f",
   "metadata": {},
   "source": [
    "# Assignment_25"
   ]
  },
  {
   "cell_type": "markdown",
   "id": "2a9237a6",
   "metadata": {},
   "source": [
    "### Q1) . What is the difference between enclosing a list comprehension in square brackets and parentheses?"
   ]
  },
  {
   "cell_type": "markdown",
   "id": "7adef5c9",
   "metadata": {},
   "source": [
    "**Ans**"
   ]
  },
  {
   "cell_type": "markdown",
   "id": "a25dd24b",
   "metadata": {},
   "source": [
    "* When we do List comprehension in square brackets, it produces a list object as the output.\n",
    "* List comprehension in oval parenthesis () produces a generator object."
   ]
  },
  {
   "cell_type": "code",
   "execution_count": 1,
   "id": "0f6d6d9f",
   "metadata": {},
   "outputs": [
    {
     "name": "stdout",
     "output_type": "stream",
     "text": [
      "<class 'list'>\n"
     ]
    }
   ],
   "source": [
    "l = [i for i in range(10)]\n",
    "print(type(l))"
   ]
  },
  {
   "cell_type": "code",
   "execution_count": 2,
   "id": "47c3c45b",
   "metadata": {},
   "outputs": [
    {
     "name": "stdout",
     "output_type": "stream",
     "text": [
      "<class 'generator'>\n"
     ]
    }
   ],
   "source": [
    "l3 = (i for i in range(10))\n",
    "print(type(l3))"
   ]
  },
  {
   "cell_type": "markdown",
   "id": "52a40a39",
   "metadata": {},
   "source": [
    "### Q2) What is the relationship between generators and iterators?"
   ]
  },
  {
   "cell_type": "markdown",
   "id": "b2c12907",
   "metadata": {},
   "source": [
    "**Ans**"
   ]
  },
  {
   "cell_type": "markdown",
   "id": "17fe8089",
   "metadata": {},
   "source": [
    "* Iterator<br>\n",
    "       * An iterator is an object which contains a countable number of values and it is used to iterate over iterable objects like list, tuples etc.<br>\n",
    "       * Using an iterator<br>\n",
    "       *  iter() keyword is used to create an iterator containing an iterable object.<br>\n",
    "       *  next() keyword is used to call the next element in the iterable object.<br>\n",
    "\n",
    "* Generator<br>\n",
    "       * It is another way of creating iterators in a simple way where it uses the keyword “yield” instead of returning it in a defined function<br>\n",
    "       * Generators are implemented using a function<br>\n",
    "       * Here, the yield function returns the data without affecting or exiting the function.<br> \n",
    "       * It will return a sequence of data in an iterable format where we need to iterate over the sequence to use the data as they won’t store the entire sequence in the memory<br>\n",
    "        By using next() function we can iterate the output of generator function<br>"
   ]
  },
  {
   "cell_type": "code",
   "execution_count": 3,
   "id": "141397c2",
   "metadata": {},
   "outputs": [
    {
     "name": "stdout",
     "output_type": "stream",
     "text": [
      "Apple\n",
      "Orange\n",
      "Banana\n"
     ]
    }
   ],
   "source": [
    "# iterator\n",
    "iter_list = iter(['Apple', 'Orange', 'Banana'])\n",
    "print(next(iter_list))\n",
    "print(next(iter_list))\n",
    "print(next(iter_list))"
   ]
  },
  {
   "cell_type": "code",
   "execution_count": 4,
   "id": "e8d5ab4a",
   "metadata": {},
   "outputs": [],
   "source": [
    "# GEnerator \n",
    "\n",
    "def sq_numbers(n):\n",
    "    for i in range(1, n+1):\n",
    "        yield i*i"
   ]
  },
  {
   "cell_type": "code",
   "execution_count": 5,
   "id": "ffc98688",
   "metadata": {},
   "outputs": [
    {
     "data": {
      "text/plain": [
       "<generator object sq_numbers at 0x0000020A9C0720B0>"
      ]
     },
     "execution_count": 5,
     "metadata": {},
     "output_type": "execute_result"
    }
   ],
   "source": [
    "sq_numbers(8)"
   ]
  },
  {
   "cell_type": "code",
   "execution_count": 6,
   "id": "75a511a4",
   "metadata": {},
   "outputs": [],
   "source": [
    "lst = sq_numbers(8)"
   ]
  },
  {
   "cell_type": "code",
   "execution_count": 7,
   "id": "631a624d",
   "metadata": {},
   "outputs": [
    {
     "data": {
      "text/plain": [
       "<generator object sq_numbers at 0x0000020A9C0726D0>"
      ]
     },
     "execution_count": 7,
     "metadata": {},
     "output_type": "execute_result"
    }
   ],
   "source": [
    "lst"
   ]
  },
  {
   "cell_type": "code",
   "execution_count": 8,
   "id": "ca7780b7",
   "metadata": {},
   "outputs": [
    {
     "name": "stdout",
     "output_type": "stream",
     "text": [
      "1\n",
      "4\n",
      "9\n",
      "16\n"
     ]
    }
   ],
   "source": [
    "print(next(lst))\n",
    "print(next(lst))\n",
    "print(next(lst))\n",
    "print(next(lst))"
   ]
  },
  {
   "cell_type": "markdown",
   "id": "3fbd15a8",
   "metadata": {},
   "source": [
    "### Q3) What are the signs that a function is a generator function?"
   ]
  },
  {
   "cell_type": "markdown",
   "id": "1ec1953c",
   "metadata": {},
   "source": [
    "**Ans**"
   ]
  },
  {
   "cell_type": "markdown",
   "id": "3722c108",
   "metadata": {},
   "source": [
    "If a function contains at least one yield statement (it may contain other yield or return statements), it becomes a generator function. Both yield and return will return some value from a function."
   ]
  },
  {
   "cell_type": "markdown",
   "id": "2f293ed4",
   "metadata": {},
   "source": [
    "### Q4) What is the purpose of a yield statement?"
   ]
  },
  {
   "cell_type": "markdown",
   "id": "9ae0dc4a",
   "metadata": {},
   "source": [
    "**Ans**"
   ]
  },
  {
   "cell_type": "markdown",
   "id": "6a8fc833",
   "metadata": {},
   "source": [
    "A yield statement looks much like a return statement, except that instead of stopping execution of the function and \n",
    "returning, yield instead provides a value to the code looping over the generator and pauses execution of the generator \n",
    "function"
   ]
  },
  {
   "cell_type": "markdown",
   "id": "d28e226c",
   "metadata": {},
   "source": [
    "### Q5) What is the relationship between map calls and list comprehensions? Make a comparison and contrast between the two."
   ]
  },
  {
   "cell_type": "markdown",
   "id": "e07a50d9",
   "metadata": {},
   "source": [
    "**Ans**"
   ]
  },
  {
   "cell_type": "markdown",
   "id": "7fe4f0da",
   "metadata": {},
   "source": [
    "* Both map calls and list comprehensions are used in Python to create new sequences by applying a function to each element of an existing sequence. However, there are some differences in their syntax and behavior.\n",
    "* Map calls use the map() function to apply a function to each element of a sequence, and return a new sequence containing the results.\n",
    "* List comprehensions, on the other hand, use a more concise syntax to achieve the same result.\n",
    "* List Comprehension is a substitute for the lambda function, map(), filter() and reduce().\n",
    "\n",
    "Comparision :<br>\n",
    "    1. List comprehension is more concise and easier to read as compared to map<br>\n",
    "    2. List comprehension allows filtering. In map, we have no such facility<br>\n",
    "    For example, to print all even numbers in range of 100, we can write [n for n in range(100) if n%2 == 0]. There is \n",
    "    no alternate for it in map<br>\n",
    "    3. List comprehension are used when a list of results is required, where as map only returns a map object and does \n",
    "    not return any list.<br>\n",
    "    4. List comprehension is faster than map when we need to evaluate expressions that are too long or complicated \n",
    "    to express<br>\n",
    "    5. Map is faster in case of calling an already defined function (as no lambda is required)<br>"
   ]
  },
  {
   "cell_type": "code",
   "execution_count": 9,
   "id": "97f5eff7",
   "metadata": {},
   "outputs": [
    {
     "name": "stdout",
     "output_type": "stream",
     "text": [
      "[1, 4, 9, 16, 25]\n"
     ]
    }
   ],
   "source": [
    "## map() example\n",
    "\n",
    "x = [1,2,3,4,5]\n",
    "\n",
    "x_sq = map(lambda a: a**2,x)\n",
    "\n",
    "print(list(x_sq))"
   ]
  },
  {
   "cell_type": "code",
   "execution_count": 10,
   "id": "11db498f",
   "metadata": {},
   "outputs": [
    {
     "name": "stdout",
     "output_type": "stream",
     "text": [
      "[1, 4, 9, 16, 25]\n"
     ]
    }
   ],
   "source": [
    "## list comprehension example\n",
    "\n",
    "nums = [1, 2, 3, 4, 5]\n",
    "squares = [x**2 for x in nums]\n",
    "print(squares)"
   ]
  },
  {
   "cell_type": "markdown",
   "id": "07b27189",
   "metadata": {},
   "source": []
  }
 ],
 "metadata": {
  "kernelspec": {
   "display_name": "Python 3 (ipykernel)",
   "language": "python",
   "name": "python3"
  },
  "language_info": {
   "codemirror_mode": {
    "name": "ipython",
    "version": 3
   },
   "file_extension": ".py",
   "mimetype": "text/x-python",
   "name": "python",
   "nbconvert_exporter": "python",
   "pygments_lexer": "ipython3",
   "version": "3.9.13"
  }
 },
 "nbformat": 4,
 "nbformat_minor": 5
}
