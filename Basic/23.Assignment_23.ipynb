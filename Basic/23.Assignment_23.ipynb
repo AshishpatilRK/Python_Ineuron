{
 "cells": [
  {
   "cell_type": "markdown",
   "id": "ec448965",
   "metadata": {},
   "source": [
    "# Assignment_23"
   ]
  },
  {
   "cell_type": "markdown",
   "id": "b8bcd6ae",
   "metadata": {},
   "source": [
    "### Q1. What is the result of the code, and why?\n",
    "            def func(a, b=6, c=8):\n",
    "                print(a, b, c)\n",
    "            func(1, 2)"
   ]
  },
  {
   "cell_type": "code",
   "execution_count": 2,
   "id": "b0b9ae50",
   "metadata": {},
   "outputs": [
    {
     "name": "stdout",
     "output_type": "stream",
     "text": [
      "1 2 8\n"
     ]
    }
   ],
   "source": [
    "def func(a, b=6, c=8): # function with argument\n",
    "    print(a, b, c)\n",
    "func(1, 2)"
   ]
  },
  {
   "cell_type": "markdown",
   "id": "3f0897ab",
   "metadata": {},
   "source": [
    "* It will print 1 2 8 in the console. As we didnot pass any value to the thrid parameter, so by default it will consider 8."
   ]
  },
  {
   "cell_type": "markdown",
   "id": "93c9178c",
   "metadata": {},
   "source": [
    "### Q2. What is the result of this code, and why?\n",
    "                def func(a, b, c=5):\n",
    "                    print(a, b, c)\n",
    "                func(1, c=3, b=2)"
   ]
  },
  {
   "cell_type": "code",
   "execution_count": 3,
   "id": "868a5f15",
   "metadata": {},
   "outputs": [
    {
     "name": "stdout",
     "output_type": "stream",
     "text": [
      "1 2 3\n"
     ]
    }
   ],
   "source": [
    "def func(a, b, c=5):  # function with argument\n",
    "    print(a, b, c)\n",
    "func(1, c=3, b=2)"
   ]
  },
  {
   "cell_type": "markdown",
   "id": "db47d84b",
   "metadata": {},
   "source": [
    "* When we make function call, order will be positional argument and then keywords arguments. \n",
    "* we can pass the keyword arguments in any order we want.\n",
    "* Solution is 1,2,3"
   ]
  },
  {
   "cell_type": "markdown",
   "id": "f7cb1d51",
   "metadata": {},
   "source": [
    "### Q3. How about this code: what is its result, and why?\n",
    "         def func(a, *pargs):\n",
    "                    print(a, pargs)\n",
    "         func(1, 2, 3)"
   ]
  },
  {
   "cell_type": "code",
   "execution_count": 4,
   "id": "41adb17f",
   "metadata": {},
   "outputs": [
    {
     "name": "stdout",
     "output_type": "stream",
     "text": [
      "1 (2, 3)\n"
     ]
    }
   ],
   "source": [
    "def func(a, *pargs): # function with argument\n",
    "    print(a, pargs) \n",
    "func(1, 2, 3)"
   ]
  },
  {
   "cell_type": "markdown",
   "id": "3d3ad1d6",
   "metadata": {},
   "source": [
    "* The result of the code is 1 (2,3). *pargs stands for variable length arguments. \n",
    "* This format is used when we are not sure about the no of arguments to be passed to a function. \n",
    "* All the values under this argument will be stored in a tuple."
   ]
  },
  {
   "cell_type": "markdown",
   "id": "0a885ee6",
   "metadata": {},
   "source": [
    "### 4. What does this code print, and why?\n",
    "    def func(a, **kargs):\n",
    "        print(a, kargs)\n",
    "    func(a=1, c=3, b=2)"
   ]
  },
  {
   "cell_type": "code",
   "execution_count": 12,
   "id": "890c3ae1",
   "metadata": {},
   "outputs": [
    {
     "name": "stdout",
     "output_type": "stream",
     "text": [
      "1 {'c': 3, 'b': 2}\n"
     ]
    }
   ],
   "source": [
    "def func(a, **kargs):  # function with argument\n",
    "        print(a, kargs)\n",
    "func(a=1, c=3, b=2)"
   ]
  },
  {
   "cell_type": "markdown",
   "id": "34d552d8",
   "metadata": {},
   "source": [
    "* Args stands for variable length keyword arguments. \n",
    "* This format is used when we want pass key value pairs as input to a function. \n",
    "* All these key value pairs will be stored in a dictionary"
   ]
  },
  {
   "cell_type": "markdown",
   "id": "1b33db2a",
   "metadata": {},
   "source": [
    "### Q5. What gets printed by this, and explain?\n",
    "     def func(a, b, c=8, d=5): \n",
    "              print(a, b, c, d)\n",
    "     func(1, *(5, 6))"
   ]
  },
  {
   "cell_type": "code",
   "execution_count": 5,
   "id": "06916631",
   "metadata": {},
   "outputs": [
    {
     "name": "stdout",
     "output_type": "stream",
     "text": [
      "1 5 6 5\n"
     ]
    }
   ],
   "source": [
    "def func(a, b, c=8, d=5):  # function with argument\n",
    "    print(a, b, c, d)\n",
    "func(1, *(5, 6))"
   ]
  },
  {
   "cell_type": "markdown",
   "id": "fd0be4d0",
   "metadata": {},
   "source": [
    "* This reason for this function not throwing an error is because, this function expects 4 arguments. \n",
    "* The value for a is provided explicitly whereas for arguments b and c, the function will expand the *(5,6) and consider the value of b as 5 and value of c as 6. \n",
    "* since the default value of d is provided in function declaration d value will be 5. However it is recommended to use the feature of positional arguments at the end."
   ]
  },
  {
   "cell_type": "markdown",
   "id": "319095a5",
   "metadata": {},
   "source": [
    "### Q6. what is the result of this, and explain?\n",
    "      def func(a, b, c): \n",
    "            a = 2; b[0] = 'x'; c['a'] = 'y'\n",
    "    \n",
    "      l=1; m=[1]; n={'a':0}\n",
    "      func(l, m, n)\n",
    "\n",
    "      l, m, n"
   ]
  },
  {
   "cell_type": "code",
   "execution_count": 13,
   "id": "ad0fd0d3",
   "metadata": {},
   "outputs": [
    {
     "data": {
      "text/plain": [
       "(1, ['x'], {'a': 'y'})"
      ]
     },
     "execution_count": 13,
     "metadata": {},
     "output_type": "execute_result"
    }
   ],
   "source": [
    "def func(a, b, c):   # function with argument\n",
    "    a = 2; b[0] = 'x'; c['a'] = 'y'\n",
    "    \n",
    "l=1; m=[1]; n={'a':0}\n",
    "func(l, m, n)\n",
    "\n",
    "l, m, n"
   ]
  },
  {
   "cell_type": "markdown",
   "id": "36ce1d16",
   "metadata": {},
   "source": [
    "* Here in the code, the list and dict are passed as argument, and those are mutable. Here the list l and parametr b point \n",
    "to the same list in the memeory location where as dict n and c point to the same memory location. \n",
    "* Any updates to this list will update in the memory location.\n",
    "* When l,m,n are provided as inputs to the function. its modifies the values of l,m,n and sets the value of l=2 ,m=['x'] and n={'a':'y'}.\n",
    "* l = 1 , integer values, immutable, m is list, mutable, n is dict, mutable.\n",
    "output will be = 1,['x'],{'a':'y'}"
   ]
  },
  {
   "cell_type": "code",
   "execution_count": null,
   "id": "9458f125",
   "metadata": {},
   "outputs": [],
   "source": []
  },
  {
   "cell_type": "code",
   "execution_count": null,
   "id": "ab0095b4",
   "metadata": {},
   "outputs": [],
   "source": []
  }
 ],
 "metadata": {
  "kernelspec": {
   "display_name": "Python 3 (ipykernel)",
   "language": "python",
   "name": "python3"
  },
  "language_info": {
   "codemirror_mode": {
    "name": "ipython",
    "version": 3
   },
   "file_extension": ".py",
   "mimetype": "text/x-python",
   "name": "python",
   "nbconvert_exporter": "python",
   "pygments_lexer": "ipython3",
   "version": "3.9.13"
  }
 },
 "nbformat": 4,
 "nbformat_minor": 5
}
