{
 "cells": [
  {
   "cell_type": "markdown",
   "id": "4d6357f7",
   "metadata": {},
   "source": [
    "# Assignment_24"
   ]
  },
  {
   "cell_type": "markdown",
   "id": "57ac7025",
   "metadata": {},
   "source": [
    "### Q1. What is the relationship between def statements and lambda expressions ?"
   ]
  },
  {
   "cell_type": "markdown",
   "id": "4dac3789",
   "metadata": {},
   "source": [
    "**Ans**"
   ]
  },
  {
   "cell_type": "markdown",
   "id": "50ce26af",
   "metadata": {},
   "source": [
    "* def statement/keyword is used to create functions. We have to write function name after def.\n",
    "* Whereas, lambda created anonymous function. These functions don't have any name. Moreover, these are one-line of code which creates anonymous function.\n",
    "* Lambdas differ from normal Python methods because they can have only one expression, can't contain any statements and their return type is a function object"
   ]
  },
  {
   "cell_type": "markdown",
   "id": "a5cf2153",
   "metadata": {},
   "source": [
    "### Q2. What is the benefit of lambda?"
   ]
  },
  {
   "cell_type": "markdown",
   "id": "5d438bea",
   "metadata": {},
   "source": [
    "**Ans**"
   ]
  },
  {
   "cell_type": "markdown",
   "id": "b0d099fa",
   "metadata": {},
   "source": [
    "* With lambda we can create functions very quickly by writing less amount of codes.\n",
    "* Lambda functions are inline functions and thus execute comparatively faster.\n",
    "* Many times lambda functions make code much more readable by avoiding the logical jumps caused by function calls"
   ]
  },
  {
   "cell_type": "markdown",
   "id": "0a678dbe",
   "metadata": {},
   "source": [
    "### Q3. Compare and contrast map, filter, and reduce."
   ]
  },
  {
   "cell_type": "markdown",
   "id": "84b26de3",
   "metadata": {},
   "source": [
    "**Ans**"
   ]
  },
  {
   "cell_type": "markdown",
   "id": "36f33c39",
   "metadata": {},
   "source": [
    "* Map() :\n",
    "    * map() function in python takes two arguments. One is a function and other is an iterable. It will apply that specific function to the each item of the iterable.\n",
    "    * map applies as a transformation to an element.\n",
    "    * Syntax : map(function, iterable(s))\n",
    "* Filter() :\n",
    "    * filter accumulates only elements matching a condition.\n",
    "    * filter() forms a new list that contains only elements that satisfy a certain condition, i.e. the function we passed returns True.\n",
    "    * Syntax : filter(function, iterable(s))\n",
    "* Reduce() :\n",
    "    * reduce accumulates all elements to a single value, by using immutable values.\n",
    "    * reduce() works by calling the function we passed for the first two items in the sequence. The result returned by the function is used in another call to function alongside with the next (third in this case), element\n",
    "    * Syntax : reduce(function, sequence[, initial])"
   ]
  },
  {
   "cell_type": "code",
   "execution_count": 10,
   "id": "ccf1fd6f",
   "metadata": {},
   "outputs": [
    {
     "name": "stdout",
     "output_type": "stream",
     "text": [
      "Map -> [2, 4, 6, 8]\n",
      "Filter -> [1, 3]\n",
      "Reduce -> 21\n"
     ]
    }
   ],
   "source": [
    "from functools import reduce\n",
    "# map function\n",
    "print('Map ->',list(map(lambda x:x+x, [1,2,3,4])))\n",
    "# fitler function\n",
    "print('Filter ->',list(filter(lambda x:x%2 !=0, [1,2,3,4])))\n",
    "# reduce function\n",
    "print('Reduce ->',reduce(lambda x,y:x+y, [1,2,3,4,5,6]))"
   ]
  },
  {
   "cell_type": "markdown",
   "id": "9cb718eb",
   "metadata": {},
   "source": [
    "### Q4. What are function annotations, and how are they used?"
   ]
  },
  {
   "cell_type": "markdown",
   "id": "a965d533",
   "metadata": {},
   "source": [
    "**Ans**"
   ]
  },
  {
   "cell_type": "markdown",
   "id": "479fa72a",
   "metadata": {},
   "source": [
    "* Function annotation is the standard way to access the metadata with the arguments and the return value of the function.\n",
    "* These are nothing but some random and optional Python expressions that get allied to different parts of the function.\n",
    "* They get evaluated only during the compile-time and have no significance during the run-time of the code.\n",
    "* They do not have any significance or meaning associated with them until accessed by some third-party libraries.\n",
    "* They are used to type check the functions by declaring the type of the parameters and the return value for the functions.\n",
    "* The string-based annotations help us to improve the help messages.<br>\n",
    "               "
   ]
  },
  {
   "cell_type": "markdown",
   "id": "517425f9",
   "metadata": {},
   "source": [
    "                Syntax :\n",
    "                       def func(a: 'int') -> 'int':\n",
    "                                       pass\n",
    "                                       \n",
    "          Annotations for simple parameters:\n",
    "     def func(x: 'float'=10.8, y: 'argument2'):\n",
    "        In the above code the argument, ‘x’ of the function func, \n",
    "        has been annotated to float data type and the argument ‘y’ \n",
    "        has a string-based annotation. The argument can also be \n",
    "        assigned to a default value using a ‘=’ symbol followed \n",
    "        by the default value. These default values are optional to the code.\n",
    "\n",
    "        Annotations for return values:\n",
    "            def func(a: expression) -> 'int':\n",
    "                The annotations for the return value is written after the ‘->’ symbol.\n"
   ]
  },
  {
   "cell_type": "code",
   "execution_count": 5,
   "id": "7fdc9296",
   "metadata": {},
   "outputs": [
    {
     "name": "stdout",
     "output_type": "stream",
     "text": [
      "{'n': 'float', 'b': 'int', 'return': 'result'}\n"
     ]
    }
   ],
   "source": [
    "def fib(n:'float', b:'int')-> 'result': \n",
    "    pass\n",
    "print(fib.__annotations__)"
   ]
  },
  {
   "cell_type": "markdown",
   "id": "3653424e",
   "metadata": {},
   "source": [
    "### Q5. What are recursive functions, and how are they used?"
   ]
  },
  {
   "cell_type": "markdown",
   "id": "fbf2a2d8",
   "metadata": {},
   "source": [
    "**Ans**"
   ]
  },
  {
   "cell_type": "markdown",
   "id": "1ec0b2f4",
   "metadata": {},
   "source": [
    "* A recursive function is a function that calls itself during its execution. \n",
    "* This means that the function will continue to call itself and repeat its behavior until some condition is met to return a result"
   ]
  },
  {
   "cell_type": "code",
   "execution_count": 7,
   "id": "9c1141be",
   "metadata": {},
   "outputs": [
    {
     "data": {
      "text/plain": [
       "6"
      ]
     },
     "execution_count": 7,
     "metadata": {},
     "output_type": "execute_result"
    }
   ],
   "source": [
    "# example\n",
    "def fact(x):\n",
    "    if x == 1 :\n",
    "        return 1\n",
    "    else :\n",
    "        return x * fact(x-1) # recursion\n",
    "    \n",
    "fact(3)"
   ]
  },
  {
   "cell_type": "markdown",
   "id": "2070b013",
   "metadata": {},
   "source": [
    "### Q6. What are some general design guidelines for coding functions?"
   ]
  },
  {
   "cell_type": "markdown",
   "id": "ba4dcf01",
   "metadata": {},
   "source": [
    "**Ans**"
   ]
  },
  {
   "cell_type": "markdown",
   "id": "1272c1df",
   "metadata": {},
   "source": [
    "1. Use 4-space indentation and no tabs.\n",
    "2. Use docstrings\n",
    "3. Wrap linethat they don’t exceed 79 characters\n",
    "4. Use of regular and updated comments are valuable to both the coders and users\n",
    "5. Use of trailing commas : in case of tuple -> ('good',)\n",
    "6. Use Python’s default UTF-8 or ASCII encodings and not any fancy encodings\n",
    "7. Naming Conventions\n",
    "8.Characters that should not be used for identifiers :<br>\n",
    "    ‘l’ (lowercase letter el),<br> \n",
    "    ‘O’ (uppercase letter oh),<br> \n",
    "    ‘I’ (uppercase letter eye) as single character variable names as these are similar to the numerals one and zero.\n",
    "9. Don’t use non-ASCII characters in identifiers\n",
    "10. Name your classes and functions consistently\n",
    "11. While naming of function of methods always use self for the first argument"
   ]
  },
  {
   "cell_type": "markdown",
   "id": "d3b85720",
   "metadata": {},
   "source": [
    "### Q7. Name three or more ways that functions can communicate results to a caller."
   ]
  },
  {
   "cell_type": "markdown",
   "id": "31fee4b9",
   "metadata": {},
   "source": [
    "**Ans**"
   ]
  },
  {
   "cell_type": "markdown",
   "id": "13220e74",
   "metadata": {},
   "source": [
    "1. Function can return single value\n",
    "2. Can return multiple values, tuple\n",
    "3. can return list,dictionary\n",
    "4. can return function object\n",
    "5. can return class object\n",
    "6. Functions can update global variable"
   ]
  },
  {
   "cell_type": "code",
   "execution_count": null,
   "id": "747aa015",
   "metadata": {},
   "outputs": [],
   "source": []
  }
 ],
 "metadata": {
  "kernelspec": {
   "display_name": "Python 3 (ipykernel)",
   "language": "python",
   "name": "python3"
  },
  "language_info": {
   "codemirror_mode": {
    "name": "ipython",
    "version": 3
   },
   "file_extension": ".py",
   "mimetype": "text/x-python",
   "name": "python",
   "nbconvert_exporter": "python",
   "pygments_lexer": "ipython3",
   "version": "3.9.13"
  }
 },
 "nbformat": 4,
 "nbformat_minor": 5
}
