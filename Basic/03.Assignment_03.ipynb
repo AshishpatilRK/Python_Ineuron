{
 "cells": [
  {
   "cell_type": "markdown",
   "id": "963f561d",
   "metadata": {},
   "source": [
    "# Assignment_3"
   ]
  },
  {
   "cell_type": "markdown",
   "id": "883b7990",
   "metadata": {},
   "source": [
    "### Q 1. Why are functions advantageous to have in your programs?"
   ]
  },
  {
   "cell_type": "markdown",
   "id": "6be5f1ac",
   "metadata": {},
   "source": [
    "**Ans :**"
   ]
  },
  {
   "cell_type": "markdown",
   "id": "cd893372",
   "metadata": {},
   "source": [
    "**Advantage of Functions in Python :** "
   ]
  },
  {
   "cell_type": "markdown",
   "id": "20180851",
   "metadata": {},
   "source": [
    "* Using functions, we can avoid rewriting the same logic/code again and again in a program.\n",
    "* The Function help make program shorter, easier to read and easier to update.\n",
    "* We can call Python functions multiple times in a program and anywhere in a program.\n",
    "* We can track a large Python program easily when it is divided into multiple functions.\n",
    "* Reusability is the main achievement of Python functions.\n",
    "* However, Function calling is always overhead in a Python program.\n"
   ]
  },
  {
   "cell_type": "markdown",
   "id": "ae652dbc",
   "metadata": {},
   "source": [
    "### Q 2. When does the code in a function run: when it's specified or when it's called?"
   ]
  },
  {
   "cell_type": "markdown",
   "id": "e5bbd2e5",
   "metadata": {},
   "source": [
    "**Ans :**"
   ]
  },
  {
   "cell_type": "markdown",
   "id": "37c0685d",
   "metadata": {},
   "source": [
    "The code in a function executes when the function is **called**, not when the function is specified."
   ]
  },
  {
   "cell_type": "markdown",
   "id": "533bbb0e",
   "metadata": {},
   "source": [
    "### Q 3. What statement creates a function?"
   ]
  },
  {
   "cell_type": "markdown",
   "id": "cf078b95",
   "metadata": {},
   "source": [
    "**Ans :**"
   ]
  },
  {
   "cell_type": "markdown",
   "id": "5c69f0dc",
   "metadata": {},
   "source": [
    "Python provides the **def** keyword to create a function. "
   ]
  },
  {
   "cell_type": "code",
   "execution_count": 1,
   "id": "f1fceb52",
   "metadata": {},
   "outputs": [],
   "source": [
    "# Syntax :\n",
    "def my_function(parameters):         # use def keyword to create function\n",
    "        function_block\n",
    "        return expression"
   ]
  },
  {
   "cell_type": "markdown",
   "id": "419ddfbc",
   "metadata": {},
   "source": [
    "### Q 4. What is the difference between a function and a function call?"
   ]
  },
  {
   "cell_type": "markdown",
   "id": "191d7f0f",
   "metadata": {},
   "source": [
    "**Ans :**"
   ]
  },
  {
   "cell_type": "markdown",
   "id": "f138f691",
   "metadata": {},
   "source": [
    "|No. |Function|Function Call  |\n",
    "|-----|:-----|:---:|\n",
    "|1 |A function is a block of a code which will perform some specific task, it is created for and can return data.    | Function call is the way to invoking or calling the function which is already defined. It will execute the code written inside a function.\n",
    "   |\n",
    "|1 |A function is procedure to achieve a particular result.   |Function call is using this function to achive that task.\n",
    "   |\n",
    "|2|A function consists of the def statement and the code in its def clause.    |  Using a function to do a particular task any point in program is called as function call   |"
   ]
  },
  {
   "cell_type": "markdown",
   "id": "2d41530a",
   "metadata": {},
   "source": [
    "### Q 5. How many global scopes are there in a Python program? How many local scopes?"
   ]
  },
  {
   "cell_type": "markdown",
   "id": "7768d9c2",
   "metadata": {},
   "source": [
    "**Ans :**"
   ]
  },
  {
   "cell_type": "markdown",
   "id": "76db7235",
   "metadata": {},
   "source": [
    "* There are only one global scope in python program. A variable defined in global scope can be accessed through out the\\\n",
    "python program.\n",
    "\n",
    "* There can be n number of local scopes in a python program.\n",
    "* A local scope is created whenever a function is created."
   ]
  },
  {
   "cell_type": "markdown",
   "id": "905e1678",
   "metadata": {},
   "source": [
    "### Q 6. What happens to variables in a local scope when the function call returns?"
   ]
  },
  {
   "cell_type": "markdown",
   "id": "7c506d93",
   "metadata": {},
   "source": [
    "**Ans :**"
   ]
  },
  {
   "cell_type": "markdown",
   "id": "038495d8",
   "metadata": {},
   "source": [
    "* A Variable in local scope retains its value until the next time the function is called.\n",
    "* A local variable becomes undefined after the function call completes.\n",
    "* we will not be able to access the out side the function.\n",
    "* When a function returns, the local scope is destroyed, and all the variables in it are forgotten."
   ]
  },
  {
   "cell_type": "markdown",
   "id": "018c04c8",
   "metadata": {},
   "source": [
    "### Q 7. What is the concept of a return value? Is it possible to have a return value in an expression?"
   ]
  },
  {
   "cell_type": "markdown",
   "id": "3cab0662",
   "metadata": {},
   "source": [
    "**Ans :**"
   ]
  },
  {
   "cell_type": "markdown",
   "id": "3c948b2d",
   "metadata": {},
   "source": [
    "* The specific value returned from a function is called the return value.\n",
    "* When the return statement is executed, the function exits immediately, and the return value is copied from the function back to the caller. This process is called return by value.\n",
    "* The return value of a Python function can be any Python object. Everything in Python is an object. So, your functions can return numeric values (int, float, and complex values), collections and sequences of objects (list, tuple, dictionary, or set objects), user-defined objects, classes, functions, and even modules or packages.\n",
    "* **Yes** You have return value in an expression, You can use return value in an expression. "
   ]
  },
  {
   "cell_type": "code",
   "execution_count": 2,
   "id": "50224aef",
   "metadata": {},
   "outputs": [
    {
     "name": "stdout",
     "output_type": "stream",
     "text": [
      "15\n",
      "25\n",
      "45\n"
     ]
    }
   ],
   "source": [
    "def my_func(x):\n",
    "    return 5 * x            # function return some value here\n",
    "print(my_func(3))\n",
    "print(my_func(5))\n",
    "print(my_func(9))"
   ]
  },
  {
   "cell_type": "markdown",
   "id": "3f77ac65",
   "metadata": {},
   "source": [
    "### Q 8. If a function does not have a return statement, what is the return value of a call to that function?"
   ]
  },
  {
   "cell_type": "markdown",
   "id": "9ec5864e",
   "metadata": {},
   "source": [
    "**Ans :**"
   ]
  },
  {
   "cell_type": "markdown",
   "id": "547ab282",
   "metadata": {},
   "source": [
    "If a function does not have a return statement, the return value of a call to that function is **None.**"
   ]
  },
  {
   "cell_type": "markdown",
   "id": "22ae67ff",
   "metadata": {},
   "source": [
    "### Q 9. How do you make a function variable refer to the global variable?"
   ]
  },
  {
   "cell_type": "markdown",
   "id": "91dfbbd0",
   "metadata": {},
   "source": [
    "**Ans :**"
   ]
  },
  {
   "cell_type": "markdown",
   "id": "55bcdd0d",
   "metadata": {},
   "source": [
    "* A variable created inside a function belongs to the local scope of that function, and can only be used inside that function.\n",
    "* If you need to create a global variable, but are stuck in the local scope, you can use **the global keyword.** The global keyword makes the variable global."
   ]
  },
  {
   "cell_type": "code",
   "execution_count": 3,
   "id": "610019f6",
   "metadata": {},
   "outputs": [
    {
     "name": "stdout",
     "output_type": "stream",
     "text": [
      "300\n"
     ]
    }
   ],
   "source": [
    "def myfunc():\n",
    "  global x          # use global keyword\n",
    "  x = 300\n",
    "\n",
    "myfunc()\n",
    "\n",
    "print(x)\n"
   ]
  },
  {
   "cell_type": "markdown",
   "id": "c6ab730f",
   "metadata": {},
   "source": [
    "* To change the value of a global variable inside a function, refer to the variable by using the global keyword:"
   ]
  },
  {
   "cell_type": "code",
   "execution_count": 4,
   "id": "c50420b5",
   "metadata": {},
   "outputs": [
    {
     "name": "stdout",
     "output_type": "stream",
     "text": [
      "200\n"
     ]
    }
   ],
   "source": [
    "x = 300\n",
    "\n",
    "def myfunc():\n",
    "  global x     # use global keyword to change global varible\n",
    "  x = 200\n",
    "\n",
    "myfunc()\n",
    "\n",
    "print(x)"
   ]
  },
  {
   "cell_type": "markdown",
   "id": "4772b4db",
   "metadata": {},
   "source": [
    "### Q 10. What is the data type of None?"
   ]
  },
  {
   "cell_type": "markdown",
   "id": "b17f14bf",
   "metadata": {},
   "source": [
    "**Ans :**"
   ]
  },
  {
   "cell_type": "markdown",
   "id": "a6c069ce",
   "metadata": {},
   "source": [
    "The data type of None is NoneType."
   ]
  },
  {
   "cell_type": "markdown",
   "id": "4824e234",
   "metadata": {},
   "source": [
    "### Q 11. What does the sentence import areallyourpetsnamederic do?"
   ]
  },
  {
   "cell_type": "markdown",
   "id": "858d7de7",
   "metadata": {},
   "source": [
    "**Ans :**"
   ]
  },
  {
   "cell_type": "markdown",
   "id": "4538185c",
   "metadata": {},
   "source": [
    "import areallyourpetsnamederic  - imports a module named areallyourpetsnamederic"
   ]
  },
  {
   "cell_type": "markdown",
   "id": "8ef1ad8b",
   "metadata": {},
   "source": [
    "### Q 12. If you had a bacon() feature in a spam module, what would you call it after importing spam?"
   ]
  },
  {
   "cell_type": "markdown",
   "id": "8c4d1348",
   "metadata": {},
   "source": [
    "**Ans :**"
   ]
  },
  {
   "cell_type": "markdown",
   "id": "9e51e4aa",
   "metadata": {},
   "source": [
    "import spam<br>\n",
    "spam.bacon()"
   ]
  },
  {
   "cell_type": "markdown",
   "id": "8f5ff519",
   "metadata": {},
   "source": [
    "### Q 13. What can you do to save a programme from crashing if it encounters an error?"
   ]
  },
  {
   "cell_type": "markdown",
   "id": "3233991f",
   "metadata": {},
   "source": [
    "**Ans :**"
   ]
  },
  {
   "cell_type": "markdown",
   "id": "e72f8249",
   "metadata": {},
   "source": [
    "* we can use exception handling through try and except block to save our program from crashing if it encounters an error.\n",
    "* we can write lines of code in try block And in except block we can catch the exception, this will not crash the programme."
   ]
  },
  {
   "cell_type": "markdown",
   "id": "7bfd2c09",
   "metadata": {},
   "source": [
    "### Q 14. What is the purpose of the try clause? What is the purpose of the except clause?"
   ]
  },
  {
   "cell_type": "markdown",
   "id": "dbe57e2e",
   "metadata": {},
   "source": [
    "**Ans :**"
   ]
  },
  {
   "cell_type": "markdown",
   "id": "251525c4",
   "metadata": {},
   "source": [
    "**Try Clause :**<br>\n",
    "    The try block is used to check some code for errors i.e the code inside the try block will execute when there is no error in the program."
   ]
  },
  {
   "cell_type": "markdown",
   "id": "32b57a6a",
   "metadata": {},
   "source": [
    "**Except Clause :**<br>\n",
    "The code inside the except block will execute whenever the program encounters some error in the preceding try block.\n",
    " "
   ]
  },
  {
   "cell_type": "markdown",
   "id": "590ab16c",
   "metadata": {},
   "source": [
    "Syntax :<br>\n",
    "\n",
    "try:<br>\n",
    "    # Some Code<br>\n",
    "    \n",
    "except:<br>\n",
    "    # Executed if error in the<br>\n",
    "    # try block"
   ]
  },
  {
   "cell_type": "markdown",
   "id": "846e2a7d",
   "metadata": {},
   "source": [
    "* If there is no exception, then only the try clause will run, except the clause is finished.\n",
    "* If any exception occurs, the try clause will be skipped and except clause will run.\n",
    "* A try statement can have more than one except clause"
   ]
  },
  {
   "cell_type": "code",
   "execution_count": 5,
   "id": "278aef28",
   "metadata": {},
   "outputs": [
    {
     "name": "stdout",
     "output_type": "stream",
     "text": [
      "Your answer is : 1\n"
     ]
    }
   ],
   "source": [
    "def divide(x, y):\n",
    "    try:                   # write code in try block \n",
    "        re = x // y\n",
    "        print(\"Your answer is :\", re)\n",
    "    except ZeroDivisionError:         # use except block to save code\n",
    "        print(\"Sorry ! You are dividing by zero\")\n",
    "divide(3, 2)"
   ]
  },
  {
   "cell_type": "code",
   "execution_count": 6,
   "id": "451a4978",
   "metadata": {},
   "outputs": [
    {
     "name": "stdout",
     "output_type": "stream",
     "text": [
      "Sorry ! You are dividing by zero\n"
     ]
    }
   ],
   "source": [
    "def divide(x, y): \n",
    "    try:               # write code in try block \n",
    "        re = x // y\n",
    "        print(\"Your answer is :\", re)\n",
    "    except ZeroDivisionError:         # use except block to save code\n",
    "        print(\"Sorry ! You are dividing by zero\")\n",
    "divide(3, 0)"
   ]
  },
  {
   "cell_type": "code",
   "execution_count": null,
   "id": "1ac25963",
   "metadata": {},
   "outputs": [],
   "source": []
  },
  {
   "cell_type": "code",
   "execution_count": null,
   "id": "a1c4c293",
   "metadata": {},
   "outputs": [],
   "source": []
  },
  {
   "cell_type": "code",
   "execution_count": null,
   "id": "0cb6da39",
   "metadata": {},
   "outputs": [],
   "source": []
  }
 ],
 "metadata": {
  "kernelspec": {
   "display_name": "Python 3 (ipykernel)",
   "language": "python",
   "name": "python3"
  },
  "language_info": {
   "codemirror_mode": {
    "name": "ipython",
    "version": 3
   },
   "file_extension": ".py",
   "mimetype": "text/x-python",
   "name": "python",
   "nbconvert_exporter": "python",
   "pygments_lexer": "ipython3",
   "version": "3.9.13"
  }
 },
 "nbformat": 4,
 "nbformat_minor": 5
}
