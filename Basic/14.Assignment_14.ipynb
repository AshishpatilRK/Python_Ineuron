{
 "cells": [
  {
   "cell_type": "markdown",
   "id": "abfe9630",
   "metadata": {},
   "source": [
    "# # Assignment_14"
   ]
  },
  {
   "cell_type": "markdown",
   "id": "2afba544",
   "metadata": {},
   "source": [
    "### Q1. What does RGBA stand for?"
   ]
  },
  {
   "cell_type": "markdown",
   "id": "569e70a8",
   "metadata": {},
   "source": [
    "**Ans :**"
   ]
  },
  {
   "cell_type": "markdown",
   "id": "286b3bb0",
   "metadata": {},
   "source": [
    "* RGBA is a four-channel format containing data for Red, Green, Blue, and an Alpha value. Where Alpha Represents the Opacity\n",
    "* An RGBA value is a tuple of 4 integers, each ranging from 0 to 255. The four integers correspond to the amount of red, green, blue, and alpha (transparency) in the color"
   ]
  },
  {
   "cell_type": "markdown",
   "id": "59ddbaf3",
   "metadata": {},
   "source": [
    "### Q2. From the Pillow module, how do you get the RGBA value of any images?"
   ]
  },
  {
   "cell_type": "markdown",
   "id": "2f782ccb",
   "metadata": {},
   "source": [
    "**Ans :**"
   ]
  },
  {
   "cell_type": "code",
   "execution_count": 2,
   "id": "ac613fec",
   "metadata": {},
   "outputs": [
    {
     "data": {
      "text/plain": [
       "(255, 0, 0, 255)"
      ]
     },
     "execution_count": 2,
     "metadata": {},
     "output_type": "execute_result"
    }
   ],
   "source": [
    "from PIL import ImageColor\n",
    "ImageColor.getcolor('red', 'RGBA')"
   ]
  },
  {
   "cell_type": "code",
   "execution_count": 3,
   "id": "70ee55b7",
   "metadata": {},
   "outputs": [
    {
     "data": {
      "text/plain": [
       "(0, 128, 0, 255)"
      ]
     },
     "execution_count": 3,
     "metadata": {},
     "output_type": "execute_result"
    }
   ],
   "source": [
    "ImageColor.getcolor('green', 'RGBA')"
   ]
  },
  {
   "cell_type": "markdown",
   "id": "0f3f0070",
   "metadata": {},
   "source": [
    "### Q3. What is a box tuple, and how does it work?"
   ]
  },
  {
   "cell_type": "markdown",
   "id": "db73c070",
   "metadata": {},
   "source": [
    "**Ans :**"
   ]
  },
  {
   "cell_type": "markdown",
   "id": "99ae3472",
   "metadata": {},
   "source": [
    "* Many Pillow's function take box tuple argument. This means pillow is taking a tuple of four integer coordinates that expecting a rectangular region in image. The four integers are in order left, top, right, bottom.\n",
    "* A box tuple is a tuple value of four integers: the left edge x-coordinate, the top edge y-coordinate, the width, and the height, respectively"
   ]
  },
  {
   "cell_type": "markdown",
   "id": "14eaafde",
   "metadata": {},
   "source": [
    "### Q4. Use your image and load in notebook then, How can you find out the width and height of an Image object?\n"
   ]
  },
  {
   "cell_type": "markdown",
   "id": "cf81551a",
   "metadata": {},
   "source": [
    "**Ans :**"
   ]
  },
  {
   "cell_type": "code",
   "execution_count": 4,
   "id": "eb978a6e",
   "metadata": {},
   "outputs": [
    {
     "data": {
      "text/plain": [
       "(1920, 1080)"
      ]
     },
     "execution_count": 4,
     "metadata": {},
     "output_type": "execute_result"
    }
   ],
   "source": [
    "from PIL import Image\n",
    "myImg = Image.open('Screenshot 2023-06-06 162028.png')\n",
    "w,h = myImg.size\n",
    "w,h"
   ]
  },
  {
   "cell_type": "markdown",
   "id": "0c6e8f4f",
   "metadata": {},
   "source": [
    "### Q5. What method would you call to get Image object for a 100×100 image, excluding the lower-left quarter of it?"
   ]
  },
  {
   "cell_type": "markdown",
   "id": "b28a6d64",
   "metadata": {},
   "source": [
    "**Ans :**"
   ]
  },
  {
   "cell_type": "markdown",
   "id": "1f6b4968",
   "metadata": {},
   "source": [
    "ImageObject.crop((0, 50, 50, 50))"
   ]
  },
  {
   "cell_type": "code",
   "execution_count": 6,
   "id": "863f13bd",
   "metadata": {},
   "outputs": [],
   "source": [
    "from PIL import Image\n",
    "img = Image.open('Screenshot 2023-05-24 155907.png')\n",
    "new_img = img.crop((0,50,50,50))"
   ]
  },
  {
   "cell_type": "markdown",
   "id": "c8e89561",
   "metadata": {},
   "source": [
    "### Q6. After making changes to an Image object, how could you save it as an image file?"
   ]
  },
  {
   "cell_type": "markdown",
   "id": "575214a5",
   "metadata": {},
   "source": [
    "**Ans :**"
   ]
  },
  {
   "cell_type": "markdown",
   "id": "f5bd5198",
   "metadata": {},
   "source": [
    "By Calling the imageObj.save('new_filename.png') method of the Image object."
   ]
  },
  {
   "cell_type": "code",
   "execution_count": 9,
   "id": "52887698",
   "metadata": {},
   "outputs": [],
   "source": [
    "#Example Program\n",
    "from PIL import Image\n",
    "pic = Image.open('Screenshot 2023-05-24 155907.png')\n",
    "pic.save('Screenshot 2023-05-24 155907.png')"
   ]
  },
  {
   "cell_type": "markdown",
   "id": "643bf26f",
   "metadata": {},
   "source": [
    "### Q7. What module contains Pillow’s shape-drawing code?"
   ]
  },
  {
   "cell_type": "code",
   "execution_count": null,
   "id": "de7f591f",
   "metadata": {},
   "outputs": [],
   "source": [
    "**Ans :**"
   ]
  },
  {
   "cell_type": "markdown",
   "id": "84799eac",
   "metadata": {},
   "source": [
    "* Pillows ImageDraw module contains Shape drawing methods."
   ]
  },
  {
   "cell_type": "markdown",
   "id": "777d076f",
   "metadata": {},
   "source": [
    "### Q8. Image objects do not have drawing methods. What kind of object does? How do you get this kind of object?"
   ]
  },
  {
   "cell_type": "markdown",
   "id": "42ef5415",
   "metadata": {},
   "source": [
    "**Ans :**"
   ]
  },
  {
   "cell_type": "markdown",
   "id": "4eec0e1d",
   "metadata": {},
   "source": [
    "* ImageDraw objects have shape-drawing methods such as point(), line(), or rectangle(). They are returned by passing the Image object to the ImageDraw.Draw() function"
   ]
  },
  {
   "cell_type": "code",
   "execution_count": null,
   "id": "5218fef0",
   "metadata": {},
   "outputs": [],
   "source": []
  }
 ],
 "metadata": {
  "kernelspec": {
   "display_name": "Python 3 (ipykernel)",
   "language": "python",
   "name": "python3"
  },
  "language_info": {
   "codemirror_mode": {
    "name": "ipython",
    "version": 3
   },
   "file_extension": ".py",
   "mimetype": "text/x-python",
   "name": "python",
   "nbconvert_exporter": "python",
   "pygments_lexer": "ipython3",
   "version": "3.9.13"
  }
 },
 "nbformat": 4,
 "nbformat_minor": 5
}
