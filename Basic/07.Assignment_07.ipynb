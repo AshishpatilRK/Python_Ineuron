{
 "cells": [
  {
   "cell_type": "markdown",
   "id": "797f07dc",
   "metadata": {},
   "source": [
    "# Assignment_7"
   ]
  },
  {
   "cell_type": "markdown",
   "id": "956b119d",
   "metadata": {},
   "source": [
    "### Q 1. What is the name of the feature responsible for generating Regex objects?"
   ]
  },
  {
   "cell_type": "markdown",
   "id": "9e45ca20",
   "metadata": {},
   "source": [
    "Ans :"
   ]
  },
  {
   "cell_type": "markdown",
   "id": "ec6c1e98",
   "metadata": {},
   "source": [
    "**re.compile()** is the feature responsible for generation of Regex objects."
   ]
  },
  {
   "cell_type": "code",
   "execution_count": 1,
   "id": "023c1748",
   "metadata": {},
   "outputs": [
    {
     "name": "stdout",
     "output_type": "stream",
     "text": [
      "<class 're.Pattern'>\n",
      "re.compile('some_random_pattern')\n"
     ]
    }
   ],
   "source": [
    "import re\n",
    "x = re.compile(\"some_random_pattern\")  # use re.compile()  for generation of Regex objects\n",
    "print(type(x))\n",
    "print(x)"
   ]
  },
  {
   "cell_type": "markdown",
   "id": "b713b3f8",
   "metadata": {},
   "source": [
    "### Q 2. Why do raw strings often appear in Regex objects?"
   ]
  },
  {
   "cell_type": "markdown",
   "id": "82ac6e83",
   "metadata": {},
   "source": [
    "Ans :"
   ]
  },
  {
   "cell_type": "markdown",
   "id": "f3a52bc7",
   "metadata": {},
   "source": [
    "* Raw strings are used so that backslashes do not have to be escaped.\n",
    "* Regular expressions use the backslash character ('') to indicate special forms (Metacharacters) or to allow special characters (special sequences) to be used without invoking their special meaning. This collides with Python’s usage of the same character for the same purpose in string literals. Hence, Raw strings are used (e.g. r\"\\n\") so that backslashes do not have to be escaped."
   ]
  },
  {
   "cell_type": "markdown",
   "id": "3816a0b0",
   "metadata": {},
   "source": [
    "### Q 3. What is the return value of the search() method?"
   ]
  },
  {
   "cell_type": "markdown",
   "id": "85346d9b",
   "metadata": {},
   "source": [
    "Ans :"
   ]
  },
  {
   "cell_type": "markdown",
   "id": "8b0d2c60",
   "metadata": {},
   "source": [
    "* Python regex **re.search()** method looks for occurrences of the regex pattern inside the entire target string and returns the corresponding Match Object instance where the match found.\n",
    "* The **re.search()** returns only the first match to the pattern from the target string. Use a re.search() to search pattern anywhere in the string."
   ]
  },
  {
   "cell_type": "markdown",
   "id": "96b5c9cc",
   "metadata": {},
   "source": [
    "        Syntax--  re.search(pattern, string, flags=0)"
   ]
  },
  {
   "cell_type": "code",
   "execution_count": 2,
   "id": "a2442834",
   "metadata": {},
   "outputs": [
    {
     "name": "stdout",
     "output_type": "stream",
     "text": [
      "Match Object <re.Match object; span=(10, 18), match='baseball'>\n",
      "Matching word:  baseball\n"
     ]
    }
   ],
   "source": [
    "import re\n",
    "\n",
    "# Target String\n",
    "target_string = \"Emma is a baseball player who was born on June 17 he played baseball\"\n",
    "\n",
    "# search() for eight-letter word\n",
    "result = re.search(r\"\\w{8}\", target_string)\n",
    "\n",
    "# Print match object\n",
    "print(\"Match Object\", result)\n",
    "# output re.Match object; span=(10, 18), match='baseball'\n",
    "\n",
    "# print the matching word using group() method\n",
    "print(\"Matching word: \", result.group()) \n",
    "# Output 'baseball'"
   ]
  },
  {
   "cell_type": "markdown",
   "id": "7d1bc811",
   "metadata": {},
   "source": [
    "### Q 4. From a Match item, how do you get the actual strings that match the pattern?"
   ]
  },
  {
   "cell_type": "markdown",
   "id": "c19440d2",
   "metadata": {},
   "source": [
    "Ans :"
   ]
  },
  {
   "cell_type": "markdown",
   "id": "cde120ca",
   "metadata": {},
   "source": [
    "*  Matched items **group()** methods returns actual strings that match the pattern"
   ]
  },
  {
   "cell_type": "code",
   "execution_count": 3,
   "id": "36be050b",
   "metadata": {},
   "outputs": [
    {
     "name": "stdout",
     "output_type": "stream",
     "text": [
      "Output: Ineuron\n"
     ]
    }
   ],
   "source": [
    "import re\n",
    "match = re.search('ineuron','Ineuron Full Stack Data Science Program', flags=re.IGNORECASE) # search gives 1 st match\n",
    "print('Output:',match.group())  # group() methods returns actual strings that match the pattern"
   ]
  },
  {
   "cell_type": "markdown",
   "id": "183551c2",
   "metadata": {},
   "source": [
    "### Q 5. In the regex which created from the r'(\\d\\d\\d)-(\\d\\d\\d-\\d\\d\\d\\d)', what does group zero cover? Group 2? Group 1?"
   ]
  },
  {
   "cell_type": "markdown",
   "id": "57987985",
   "metadata": {},
   "source": [
    "Ans :"
   ]
  },
  {
   "cell_type": "markdown",
   "id": "339994ce",
   "metadata": {},
   "source": [
    "* regex: (\\d\\d\\d)-(\\d\\d\\d-\\d\\d\\d\\d)\n",
    "* The first set of parentheses in a regex string will be group 1.\n",
    "* The second set will be group 2.\n",
    "* By passing the integer 1 or 2 to the group() match object method, you can grab different parts of the matched text.\n",
    "* Passing 0 or nothing to the group() method will return the entire matched text"
   ]
  },
  {
   "cell_type": "code",
   "execution_count": 4,
   "id": "7aa1fdac",
   "metadata": {},
   "outputs": [
    {
     "data": {
      "text/plain": [
       "'415'"
      ]
     },
     "execution_count": 4,
     "metadata": {},
     "output_type": "execute_result"
    }
   ],
   "source": [
    "phoneNumRegex = re.compile(r'(\\d\\d\\d)-(\\d\\d\\d-\\d\\d\\d\\d)')\n",
    "mo = phoneNumRegex.search('My number is 415-555-4242.')   # search exact number\n",
    "mo.group(1)  # Returns the first group"
   ]
  },
  {
   "cell_type": "code",
   "execution_count": 5,
   "id": "2e1f939c",
   "metadata": {},
   "outputs": [
    {
     "data": {
      "text/plain": [
       "'555-4242'"
      ]
     },
     "execution_count": 5,
     "metadata": {},
     "output_type": "execute_result"
    }
   ],
   "source": [
    "mo.group(2)# Returns the second group"
   ]
  },
  {
   "cell_type": "code",
   "execution_count": 6,
   "id": "bcbbc679",
   "metadata": {},
   "outputs": [
    {
     "data": {
      "text/plain": [
       "'415-555-4242'"
      ]
     },
     "execution_count": 6,
     "metadata": {},
     "output_type": "execute_result"
    }
   ],
   "source": [
    "mo.group(0)  # Always returns the fully matched string "
   ]
  },
  {
   "cell_type": "markdown",
   "id": "affdfab8",
   "metadata": {},
   "source": [
    "### Q 6. In standard expression syntax, parentheses and intervals have distinct meanings. How can you tell a regex that you want it to fit real parentheses and periods?"
   ]
  },
  {
   "cell_type": "markdown",
   "id": "8002b329",
   "metadata": {},
   "source": [
    "Ans :"
   ]
  },
  {
   "cell_type": "markdown",
   "id": "84438952",
   "metadata": {},
   "source": [
    "* The **\\ . \\ ( and \\ ) ** escape characters in the raw string passed to re.compile() will match actual parenthesis characters.\n",
    "* Periods and parentheses can be escaped with a backslash: **\\ ., \\ (, and \\ ).**"
   ]
  },
  {
   "cell_type": "code",
   "execution_count": 7,
   "id": "209b8783",
   "metadata": {},
   "outputs": [
    {
     "name": "stdout",
     "output_type": "stream",
     "text": [
      "(415) 555-4242\n"
     ]
    }
   ],
   "source": [
    "# Example Program\n",
    "import re\n",
    "phoneNumRegex = re.compile(r'(\\(\\d\\d\\d\\)) (\\d\\d\\d-\\d\\d\\d\\d)')   # search exact number\n",
    "mo = phoneNumRegex.search('My phone number is (415) 555-4242.')\n",
    "print(mo.group()) # group() methods returns actual number that match the pattern"
   ]
  },
  {
   "cell_type": "markdown",
   "id": "4e401265",
   "metadata": {},
   "source": [
    "### Q 7. The findall() method returns a string list or a list of string tuples. What causes it to return one of the two options?"
   ]
  },
  {
   "cell_type": "markdown",
   "id": "5c73b865",
   "metadata": {},
   "source": [
    "Ans :"
   ]
  },
  {
   "cell_type": "markdown",
   "id": "222b0452",
   "metadata": {},
   "source": [
    "* If the regex pattern has no groups, a list of strings matched is returned. if the regex pattern has groups, a list of tuple of strings is returned."
   ]
  },
  {
   "cell_type": "code",
   "execution_count": 8,
   "id": "8c7b9855",
   "metadata": {},
   "outputs": [
    {
     "name": "stdout",
     "output_type": "stream",
     "text": [
      "[('(415)', '555-4242')]\n",
      "['415-555-4242']\n"
     ]
    }
   ],
   "source": [
    "# Example Program\n",
    "import re\n",
    "phoneNumRegex = re.compile(r'(\\(\\d\\d\\d\\)) (\\d\\d\\d-\\d\\d\\d\\d)')\n",
    "mo = phoneNumRegex.findall('My phone number is (415) 555-4242.')\n",
    "print(mo)\n",
    "\n",
    "# Example Program\n",
    "import re\n",
    "phoneNumRegex = re.compile(r'\\d{3}-\\d{3}-\\d{4}')\n",
    "mo = phoneNumRegex.findall('My number is 415-555-4242.')\n",
    "print(mo) # Prints all groups in a tuple format"
   ]
  },
  {
   "cell_type": "markdown",
   "id": "b35de313",
   "metadata": {},
   "source": [
    "### Q 8. In standard expressions, what does the | character mean?"
   ]
  },
  {
   "cell_type": "markdown",
   "id": "016a5340",
   "metadata": {},
   "source": [
    "Ans :"
   ]
  },
  {
   "cell_type": "markdown",
   "id": "af58c8a4",
   "metadata": {},
   "source": [
    "* In Standard Expressions | means OR operator.\n",
    "* **|**   -**(Pipe)** Used to specify multiple patterns. For example, P1|P2, where P1 and P2 are two different regexes."
   ]
  },
  {
   "cell_type": "code",
   "execution_count": 9,
   "id": "655cd7b0",
   "metadata": {},
   "outputs": [
    {
     "data": {
      "text/plain": [
       "'Banana'"
      ]
     },
     "execution_count": 9,
     "metadata": {},
     "output_type": "execute_result"
    }
   ],
   "source": [
    "fruitRegex = re.compile (r'Banana|Apple Fruit')  # use pipe - |\n",
    "mo1 = fruitRegex.search('Banana and Apple Fruit') # search either 'Banana' or 'Apple Fruit'.\n",
    "mo1.group()"
   ]
  },
  {
   "cell_type": "code",
   "execution_count": 10,
   "id": "2f712865",
   "metadata": {},
   "outputs": [
    {
     "data": {
      "text/plain": [
       "'Apple Fruit'"
      ]
     },
     "execution_count": 10,
     "metadata": {},
     "output_type": "execute_result"
    }
   ],
   "source": [
    "mo2 = fruitRegex.search('Apple Fruit and Banana') # search either 'Banana' or 'Apple Fruit'.\n",
    "mo2.group()"
   ]
  },
  {
   "cell_type": "markdown",
   "id": "ff9df712",
   "metadata": {},
   "source": [
    "* The | character is called a pipe. You can use it anywhere you want to match one of many expressions. \n",
    "For example, the regular expression r 'Banana|Apple Fruit' will match either 'Banana' or 'Apple Fruit'.\n",
    "* When both Banana and Apple Fruit occur in the searched string, the first occurrence of matching text will be \n",
    "returned as the Match object.\n",
    "* The | character signifies matching “either, or” between two groups"
   ]
  },
  {
   "cell_type": "markdown",
   "id": "6ea94e55",
   "metadata": {},
   "source": [
    "### Q 9. In regular expressions, what does ? the character stand for?"
   ]
  },
  {
   "cell_type": "markdown",
   "id": "aa0c68bb",
   "metadata": {},
   "source": [
    "Ans :"
   ]
  },
  {
   "cell_type": "markdown",
   "id": "41f4adb1",
   "metadata": {},
   "source": [
    "* **?((Question mark))**   - Match 0 or 1 repetition of the regex.\n",
    "* In Python, the question mark operator or sign (?) inside a regex pattern means the preceding character or expression to repeat either zero or one time only. This means that the number of possible repetitions is strictly limited on both ends."
   ]
  },
  {
   "cell_type": "code",
   "execution_count": 11,
   "id": "0991ecd5",
   "metadata": {},
   "outputs": [
    {
     "name": "stdout",
     "output_type": "stream",
     "text": [
      "['4567', '78453']\n"
     ]
    }
   ],
   "source": [
    "import re\n",
    "\n",
    "target_string = \"Numbers are 8,23, 886, 4567, 78453\"\n",
    "# Question mark sign(?) to match 0 or 1 repetitions\n",
    "result = re.findall(r\"\\d\\d\\d\\d\\d?\", target_string)\n",
    "print(result)\n",
    "# Output ['4567', '78453']"
   ]
  },
  {
   "cell_type": "markdown",
   "id": "47228da7",
   "metadata": {},
   "source": [
    "### Q 10. In regular expressions, what is the difference between the + and * characters?"
   ]
  },
  {
   "cell_type": "markdown",
   "id": "ec832d8c",
   "metadata": {},
   "source": [
    "Ans :"
   ]
  },
  {
   "cell_type": "markdown",
   "id": "110ce44c",
   "metadata": {},
   "source": [
    "* The **+** matches one or more. \n",
    "*  The plus operator (+) inside a pattern means that the preceding expression or character should repeat one or more times with as many repetitions as possible, meaning it is a greedy repetition.\n",
    "* When we say plus is greedy, it means 1 or more repetitions of the preceding expression."
   ]
  },
  {
   "cell_type": "code",
   "execution_count": 12,
   "id": "c52751fb",
   "metadata": {},
   "outputs": [
    {
     "name": "stdout",
     "output_type": "stream",
     "text": [
      "['23', '886', '4567', '78453']\n"
     ]
    }
   ],
   "source": [
    "import re\n",
    "\n",
    "str1 = \"Numbers are 8,23, 886, 4567, 78453\"\n",
    "# Plus sign(+) to match 1 or more repetitions\n",
    "result = re.findall(r\"\\d\\d+\", str1)\n",
    "print(result)\n",
    "# Output ['23', '886', '4567', '78453']\n"
   ]
  },
  {
   "cell_type": "markdown",
   "id": "24ff999a",
   "metadata": {},
   "source": [
    "* The **(*)** matches zero or more.\n",
    "* The asterisk operator or sign inside a pattern means that the preceding expression or character should repeat 0 or more times with as many repetitions as possible, meaning it is a greedy repetition.\n",
    "* When we say * asterisk is greedy, it means zero or more repetitions of the preceding expression."
   ]
  },
  {
   "cell_type": "code",
   "execution_count": 13,
   "id": "899a35e4",
   "metadata": {},
   "outputs": [
    {
     "name": "stdout",
     "output_type": "stream",
     "text": [
      "['8', '23', '886', '4567', '78453']\n"
     ]
    }
   ],
   "source": [
    "import re\n",
    "\n",
    "str1 = \"Numbers are 8,23, 886, 4567, 78453\"\n",
    "# asterisk sign(*) to match 0 or more repetitions\n",
    "\n",
    "result = re.findall(r\"\\d\\d*\", str1)\n",
    "print(result)\n",
    "# Output ['8', '23', '886', '4567', '78453']"
   ]
  },
  {
   "cell_type": "markdown",
   "id": "b1f22fed",
   "metadata": {},
   "source": [
    "### Q 11. What is the difference between {4} and {4,5} in regular expression?"
   ]
  },
  {
   "cell_type": "markdown",
   "id": "506f1283",
   "metadata": {},
   "source": [
    "Ans :"
   ]
  },
  {
   "cell_type": "markdown",
   "id": "a885b99c",
   "metadata": {},
   "source": [
    "* The {4} matches exactly four instances of the preceding group. \n",
    "* The {4,5} matches between four and five instances."
   ]
  },
  {
   "cell_type": "code",
   "execution_count": 14,
   "id": "dfc6530a",
   "metadata": {},
   "outputs": [
    {
     "name": "stdout",
     "output_type": "stream",
     "text": [
      "Matching number:  ['1993', '2199']\n"
     ]
    }
   ],
   "source": [
    "import re\n",
    "\n",
    "target_string = \"Emma is a basketball player who was born on June 17, 1993 not in 21994\"\n",
    "\n",
    "# match at the end\n",
    "result = re.findall(r\"\\d{4}\", target_string)\n",
    "print(\"Matching number: \", result)  \n",
    "# Output 1993"
   ]
  },
  {
   "cell_type": "code",
   "execution_count": 15,
   "id": "00ad78d3",
   "metadata": {},
   "outputs": [
    {
     "name": "stdout",
     "output_type": "stream",
     "text": [
      "<re.Match object; span=(0, 4), match='Jess'>\n",
      "Jess\n",
      "['Jess', 'love', 'Pytho', 'panda']\n"
     ]
    }
   ],
   "source": [
    "import re\n",
    "\n",
    "target_string = \"Jess love Python and pandas\"\n",
    "# Match six-letter word\n",
    "pattern = r\"\\w{4,5}\"\n",
    "\n",
    "# match() method\n",
    "result = re.match(pattern, target_string)\n",
    "print(result)\n",
    "# Output None\n",
    "\n",
    "# search() method\n",
    "result = re.search(pattern, target_string)\n",
    "print(result.group()) \n",
    "# Output 'Python'\n",
    "\n",
    "# findall() method\n",
    "result = re.findall(pattern, target_string)\n",
    "print(result) \n",
    "# Output ['Python', 'pandas'] "
   ]
  },
  {
   "cell_type": "markdown",
   "id": "20701339",
   "metadata": {},
   "source": [
    "### Q 12. What do you mean by the \\d, \\w, and \\s shorthand character classes signify in regular expressions?"
   ]
  },
  {
   "cell_type": "markdown",
   "id": "65ad5f68",
   "metadata": {},
   "source": [
    "Ans :"
   ]
  },
  {
   "cell_type": "markdown",
   "id": "c4daa4bb",
   "metadata": {},
   "source": [
    "* These special sequence represents the basic predefined character classes, which have a unique meaning. Each special sequence makes specific common patterns more comfortable to use.<br>\n",
    "* **Backslash d ( \\d )**<br>\n",
    "    * The \\d matches any digits from 0 to 9 inside the target string.\n",
    "    * This special sequence is equivalent to character class [0-9] \n",
    "    * Use either \\d or [0-9].\n",
    "* **Backslash w ( \\w )**<br>\n",
    "    * The \\w matches any alphanumeric character, also called a word character.\n",
    "    * This includes lowercase and uppercase letters, the digits 0 to 9, and the underscore character.\n",
    "    * Equivalent to character class [a-zA-z0-9_].\n",
    "    * You can use either \\w or [a-zA-z0-9_].\n",
    "* **Backslash lowercase s ( \\s )**<br>\n",
    "    * The \\s matches any whitespace character inside the target string. Whitespace characters covered by this sequence are as follows :\n",
    "        * common space generated by the space key from the keyboard. (\"  \").\n",
    "        * Tab character (\\t).\n",
    "        * Newline character (\\n).\n",
    "        * Carriage return (\\r).\n",
    "        * form feed (\\f).\n",
    "        * Vertical tab (\\v)\n",
    "* Also, this special sequence is equivalent to character class [ \\t\\n\\x0b\\r\\f] . So you can use either \\s or [ \\t\\n\\x0b\\r\\f]."
   ]
  },
  {
   "cell_type": "code",
   "execution_count": 16,
   "id": "011e5cdd",
   "metadata": {},
   "outputs": [
    {
     "name": "stdout",
     "output_type": "stream",
     "text": [
      "['8', '0', '0', '0']\n",
      "['8000']\n"
     ]
    }
   ],
   "source": [
    "import re\n",
    "\n",
    "target_str = \"8000 dollar\"\n",
    "\n",
    "# \\d to match all digits\n",
    "result = re.findall(r\"\\d\", target_str)\n",
    "print(result)\n",
    "# Output ['8', '0', '0', '0']\n",
    "\n",
    "# \\d to match all numbers\n",
    "result = re.findall(r\"\\d+\", target_str)\n",
    "print(result)\n",
    "# Output ['8000']\n"
   ]
  },
  {
   "cell_type": "code",
   "execution_count": 17,
   "id": "85f1e075",
   "metadata": {},
   "outputs": [
    {
     "name": "stdout",
     "output_type": "stream",
     "text": [
      "['J', 'e', 's', 's', 'a', 'a', 'n', 'd', 'K', 'e', 'l', 'l', 'y']\n",
      "['Jessa', 'Kelly']\n"
     ]
    }
   ],
   "source": [
    "import re\n",
    "\n",
    "target_str = \"Jessa and Kelly!!\"\n",
    "\n",
    "# \\w to match all alphanumeric characters\n",
    "result = re.findall(r\"\\w\", target_str)\n",
    "print(result)\n",
    "# Output ['J', 'e', 's', 's', 'a', 'a', 'n', 'd', 'K', 'e', 'l', 'l', 'y']\n",
    "\n",
    "# \\w{5} to 5-letter word\n",
    "result = re.findall(r\"\\w{5}\", target_str)\n",
    "print(result)\n",
    "# Output ['Jessa', 'Kelly']"
   ]
  },
  {
   "cell_type": "code",
   "execution_count": 18,
   "id": "88ef6c88",
   "metadata": {},
   "outputs": [
    {
     "name": "stdout",
     "output_type": "stream",
     "text": [
      "[' ', '\\t', ' ', '\\n', ' ', ' ']\n",
      "['Jessa', 'and', 'Kelly']\n",
      "Jessa and Kelly \n"
     ]
    }
   ],
   "source": [
    "import re\n",
    "\n",
    "target_str = \"Jessa \\t \\n  \"\n",
    "\n",
    "# \\s to match any whitespace\n",
    "result = re.findall(r\"\\s\", target_str)\n",
    "print(result)\n",
    "# Output [' ', ' ', '\\t', ' ', '\\n', ' ', ' ']\n",
    "\n",
    "# split on white-spaces\n",
    "result = re.split(r\"\\s+\", \"Jessa and Kelly\")\n",
    "print(result)\n",
    "# Output ['Jessa', 'and', 'Kelly']\n",
    "\n",
    "# remove all multiple white-spaces with single space\n",
    "result = re.sub(r\"\\s+\", \" \", \"Jessa   and   \\t \\t Kelly  \")\n",
    "print(result)\n",
    "# Output 'Jessa and Kelly '"
   ]
  },
  {
   "cell_type": "markdown",
   "id": "076680ee",
   "metadata": {},
   "source": [
    "### Q 13. What do means by \\D, \\W, and \\S shorthand character classes signify in regular expressions?"
   ]
  },
  {
   "cell_type": "markdown",
   "id": "ebe694af",
   "metadata": {},
   "source": [
    "Ans :"
   ]
  },
  {
   "cell_type": "markdown",
   "id": "8b2bcbd4",
   "metadata": {},
   "source": [
    "* These special sequence represents the basic predefined character classes, which have a unique meaning. Each special sequence makes specific common patterns more comfortable to use.<br>\n",
    "* **Backslash capital D ( \\D )**<br>\n",
    "    * This sequence is the exact opposite of \\d, and it matches any non-digit character.\n",
    "    * Any character in the target string that is not a digit would be the equivalent of the \\D.\n",
    "    * Also, you can write \\D using character class [^0-9]  (caret ^ at the beginning of the character class denotes negation).\n",
    "    \n",
    "* **Backslash capital W ( \\W )**<br>\n",
    "    * This sequence is the exact opposite of \\w, i.e., It matches any NON-alphanumeric character.\n",
    "    * Any character in the target string that is not alphanumeric would be the equivalent of the \\W.\n",
    "    * you can write \\W using character class [^a-zA-z0-9_] .\n",
    "    \n",
    "* **Backslash capital S ( \\S )**<br>\n",
    "        * This sequence is the exact opposite of \\s, and it matches any NON-whitespace characters. Any character in the target string that is not whitespace would be the equivalent of the \\S.<br>\n",
    "        * Also, you can write \\S using character class [^ \\t\\n\\x0b\\r\\f] ."
   ]
  },
  {
   "cell_type": "code",
   "execution_count": 19,
   "id": "31c2547e",
   "metadata": {},
   "outputs": [
    {
     "name": "stdout",
     "output_type": "stream",
     "text": [
      "[' ', 'd', 'o', 'l', 'l', 'a', 'r']\n"
     ]
    }
   ],
   "source": [
    "import re\n",
    "\n",
    "target_str = \"8000 dollar\"\n",
    "\n",
    "# \\D to match non-digits\n",
    "result = re.findall(r\"\\D\", target_str)\n",
    "print(result)\n",
    "# Output [' ', 'd', 'o', 'l', 'l', 'a', 'r']"
   ]
  },
  {
   "cell_type": "code",
   "execution_count": 20,
   "id": "3185dcbf",
   "metadata": {},
   "outputs": [
    {
     "name": "stdout",
     "output_type": "stream",
     "text": [
      "[' ', ' ', '!', '!']\n"
     ]
    }
   ],
   "source": [
    "import re\n",
    "\n",
    "target_str = \"Jessa and Kelly!!\"\n",
    "\n",
    "# \\W to match NON-alphanumeric\n",
    "result = re.findall(r\"\\W\", target_str)\n",
    "print(result)\n",
    "# Output [' ', ' ', '!', '!']"
   ]
  },
  {
   "cell_type": "code",
   "execution_count": 21,
   "id": "ebd37aeb",
   "metadata": {},
   "outputs": [
    {
     "name": "stdout",
     "output_type": "stream",
     "text": [
      "['J', 'e', 's', 's', 'a']\n"
     ]
    }
   ],
   "source": [
    "import re\n",
    "\n",
    "target_str = \"Jessa \\t \\n  \"\n",
    "\n",
    "\n",
    "# \\S to match non-whitespace\n",
    "result = re.findall(r\"\\S\", target_str)\n",
    "print(result)\n",
    "# Output ['J', 'e', 's', 's', 'a']"
   ]
  },
  {
   "cell_type": "markdown",
   "id": "a4f84a13",
   "metadata": {},
   "source": [
    "### Q 14. What is the difference between .*? and .*?"
   ]
  },
  {
   "cell_type": "markdown",
   "id": "3d1eb0f2",
   "metadata": {},
   "source": [
    "Ans :"
   ]
  },
  {
   "cell_type": "markdown",
   "id": "c8c04d5b",
   "metadata": {},
   "source": [
    "*  .* - > The dot-star uses greedy mode: It will always try to match as much text as possible.\n",
    "*  .* ? - > To match any and all text in a non-greedy fashion, use the dot, star, and question mark (.*?).\n",
    "* Like with braces,  the question mark tells Python to match in a non-greedy way."
   ]
  },
  {
   "cell_type": "code",
   "execution_count": 22,
   "id": "fcf23f2a",
   "metadata": {},
   "outputs": [
    {
     "data": {
      "text/plain": [
       "'<To serve man> for dinner.>'"
      ]
     },
     "execution_count": 22,
     "metadata": {},
     "output_type": "execute_result"
    }
   ],
   "source": [
    "greedyRegex = re.compile(r'<.*>')    \n",
    "mo = greedyRegex.search('<To serve man> for dinner.>')  # greedy mode\n",
    "mo.group()"
   ]
  },
  {
   "cell_type": "code",
   "execution_count": 23,
   "id": "fd2c6e66",
   "metadata": {},
   "outputs": [
    {
     "data": {
      "text/plain": [
       "'<To serve man>'"
      ]
     },
     "execution_count": 23,
     "metadata": {},
     "output_type": "execute_result"
    }
   ],
   "source": [
    "nongreedyRegex = re.compile(r'<.*?>')\n",
    "mo = nongreedyRegex.search('<To serve man> for dinner.>')   # non greedy mode\n",
    "mo.group()"
   ]
  },
  {
   "cell_type": "markdown",
   "id": "e77deeba",
   "metadata": {},
   "source": [
    "### Q 15. What is the syntax for matching both numbers and lowercase letters with a character class?"
   ]
  },
  {
   "cell_type": "markdown",
   "id": "5f97b85b",
   "metadata": {},
   "source": [
    "Ans :"
   ]
  },
  {
   "cell_type": "markdown",
   "id": "2789aed1",
   "metadata": {},
   "source": [
    "* Either [0-9a-z] or [a-z0-9]"
   ]
  },
  {
   "cell_type": "code",
   "execution_count": 24,
   "id": "29e04fe0",
   "metadata": {},
   "outputs": [
    {
     "data": {
      "text/plain": [
       "'1'"
      ]
     },
     "execution_count": 24,
     "metadata": {},
     "output_type": "execute_result"
    }
   ],
   "source": [
    "reg1 = re.compile(r'[0-9a-z]')\n",
    "mo1 = reg1.search('100 times I am Reading  this for 100 th time') # search match first number\n",
    "mo1.group()"
   ]
  },
  {
   "cell_type": "code",
   "execution_count": 25,
   "id": "815ced6b",
   "metadata": {},
   "outputs": [
    {
     "data": {
      "text/plain": [
       "'t'"
      ]
     },
     "execution_count": 25,
     "metadata": {},
     "output_type": "execute_result"
    }
   ],
   "source": [
    "reg2 = re.compile(r'[a-z0-9]')\n",
    "\n",
    "mo1 = reg2.search('times I am Reading  this for 100 th time')  # search match first character\n",
    "mo1.group()"
   ]
  },
  {
   "cell_type": "markdown",
   "id": "b6cf95a0",
   "metadata": {},
   "source": [
    "### Q 16. What is the procedure for making a normal expression in regax case insensitive?"
   ]
  },
  {
   "cell_type": "markdown",
   "id": "854b3109",
   "metadata": {},
   "source": [
    "Ans :"
   ]
  },
  {
   "cell_type": "markdown",
   "id": "92ed294c",
   "metadata": {},
   "source": [
    "* Regex case insensitive, which stands for ignoring a case. specified this flag in the regex method as an argument to perform case insensitive matching. You can specify this flag using two ways.<br>\n",
    "        1. re.I<br>\n",
    "        2. re.IGNORECASE"
   ]
  },
  {
   "cell_type": "code",
   "execution_count": 26,
   "id": "f2ac79c8",
   "metadata": {},
   "outputs": [
    {
     "name": "stdout",
     "output_type": "stream",
     "text": [
      "['kelly']\n",
      "['KELLy', 'kelly']\n",
      "['KELLy', 'kelly']\n"
     ]
    }
   ],
   "source": [
    "import re\n",
    "\n",
    "target_str = \"KELLy is a Python developer at a PYnative. kelly loves ML and AI\"\n",
    "\n",
    "# Without using re.I\n",
    "result = re.findall(r\"kelly\", target_str)\n",
    "print(result)\n",
    "# Output ['kelly']\n",
    "\n",
    "# with re.I\n",
    "result = re.findall(r\"kelly\", target_str, re.I)\n",
    "print(result)\n",
    "# Output ['KELLy', 'kelly']\n",
    "\n",
    "# with re.IGNORECASE\n",
    "result = re.findall(r\"kelly\", target_str, re.IGNORECASE)\n",
    "print(result)\n",
    "# Output ['KELLy', 'kelly']"
   ]
  },
  {
   "cell_type": "markdown",
   "id": "2bf6975d",
   "metadata": {},
   "source": [
    "### Q 17. What does the . character normally match? What does it match if re.DOTALL is passed as 2nd argument in re.compile()?"
   ]
  },
  {
   "cell_type": "markdown",
   "id": "5a08de1b",
   "metadata": {},
   "source": [
    "Ans :"
   ]
  },
  {
   "cell_type": "markdown",
   "id": "cefcfdac",
   "metadata": {},
   "source": [
    "* The . character normally matches any character except the newline character."
   ]
  },
  {
   "cell_type": "code",
   "execution_count": 27,
   "id": "86f4b7e2",
   "metadata": {},
   "outputs": [
    {
     "name": "stdout",
     "output_type": "stream",
     "text": [
      "E\n",
      "Emma loves \n"
     ]
    }
   ],
   "source": [
    "import re\n",
    "\n",
    "target_string = \"Emma loves \\n Python\"\n",
    "# dot(.) metacharacter to match any character\n",
    "result = re.search(r'.', target_string)\n",
    "print(result.group())\n",
    "# Output 'E'\n",
    "\n",
    "# .+ to match any string except newline\n",
    "result = re.search(r'.+', target_string)\n",
    "print(result.group())\n",
    "# Output 'Emma loves '"
   ]
  },
  {
   "cell_type": "markdown",
   "id": "7efc3a79",
   "metadata": {},
   "source": [
    "* If you want the DOT to match the newline character as well, use the re.DOTALL or re.S flag as an argument inside the search() method."
   ]
  },
  {
   "cell_type": "code",
   "execution_count": 28,
   "id": "3f37afce",
   "metadata": {},
   "outputs": [
    {
     "name": "stdout",
     "output_type": "stream",
     "text": [
      "Emma is a Python developer \n",
      " She also knows ML and AI\n"
     ]
    }
   ],
   "source": [
    "import re\n",
    "\n",
    "str1 = \"Emma is a Python developer \\n She also knows ML and AI\"\n",
    "\n",
    "# dot(.) characters to match newline\n",
    "result = re.search(r\".+\", str1, re.S)\n",
    "print(result.group())"
   ]
  },
  {
   "cell_type": "markdown",
   "id": "d7926b67",
   "metadata": {},
   "source": [
    "### Q 18. If numReg = re.compile(r'\\d+'), what will numRegex.sub('X', '11 drummers, 10 pipers, five rings, 4 hen') return?"
   ]
  },
  {
   "cell_type": "markdown",
   "id": "24ed3fc7",
   "metadata": {},
   "source": [
    "Ans :"
   ]
  },
  {
   "cell_type": "code",
   "execution_count": 29,
   "id": "facf928f",
   "metadata": {},
   "outputs": [
    {
     "data": {
      "text/plain": [
       "'X drummers, X pipers, five rings, X hen'"
      ]
     },
     "execution_count": 29,
     "metadata": {},
     "output_type": "execute_result"
    }
   ],
   "source": [
    "numRegex = re.compile(r'\\d+')\n",
    "mo = numRegex.sub('X', '11 drummers, 10 pipers, five rings, 4 hen')\n",
    "mo"
   ]
  },
  {
   "cell_type": "markdown",
   "id": "c547f352",
   "metadata": {},
   "source": [
    "### Q 19. What does passing re.VERBOSE as the 2nd argument to re.compile() allow to do?"
   ]
  },
  {
   "cell_type": "markdown",
   "id": "519a21f6",
   "metadata": {},
   "source": [
    "Ans :"
   ]
  },
  {
   "cell_type": "markdown",
   "id": "d9a9bfc9",
   "metadata": {},
   "source": [
    "* re.VERBOSE \n",
    "   *  Allow comment in the regex. This flag is useful to make regex more readable by allowing comments in the regex.\n",
    "   *  That re.X flag stands for verbose. This flag allows more flexibility and better formatting when writing more complex regex patterns between the parentheses of the match(), search(), or other regex methods. "
   ]
  },
  {
   "cell_type": "code",
   "execution_count": 30,
   "id": "890d6b88",
   "metadata": {},
   "outputs": [],
   "source": [
    "# Without Using VERBOSE\n",
    "regex_email = re.compile(r'^([a-z0-9_\\.-]+)@([0-9a-z\\.-]+)\\.([a-z\\.]{2, 6})$', re.IGNORECASE)\n",
    " \n",
    "# Using VERBOSE\n",
    "regex_email = re.compile(r\"\"\"\n",
    "                            ^([a-z0-9_\\.-]+)              # local Part like username\n",
    "                            @                             # single @ sign \n",
    "                            ([0-9a-z\\.-]+)                # Domain name like google\n",
    "                            \\.                            # single Dot .\n",
    "                            ([a-z]{2,6})$                 # Top level Domain  like com/in/org\n",
    "                         \"\"\",re.VERBOSE | re.IGNORECASE) "
   ]
  },
  {
   "cell_type": "code",
   "execution_count": 31,
   "id": "def932b0",
   "metadata": {},
   "outputs": [
    {
     "name": "stdout",
     "output_type": "stream",
     "text": [
      "Jessa\n",
      "8000\n"
     ]
    }
   ],
   "source": [
    "import re\n",
    "\n",
    "target_str = \"Jessa is a Python developer, and her salary is 8000\"\n",
    "\n",
    "# re.X to add indentation  and comment in regex\n",
    "result = re.search(r\"\"\"(^\\w{2,}) # match 5-letter word at the start\n",
    "                        .+(\\d{4}$) # match 4-digit number at the end \"\"\", target_str, re.VERBOSE)\n",
    "# Fiver-letter word\n",
    "print(result.group(1))\n",
    "# Output 'Jessa'\n",
    "\n",
    "# 4-digit number\n",
    "print(result.group(2))\n",
    "# Output 8000"
   ]
  },
  {
   "cell_type": "markdown",
   "id": "f5582dee",
   "metadata": {},
   "source": [
    "### 20. How would you write a regex that match a number with comma for every three digits? It must match the given following:\n",
    "\n",
    "**'42'**<br>\n",
    "**'1,234'**<br>\n",
    "**'6,368,745'**<br>\n",
    "**but not the following:**<br>\n",
    "**'12,34,567' (which has only two digits between the commas)**<br>\n",
    "**'1234' (which lacks commas)**<br>\n"
   ]
  },
  {
   "cell_type": "markdown",
   "id": "efd45a94",
   "metadata": {},
   "source": [
    "Ans :"
   ]
  },
  {
   "cell_type": "code",
   "execution_count": 32,
   "id": "342f7c13",
   "metadata": {},
   "outputs": [
    {
     "data": {
      "text/plain": [
       "'42'"
      ]
     },
     "execution_count": 32,
     "metadata": {},
     "output_type": "execute_result"
    }
   ],
   "source": [
    "reg1 = re.compile(r'^\\d{1,3}(,\\d{3})*$')\n",
    "mo1 = reg1.search('42')\n",
    "mo1.group()\n"
   ]
  },
  {
   "cell_type": "code",
   "execution_count": 33,
   "id": "7ed8cfb5",
   "metadata": {},
   "outputs": [
    {
     "data": {
      "text/plain": [
       "'1,234'"
      ]
     },
     "execution_count": 33,
     "metadata": {},
     "output_type": "execute_result"
    }
   ],
   "source": [
    "reg1 = re.compile(r'^\\d{1,3}(,\\d{3})*$')\n",
    "mo1 = reg1.search('1,234')\n",
    "mo1.group()"
   ]
  },
  {
   "cell_type": "code",
   "execution_count": 34,
   "id": "5eee14b7",
   "metadata": {},
   "outputs": [
    {
     "data": {
      "text/plain": [
       "'6,368,745'"
      ]
     },
     "execution_count": 34,
     "metadata": {},
     "output_type": "execute_result"
    }
   ],
   "source": [
    "reg1 = re.compile(r'^\\d{1,3}(,\\d{3})*$')\n",
    "mo1 = reg1.search('6,368,745')\n",
    "mo1.group()"
   ]
  },
  {
   "cell_type": "markdown",
   "id": "d7946eaa",
   "metadata": {},
   "source": [
    "### Q 21. How would you write a regex that matches the full name of someone whose last name is Watanabe? You can assume that the first name that comes before it will always be one word that begins with a capital letter. The regex must match the following:\n",
    "**'Haruto Watanabe'**<br>\n",
    "**'Alice Watanabe'**<br>\n",
    "**'RoboCop Watanabe'**<br>\n",
    "**but not the following:**<br>\n",
    "**'haruto Watanabe' (where the first name is not capitalized)**<br>\n",
    "**'Mr. Watanabe' (where the preceding word has a nonletter character)**<br>\n",
    "**'Watanabe' (which has no first name)**<br>\n",
    "**'Haruto watanabe' (where Watanabe is not capitalized)**<br>\n"
   ]
  },
  {
   "cell_type": "markdown",
   "id": "84ce990d",
   "metadata": {},
   "source": [
    "Ans :"
   ]
  },
  {
   "cell_type": "code",
   "execution_count": 35,
   "id": "5c23322e",
   "metadata": {},
   "outputs": [
    {
     "name": "stdout",
     "output_type": "stream",
     "text": [
      "Output:  Haruto Watanabe -> <re.Match object; span=(0, 15), match='Haruto Watanabe'>\n",
      "Output:  Alice Watanabe -> <re.Match object; span=(0, 14), match='Alice Watanabe'>\n",
      "Output:  RoboCop Watanabe -> <re.Match object; span=(4, 16), match='Cop Watanabe'>\n",
      "Output:  haruto Watanabe -> None\n",
      "Output:  Mr. Watanabe -> None\n",
      "Output:  Watanabe -> None\n",
      "Output:  Haruto watanabe -> None\n"
     ]
    }
   ],
   "source": [
    "import re\n",
    "pattern = r'[A-Z]{1}[a-z]*\\sWatanabe'\n",
    "namex = re.compile(pattern)\n",
    "for name in ['Haruto Watanabe','Alice Watanabe','RoboCop Watanabe','haruto Watanabe','Mr. Watanabe','Watanabe','Haruto watanabe']:\n",
    "    print('Output: ',name,'->',namex.search(name))"
   ]
  },
  {
   "cell_type": "code",
   "execution_count": 36,
   "id": "abbacd72",
   "metadata": {},
   "outputs": [
    {
     "data": {
      "text/plain": [
       "'Haruto Watanabe'"
      ]
     },
     "execution_count": 36,
     "metadata": {},
     "output_type": "execute_result"
    }
   ],
   "source": [
    "name = re.compile(r'[A-Z][a-z]*\\sWatanabe')\n",
    "reg1 = re.compile(r'^\\d{1,3}(,\\d{haruto Watanabe3})*$')\n",
    "mo1 = name.search('Haruto Watanabe')\n",
    "mo1.group()"
   ]
  },
  {
   "cell_type": "code",
   "execution_count": 37,
   "id": "6cb7fdf9",
   "metadata": {},
   "outputs": [
    {
     "data": {
      "text/plain": [
       "'Alice Watanabe'"
      ]
     },
     "execution_count": 37,
     "metadata": {},
     "output_type": "execute_result"
    }
   ],
   "source": [
    "name = re.compile(r'[A-Z][a-z]*\\sWatanabe')\n",
    "reg1 = re.compile(r'^\\d{1,3}(,\\d{3})*$')\n",
    "mo1 = name.search('Alice Watanabe')\n",
    "mo1.group()"
   ]
  },
  {
   "cell_type": "code",
   "execution_count": 38,
   "id": "788f8070",
   "metadata": {},
   "outputs": [
    {
     "data": {
      "text/plain": [
       "'Robocop Watanabe'"
      ]
     },
     "execution_count": 38,
     "metadata": {},
     "output_type": "execute_result"
    }
   ],
   "source": [
    "name = re.compile(r'[A-Z][a-z]*\\sWatanabe')\n",
    "reg1 = re.compile(r'^\\d{1,3}(,\\d{3})*$')\n",
    "mo1 = name.search('Robocop Watanabe')\n",
    "mo1.group()"
   ]
  },
  {
   "cell_type": "markdown",
   "id": "078f15a9",
   "metadata": {},
   "source": [
    "### 22. How would you write a regex that matches a sentence where the first word is either Alice, Bob, or Carol; the second word is either eats, pets, or throws; the third word is apples, cats, or baseballs; and the sentence ends with a period? This regex should be case-insensitive. It must match the following:\n",
    "**'Alice eats apples.'**<br>\n",
    "**'Bob pets cats.'**<br>\n",
    "**'Carol throws baseballs.'**<br>\n",
    "**'Alice throws Apples.'**<br>\n",
    "**'BOB EATS CATS.'**<br>\n",
    "**but not the following:**<br>\n",
    "**'RoboCop eats apples.'**<br>\n",
    "**'ALICE THROWS FOOTBALLS.'**<br>\n",
    "**'Carol eats 7 cats.'**<br>\n"
   ]
  },
  {
   "cell_type": "markdown",
   "id": "9db0fe0f",
   "metadata": {},
   "source": [
    "Ans :"
   ]
  },
  {
   "cell_type": "code",
   "execution_count": 39,
   "id": "8aaae507",
   "metadata": {},
   "outputs": [
    {
     "data": {
      "text/plain": [
       "'Alice eats apples.'"
      ]
     },
     "execution_count": 39,
     "metadata": {},
     "output_type": "execute_result"
    }
   ],
   "source": [
    "name = re.compile(r'(Alice|Bob|Carol)\\s(eats|pets|throws)\\s(apples|cats|baseballs)\\.', re.IGNORECASE)\n",
    "\n",
    "mo1 = name.search('Alice eats apples.')\n",
    "mo1.group()"
   ]
  },
  {
   "cell_type": "code",
   "execution_count": 40,
   "id": "8940e9b0",
   "metadata": {},
   "outputs": [
    {
     "data": {
      "text/plain": [
       "'Carol throws baseballs.'"
      ]
     },
     "execution_count": 40,
     "metadata": {},
     "output_type": "execute_result"
    }
   ],
   "source": [
    "name = re.compile(r'(Alice|Bob|Carol)\\s(eats|pets|throws)\\s(apples|cats|baseballs)\\.', re.IGNORECASE)\n",
    "\n",
    "mo1 = name.search('Carol throws baseballs.')\n",
    "mo1.group()"
   ]
  },
  {
   "cell_type": "code",
   "execution_count": null,
   "id": "1c841541",
   "metadata": {},
   "outputs": [],
   "source": []
  },
  {
   "cell_type": "code",
   "execution_count": null,
   "id": "c08e2504",
   "metadata": {},
   "outputs": [],
   "source": []
  },
  {
   "cell_type": "code",
   "execution_count": null,
   "id": "5706fa1a",
   "metadata": {},
   "outputs": [],
   "source": []
  },
  {
   "cell_type": "code",
   "execution_count": null,
   "id": "36d691b6",
   "metadata": {},
   "outputs": [],
   "source": []
  },
  {
   "cell_type": "code",
   "execution_count": null,
   "id": "3521e2ab",
   "metadata": {},
   "outputs": [],
   "source": []
  },
  {
   "cell_type": "code",
   "execution_count": null,
   "id": "cafaaca8",
   "metadata": {},
   "outputs": [],
   "source": []
  },
  {
   "cell_type": "code",
   "execution_count": null,
   "id": "343b07c9",
   "metadata": {},
   "outputs": [],
   "source": []
  },
  {
   "cell_type": "code",
   "execution_count": null,
   "id": "3695729e",
   "metadata": {},
   "outputs": [],
   "source": []
  },
  {
   "cell_type": "code",
   "execution_count": null,
   "id": "823b352a",
   "metadata": {},
   "outputs": [],
   "source": []
  },
  {
   "cell_type": "code",
   "execution_count": null,
   "id": "e2b40e27",
   "metadata": {},
   "outputs": [],
   "source": []
  },
  {
   "cell_type": "code",
   "execution_count": null,
   "id": "eded19c9",
   "metadata": {},
   "outputs": [],
   "source": []
  },
  {
   "cell_type": "code",
   "execution_count": null,
   "id": "64dbc963",
   "metadata": {},
   "outputs": [],
   "source": []
  },
  {
   "cell_type": "code",
   "execution_count": null,
   "id": "54fb722c",
   "metadata": {},
   "outputs": [],
   "source": []
  },
  {
   "cell_type": "code",
   "execution_count": null,
   "id": "8682d3ba",
   "metadata": {},
   "outputs": [],
   "source": []
  },
  {
   "cell_type": "code",
   "execution_count": null,
   "id": "fb2cd768",
   "metadata": {},
   "outputs": [],
   "source": []
  },
  {
   "cell_type": "code",
   "execution_count": null,
   "id": "5afc6aa9",
   "metadata": {},
   "outputs": [],
   "source": []
  }
 ],
 "metadata": {
  "kernelspec": {
   "display_name": "Python 3 (ipykernel)",
   "language": "python",
   "name": "python3"
  },
  "language_info": {
   "codemirror_mode": {
    "name": "ipython",
    "version": 3
   },
   "file_extension": ".py",
   "mimetype": "text/x-python",
   "name": "python",
   "nbconvert_exporter": "python",
   "pygments_lexer": "ipython3",
   "version": "3.9.13"
  }
 },
 "nbformat": 4,
 "nbformat_minor": 5
}
