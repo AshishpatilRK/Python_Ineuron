{
 "cells": [
  {
   "cell_type": "markdown",
   "id": "85415e38",
   "metadata": {},
   "source": [
    "# Assignment_13"
   ]
  },
  {
   "cell_type": "markdown",
   "id": "48210305",
   "metadata": {},
   "source": [
    "### Q1. What advantages do Excel spreadsheets have over CSV spreadsheets?"
   ]
  },
  {
   "cell_type": "markdown",
   "id": "f2418bd5",
   "metadata": {},
   "source": [
    "**Ans :**"
   ]
  },
  {
   "cell_type": "markdown",
   "id": "ec5bdd60",
   "metadata": {},
   "source": [
    "The Advantages of Excel over CSV are:\n",
    "\n",
    "* Excel (XLS and XLSX) file formats are better for storing and analysing complex data.\n",
    "* An Excel not only stores data but can also do operations on the data using macros, formulas etc\n",
    "* CSV files are plain-text files, Does not contain formatting, formulas, macros, etc. It is also known as flat files"
   ]
  },
  {
   "cell_type": "markdown",
   "id": "b1facfbb",
   "metadata": {},
   "source": [
    "### Q2.What do you pass to csv.reader() and csv.writer() to create reader and writer objects?"
   ]
  },
  {
   "cell_type": "markdown",
   "id": "7dcfea41",
   "metadata": {},
   "source": [
    "**Ans :**"
   ]
  },
  {
   "cell_type": "markdown",
   "id": "7224fa7e",
   "metadata": {},
   "source": [
    "* We pass a File object, obtained from a call to open()"
   ]
  },
  {
   "cell_type": "code",
   "execution_count": 2,
   "id": "624ee3d0",
   "metadata": {},
   "outputs": [
    {
     "data": {
      "text/plain": [
       "[['4/5/2014 13:34', 'Apples', '73'],\n",
       " ['4/5/2014 3:41', 'Cherries', '85'],\n",
       " ['4/6/2014 12:46', 'Pears', '14'],\n",
       " ['4/8/2014 8:59', 'Oranges', '52'],\n",
       " ['4/10/2014 2:07', 'Apples', '152'],\n",
       " ['4/10/2014 18:10', 'Bananas', '23'],\n",
       " ['4/10/2014 2:40', 'Strawberries', '98']]"
      ]
     },
     "execution_count": 2,
     "metadata": {},
     "output_type": "execute_result"
    }
   ],
   "source": [
    "import csv\n",
    "exFile = open('example.csv')\n",
    "exreader = csv.reader(exFile)\n",
    "exData = list(exreader)\n",
    "exData"
   ]
  },
  {
   "cell_type": "markdown",
   "id": "3378b1f0",
   "metadata": {},
   "source": [
    "### Q3. What modes do File objects for reader and writer objects need to be opened in?"
   ]
  },
  {
   "cell_type": "markdown",
   "id": "19acd9a4",
   "metadata": {},
   "source": [
    "**Ans :**"
   ]
  },
  {
   "cell_type": "markdown",
   "id": "2218cb62",
   "metadata": {},
   "source": [
    "* For csv.reader(), the file objects needed to be opened in read mode mode='r' \n",
    "* Whereas for csv.writer(iterable_file_object) the file objects needed to be opened in write mode mode='w'\n",
    "* File objects need to be opened in read-binary ('rb') for Reader objects and write-binary ('wb') for Writer objects"
   ]
  },
  {
   "cell_type": "markdown",
   "id": "4073bfed",
   "metadata": {},
   "source": [
    "### Q4. What method takes a list argument and writes it to a CSV file?"
   ]
  },
  {
   "cell_type": "markdown",
   "id": "ffe36b9c",
   "metadata": {},
   "source": [
    "**Ans :**"
   ]
  },
  {
   "cell_type": "markdown",
   "id": "f34c6de3",
   "metadata": {},
   "source": [
    "* csv.writer class provides two methods for writing to CSV. \n",
    "* They are writerow() and writerows(). writerow() method writes a single row at a time. \n",
    "* Whereas writerows() method is used to write multiple rows at a time."
   ]
  },
  {
   "cell_type": "code",
   "execution_count": 3,
   "id": "10e9d6ab",
   "metadata": {},
   "outputs": [],
   "source": [
    "# Example Program\n",
    "import csv      \n",
    "fields = ['Name', 'Branch', 'Year', 'CGPA'] #column names \n",
    "rows = [ \n",
    "            ['Nikhil', 'COE', '2', '9.0'],  # data rows of csv file \n",
    "            ['Sanchit', 'COE', '2', '9.1'], \n",
    "            ['Ravi', 'IT', '2', '9.3']\n",
    "       ] \n",
    "with open(\"university_records.csv\", 'w') as csvfile: \n",
    "    csvwriter = csv.writer(csvfile) # creating a csv writer object \n",
    "    csvwriter.writerow(fields) # writing the fields \n",
    "    csvwriter.writerows(rows) # writing the data rows "
   ]
  },
  {
   "cell_type": "markdown",
   "id": "0a3afc1f",
   "metadata": {},
   "source": [
    "### Q5. What do the keyword arguments delimiter and line terminator do?"
   ]
  },
  {
   "cell_type": "markdown",
   "id": "9e4442e9",
   "metadata": {},
   "source": [
    "**Ans :**"
   ]
  },
  {
   "cell_type": "markdown",
   "id": "89decf23",
   "metadata": {},
   "source": [
    "* The delimiter argument changes the string used to separate cells in a row. \n",
    "* The line terminator argument changes the string used to separate rows."
   ]
  },
  {
   "cell_type": "code",
   "execution_count": 5,
   "id": "7302fb22",
   "metadata": {},
   "outputs": [],
   "source": [
    "import csv\n",
    "csvFile = open('example.tsv', 'w', newline='')   #open file\n",
    "csvWriter = csv.writer(csvFile, delimiter='\\t', lineterminator='\\n\\n') # write inside the file"
   ]
  },
  {
   "cell_type": "markdown",
   "id": "7a339212",
   "metadata": {},
   "source": [
    "### Q6. What function takes a string of JSON data and returns a Python data structure?"
   ]
  },
  {
   "cell_type": "markdown",
   "id": "bdf15055",
   "metadata": {},
   "source": [
    "**Ans :**"
   ]
  },
  {
   "cell_type": "markdown",
   "id": "3d7c5571",
   "metadata": {},
   "source": [
    "* loads() method takes a string of JSON data and returns a Python data structure"
   ]
  },
  {
   "cell_type": "code",
   "execution_count": 7,
   "id": "f7d2d4f2",
   "metadata": {},
   "outputs": [
    {
     "name": "stdout",
     "output_type": "stream",
     "text": [
      "{\n",
      "    \"Name\": \"Ashish Patil\",\n",
      "    \"Qualification\": \"Bachelor of Engineering\",\n",
      "    \"Stream\": \"Mechanical Engineering\"\n",
      "}\n",
      "Type of my_details_json is <class 'str'>\n",
      "{'Name': 'Ashish Patil', 'Qualification': 'Bachelor of Engineering', 'Stream': 'Mechanical Engineering'}\n",
      "Type of my_details is <class 'dict'>\n"
     ]
    }
   ],
   "source": [
    "# Example of json.loads() method\n",
    "import json\n",
    "my_details_json ='''{\n",
    "    \"Name\": \"Ashish Patil\",\n",
    "    \"Qualification\": \"Bachelor of Engineering\",\n",
    "    \"Stream\": \"Mechanical Engineering\"\n",
    "}'''   # read json\n",
    "print(my_details_json)\n",
    "print(f'Type of my_details_json is {type(my_details_json)}')\n",
    "my_details = json.loads(my_details_json)\n",
    "print(my_details)\n",
    "print(f'Type of my_details is {type(my_details)}')"
   ]
  },
  {
   "cell_type": "markdown",
   "id": "cb501b50",
   "metadata": {},
   "source": [
    "### Q7. What function takes a Python data structure and returns a string of JSON data?"
   ]
  },
  {
   "cell_type": "markdown",
   "id": "3e900199",
   "metadata": {},
   "source": [
    "**Ans :**"
   ]
  },
  {
   "cell_type": "markdown",
   "id": "c07d1d62",
   "metadata": {},
   "source": [
    "dumps() method takes a python data structure and returns a string of JSON data."
   ]
  },
  {
   "cell_type": "code",
   "execution_count": 11,
   "id": "5e28449c",
   "metadata": {},
   "outputs": [
    {
     "name": "stdout",
     "output_type": "stream",
     "text": [
      "{'Name': 'Ashish Patil', 'Qualification': 'Bachelor of Engineering', 'Stream': 'Mechanical Engineering'}\n",
      "Type of my_details_json is <class 'dict'>\n",
      "{\n",
      "    \"Name\": \"Ashish Patil\",\n",
      "    \"Qualification\": \"Bachelor of Engineering\",\n",
      "    \"Stream\": \"Mechanical Engineering\"\n",
      "}\n",
      "Type of my_details json is <class 'str'>\n"
     ]
    }
   ],
   "source": [
    "import json\n",
    "my_details ={\n",
    "    \"Name\": \"Ashish Patil\",\n",
    "    \"Qualification\": \"Bachelor of Engineering\",\n",
    "    \"Stream\": \"Mechanical Engineering\"\n",
    "}                # read dictionary\n",
    "print(my_details)\n",
    "print(f'Type of my_details_json is {type(my_details)}')\n",
    "my_details_json = json.dumps(my_details, indent=4, sort_keys=True)\n",
    "print(my_details_json)\n",
    "print(f'Type of my_details json is {type(my_details_json)}')"
   ]
  },
  {
   "cell_type": "markdown",
   "id": "d2648468",
   "metadata": {},
   "source": []
  },
  {
   "cell_type": "markdown",
   "id": "e132182c",
   "metadata": {},
   "source": []
  },
  {
   "cell_type": "markdown",
   "id": "29d24c47",
   "metadata": {},
   "source": []
  },
  {
   "cell_type": "markdown",
   "id": "fbe50df9",
   "metadata": {},
   "source": []
  },
  {
   "cell_type": "markdown",
   "id": "44bd1248",
   "metadata": {},
   "source": []
  },
  {
   "cell_type": "markdown",
   "id": "59e2cebf",
   "metadata": {},
   "source": []
  },
  {
   "cell_type": "markdown",
   "id": "d1e669e8",
   "metadata": {},
   "source": []
  }
 ],
 "metadata": {
  "kernelspec": {
   "display_name": "Python 3 (ipykernel)",
   "language": "python",
   "name": "python3"
  },
  "language_info": {
   "codemirror_mode": {
    "name": "ipython",
    "version": 3
   },
   "file_extension": ".py",
   "mimetype": "text/x-python",
   "name": "python",
   "nbconvert_exporter": "python",
   "pygments_lexer": "ipython3",
   "version": "3.9.13"
  }
 },
 "nbformat": 4,
 "nbformat_minor": 5
}
