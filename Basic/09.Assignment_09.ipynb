{
 "cells": [
  {
   "cell_type": "markdown",
   "id": "2e27bde0",
   "metadata": {},
   "source": [
    "### Q1. To what does a relative path refer?"
   ]
  },
  {
   "cell_type": "markdown",
   "id": "65854a51",
   "metadata": {},
   "source": [
    "**Ans:**"
   ]
  },
  {
   "cell_type": "markdown",
   "id": "b9db7787",
   "metadata": {},
   "source": [
    "* Relative paths are relative to the current working directory(PWD). \n",
    "* When using relative path, we need to provide the absolute/complete path of file from the root directory, instead we can give the partial/relative path to indicate the file location.\n",
    "* PWD + relative path = absolute path"
   ]
  },
  {
   "cell_type": "markdown",
   "id": "067663c9",
   "metadata": {},
   "source": [
    "Q2. What does an absolute path start with your operating system?"
   ]
  },
  {
   "cell_type": "markdown",
   "id": "838c56b2",
   "metadata": {},
   "source": [
    "**Ans:**"
   ]
  },
  {
   "cell_type": "markdown",
   "id": "36d6d5d2",
   "metadata": {},
   "source": [
    "* An absolute path contains the full set of directories from the root of the file system up to your target file or directory. An absolute path start with the root folder.\n",
    "* In Linux based systems the absolute path starts with /. Where as in Windows based systems absolute path starts with C:"
   ]
  },
  {
   "cell_type": "markdown",
   "id": "aac63f95",
   "metadata": {},
   "source": [
    "Q3. What do the functions os.getcwd() and os.chdir() do?"
   ]
  },
  {
   "cell_type": "markdown",
   "id": "372f3d6b",
   "metadata": {},
   "source": [
    "**Ans:**"
   ]
  },
  {
   "cell_type": "markdown",
   "id": "408f695a",
   "metadata": {},
   "source": [
    "* os.getcwd() method tells us the location of current working directory (CWD). \n",
    "* Whereas os.chdir() method in Python used to change the current working directory to specified path. \n",
    "* These functions are similar to linux commands pwd and cd"
   ]
  },
  {
   "cell_type": "code",
   "execution_count": 5,
   "id": "7b1c6ce2",
   "metadata": {},
   "outputs": [
    {
     "name": "stdout",
     "output_type": "stream",
     "text": [
      "C:\\Users\\ashis\\Downloads\\DataSCI\\Ineuron\\FSDS\\Current_Batch\\Assignements\\Python\\Basic\n",
      "C:\\Users\\ashis\\Downloads\\DataSCI\\Ineuron\\FSDS\n",
      "C:\\Users\\ashis\\Downloads\\DataSCI\\Ineuron\\FSDS\\Current_Batch\\Assignements\\Python\\Basic\n"
     ]
    }
   ],
   "source": [
    "import os\n",
    "print(os.getcwd()) # Prints the current Working Directory\n",
    "path = r'C:\\Users\\ashis\\Downloads\\DataSCI\\Ineuron\\FSDS'\n",
    "os.chdir(path)\n",
    "print(os.getcwd())\n",
    "path = r'C:\\Users\\ashis\\Downloads\\DataSCI\\Ineuron\\FSDS\\Current_Batch\\Assignements\\Python\\Basic'\n",
    "os.chdir(path)\n",
    "print(os.getcwd())"
   ]
  },
  {
   "cell_type": "markdown",
   "id": "51abe450",
   "metadata": {},
   "source": [
    "Q4. What are the . and .. folders?"
   ]
  },
  {
   "cell_type": "markdown",
   "id": "9f99fdaf",
   "metadata": {},
   "source": [
    "**Ans:**"
   ]
  },
  {
   "cell_type": "markdown",
   "id": "0784d7f5",
   "metadata": {},
   "source": [
    "* . single dot means the current folder\n",
    "* .. double dot means the parent folder"
   ]
  },
  {
   "cell_type": "markdown",
   "id": "c2f5ed4e",
   "metadata": {},
   "source": [
    "Q5. In C:\\bacon\\eggs\\spam.txt, which part is the dir name, and which part is the base name?"
   ]
  },
  {
   "cell_type": "markdown",
   "id": "f49aaa26",
   "metadata": {},
   "source": [
    "**Ans:**"
   ]
  },
  {
   "cell_type": "markdown",
   "id": "f634003b",
   "metadata": {},
   "source": [
    "* C:\\bacon\\eggs is the dir name\n",
    "* spam.txt is the base name"
   ]
  },
  {
   "cell_type": "markdown",
   "id": "e97dd492",
   "metadata": {},
   "source": [
    "Q6. What are the three “mode” arguments that can be passed to the open() function?"
   ]
  },
  {
   "cell_type": "markdown",
   "id": "69001c85",
   "metadata": {},
   "source": [
    "**Ans:**"
   ]
  },
  {
   "cell_type": "markdown",
   "id": "adc805dd",
   "metadata": {},
   "source": [
    "* A file can be Accessed in python using open() function. open function takes two arguments filename and mode of operation (optional). if mode is not provided the default mode of opening is read mode\n",
    "* So, the syntax being: open(filename, mode)\n",
    "    * **‘r’** – Read Mode: This is the default mode for open(). The file is opened and a pointer is positioned at the beginning of the file’s content.\n",
    "    * **‘w’** – Write Mode: Using this mode will overwrite any existing content in a file. If the given file does not exist, a new one will be created.\n",
    "    * **‘a’** – Append Mode: With this mode the user can append the data without overwriting any already existing data in the file."
   ]
  },
  {
   "cell_type": "markdown",
   "id": "275bd041",
   "metadata": {},
   "source": [
    "Q7. What happens if an existing file is opened in write mode?"
   ]
  },
  {
   "cell_type": "markdown",
   "id": "075bf3de",
   "metadata": {},
   "source": [
    "**Ans:**"
   ]
  },
  {
   "cell_type": "markdown",
   "id": "cd9b89bb",
   "metadata": {},
   "source": [
    "when a existing file is opened in write mode, contens which were previously present will be overwritten by new content passed."
   ]
  },
  {
   "cell_type": "markdown",
   "id": "3198e846",
   "metadata": {},
   "source": [
    "Q8. How do you tell the difference between read() and readlines()?"
   ]
  },
  {
   "cell_type": "markdown",
   "id": "92d58962",
   "metadata": {},
   "source": [
    "**Ans:**"
   ]
  },
  {
   "cell_type": "markdown",
   "id": "60efce7b",
   "metadata": {},
   "source": [
    "* The read() method returns the file’s entire contents as a single string value.\n",
    "* The readlines() method returns a list of strings, where each string is a line from the file’s contents."
   ]
  },
  {
   "cell_type": "markdown",
   "id": "59eb23b4",
   "metadata": {},
   "source": [
    "Q9. What data structure does a shelf value resemble?"
   ]
  },
  {
   "cell_type": "markdown",
   "id": "8a0dac70",
   "metadata": {},
   "source": [
    "**Ans:**"
   ]
  },
  {
   "cell_type": "markdown",
   "id": "81d2f903",
   "metadata": {},
   "source": [
    "A shelf value resembles a dictionary value; it has keys and values, along with keys() and values() methods that work similarly to the dictionary methods of the same names."
   ]
  },
  {
   "cell_type": "code",
   "execution_count": null,
   "id": "ccc71536",
   "metadata": {},
   "outputs": [],
   "source": []
  }
 ],
 "metadata": {
  "kernelspec": {
   "display_name": "Python 3 (ipykernel)",
   "language": "python",
   "name": "python3"
  },
  "language_info": {
   "codemirror_mode": {
    "name": "ipython",
    "version": 3
   },
   "file_extension": ".py",
   "mimetype": "text/x-python",
   "name": "python",
   "nbconvert_exporter": "python",
   "pygments_lexer": "ipython3",
   "version": "3.9.13"
  }
 },
 "nbformat": 4,
 "nbformat_minor": 5
}
