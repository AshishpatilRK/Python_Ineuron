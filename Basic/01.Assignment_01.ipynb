{
 "cells": [
  {
   "cell_type": "markdown",
   "id": "764e4d38",
   "metadata": {},
   "source": [
    "# Assignment_1 "
   ]
  },
  {
   "cell_type": "markdown",
   "id": "18a67a6e",
   "metadata": {},
   "source": [
    "### Q 1. In the below elements which of them are values or an expression? eg:- values can be integer or string and expressions will be mathematical operators.\n",
    "###  * , 'hello' , -87.6, - , / , + , 6"
   ]
  },
  {
   "cell_type": "markdown",
   "id": "8deaa7bc",
   "metadata": {},
   "source": [
    "**Ans :**"
   ]
  },
  {
   "cell_type": "markdown",
   "id": "d8527fd4",
   "metadata": {},
   "source": [
    "**Operators/Expressions :**"
   ]
  },
  {
   "cell_type": "markdown",
   "id": "fbb6efea",
   "metadata": {},
   "source": [
    "                    + ,  - , *  ,  /   "
   ]
  },
  {
   "cell_type": "markdown",
   "id": "88d4461a",
   "metadata": {},
   "source": [
    "**Values :**"
   ]
  },
  {
   "cell_type": "markdown",
   "id": "6471c44c",
   "metadata": {},
   "source": [
    "                   'hello' , -87.6 , 6 "
   ]
  },
  {
   "cell_type": "markdown",
   "id": "39b6f739",
   "metadata": {},
   "source": [
    "### Q 2. What is the difference between string and variable?"
   ]
  },
  {
   "cell_type": "markdown",
   "id": "e658462e",
   "metadata": {},
   "source": [
    "**Ans :**"
   ]
  },
  {
   "cell_type": "markdown",
   "id": "af70a685",
   "metadata": {},
   "source": [
    "| No. | String | Variable |\n",
    "| --- | --- | --- |\n",
    "| 1 | Anything you assign to a variable using quotes (single or double) will be considered as a string | A variable as an identifier to store a value in a memory location and to manipulate it if needed |\n",
    "| 2 | A string is one of several types of a variable | A variable can be of several types like integer, string, float, etc. based on the value you assign to it |\n",
    "| 3 | Eg. x = '10', y = 'hello',  | Eg. x = '10', y = 20 , z = 'hello', c = 10.6 |"
   ]
  },
  {
   "cell_type": "markdown",
   "id": "609eea7d",
   "metadata": {},
   "source": [
    "### Q 3. Describe three different data types."
   ]
  },
  {
   "cell_type": "markdown",
   "id": "208c2cc9",
   "metadata": {},
   "source": [
    "**Ans :**"
   ]
  },
  {
   "cell_type": "markdown",
   "id": "e3c33724",
   "metadata": {},
   "source": [
    "**1. Integer :**   Integer, is a whole number, positive or negative, without decimals, of unlimited length."
   ]
  },
  {
   "cell_type": "code",
   "execution_count": 1,
   "id": "2f1e1daa",
   "metadata": {},
   "outputs": [
    {
     "data": {
      "text/plain": [
       "int"
      ]
     },
     "execution_count": 1,
     "metadata": {},
     "output_type": "execute_result"
    }
   ],
   "source": [
    "a = 10 \n",
    "type(a)"
   ]
  },
  {
   "cell_type": "markdown",
   "id": "0664a3d3",
   "metadata": {},
   "source": [
    "**2. Float :**  It is a real number with floating point representation. It is specified by a decimal point. "
   ]
  },
  {
   "cell_type": "code",
   "execution_count": 2,
   "id": "ec84da7d",
   "metadata": {},
   "outputs": [
    {
     "data": {
      "text/plain": [
       "float"
      ]
     },
     "execution_count": 2,
     "metadata": {},
     "output_type": "execute_result"
    }
   ],
   "source": [
    "b = 10.6\n",
    "type(b)"
   ]
  },
  {
   "cell_type": "markdown",
   "id": "3b8a2a5a",
   "metadata": {},
   "source": [
    "**3. String :** A string is a collection of one or more characters put in a single quote, double-quote or triple quote. "
   ]
  },
  {
   "cell_type": "code",
   "execution_count": 3,
   "id": "d22a60e7",
   "metadata": {},
   "outputs": [
    {
     "data": {
      "text/plain": [
       "str"
      ]
     },
     "execution_count": 3,
     "metadata": {},
     "output_type": "execute_result"
    }
   ],
   "source": [
    "c = 'Welcome to Ineuron'\n",
    "type(c)"
   ]
  },
  {
   "cell_type": "markdown",
   "id": "bff8fca5",
   "metadata": {},
   "source": [
    "### Q 4. What is an expression made up of? What do all expressions do?"
   ]
  },
  {
   "cell_type": "markdown",
   "id": "b078ac57",
   "metadata": {},
   "source": [
    "**Ans :**"
   ]
  },
  {
   "cell_type": "markdown",
   "id": "dc5c1512",
   "metadata": {},
   "source": [
    "* Expression is made of one or more constants, variables, operators, and functions.\n",
    "* In programming language, it interprets and computes to produce another value. "
   ]
  },
  {
   "cell_type": "code",
   "execution_count": 4,
   "id": "37da648d",
   "metadata": {},
   "outputs": [
    {
     "data": {
      "text/plain": [
       "10.833333333333334"
      ]
     },
     "execution_count": 4,
     "metadata": {},
     "output_type": "execute_result"
    }
   ],
   "source": [
    "# Eg. Expression - gives another Value\n",
    "10 + 5 / 6.0"
   ]
  },
  {
   "cell_type": "markdown",
   "id": "5fd2b759",
   "metadata": {},
   "source": [
    "### Q 5. This assignment statements, like spam = 10. What is the difference between an expression and a statement?"
   ]
  },
  {
   "cell_type": "markdown",
   "id": "af0981b5",
   "metadata": {},
   "source": [
    "**Ans :**"
   ]
  },
  {
   "cell_type": "markdown",
   "id": "5db40a90",
   "metadata": {},
   "source": [
    "| No. | Expression | Statement |\n",
    "| --- | --- | --- |\n",
    "| 1 | An expression is any word or group of words or symbols that is a value. In programming, an expression is a value, or anything that executes and ends up being a value |A statement is a group of expressions and/or statements that you design to carry out a task or an action |\n",
    "| 2 | Expressions can be assigned or used as operands | Statements can only be declared.  Variable declaration and assignment are statements because they do not return a value|\n",
    "| 3 | Expressions are the building blocks | Statements are the whole structure,For example, a line or a block of code is a statement.|\n",
    "| 4 | Expression Eg. 10 + 5 / 6.0  | Statement Eg. print('hello'), print('Area of rectangle:', l * b) |"
   ]
  },
  {
   "cell_type": "markdown",
   "id": "c3b462fc",
   "metadata": {},
   "source": [
    "### Q 6. After running the following code, what does the variable bacon contain?  bacon = 22 ,   bacon + 1\n"
   ]
  },
  {
   "cell_type": "markdown",
   "id": "f01ee792",
   "metadata": {},
   "source": [
    "**Ans :**"
   ]
  },
  {
   "cell_type": "code",
   "execution_count": 5,
   "id": "0ecc5744",
   "metadata": {},
   "outputs": [
    {
     "name": "stdout",
     "output_type": "stream",
     "text": [
      "22\n",
      "23\n"
     ]
    }
   ],
   "source": [
    "bacon = 22   \n",
    "print(bacon)\n",
    "print(bacon + 1)         # add 1 to bacon value"
   ]
  },
  {
   "cell_type": "markdown",
   "id": "b81d039d",
   "metadata": {},
   "source": [
    "### Q 7. What should the values of the following two terms be?  - 'spam' + 'spamspam'  ,  'spam' * 3\n"
   ]
  },
  {
   "cell_type": "code",
   "execution_count": 6,
   "id": "90662ae7",
   "metadata": {},
   "outputs": [
    {
     "data": {
      "text/plain": [
       "'spamspamspam'"
      ]
     },
     "execution_count": 6,
     "metadata": {},
     "output_type": "execute_result"
    }
   ],
   "source": [
    "'spam' + 'spamspam'     # here two string concatenation "
   ]
  },
  {
   "cell_type": "code",
   "execution_count": 7,
   "id": "83d4dcfe",
   "metadata": {},
   "outputs": [
    {
     "data": {
      "text/plain": [
       "'spamspamspam'"
      ]
     },
     "execution_count": 7,
     "metadata": {},
     "output_type": "execute_result"
    }
   ],
   "source": [
    "'spam' * 3           # here one string comes three times "
   ]
  },
  {
   "cell_type": "markdown",
   "id": "9a7a7783",
   "metadata": {},
   "source": [
    "### Q 8. Why is eggs a valid variable name while 100 is invalid?"
   ]
  },
  {
   "cell_type": "markdown",
   "id": "20687613",
   "metadata": {},
   "source": [
    "**Ans :** "
   ]
  },
  {
   "cell_type": "markdown",
   "id": "df671495",
   "metadata": {},
   "source": [
    "Rules for Variable names in python\n",
    "*  Variable name cannot start with a number.\n",
    "*  Variable name must start with a letter or the underscore character.\n",
    "*  Variable name can only contain alpha-numeric(A-z,0-9 & _) characters and underscores.\n",
    "*  The reserved words(keywords) cannot be used naming the variable."
   ]
  },
  {
   "cell_type": "code",
   "execution_count": 8,
   "id": "12bca2b1",
   "metadata": {},
   "outputs": [
    {
     "name": "stdout",
     "output_type": "stream",
     "text": [
      "100\n"
     ]
    }
   ],
   "source": [
    "eggs = 100  # Valid variable Initilization\n",
    "print(eggs)  #prints the value of egg"
   ]
  },
  {
   "cell_type": "code",
   "execution_count": 9,
   "id": "d6605dc0",
   "metadata": {},
   "outputs": [
    {
     "ename": "SyntaxError",
     "evalue": "cannot assign to literal (2703001887.py, line 1)",
     "output_type": "error",
     "traceback": [
      "\u001b[1;36m  Cell \u001b[1;32mIn[9], line 1\u001b[1;36m\u001b[0m\n\u001b[1;33m    100 = 'Ineuron'   # Invalid Variable Initilization\u001b[0m\n\u001b[1;37m    ^\u001b[0m\n\u001b[1;31mSyntaxError\u001b[0m\u001b[1;31m:\u001b[0m cannot assign to literal\n"
     ]
    }
   ],
   "source": [
    "100 = 'Ineuron'   # Invalid Variable Initilization\n",
    "print(100) #prints the value of 100"
   ]
  },
  {
   "cell_type": "markdown",
   "id": "d29a4d02",
   "metadata": {},
   "source": [
    "So Here Eggs is Valid variable name and 100 is invalid."
   ]
  },
  {
   "cell_type": "markdown",
   "id": "c7441eaa",
   "metadata": {},
   "source": [
    "### Q 9. What three functions can be used to get the integer, floating-point number, or string version of a value?"
   ]
  },
  {
   "cell_type": "markdown",
   "id": "8fbc662a",
   "metadata": {},
   "source": [
    "**Ans :**"
   ]
  },
  {
   "cell_type": "code",
   "execution_count": 10,
   "id": "96bc7997",
   "metadata": {},
   "outputs": [
    {
     "name": "stdout",
     "output_type": "stream",
     "text": [
      "15\n",
      "15.0\n",
      "15\n"
     ]
    }
   ],
   "source": [
    "# Take example\n",
    "a = 15\n",
    "print(int(a))   # int() function converts given input to int\n",
    "print(float(a))  # float() function converts given input to float\n",
    "print(str(a))   # str() function converts given input to string"
   ]
  },
  {
   "cell_type": "markdown",
   "id": "83d0bca4",
   "metadata": {},
   "source": [
    "Here , we use int(), float(), str() - functions<br> This process is called TYPECASTING --> way to change one data type to another datatype"
   ]
  },
  {
   "cell_type": "markdown",
   "id": "4a37d20a",
   "metadata": {},
   "source": [
    "### Q 10. Why does this expression cause an error? How can you fix it?\n",
    "### 'I have eaten ' + 99 + ' burritos.'\n"
   ]
  },
  {
   "cell_type": "markdown",
   "id": "f14bbc77",
   "metadata": {},
   "source": [
    "**Ans :**"
   ]
  },
  {
   "cell_type": "code",
   "execution_count": 11,
   "id": "003b5605",
   "metadata": {
    "scrolled": false
   },
   "outputs": [
    {
     "ename": "TypeError",
     "evalue": "can only concatenate str (not \"int\") to str",
     "output_type": "error",
     "traceback": [
      "\u001b[1;31m---------------------------------------------------------------------------\u001b[0m",
      "\u001b[1;31mTypeError\u001b[0m                                 Traceback (most recent call last)",
      "Cell \u001b[1;32mIn[11], line 1\u001b[0m\n\u001b[1;32m----> 1\u001b[0m \u001b[38;5;124;43m'\u001b[39;49m\u001b[38;5;124;43mI have eaten \u001b[39;49m\u001b[38;5;124;43m'\u001b[39;49m\u001b[43m \u001b[49m\u001b[38;5;241;43m+\u001b[39;49m\u001b[43m \u001b[49m\u001b[38;5;241;43m99\u001b[39;49m \u001b[38;5;241m+\u001b[39m \u001b[38;5;124m'\u001b[39m\u001b[38;5;124m burritos.\u001b[39m\u001b[38;5;124m'\u001b[39m\n",
      "\u001b[1;31mTypeError\u001b[0m: can only concatenate str (not \"int\") to str"
     ]
    }
   ],
   "source": [
    "'I have eaten ' + 99 + ' burritos.'"
   ]
  },
  {
   "cell_type": "markdown",
   "id": "8eb472cb",
   "metadata": {},
   "source": [
    "Here Got error - 2 strings and 1 integer . So Concatenates string to String - Not String to Integer."
   ]
  },
  {
   "cell_type": "code",
   "execution_count": 12,
   "id": "666f8bbc",
   "metadata": {},
   "outputs": [
    {
     "data": {
      "text/plain": [
       "'I have eaten 99 burritos.'"
      ]
     },
     "execution_count": 12,
     "metadata": {},
     "output_type": "execute_result"
    }
   ],
   "source": [
    "# By Using TypeCasting \n",
    "\n",
    "'I have eaten ' + str(99) + ' burritos.'"
   ]
  },
  {
   "cell_type": "markdown",
   "id": "3b13814c",
   "metadata": {},
   "source": [
    "So by Changing Intger to string - We get correct output - without error."
   ]
  },
  {
   "cell_type": "code",
   "execution_count": null,
   "id": "9b271134",
   "metadata": {},
   "outputs": [],
   "source": []
  }
 ],
 "metadata": {
  "kernelspec": {
   "display_name": "Python 3 (ipykernel)",
   "language": "python",
   "name": "python3"
  },
  "language_info": {
   "codemirror_mode": {
    "name": "ipython",
    "version": 3
   },
   "file_extension": ".py",
   "mimetype": "text/x-python",
   "name": "python",
   "nbconvert_exporter": "python",
   "pygments_lexer": "ipython3",
   "version": "3.9.13"
  }
 },
 "nbformat": 4,
 "nbformat_minor": 5
}
