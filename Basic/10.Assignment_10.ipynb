{
 "cells": [
  {
   "cell_type": "markdown",
   "id": "533814d9",
   "metadata": {},
   "source": [
    "# Assignment_10"
   ]
  },
  {
   "cell_type": "markdown",
   "id": "930492e2",
   "metadata": {},
   "source": [
    "### Q1. How do you distinguish between shutil.copy() and shutil.copytree()?"
   ]
  },
  {
   "cell_type": "markdown",
   "id": "88fa0ee5",
   "metadata": {},
   "source": [
    "**Ans :**"
   ]
  },
  {
   "cell_type": "markdown",
   "id": "3fe57140",
   "metadata": {},
   "source": [
    "shutil.copy : Copies a single file<br>\n",
    "shutil.copytree() : will copy an entire folder and every folder and file contained in it"
   ]
  },
  {
   "cell_type": "markdown",
   "id": "211e9724",
   "metadata": {},
   "source": [
    "### Q2. What function is used to rename files??"
   ]
  },
  {
   "cell_type": "markdown",
   "id": "553cb975",
   "metadata": {},
   "source": [
    "**Ans :**"
   ]
  },
  {
   "cell_type": "markdown",
   "id": "93deba01",
   "metadata": {},
   "source": [
    "import os<br>\n",
    "os.rename(\"text.txt\",\"testnew.txt\")"
   ]
  },
  {
   "cell_type": "markdown",
   "id": "61b57351",
   "metadata": {},
   "source": [
    "### Q3. What is the difference between the delete functions in the send2trash and shutil modules?"
   ]
  },
  {
   "cell_type": "markdown",
   "id": "8c80d2d0",
   "metadata": {},
   "source": [
    "**Ans :**"
   ]
  },
  {
   "cell_type": "markdown",
   "id": "73c0f19a",
   "metadata": {},
   "source": [
    "* Send2trash modul<br>\n",
    "       * Send2trash module provides a function called send2trash.send2trash().<br>\n",
    "       * To delete a file/directory. these methods moves the files/directories to trash folder instead of permanently deleting them.<br>\n",
    "       * Hence if a file/folder is deleted accidentally it can be still recovered from trash folder, if is deleted using the send2trash.send2trash() function.<br>\n",
    "       * Send2trash is not included with python standard libary like os & shutil modules. it needs to be installed explicitly using the command !pip install send2trash"
   ]
  },
  {
   "cell_type": "markdown",
   "id": "34ae3324",
   "metadata": {},
   "source": [
    "*  Shutil module <br>\n",
    "       *  Shutil module provides a funciton called as shutil.rmtree().<br>\n",
    "       * which deletes a directory and all its contents. The other functions with similar functionality are os.remove() -> removes a file, os.rmdir() removes a empty directory.<br>\n",
    "       * The problem with these functions is once a file is deleted. it will be lost permanently, if a file is deleted accidentally using these methods there is no way we can recover the deleted file<br>\n",
    "  "
   ]
  },
  {
   "cell_type": "markdown",
   "id": "e769204f",
   "metadata": {},
   "source": [
    "import shutil<br>\n",
    "import send2trash<br>\n",
    "shutil.rmtree(\"path\")<br>\n",
    "send2trash.send2trash(\"path\")<br>"
   ]
  },
  {
   "cell_type": "markdown",
   "id": "c9f698b0",
   "metadata": {},
   "source": [
    "### Q4. ZipFile objects have a close() method just like File objects’ close() method. What ZipFile method is equivalent to File objects’ open() method?"
   ]
  },
  {
   "cell_type": "markdown",
   "id": "66e2797c",
   "metadata": {},
   "source": [
    "**Ans :**"
   ]
  },
  {
   "cell_type": "markdown",
   "id": "b9676a89",
   "metadata": {},
   "source": [
    "* ZipFile Module provides a method called as zipfile.ZipFile() to read and write to zipFiles. it takes arugments lile filename and mode etc zipfile.ZipFile('filename', mode = 'r')"
   ]
  },
  {
   "cell_type": "markdown",
   "id": "16882838",
   "metadata": {},
   "source": [
    "from zipfile import Zipfile<br>\n",
    "with ZipFile(file_name, 'r') as zip:-<br> This code will open specified zipfile for us. we can use zip object to preform other operation the ziplife. like zip.read()"
   ]
  },
  {
   "cell_type": "markdown",
   "id": "39c66823",
   "metadata": {},
   "source": [
    "from zipfile import Zipfile<br>\n",
    "with ZipFile(file_name, 'r') as zip<br>"
   ]
  },
  {
   "cell_type": "markdown",
   "id": "30d86c85",
   "metadata": {},
   "source": [
    "### Q5. Create a programme that searches a folder tree for files with a certain file extension (such as .pdf or .jpg). Copy these files from whatever location they are in to a new folder."
   ]
  },
  {
   "cell_type": "markdown",
   "id": "07910a5a",
   "metadata": {},
   "source": [
    "**Ans :**"
   ]
  },
  {
   "cell_type": "code",
   "execution_count": 6,
   "id": "01cb2a62",
   "metadata": {},
   "outputs": [
    {
     "name": "stdout",
     "output_type": "stream",
     "text": [
      "Looking in C:\\Users\\ashis\\OneDrive\\Documents\\4-2-31\\D-22-1-22\\Odin_School\\text for files with extensions of .pdf, .txt\n",
      "Coping C:\\Users\\ashis\\OneDrive\\Documents\\4-2-31\\D-22-1-22\\Odin_School\\text\\1682493444381.pdf to C:\\Users\\ashis\\OneDrive\\Documents\\4-2-31\\D-22-1-22\\Odin_School\\text_1\n",
      "Coping C:\\Users\\ashis\\OneDrive\\Documents\\4-2-31\\D-22-1-22\\Odin_School\\text\\1682925715212.pdf to C:\\Users\\ashis\\OneDrive\\Documents\\4-2-31\\D-22-1-22\\Odin_School\\text_1\n",
      "Coping C:\\Users\\ashis\\OneDrive\\Documents\\4-2-31\\D-22-1-22\\Odin_School\\text\\1683078957008.pdf to C:\\Users\\ashis\\OneDrive\\Documents\\4-2-31\\D-22-1-22\\Odin_School\\text_1\n",
      "Coping C:\\Users\\ashis\\OneDrive\\Documents\\4-2-31\\D-22-1-22\\Odin_School\\text\\Autoskewness.txt to C:\\Users\\ashis\\OneDrive\\Documents\\4-2-31\\D-22-1-22\\Odin_School\\text_1\n",
      "Coping C:\\Users\\ashis\\OneDrive\\Documents\\4-2-31\\D-22-1-22\\Odin_School\\text\\barplot.txt to C:\\Users\\ashis\\OneDrive\\Documents\\4-2-31\\D-22-1-22\\Odin_School\\text_1\n",
      "Coping C:\\Users\\ashis\\OneDrive\\Documents\\4-2-31\\D-22-1-22\\Odin_School\\text\\counplot.txt to C:\\Users\\ashis\\OneDrive\\Documents\\4-2-31\\D-22-1-22\\Odin_School\\text_1\n",
      "Coping C:\\Users\\ashis\\OneDrive\\Documents\\4-2-31\\D-22-1-22\\Odin_School\\text\\get_dummies.txt to C:\\Users\\ashis\\OneDrive\\Documents\\4-2-31\\D-22-1-22\\Odin_School\\text_1\n",
      "Coping C:\\Users\\ashis\\OneDrive\\Documents\\4-2-31\\D-22-1-22\\Odin_School\\text\\Goldbatch Conjucture.txt to C:\\Users\\ashis\\OneDrive\\Documents\\4-2-31\\D-22-1-22\\Odin_School\\text_1\n",
      "Coping C:\\Users\\ashis\\OneDrive\\Documents\\4-2-31\\D-22-1-22\\Odin_School\\text\\histograph.txt to C:\\Users\\ashis\\OneDrive\\Documents\\4-2-31\\D-22-1-22\\Odin_School\\text_1\n",
      "Coping C:\\Users\\ashis\\OneDrive\\Documents\\4-2-31\\D-22-1-22\\Odin_School\\text\\interview.txt to C:\\Users\\ashis\\OneDrive\\Documents\\4-2-31\\D-22-1-22\\Odin_School\\text_1\n",
      "Coping C:\\Users\\ashis\\OneDrive\\Documents\\4-2-31\\D-22-1-22\\Odin_School\\text\\interviewby akASHsir.txt to C:\\Users\\ashis\\OneDrive\\Documents\\4-2-31\\D-22-1-22\\Odin_School\\text_1\n",
      "Coping C:\\Users\\ashis\\OneDrive\\Documents\\4-2-31\\D-22-1-22\\Odin_School\\text\\join_sql.txt to C:\\Users\\ashis\\OneDrive\\Documents\\4-2-31\\D-22-1-22\\Odin_School\\text_1\n",
      "Coping C:\\Users\\ashis\\OneDrive\\Documents\\4-2-31\\D-22-1-22\\Odin_School\\text\\link_skewdata.txt to C:\\Users\\ashis\\OneDrive\\Documents\\4-2-31\\D-22-1-22\\Odin_School\\text_1\n",
      "Coping C:\\Users\\ashis\\OneDrive\\Documents\\4-2-31\\D-22-1-22\\Odin_School\\text\\Number.txt to C:\\Users\\ashis\\OneDrive\\Documents\\4-2-31\\D-22-1-22\\Odin_School\\text_1\n",
      "Coping C:\\Users\\ashis\\OneDrive\\Documents\\4-2-31\\D-22-1-22\\Odin_School\\text\\pieplot.txt to C:\\Users\\ashis\\OneDrive\\Documents\\4-2-31\\D-22-1-22\\Odin_School\\text_1\n",
      "Coping C:\\Users\\ashis\\OneDrive\\Documents\\4-2-31\\D-22-1-22\\Odin_School\\text\\python assignment.txt to C:\\Users\\ashis\\OneDrive\\Documents\\4-2-31\\D-22-1-22\\Odin_School\\text_1\n",
      "Coping C:\\Users\\ashis\\OneDrive\\Documents\\4-2-31\\D-22-1-22\\Odin_School\\text\\python-db-connect.txt to C:\\Users\\ashis\\OneDrive\\Documents\\4-2-31\\D-22-1-22\\Odin_School\\text_1\n",
      "Coping C:\\Users\\ashis\\OneDrive\\Documents\\4-2-31\\D-22-1-22\\Odin_School\\text\\python-db-connect1.txt to C:\\Users\\ashis\\OneDrive\\Documents\\4-2-31\\D-22-1-22\\Odin_School\\text_1\n",
      "Coping C:\\Users\\ashis\\OneDrive\\Documents\\4-2-31\\D-22-1-22\\Odin_School\\text\\python_mini_capstone.txt to C:\\Users\\ashis\\OneDrive\\Documents\\4-2-31\\D-22-1-22\\Odin_School\\text_1\n",
      "Coping C:\\Users\\ashis\\OneDrive\\Documents\\4-2-31\\D-22-1-22\\Odin_School\\text\\python_mini_capstone1.txt to C:\\Users\\ashis\\OneDrive\\Documents\\4-2-31\\D-22-1-22\\Odin_School\\text_1\n",
      "Coping C:\\Users\\ashis\\OneDrive\\Documents\\4-2-31\\D-22-1-22\\Odin_School\\text\\SQL DB.txt to C:\\Users\\ashis\\OneDrive\\Documents\\4-2-31\\D-22-1-22\\Odin_School\\text_1\n",
      "Coping C:\\Users\\ashis\\OneDrive\\Documents\\4-2-31\\D-22-1-22\\Odin_School\\text\\SQL DBA.txt to C:\\Users\\ashis\\OneDrive\\Documents\\4-2-31\\D-22-1-22\\Odin_School\\text_1\n",
      "Coping C:\\Users\\ashis\\OneDrive\\Documents\\4-2-31\\D-22-1-22\\Odin_School\\text\\SQL-3 April.txt to C:\\Users\\ashis\\OneDrive\\Documents\\4-2-31\\D-22-1-22\\Odin_School\\text_1\n",
      "Coping C:\\Users\\ashis\\OneDrive\\Documents\\4-2-31\\D-22-1-22\\Odin_School\\text\\telco_customer_churn.txt to C:\\Users\\ashis\\OneDrive\\Documents\\4-2-31\\D-22-1-22\\Odin_School\\text_1\n",
      "Coping C:\\Users\\ashis\\OneDrive\\Documents\\4-2-31\\D-22-1-22\\Odin_School\\text\\to_log_cocatenaste.txt to C:\\Users\\ashis\\OneDrive\\Documents\\4-2-31\\D-22-1-22\\Odin_School\\text_1\n",
      "Coping C:\\Users\\ashis\\OneDrive\\Documents\\4-2-31\\D-22-1-22\\Odin_School\\text\\value_counts_in_category.txt to C:\\Users\\ashis\\OneDrive\\Documents\\4-2-31\\D-22-1-22\\Odin_School\\text_1\n",
      "Coping C:\\Users\\ashis\\OneDrive\\Documents\\4-2-31\\D-22-1-22\\Odin_School\\text\\vivek.txt to C:\\Users\\ashis\\OneDrive\\Documents\\4-2-31\\D-22-1-22\\Odin_School\\text_1\n",
      "Coping C:\\Users\\ashis\\OneDrive\\Documents\\4-2-31\\D-22-1-22\\Odin_School\\text\\XXXXXXX4869_L8Z8TOGL_A_2023.pdf to C:\\Users\\ashis\\OneDrive\\Documents\\4-2-31\\D-22-1-22\\Odin_School\\text_1\n"
     ]
    }
   ],
   "source": [
    "# Write a program that walks through a folder tree \n",
    "# and searches for files with a certain file extension (such as .pdf or .jpg).\n",
    "# Copy these files from whatever location they are in to a new folder.\n",
    "\n",
    "import os, shutil\n",
    "\n",
    "def selectiveCopy(source, extensions, destFolder):\n",
    "    folder = os.path.abspath(source)     #source folder\n",
    "    destFolder = os.path.abspath(destFolder)   #dest folder\n",
    "    print('Looking in', source, 'for files with extensions of', ', '.join(extensions))\n",
    "    for foldername, subfolders, filenames in os.walk(source):\n",
    "#         for filename in filenames:           # looping through source folder\n",
    "            name, extension = os.path.splitext(filename)   # each and every folder coping\n",
    "            if extension in extensions:\n",
    "                fileAbsPath = foldername + os.path.sep + filename\n",
    "                print('Coping', fileAbsPath, 'to', destFolder)\n",
    "                shutil.copy(fileAbsPath, destFolder)\n",
    "\n",
    "extensions = ['.pdf','.txt']\n",
    "source = \"C:\\\\Users\\\\ashis\\\\OneDrive\\\\Documents\\\\4-2-31\\\\D-22-1-22\\\\Odin_School\\\\text\"\n",
    "destFolder = \"C:\\\\Users\\\\ashis\\\\OneDrive\\\\Documents\\\\4-2-31\\\\D-22-1-22\\\\Odin_School\\\\text_1\"\n",
    "selectiveCopy(source, extensions, destFolder)\n"
   ]
  },
  {
   "cell_type": "markdown",
   "id": "a61b0c23",
   "metadata": {},
   "source": []
  },
  {
   "cell_type": "markdown",
   "id": "889d0032",
   "metadata": {},
   "source": []
  },
  {
   "cell_type": "markdown",
   "id": "d8f44b04",
   "metadata": {},
   "source": []
  },
  {
   "cell_type": "markdown",
   "id": "74b77b59",
   "metadata": {},
   "source": []
  }
 ],
 "metadata": {
  "kernelspec": {
   "display_name": "Python 3 (ipykernel)",
   "language": "python",
   "name": "python3"
  },
  "language_info": {
   "codemirror_mode": {
    "name": "ipython",
    "version": 3
   },
   "file_extension": ".py",
   "mimetype": "text/x-python",
   "name": "python",
   "nbconvert_exporter": "python",
   "pygments_lexer": "ipython3",
   "version": "3.9.13"
  }
 },
 "nbformat": 4,
 "nbformat_minor": 5
}
