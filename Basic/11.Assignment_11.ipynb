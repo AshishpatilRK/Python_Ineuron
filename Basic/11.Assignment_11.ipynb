{
 "cells": [
  {
   "cell_type": "markdown",
   "id": "dc85144d",
   "metadata": {},
   "source": [
    "# Assignment_11"
   ]
  },
  {
   "cell_type": "markdown",
   "id": "b1943653",
   "metadata": {},
   "source": [
    "### Q1. Create an assert statement that throws an AssertionError if the variable spam is a negative integer.\n"
   ]
  },
  {
   "cell_type": "markdown",
   "id": "b3fff003",
   "metadata": {},
   "source": [
    "**Ans**"
   ]
  },
  {
   "cell_type": "markdown",
   "id": "10a171df",
   "metadata": {},
   "source": [
    "* The assert statement is used to continue the execute if the given condition evaluates to True.\n",
    "* If the assert condition evaluates to False, then it raises the AssertionError exception with the specified error message."
   ]
  },
  {
   "cell_type": "code",
   "execution_count": 2,
   "id": "3423f46f",
   "metadata": {
    "scrolled": false
   },
   "outputs": [
    {
     "name": "stdout",
     "output_type": "stream",
     "text": [
      " Enter a positive number :-3\n"
     ]
    },
    {
     "ename": "AssertionError",
     "evalue": "",
     "output_type": "error",
     "traceback": [
      "\u001b[1;31m---------------------------------------------------------------------------\u001b[0m",
      "\u001b[1;31mAssertionError\u001b[0m                            Traceback (most recent call last)",
      "Cell \u001b[1;32mIn[2], line 4\u001b[0m\n\u001b[0;32m      1\u001b[0m \u001b[38;5;28;01mimport\u001b[39;00m \u001b[38;5;21;01mpyinputplus\u001b[39;00m \u001b[38;5;28;01mas\u001b[39;00m \u001b[38;5;21;01mpyip\u001b[39;00m\n\u001b[0;32m      3\u001b[0m spam \u001b[38;5;241m=\u001b[39m pyip\u001b[38;5;241m.\u001b[39minputNum(\u001b[38;5;124m\"\u001b[39m\u001b[38;5;124m Enter a positive number :\u001b[39m\u001b[38;5;124m\"\u001b[39m)\n\u001b[1;32m----> 4\u001b[0m \u001b[38;5;28;01massert\u001b[39;00m spam \u001b[38;5;241m>\u001b[39m \u001b[38;5;241m0\u001b[39m\n\u001b[0;32m      5\u001b[0m \u001b[38;5;28mprint\u001b[39m(spam,\u001b[38;5;124m'\u001b[39m\u001b[38;5;124mis a positive number\u001b[39m\u001b[38;5;124m'\u001b[39m)\n",
      "\u001b[1;31mAssertionError\u001b[0m: "
     ]
    }
   ],
   "source": [
    "import pyinputplus as pyip\n",
    "\n",
    "spam = pyip.inputNum(\" Enter a positive number :\")\n",
    "assert spam > 0\n",
    "print(spam,'is a positive number')"
   ]
  },
  {
   "cell_type": "markdown",
   "id": "0b4ee601",
   "metadata": {},
   "source": [
    "### Q2. Write an assert statement that triggers an AssertionError if the variables eggs and bacon contain strings that are the same as each other, even if their cases are different (that is, &#39;hello&#39; and &#39;hello&#39; are considered the same, and &#39;goodbye&#39; and &#39;GOODbye&#39; are also considered the same)."
   ]
  },
  {
   "cell_type": "markdown",
   "id": "85e828fb",
   "metadata": {},
   "source": [
    "**Ans**"
   ]
  },
  {
   "cell_type": "code",
   "execution_count": 3,
   "id": "a8d0c688",
   "metadata": {},
   "outputs": [],
   "source": [
    "def assertion(eggs, bacon):\n",
    "    assert eggs.lower() != bacon.lower() or eggs.upper() != bacon.upper()\n",
    "    print('The eggs and bacon variables are not the same!')"
   ]
  },
  {
   "cell_type": "code",
   "execution_count": 4,
   "id": "04d8928a",
   "metadata": {},
   "outputs": [
    {
     "ename": "AssertionError",
     "evalue": "",
     "output_type": "error",
     "traceback": [
      "\u001b[1;31m---------------------------------------------------------------------------\u001b[0m",
      "\u001b[1;31mAssertionError\u001b[0m                            Traceback (most recent call last)",
      "Cell \u001b[1;32mIn[4], line 1\u001b[0m\n\u001b[1;32m----> 1\u001b[0m \u001b[43massertion\u001b[49m\u001b[43m(\u001b[49m\u001b[38;5;124;43m'\u001b[39;49m\u001b[38;5;124;43mhello\u001b[39;49m\u001b[38;5;124;43m'\u001b[39;49m\u001b[43m,\u001b[49m\u001b[38;5;124;43m'\u001b[39;49m\u001b[38;5;124;43mHELLO\u001b[39;49m\u001b[38;5;124;43m'\u001b[39;49m\u001b[43m)\u001b[49m\n",
      "Cell \u001b[1;32mIn[3], line 2\u001b[0m, in \u001b[0;36massertion\u001b[1;34m(eggs, bacon)\u001b[0m\n\u001b[0;32m      1\u001b[0m \u001b[38;5;28;01mdef\u001b[39;00m \u001b[38;5;21massertion\u001b[39m(eggs, bacon):\n\u001b[1;32m----> 2\u001b[0m     \u001b[38;5;28;01massert\u001b[39;00m eggs\u001b[38;5;241m.\u001b[39mlower() \u001b[38;5;241m!=\u001b[39m bacon\u001b[38;5;241m.\u001b[39mlower() \u001b[38;5;129;01mor\u001b[39;00m eggs\u001b[38;5;241m.\u001b[39mupper() \u001b[38;5;241m!=\u001b[39m bacon\u001b[38;5;241m.\u001b[39mupper()\n\u001b[0;32m      3\u001b[0m     \u001b[38;5;28mprint\u001b[39m(\u001b[38;5;124m'\u001b[39m\u001b[38;5;124mThe eggs and bacon variables are not the same!\u001b[39m\u001b[38;5;124m'\u001b[39m)\n",
      "\u001b[1;31mAssertionError\u001b[0m: "
     ]
    }
   ],
   "source": [
    "assertion('hello','HELLO')"
   ]
  },
  {
   "cell_type": "code",
   "execution_count": 5,
   "id": "363a7773",
   "metadata": {},
   "outputs": [
    {
     "ename": "AssertionError",
     "evalue": "",
     "output_type": "error",
     "traceback": [
      "\u001b[1;31m---------------------------------------------------------------------------\u001b[0m",
      "\u001b[1;31mAssertionError\u001b[0m                            Traceback (most recent call last)",
      "Cell \u001b[1;32mIn[5], line 1\u001b[0m\n\u001b[1;32m----> 1\u001b[0m \u001b[43massertion\u001b[49m\u001b[43m(\u001b[49m\u001b[38;5;124;43m'\u001b[39;49m\u001b[38;5;124;43mgoodbye\u001b[39;49m\u001b[38;5;124;43m'\u001b[39;49m\u001b[43m,\u001b[49m\u001b[38;5;124;43m'\u001b[39;49m\u001b[38;5;124;43mGOODbye\u001b[39;49m\u001b[38;5;124;43m'\u001b[39;49m\u001b[43m)\u001b[49m\n",
      "Cell \u001b[1;32mIn[3], line 2\u001b[0m, in \u001b[0;36massertion\u001b[1;34m(eggs, bacon)\u001b[0m\n\u001b[0;32m      1\u001b[0m \u001b[38;5;28;01mdef\u001b[39;00m \u001b[38;5;21massertion\u001b[39m(eggs, bacon):\n\u001b[1;32m----> 2\u001b[0m     \u001b[38;5;28;01massert\u001b[39;00m eggs\u001b[38;5;241m.\u001b[39mlower() \u001b[38;5;241m!=\u001b[39m bacon\u001b[38;5;241m.\u001b[39mlower() \u001b[38;5;129;01mor\u001b[39;00m eggs\u001b[38;5;241m.\u001b[39mupper() \u001b[38;5;241m!=\u001b[39m bacon\u001b[38;5;241m.\u001b[39mupper()\n\u001b[0;32m      3\u001b[0m     \u001b[38;5;28mprint\u001b[39m(\u001b[38;5;124m'\u001b[39m\u001b[38;5;124mThe eggs and bacon variables are not the same!\u001b[39m\u001b[38;5;124m'\u001b[39m)\n",
      "\u001b[1;31mAssertionError\u001b[0m: "
     ]
    }
   ],
   "source": [
    "assertion('goodbye','GOODbye')"
   ]
  },
  {
   "cell_type": "markdown",
   "id": "3fe804f2",
   "metadata": {},
   "source": [
    "### Q3. Create an assert statement that throws an AssertionError every time."
   ]
  },
  {
   "cell_type": "markdown",
   "id": "22f74edc",
   "metadata": {},
   "source": [
    "**Ans**"
   ]
  },
  {
   "cell_type": "markdown",
   "id": "9fe55769",
   "metadata": {},
   "source": [
    "* assert False -> this always triggers an exception"
   ]
  },
  {
   "cell_type": "code",
   "execution_count": 6,
   "id": "11ed3f39",
   "metadata": {},
   "outputs": [
    {
     "ename": "AssertionError",
     "evalue": "",
     "output_type": "error",
     "traceback": [
      "\u001b[1;31m---------------------------------------------------------------------------\u001b[0m",
      "\u001b[1;31mAssertionError\u001b[0m                            Traceback (most recent call last)",
      "Cell \u001b[1;32mIn[6], line 1\u001b[0m\n\u001b[1;32m----> 1\u001b[0m \u001b[38;5;28;01massert\u001b[39;00m \u001b[38;5;28;01mFalse\u001b[39;00m\n",
      "\u001b[1;31mAssertionError\u001b[0m: "
     ]
    }
   ],
   "source": [
    "assert False"
   ]
  },
  {
   "cell_type": "markdown",
   "id": "cd2faa78",
   "metadata": {},
   "source": [
    "### Q4. What are the two lines that must be present in your software in order to call logging.debug()?"
   ]
  },
  {
   "cell_type": "markdown",
   "id": "6287e938",
   "metadata": {},
   "source": [
    "**Ans**"
   ]
  },
  {
   "cell_type": "markdown",
   "id": "8a3fc194",
   "metadata": {},
   "source": [
    "* To be able to call logging.debug(), we must have these two lines at the start of your program :"
   ]
  },
  {
   "cell_type": "code",
   "execution_count": 8,
   "id": "4dfec362",
   "metadata": {},
   "outputs": [],
   "source": [
    "import logging\n",
    "logging.basicConfig(filename = 'programLog.txt',level=logging.DEBUG, format=' %(asctime)s - %(levelname)s - %(message)s')"
   ]
  },
  {
   "cell_type": "markdown",
   "id": "5fc622b1",
   "metadata": {},
   "source": [
    "### Q5. What are the two lines that your program must have in order to have logging.debug() send a logging message to a file named programLog.txt?\n"
   ]
  },
  {
   "cell_type": "markdown",
   "id": "c107df51",
   "metadata": {},
   "source": [
    "**Ans**"
   ]
  },
  {
   "cell_type": "code",
   "execution_count": 1,
   "id": "782d5e14",
   "metadata": {},
   "outputs": [],
   "source": [
    "import logging\n",
    "logging.basicConfig(filename = 'application_log.txt',level=logging.DEBUG, format=' %(asctime)s - %(levelname)s - %(message)s')\n",
    "logging.debug(\"Data Inserted Successfully\")\n",
    "logging.debug('Connection Closed Successfully')"
   ]
  },
  {
   "cell_type": "code",
   "execution_count": 2,
   "id": "2b3dd899",
   "metadata": {},
   "outputs": [
    {
     "name": "stdout",
     "output_type": "stream",
     "text": [
      " 2023-06-08 08:45:29,158 - DEBUG - Data Inserted Successfully\n",
      "\n",
      " 2023-06-08 08:45:29,159 - DEBUG - Connection Closed Successfully\n",
      "\n"
     ]
    }
   ],
   "source": [
    "file = open(\"./application_log.txt\",\"r\")\n",
    "for record in file.readlines():\n",
    "    print(record)"
   ]
  },
  {
   "cell_type": "markdown",
   "id": "6f7bdc09",
   "metadata": {},
   "source": [
    "### Q6. What are the five levels of logging?"
   ]
  },
  {
   "cell_type": "markdown",
   "id": "9f422436",
   "metadata": {},
   "source": [
    "**Ans**"
   ]
  },
  {
   "cell_type": "markdown",
   "id": "44553291",
   "metadata": {},
   "source": [
    "* Five level of loggins are DEBUG, INFO, WARNING, ERROR, and CRITICAL.\n",
    "     * logging.debug()\n",
    "     * logging.info()\n",
    "     * logging.warning()\n",
    "     * logging.error()\n",
    "     * logging.critical()"
   ]
  },
  {
   "cell_type": "markdown",
   "id": "e0d7c4e7",
   "metadata": {},
   "source": [
    "### Q7. What line of code would you add to your software to disable all logging messages?"
   ]
  },
  {
   "cell_type": "markdown",
   "id": "a971c6c3",
   "metadata": {},
   "source": [
    "**Ans**"
   ]
  },
  {
   "cell_type": "code",
   "execution_count": null,
   "id": "3e3aef8c",
   "metadata": {},
   "outputs": [],
   "source": [
    "logging.disable = True"
   ]
  },
  {
   "cell_type": "markdown",
   "id": "7d4a0ac7",
   "metadata": {},
   "source": [
    "### Q8.Why is using logging messages better than using print() to display the same message?"
   ]
  },
  {
   "cell_type": "markdown",
   "id": "39951376",
   "metadata": {},
   "source": [
    "**Ans**"
   ]
  },
  {
   "cell_type": "markdown",
   "id": "080f48f4",
   "metadata": {},
   "source": [
    "* After development of your code, you can disable logging messages without removing the logging function, whereas you need to manually remove print() statements, which is tedious activity.\n",
    "* print is used when you want to display any particular message or help whereas logging is used to record all events like error, info, debug messages, timestamps."
   ]
  },
  {
   "cell_type": "markdown",
   "id": "030fd8ac",
   "metadata": {},
   "source": [
    "### Q9. What are the differences between the Step Over, Step In, and Step Out buttons in the debugger?"
   ]
  },
  {
   "cell_type": "markdown",
   "id": "17ed6c3c",
   "metadata": {},
   "source": [
    "**Ans**"
   ]
  },
  {
   "cell_type": "markdown",
   "id": "7af0f264",
   "metadata": {},
   "source": [
    "The Differences between Step Over, Step In, Step Out buttons in debugger are:<br>\n",
    "     * The Step in button will move the debugger into a function call.<br>\n",
    "     * The Step Over button will quickly execute the function call without stepping into it.<br> \n",
    "     * The Step Out button will quickly execute the rest of the code until it steps out of the function it currently is in.<br>"
   ]
  },
  {
   "cell_type": "markdown",
   "id": "331982d1",
   "metadata": {},
   "source": [
    "### Q10.After you click Continue, when will the debugger stop ?"
   ]
  },
  {
   "cell_type": "markdown",
   "id": "3a28651d",
   "metadata": {},
   "source": [
    "**Ans**"
   ]
  },
  {
   "cell_type": "markdown",
   "id": "4f29751a",
   "metadata": {},
   "source": [
    "It will stops at next breakpoint, if there are no further breakpoints program will be fully executed."
   ]
  },
  {
   "cell_type": "markdown",
   "id": "444bcce1",
   "metadata": {},
   "source": [
    "### Q11. What is the concept of a breakpoint?"
   ]
  },
  {
   "cell_type": "markdown",
   "id": "3393e8f7",
   "metadata": {},
   "source": [
    "**Ans**"
   ]
  },
  {
   "cell_type": "markdown",
   "id": "a894cc4d",
   "metadata": {},
   "source": [
    "Breakpoint is a setting on a line of code that causes the debugger to pause when the program execution reaches the line."
   ]
  },
  {
   "cell_type": "code",
   "execution_count": null,
   "id": "a5edf75a",
   "metadata": {},
   "outputs": [],
   "source": []
  }
 ],
 "metadata": {
  "kernelspec": {
   "display_name": "Python 3 (ipykernel)",
   "language": "python",
   "name": "python3"
  },
  "language_info": {
   "codemirror_mode": {
    "name": "ipython",
    "version": 3
   },
   "file_extension": ".py",
   "mimetype": "text/x-python",
   "name": "python",
   "nbconvert_exporter": "python",
   "pygments_lexer": "ipython3",
   "version": "3.9.13"
  }
 },
 "nbformat": 4,
 "nbformat_minor": 5
}
