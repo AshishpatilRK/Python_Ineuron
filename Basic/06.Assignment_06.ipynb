{
 "cells": [
  {
   "cell_type": "markdown",
   "id": "77f00cba",
   "metadata": {},
   "source": [
    "# Assignment_6"
   ]
  },
  {
   "cell_type": "markdown",
   "id": "70ca2a11",
   "metadata": {},
   "source": [
    "### Q 1. What are escape characters, and how do you use them?"
   ]
  },
  {
   "cell_type": "markdown",
   "id": "6f9575cb",
   "metadata": {},
   "source": [
    "**Ans :** "
   ]
  },
  {
   "cell_type": "markdown",
   "id": "6b2b0214",
   "metadata": {},
   "source": [
    "* Escape characters represent characters in string values that would  be difficult or impossible to type into code. \n",
    "* The backslash \" \\ \" is a special character, also called the \"escape\" character.\n",
    "* It is used in representing certain whitespace characters: \"\\t\" is a tab, \"\\n\" is a newline, and \"\\r\" is a carriage return.\n",
    "* prefixing a special character with \"\\\" turns it into an ordinary character. This is called \"escaping\". For example, \" \\ ' \" is the single quote character. \n",
    "* 'It\\'s Sunday' therefore is a valid string and equivalent to \"It's Sunday\". \n",
    "* Likewise, ' \\ \" ' can be escaped: \"\\ \"hello\\ \"\" is a string begins and ends with the literal double quote character. \n",
    "* Finally, \" \\ \" can be used to escape itself: \"\\\\\" is the literal backslash character."
   ]
  },
  {
   "cell_type": "markdown",
   "id": "8d4bef9a",
   "metadata": {},
   "source": [
    "### Q 2. What do the escape characters n and t stand for?"
   ]
  },
  {
   "cell_type": "markdown",
   "id": "117567b4",
   "metadata": {},
   "source": [
    "**Ans :** "
   ]
  },
  {
   "cell_type": "markdown",
   "id": "5c48a068",
   "metadata": {},
   "source": [
    "* **\\n** means adding a new line."
   ]
  },
  {
   "cell_type": "code",
   "execution_count": 1,
   "id": "764ba23e",
   "metadata": {},
   "outputs": [
    {
     "name": "stdout",
     "output_type": "stream",
     "text": [
      "Hello\n",
      "World\n"
     ]
    }
   ],
   "source": [
    "# we can use \\n to add a new line\n",
    "\n",
    "text = \"Hello\\nWorld\"\n",
    "print(text)"
   ]
  },
  {
   "cell_type": "markdown",
   "id": "54e66748",
   "metadata": {},
   "source": [
    "* **\\t** means adding whitespaces or tab between words/characters"
   ]
  },
  {
   "cell_type": "code",
   "execution_count": 2,
   "id": "3dcf9098",
   "metadata": {},
   "outputs": [
    {
     "name": "stdout",
     "output_type": "stream",
     "text": [
      "Hello\tWorld\n"
     ]
    }
   ],
   "source": [
    "txt = \"Hello\\tWorld\"\n",
    "print(txt)"
   ]
  },
  {
   "cell_type": "markdown",
   "id": "54c70c33",
   "metadata": {},
   "source": [
    "### Q 3. What is the way to include backslash characters in a string?"
   ]
  },
  {
   "cell_type": "markdown",
   "id": "da6e7c04",
   "metadata": {},
   "source": [
    "**Ans :** "
   ]
  },
  {
   "cell_type": "markdown",
   "id": "90932684",
   "metadata": {},
   "source": [
    "To include backslash into a string, we have to use double backslash \\ \\"
   ]
  },
  {
   "cell_type": "code",
   "execution_count": 3,
   "id": "a34b41fc",
   "metadata": {},
   "outputs": [
    {
     "name": "stdout",
     "output_type": "stream",
     "text": [
      "This is a backslash \\\n"
     ]
    }
   ],
   "source": [
    "s1 = \"This is a backslash \\\\\"\n",
    "print(s1)"
   ]
  },
  {
   "cell_type": "markdown",
   "id": "dc4a4b82",
   "metadata": {},
   "source": [
    "### Q 4. The string \"Howl's Moving Castle\" is a correct value. Why isn't the single quote character in the word Howl's not escaped a problem?"
   ]
  },
  {
   "cell_type": "markdown",
   "id": "e64e7d55",
   "metadata": {},
   "source": [
    "**Ans :** "
   ]
  },
  {
   "cell_type": "markdown",
   "id": "d7b4d0bb",
   "metadata": {},
   "source": [
    "* The single quote in Howl's is fine because you've used double quotes to mark the beginning and end of the string. \n",
    "* If we use inside single quotes then we have to use escape character\n",
    "* In these cases, the single and double-quotes are treated as special characters itself."
   ]
  },
  {
   "cell_type": "code",
   "execution_count": 4,
   "id": "36bcd13b",
   "metadata": {},
   "outputs": [
    {
     "name": "stdout",
     "output_type": "stream",
     "text": [
      "Howl's Moving Castle\n"
     ]
    }
   ],
   "source": [
    "print('Howl\\'s Moving Castle')"
   ]
  },
  {
   "cell_type": "code",
   "execution_count": 5,
   "id": "307b30d4",
   "metadata": {},
   "outputs": [
    {
     "name": "stdout",
     "output_type": "stream",
     "text": [
      "Its a \"Nice\" Sunday\n"
     ]
    }
   ],
   "source": [
    "# like wise we can use double quote in side single quote\n",
    "print('Its a \"Nice\" Sunday')"
   ]
  },
  {
   "cell_type": "markdown",
   "id": "6f95a95a",
   "metadata": {},
   "source": [
    "### Q 5. How do you write a string of newlines if you don't want to use the n character?"
   ]
  },
  {
   "cell_type": "markdown",
   "id": "be631b6e",
   "metadata": {},
   "source": [
    "**Ans :** "
   ]
  },
  {
   "cell_type": "markdown",
   "id": "6bd4a36a",
   "metadata": {},
   "source": [
    "* We use triple-quotes to write a string of newlines instead of using the n character."
   ]
  },
  {
   "cell_type": "code",
   "execution_count": 6,
   "id": "dbfb1cd4",
   "metadata": {},
   "outputs": [
    {
     "name": "stdout",
     "output_type": "stream",
     "text": [
      "This is a line.\n",
      "It is a new line\n"
     ]
    }
   ],
   "source": [
    "new_line = \"\"\"This is a line.\n",
    "It is a new line\"\"\"\n",
    "\n",
    "print(new_line)"
   ]
  },
  {
   "cell_type": "markdown",
   "id": "f182b94e",
   "metadata": {},
   "source": [
    "### Q 6. What are the values of the given expressions?\n",
    "**'Hello, world!'[1]**<br>\n",
    "**'Hello, world!'[0:5]**<br>\n",
    "**'Hello, world!'[:5]**<br>\n",
    "**'Hello, world!'[3:]**<br>"
   ]
  },
  {
   "cell_type": "markdown",
   "id": "301850f6",
   "metadata": {},
   "source": [
    "**Ans :** "
   ]
  },
  {
   "cell_type": "code",
   "execution_count": 7,
   "id": "5ab19c08",
   "metadata": {},
   "outputs": [
    {
     "data": {
      "text/plain": [
       "'e'"
      ]
     },
     "execution_count": 7,
     "metadata": {},
     "output_type": "execute_result"
    }
   ],
   "source": [
    "'Hello, world!'[1]"
   ]
  },
  {
   "cell_type": "code",
   "execution_count": 8,
   "id": "952a0cdf",
   "metadata": {},
   "outputs": [
    {
     "data": {
      "text/plain": [
       "'Hello'"
      ]
     },
     "execution_count": 8,
     "metadata": {},
     "output_type": "execute_result"
    }
   ],
   "source": [
    "'Hello, world!'[0:5]"
   ]
  },
  {
   "cell_type": "code",
   "execution_count": 9,
   "id": "1b77032f",
   "metadata": {},
   "outputs": [
    {
     "data": {
      "text/plain": [
       "'Hello'"
      ]
     },
     "execution_count": 9,
     "metadata": {},
     "output_type": "execute_result"
    }
   ],
   "source": [
    "'Hello, world!'[:5]"
   ]
  },
  {
   "cell_type": "code",
   "execution_count": 10,
   "id": "5f6f3d55",
   "metadata": {},
   "outputs": [
    {
     "data": {
      "text/plain": [
       "'lo, world!'"
      ]
     },
     "execution_count": 10,
     "metadata": {},
     "output_type": "execute_result"
    }
   ],
   "source": [
    "'Hello, world!'[3:]"
   ]
  },
  {
   "cell_type": "markdown",
   "id": "53fa9dd1",
   "metadata": {},
   "source": [
    "### Q 7. What are the values of the following expressions?\n",
    "**'Hello'.upper()**<br>\n",
    "**'Hello'.upper().isupper()**<br>\n",
    "**'Hello'.upper().lower()**<br>"
   ]
  },
  {
   "cell_type": "markdown",
   "id": "c3850d19",
   "metadata": {},
   "source": [
    "**Ans :** "
   ]
  },
  {
   "cell_type": "code",
   "execution_count": 11,
   "id": "ce8feaa2",
   "metadata": {},
   "outputs": [
    {
     "data": {
      "text/plain": [
       "'HELLO'"
      ]
     },
     "execution_count": 11,
     "metadata": {},
     "output_type": "execute_result"
    }
   ],
   "source": [
    "'Hello'.upper()"
   ]
  },
  {
   "cell_type": "code",
   "execution_count": 12,
   "id": "c4987a4e",
   "metadata": {},
   "outputs": [
    {
     "data": {
      "text/plain": [
       "True"
      ]
     },
     "execution_count": 12,
     "metadata": {},
     "output_type": "execute_result"
    }
   ],
   "source": [
    "'Hello'.upper().isupper()"
   ]
  },
  {
   "cell_type": "code",
   "execution_count": 13,
   "id": "566a8968",
   "metadata": {},
   "outputs": [
    {
     "data": {
      "text/plain": [
       "'hello'"
      ]
     },
     "execution_count": 13,
     "metadata": {},
     "output_type": "execute_result"
    }
   ],
   "source": [
    "'Hello'.upper().lower()"
   ]
  },
  {
   "cell_type": "markdown",
   "id": "b9625edf",
   "metadata": {},
   "source": [
    "### Q 8. What are the values of the following expressions?\n",
    "\n",
    "**'Remember, remember, the fifth of July.'.split()**<br>\n",
    "**'-'.join('There can only one.'.split())**<br>\n"
   ]
  },
  {
   "cell_type": "markdown",
   "id": "e36429f5",
   "metadata": {},
   "source": [
    "**Ans :** "
   ]
  },
  {
   "cell_type": "code",
   "execution_count": 14,
   "id": "68e81bd9",
   "metadata": {},
   "outputs": [
    {
     "data": {
      "text/plain": [
       "['Remember,', 'remember,', 'the', 'fifth', 'of', 'July.']"
      ]
     },
     "execution_count": 14,
     "metadata": {},
     "output_type": "execute_result"
    }
   ],
   "source": [
    "'Remember, remember, the fifth of July.'.split()"
   ]
  },
  {
   "cell_type": "code",
   "execution_count": 15,
   "id": "af9e6849",
   "metadata": {},
   "outputs": [
    {
     "data": {
      "text/plain": [
       "'There-can-only-one.'"
      ]
     },
     "execution_count": 15,
     "metadata": {},
     "output_type": "execute_result"
    }
   ],
   "source": [
    "'-'.join('There can only one.'.split())"
   ]
  },
  {
   "cell_type": "markdown",
   "id": "bbc9eac9",
   "metadata": {},
   "source": [
    "### Q 9. What are the methods for right-justifying, left-justifying, and centering a string?"
   ]
  },
  {
   "cell_type": "markdown",
   "id": "f26c457a",
   "metadata": {},
   "source": [
    "**Ans :** "
   ]
  },
  {
   "cell_type": "markdown",
   "id": "0ea12fac",
   "metadata": {},
   "source": [
    "The following methods are used for justifying strings<br>\n",
    "left-justifying  -  ljust()<br>\n",
    "right-justifying -  rjust()<br>\n",
    "center-align     -  center()<br>"
   ]
  },
  {
   "cell_type": "code",
   "execution_count": 16,
   "id": "f5dbd2f8",
   "metadata": {},
   "outputs": [
    {
     "data": {
      "text/plain": [
       "'Hello-----'"
      ]
     },
     "execution_count": 16,
     "metadata": {},
     "output_type": "execute_result"
    }
   ],
   "source": [
    "# left justified\n",
    "str =\"Hello\"\n",
    "str.ljust(10,\"-\")"
   ]
  },
  {
   "cell_type": "code",
   "execution_count": 17,
   "id": "78817118",
   "metadata": {},
   "outputs": [
    {
     "data": {
      "text/plain": [
       "'*******************How are you'"
      ]
     },
     "execution_count": 17,
     "metadata": {},
     "output_type": "execute_result"
    }
   ],
   "source": [
    "# right justified\n",
    "str =\"How are you\"\n",
    "str.rjust(30,'*')"
   ]
  },
  {
   "cell_type": "code",
   "execution_count": 18,
   "id": "e7d8656c",
   "metadata": {},
   "outputs": [
    {
     "data": {
      "text/plain": [
       "'*********How are you**********'"
      ]
     },
     "execution_count": 18,
     "metadata": {},
     "output_type": "execute_result"
    }
   ],
   "source": [
    "# center justified\n",
    "str =\"How are you\"\n",
    "str.center(30,'*')"
   ]
  },
  {
   "cell_type": "markdown",
   "id": "0bc6e924",
   "metadata": {},
   "source": [
    "### Q 10. What is the best way to remove whitespace characters from the start or end?"
   ]
  },
  {
   "cell_type": "markdown",
   "id": "7321d303",
   "metadata": {},
   "source": [
    "**Ans :** "
   ]
  },
  {
   "cell_type": "markdown",
   "id": "66e6af71",
   "metadata": {},
   "source": [
    "strip() -  removes white spaces from the start or end<br>\n",
    "lstrip() -  removes white spaces from left of the string<br>\n",
    "rstrip() -  removes whitespaces from right of the string"
   ]
  },
  {
   "cell_type": "code",
   "execution_count": 19,
   "id": "21cfc41e",
   "metadata": {},
   "outputs": [
    {
     "name": "stdout",
     "output_type": "stream",
     "text": [
      "      Hello      World\n"
     ]
    }
   ],
   "source": [
    "a = \"      Hello     \"\n",
    "\n",
    "print(a, \"World\")"
   ]
  },
  {
   "cell_type": "code",
   "execution_count": 20,
   "id": "3f3944e1",
   "metadata": {},
   "outputs": [
    {
     "name": "stdout",
     "output_type": "stream",
     "text": [
      "Hello World\n"
     ]
    }
   ],
   "source": [
    "print(a.strip(), \"World\") # .strip() method"
   ]
  },
  {
   "cell_type": "code",
   "execution_count": 21,
   "id": "752aa3d9",
   "metadata": {
    "scrolled": true
   },
   "outputs": [
    {
     "data": {
      "text/plain": [
       "'hkjhjdfhjd jkhjhd  '"
      ]
     },
     "execution_count": 21,
     "metadata": {},
     "output_type": "execute_result"
    }
   ],
   "source": [
    "str =\"  hkjhjdfhjd jkhjhd  \"   # To remove whitespaces only from the start we can .lstrip()\n",
    "str.lstrip()"
   ]
  },
  {
   "cell_type": "code",
   "execution_count": 22,
   "id": "1f8b74a5",
   "metadata": {},
   "outputs": [
    {
     "data": {
      "text/plain": [
       "'  hkjhjdfhjd jkhjhd'"
      ]
     },
     "execution_count": 22,
     "metadata": {},
     "output_type": "execute_result"
    }
   ],
   "source": [
    "str =\"  hkjhjdfhjd jkhjhd  \"  # To remove whitespaces only from the end we can .rstrip()\n",
    "str.rstrip()"
   ]
  },
  {
   "cell_type": "code",
   "execution_count": null,
   "id": "8ee8941a",
   "metadata": {},
   "outputs": [],
   "source": []
  }
 ],
 "metadata": {
  "kernelspec": {
   "display_name": "Python 3 (ipykernel)",
   "language": "python",
   "name": "python3"
  },
  "language_info": {
   "codemirror_mode": {
    "name": "ipython",
    "version": 3
   },
   "file_extension": ".py",
   "mimetype": "text/x-python",
   "name": "python",
   "nbconvert_exporter": "python",
   "pygments_lexer": "ipython3",
   "version": "3.9.13"
  }
 },
 "nbformat": 4,
 "nbformat_minor": 5
}
