{
 "cells": [
  {
   "cell_type": "markdown",
   "id": "154b6598",
   "metadata": {},
   "source": [
    "# Assignment_22"
   ]
  },
  {
   "cell_type": "markdown",
   "id": "860323fb",
   "metadata": {},
   "source": [
    "### Q1. What is the result of the code, and explain?\n",
    "\n",
    "X = iNeuron<br>\n",
    "def func():<br>\n",
    "    print(X)<br>\n",
    "func()"
   ]
  },
  {
   "cell_type": "code",
   "execution_count": 1,
   "id": "9e82318d",
   "metadata": {},
   "outputs": [
    {
     "name": "stdout",
     "output_type": "stream",
     "text": [
      "iNeuron\n"
     ]
    }
   ],
   "source": [
    "X = 'iNeuron'  # global variable\n",
    "def func():\n",
    "    print(X) # print global variable\n",
    "func() # call function"
   ]
  },
  {
   "cell_type": "markdown",
   "id": "b8ea0013",
   "metadata": {},
   "source": [
    "X = 'ineuron' is global variable. We can call global variable anywhere in the whole programme."
   ]
  },
  {
   "cell_type": "markdown",
   "id": "ebdd4585",
   "metadata": {},
   "source": [
    "### Q2. What is the result of the code, and explain?<br>\n",
    "X = iNeuron<br>\n",
    "def func():<br>\n",
    "    X='NI!'<br>\n",
    "func()<br>\n",
    "print(X)"
   ]
  },
  {
   "cell_type": "code",
   "execution_count": 2,
   "id": "aacbd654",
   "metadata": {},
   "outputs": [
    {
     "name": "stdout",
     "output_type": "stream",
     "text": [
      "iNeuron\n"
     ]
    }
   ],
   "source": [
    "X = \"iNeuron\" # global variable.\n",
    "def func():\n",
    "    X='NI!' # Local variable\n",
    "func()\n",
    "print(X)  # print Global variable."
   ]
  },
  {
   "cell_type": "markdown",
   "id": "7bdd0b4f",
   "metadata": {},
   "source": [
    "* X = 'ineuron' is global variable. We can call global variable anywhere in the whole programme.\n",
    "* X = 'NI!' is Local variable. It is local to fun() and not print outside the function.\n",
    "* So When give print(X) ouside the function , it will print Global variable."
   ]
  },
  {
   "cell_type": "markdown",
   "id": "deec1b51",
   "metadata": {},
   "source": [
    "### Q3. What does this code print, and why?\n",
    "X = iNeuron<br>\n",
    "def func():<br>\n",
    "    X='NI!'<br>\n",
    "    print(X)<br>\n",
    "func()<br>\n",
    "print(X)"
   ]
  },
  {
   "cell_type": "code",
   "execution_count": 3,
   "id": "3ab02f2a",
   "metadata": {},
   "outputs": [
    {
     "name": "stdout",
     "output_type": "stream",
     "text": [
      "NI!\n",
      "iNeuron\n"
     ]
    }
   ],
   "source": [
    "X = \"iNeuron\" # global variable.\n",
    "def func():\n",
    "    X='NI!' # Local variable\n",
    "    print(X)  # print Global variable.    \n",
    "func()\n",
    "print(X)  # print Global variable."
   ]
  },
  {
   "cell_type": "markdown",
   "id": "ddbbe1a2",
   "metadata": {},
   "source": [
    "* X = 'ineuron' is global variable. We can call global variable anywhere in the whole programme.\n",
    "* X = 'NI!' is Local variable. It is local to fun() and not print outside the function.\n",
    "* Here When we call the function . It will print local variable  X = 'NI!'.\n",
    "* So When give print(X) ouside the function , it will print Global variable."
   ]
  },
  {
   "cell_type": "markdown",
   "id": "6d4de498",
   "metadata": {},
   "source": [
    "### Q4. What output does this code produce? Why?\n",
    "X = iNeuron<br>\n",
    "def func():<br>\n",
    "    global X<br>\n",
    "    X='NI!'<br>\n",
    "func()<br>\n",
    "print(X)"
   ]
  },
  {
   "cell_type": "code",
   "execution_count": 4,
   "id": "cfbb1545",
   "metadata": {},
   "outputs": [
    {
     "name": "stdout",
     "output_type": "stream",
     "text": [
      "NI!\n"
     ]
    }
   ],
   "source": [
    "X = \"iNeuron\" # global variable.\n",
    "def func():\n",
    "    global X  # new global variable\n",
    "    X='NI!' # Local variable   \n",
    "func()\n",
    "print(X)  # print Global variable."
   ]
  },
  {
   "cell_type": "markdown",
   "id": "94cd0c1f",
   "metadata": {},
   "source": [
    "* X = 'ineuron' is global variable. \n",
    "* Here Use global keyword to **Change/new** global varibale. \n",
    "* **New Global Varibale** is X = 'NI!' . We can call global variable anywhere in the whole programme.\n",
    "* Here When we call the function . Our GLobal variable chane , we get new Global Varibale is X = 'NI!'\n",
    "* So When give print(X) ouside the function , it will print New Global variable X = 'NI!'"
   ]
  },
  {
   "cell_type": "markdown",
   "id": "00a01c8d",
   "metadata": {},
   "source": [
    "### Q5. What about this code—what’s the output, and why?\n",
    "X = iNeuron<br>\n",
    "def func():<br>\n",
    "    X='NI!'<br>\n",
    "    def nested():<br>\n",
    "      print(X)<br>\n",
    "    nested()<br>\n",
    "func()<br>\n",
    "print(X)"
   ]
  },
  {
   "cell_type": "code",
   "execution_count": 5,
   "id": "a5e90d80",
   "metadata": {},
   "outputs": [
    {
     "name": "stdout",
     "output_type": "stream",
     "text": [
      "NI\n",
      "iNeuron\n"
     ]
    }
   ],
   "source": [
    "X = 'iNeuron'\n",
    "def func():\n",
    "    X = 'NI'  # Local variable   \n",
    "    def nested():\n",
    "        print(X)  # print Local variable   \n",
    "    nested()\n",
    "func()\n",
    "print(X) # print Global variable."
   ]
  },
  {
   "cell_type": "markdown",
   "id": "4fa64e7c",
   "metadata": {},
   "source": [
    "* X = 'ineuron' is global variable. We can call global variable anywhere in the whole programme.\n",
    "* X = 'NI!' is Local variable. It is local to fun() and not print outside the function.\n",
    "* In Func() , there another nested() function in that print(X)\n",
    "* We write nested() function in Func() . So we call Func() - \n",
    "* Here When we call the function Func() . It will print local variable  X = 'NI!' in nested() function in Func().\n",
    "* So When give print(X) ouside the function , it will print Global variable."
   ]
  },
  {
   "cell_type": "markdown",
   "id": "b41d9c50",
   "metadata": {},
   "source": [
    "### Q6. How about this code: what is its output in Python 3, and explain?"
   ]
  },
  {
   "cell_type": "markdown",
   "id": "936fad86",
   "metadata": {},
   "source": [
    "X = iNeuron<br>\n",
    "def func():<br>\n",
    "    X='NI!'<br>\n",
    "    def nested():<br>\n",
    "        nonlocal X\n",
    "        X = Spam;\n",
    "      print(X)<br>\n",
    "    nested()<br>\n",
    "func()<br>\n",
    "print(X)"
   ]
  },
  {
   "cell_type": "code",
   "execution_count": 6,
   "id": "0b4e64c9",
   "metadata": {},
   "outputs": [
    {
     "name": "stdout",
     "output_type": "stream",
     "text": [
      "Spam\n"
     ]
    }
   ],
   "source": [
    "def func():\n",
    "    X = 'NI'\n",
    "    def nested():\n",
    "        nonlocal X\n",
    "        X = 'Spam'\n",
    "    nested()\n",
    "    print(X)\n",
    "func()"
   ]
  },
  {
   "cell_type": "markdown",
   "id": "a44cc6d5",
   "metadata": {},
   "source": [
    "* Non local variables are used in nested functions whose *local scope is not defined. \n",
    "* This means that the variable **can be neither in the local nor the global scope.** it print the updated value from nested function\n",
    "* X = 'NI!' is Local variable. It is local to fun() and not print outside the function.\n",
    "* In Func() , there another nested() function in that nonlocal X variable and X = 'Spam' which can be neither in the local nor the global scope.\n",
    "* We write nested() function in Func() and print(X)\n",
    "* Here When we call the function Func() . It will print nonlocal variable  X = 'Spam' in nested() function in Func().\n",
    "* So When give print(X) inside the function , it will print nonlocal variable  X = 'Spam'."
   ]
  },
  {
   "cell_type": "code",
   "execution_count": null,
   "id": "6633bcbd",
   "metadata": {},
   "outputs": [],
   "source": []
  }
 ],
 "metadata": {
  "kernelspec": {
   "display_name": "Python 3 (ipykernel)",
   "language": "python",
   "name": "python3"
  },
  "language_info": {
   "codemirror_mode": {
    "name": "ipython",
    "version": 3
   },
   "file_extension": ".py",
   "mimetype": "text/x-python",
   "name": "python",
   "nbconvert_exporter": "python",
   "pygments_lexer": "ipython3",
   "version": "3.9.13"
  }
 },
 "nbformat": 4,
 "nbformat_minor": 5
}
