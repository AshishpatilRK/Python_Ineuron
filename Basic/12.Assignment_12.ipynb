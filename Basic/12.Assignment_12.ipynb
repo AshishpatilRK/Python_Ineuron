{
 "cells": [
  {
   "cell_type": "markdown",
   "id": "9dc5ae5d",
   "metadata": {},
   "source": [
    "# Assignment_12"
   ]
  },
  {
   "cell_type": "markdown",
   "id": "f42292f0",
   "metadata": {},
   "source": [
    "### Q1. In what modes should the PdfFileReader() and PdfFileWriter() File objects will be opened?"
   ]
  },
  {
   "cell_type": "markdown",
   "id": "77994872",
   "metadata": {},
   "source": [
    "**Ans**"
   ]
  },
  {
   "cell_type": "markdown",
   "id": "9c152151",
   "metadata": {},
   "source": [
    "For **PdfFileReader()** file objects should be opened in **rb** -> **read binary mode**, Whereas for **PdfFileWriter()** file objects should be opened in **wb** -> **write binary mode**."
   ]
  },
  {
   "cell_type": "markdown",
   "id": "d8f8bb34",
   "metadata": {},
   "source": [
    "### Q2. From a PdfFileReader object, how do you get a Page object for page 5?"
   ]
  },
  {
   "cell_type": "markdown",
   "id": "ce05d620",
   "metadata": {},
   "source": [
    "**Ans**"
   ]
  },
  {
   "cell_type": "markdown",
   "id": "de4520af",
   "metadata": {},
   "source": [
    "Calling getPage(4) will return a Page object for page 5 since page 0 is the first page."
   ]
  },
  {
   "cell_type": "code",
   "execution_count": 1,
   "id": "1f96e78d",
   "metadata": {},
   "outputs": [
    {
     "data": {
      "text/plain": [
       "'Question6-\\nUsingthedatafromQuestion3,writecodetoanalyzethedataandanswerthefollowingquestionsNote1.\\nDrawplotstodemonstratetheanalysisforthefollowingquestionsforbettervisualizations.\\n2.Writecodecommentswhereverrequiredforcodeunderstanding\\nInsightstobedrawn-\\n●GetallPokemonswhosespawnrateislessthan5% \\n●GetallPokemonsthathavelessthan4weaknesses \\n●GetallPokemonsthathavenomultipliersatall \\n●GetallPokemonsthatdonothavemorethan2evolutions \\n●GetallPokemonswhosespawntimeislessthan300seconds.\\nNote-spawntimeformatis\"05:32”,soassume“minute:second”formatandperformtheanalysis.\\n●GetallPokemonwhohavemorethantwotypesofcapabilities\\nQuestion7-\\nUsingthedatafromQuestion4,writecodetoanalyzethedataandanswerthefollowingquestionsNote-\\n1.Drawplotstodemonstratetheanalysisforthefollowingquestionsforbettervisualizations\\n2.Writecodecommentswhereverrequiredforcodeunderstanding\\nInsightstobedrawn-\\n●GetalltheEarthmeteoritesthatfellbeforetheyear2000 \\n●Getalltheearthmeteoritesco-ordinateswhofellbeforetheyear1970 \\n●Assumingthatthemassoftheearthmeteoriteswasinkg,getallthosewhosemasswasmorethan10000kg'"
      ]
     },
     "execution_count": 1,
     "metadata": {},
     "output_type": "execute_result"
    }
   ],
   "source": [
    "import PyPDF2 as pdf\n",
    "pdfFileObj = open(\"Data Science.pdf\",'rb')  # open pdf\n",
    "pdfReader = pdf.PdfReader(pdfFileObj)   # read pdf\n",
    "# print(pdfReader.pages[4].extract_text())\n",
    "pageObj = pdfReader.pages[4]\n",
    "pageObj.extract_text() "
   ]
  },
  {
   "cell_type": "markdown",
   "id": "a9e34060",
   "metadata": {},
   "source": [
    "### Q3. What PdfFileReader variable stores the number of pages in the PDF document?"
   ]
  },
  {
   "cell_type": "markdown",
   "id": "5a41f89a",
   "metadata": {},
   "source": [
    "**Ans**"
   ]
  },
  {
   "cell_type": "code",
   "execution_count": 2,
   "id": "f3e780bd",
   "metadata": {},
   "outputs": [
    {
     "data": {
      "text/plain": [
       "21"
      ]
     },
     "execution_count": 2,
     "metadata": {},
     "output_type": "execute_result"
    }
   ],
   "source": [
    "import PyPDF2 as pdf\n",
    "pdfFileObj = open(\"Data Science.pdf\",'rb')  # open pdf\n",
    "pdfReader = pdf.PdfReader(pdfFileObj) # read pdf\n",
    "len(pdfReader.pages)"
   ]
  },
  {
   "cell_type": "markdown",
   "id": "44063f3b",
   "metadata": {},
   "source": [
    "### Q4. If a PdfFileReader object’s PDF is encrypted with the password swordfish, what must you do before you can obtain Page objects from it?"
   ]
  },
  {
   "cell_type": "markdown",
   "id": "2c477ba5",
   "metadata": {},
   "source": [
    "**Ans**"
   ]
  },
  {
   "cell_type": "markdown",
   "id": "a25c8386",
   "metadata": {},
   "source": [
    "Before we obtain the page object, the pdf has to be decrypted by calling .decrypt('swordfish')"
   ]
  },
  {
   "cell_type": "code",
   "execution_count": null,
   "id": "1dcf9ae2",
   "metadata": {},
   "outputs": [],
   "source": [
    "#Example Code:\n",
    "from PyPDF2 import PdfFileReader\n",
    "pdf_reader = PdfFileReader(file_path)\n",
    "if pdf_reader.isEncrypted: # to check whether the pdf is encrypted or not\n",
    "    pdf_reader.decrypt(\"swordfish\")\n",
    "for page in pdf_reader.pages:\n",
    "    print(page.extractText()) # to print the text data of a page from pdf"
   ]
  },
  {
   "cell_type": "markdown",
   "id": "63d5fb1a",
   "metadata": {},
   "source": [
    "### Q5. What methods do you use to rotate a page?"
   ]
  },
  {
   "cell_type": "markdown",
   "id": "a50c1fc2",
   "metadata": {},
   "source": [
    "**Ans**"
   ]
  },
  {
   "cell_type": "markdown",
   "id": "47b33ebc",
   "metadata": {},
   "source": [
    "* PyPDF2 Package provides 2 methods to rotate a page:<br>\n",
    "      * rotateClockWise() -> For Clockwise rotation<br>\n",
    "      * rotateCounterClockWise() -> For Counter Clockwise rotation"
   ]
  },
  {
   "cell_type": "markdown",
   "id": "c0c16e8f",
   "metadata": {},
   "source": [
    "### Q6. What is the difference between a Run object and a Paragraph object?"
   ]
  },
  {
   "cell_type": "markdown",
   "id": "49ee99fb",
   "metadata": {},
   "source": [
    "**Ans**"
   ]
  },
  {
   "cell_type": "markdown",
   "id": "aa2692a2",
   "metadata": {},
   "source": [
    "* Paragraph Object :  A document contains multiple paragraphs. A paragraph begins on a new line and contains multiple \n",
    "runs. \n",
    "* The Document object contains a list of Paragraph objects for the paragraphs in the document. (A new paragraph begins \n",
    "whenever the user presses ENTER or RETURN while typing in a Word document.)\n",
    "\n",
    "* Run Objects :\n",
    "Runs are contiguous groups of characters within a paragraph with the same style"
   ]
  },
  {
   "cell_type": "markdown",
   "id": "b68639cb",
   "metadata": {},
   "source": [
    "### Q7. How do you obtain a list of Paragraph objects for a Document object that’s stored in a variable named doc?"
   ]
  },
  {
   "cell_type": "markdown",
   "id": "9b716165",
   "metadata": {},
   "source": [
    "**Ans**"
   ]
  },
  {
   "cell_type": "markdown",
   "id": "62b19cdc",
   "metadata": {},
   "source": [
    "By using doc.paragraphs"
   ]
  },
  {
   "cell_type": "markdown",
   "id": "95614cce",
   "metadata": {},
   "source": [
    "#!pip install python-docx<br>\n",
    "import docx<br>\n",
    "doc = docx.Document('demo.docx')<br>\n",
    "doc.paragraphs"
   ]
  },
  {
   "cell_type": "markdown",
   "id": "eb60e5a6",
   "metadata": {},
   "source": [
    "### Q8. What type of object has bold, underline, italic, strike, and outline variables?"
   ]
  },
  {
   "cell_type": "markdown",
   "id": "cc439b00",
   "metadata": {},
   "source": [
    "**Ans**"
   ]
  },
  {
   "cell_type": "markdown",
   "id": "a914b4d6",
   "metadata": {},
   "source": [
    "* A Run object has bold, underline,italic,strike and outline variables"
   ]
  },
  {
   "cell_type": "markdown",
   "id": "ed7aeafd",
   "metadata": {},
   "source": [
    "### Q9. What is the difference between False, True, and None for the bold variable?"
   ]
  },
  {
   "cell_type": "markdown",
   "id": "cd9360f7",
   "metadata": {},
   "source": [
    "**Ans**"
   ]
  },
  {
   "cell_type": "markdown",
   "id": "181b8498",
   "metadata": {},
   "source": [
    "* Runs can be further styled using text attributes. Each attribute can be set to one of three values: \n",
    "   * True (the attribute is always enabled, no matter what other styles are applied to the run), \n",
    "   * False (the attribute is always disabled),\n",
    "   * None (defaults to whatever the run’s style is set to)\n",
    "\n",
    "* True always makes the Run object bolded and \n",
    "* False makes it always not bolded, no matter what the style’s bold setting is. \n",
    "* None will make the Run object just use the style’s bold setting"
   ]
  },
  {
   "cell_type": "markdown",
   "id": "c67e8675",
   "metadata": {},
   "source": [
    "### Q10. How do you create a Document object for a new Word document?"
   ]
  },
  {
   "cell_type": "markdown",
   "id": "74b672d2",
   "metadata": {},
   "source": [
    "**Ans**"
   ]
  },
  {
   "cell_type": "markdown",
   "id": "a056eba4",
   "metadata": {},
   "source": [
    "By Calling the docx.Document() function."
   ]
  },
  {
   "cell_type": "markdown",
   "id": "59d2a63e",
   "metadata": {},
   "source": [
    "### Q11. How do you add a paragraph with the text &#39;Hello, there!&#39; to a Document object stored in a variable named doc?\n"
   ]
  },
  {
   "cell_type": "markdown",
   "id": "02ee9e79",
   "metadata": {},
   "source": [
    "**Ans**"
   ]
  },
  {
   "cell_type": "code",
   "execution_count": 4,
   "id": "98ffb001",
   "metadata": {},
   "outputs": [],
   "source": [
    "import docx\n",
    "doc = docx.Document()   # create document\n",
    "\n",
    "doc.add_paragraph('Hello there!') # add paragraph\n",
    "doc.save('hellothere.docx') # save file"
   ]
  },
  {
   "cell_type": "markdown",
   "id": "c1c7fa15",
   "metadata": {},
   "source": [
    "### Q12. What integers represent the levels of headings available in Word documents?"
   ]
  },
  {
   "cell_type": "markdown",
   "id": "e8ceb6f0",
   "metadata": {},
   "source": [
    "**Ans**"
   ]
  },
  {
   "cell_type": "markdown",
   "id": "94b950e7",
   "metadata": {},
   "source": [
    "0 to 4"
   ]
  },
  {
   "cell_type": "markdown",
   "id": "541b7f52",
   "metadata": {},
   "source": [
    "The levels for a heading in a word document can be specified by using the level attribute inside the add_heading method. There are a total of 5 levels statring for 0 to 4. where level 0 makes a headline with the horizontal line below the text, whereas the heading level 1 is the main heading. Similarly, the other headings are sub-heading with their's font-sizes in decreasing order."
   ]
  },
  {
   "cell_type": "markdown",
   "id": "a9138d61",
   "metadata": {},
   "source": []
  },
  {
   "cell_type": "markdown",
   "id": "f524dcc6",
   "metadata": {},
   "source": []
  },
  {
   "cell_type": "markdown",
   "id": "f0acb43e",
   "metadata": {},
   "source": []
  },
  {
   "cell_type": "markdown",
   "id": "980a3554",
   "metadata": {},
   "source": []
  },
  {
   "cell_type": "markdown",
   "id": "ff8445a8",
   "metadata": {},
   "source": []
  }
 ],
 "metadata": {
  "kernelspec": {
   "display_name": "Python 3 (ipykernel)",
   "language": "python",
   "name": "python3"
  },
  "language_info": {
   "codemirror_mode": {
    "name": "ipython",
    "version": 3
   },
   "file_extension": ".py",
   "mimetype": "text/x-python",
   "name": "python",
   "nbconvert_exporter": "python",
   "pygments_lexer": "ipython3",
   "version": "3.9.13"
  }
 },
 "nbformat": 4,
 "nbformat_minor": 5
}
