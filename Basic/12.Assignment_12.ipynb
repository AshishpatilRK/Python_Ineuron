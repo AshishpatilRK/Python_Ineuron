{
 "cells": [
  {
   "cell_type": "markdown",
   "id": "94846f80",
   "metadata": {},
   "source": [
    "# Assignment_12"
   ]
  },
  {
   "cell_type": "markdown",
   "id": "32707531",
   "metadata": {},
   "source": [
    "### Q1. In what modes should the PdfFileReader() and PdfFileWriter() File objects will be opened?"
   ]
  },
  {
   "cell_type": "markdown",
   "id": "c124660b",
   "metadata": {},
   "source": [
    "**Ans**"
   ]
  },
  {
   "cell_type": "markdown",
   "id": "b3210e9e",
   "metadata": {},
   "source": [
    "For **PdfFileReader()** file objects should be opened in **rb** -> **read binary mode**, Whereas for **PdfFileWriter()** file objects should be opened in **wb** -> **write binary mode**."
   ]
  },
  {
   "cell_type": "markdown",
   "id": "0d222d81",
   "metadata": {},
   "source": [
    "### Q2. From a PdfFileReader object, how do you get a Page object for page 5?"
   ]
  },
  {
   "cell_type": "markdown",
   "id": "66b40ebd",
   "metadata": {},
   "source": [
    "**Ans**"
   ]
  },
  {
   "cell_type": "markdown",
   "id": "df10c6e4",
   "metadata": {},
   "source": [
    "Calling getPage(4) will return a Page object for page 5 since page 0 is the first page."
   ]
  },
  {
   "cell_type": "code",
   "execution_count": 1,
   "id": "a94d1935",
   "metadata": {},
   "outputs": [
    {
     "data": {
      "text/plain": [
       "'Question6-\\nUsingthedatafromQuestion3,writecodetoanalyzethedataandanswerthefollowingquestionsNote1.\\nDrawplotstodemonstratetheanalysisforthefollowingquestionsforbettervisualizations.\\n2.Writecodecommentswhereverrequiredforcodeunderstanding\\nInsightstobedrawn-\\n●GetallPokemonswhosespawnrateislessthan5% \\n●GetallPokemonsthathavelessthan4weaknesses \\n●GetallPokemonsthathavenomultipliersatall \\n●GetallPokemonsthatdonothavemorethan2evolutions \\n●GetallPokemonswhosespawntimeislessthan300seconds.\\nNote-spawntimeformatis\"05:32”,soassume“minute:second”formatandperformtheanalysis.\\n●GetallPokemonwhohavemorethantwotypesofcapabilities\\nQuestion7-\\nUsingthedatafromQuestion4,writecodetoanalyzethedataandanswerthefollowingquestionsNote-\\n1.Drawplotstodemonstratetheanalysisforthefollowingquestionsforbettervisualizations\\n2.Writecodecommentswhereverrequiredforcodeunderstanding\\nInsightstobedrawn-\\n●GetalltheEarthmeteoritesthatfellbeforetheyear2000 \\n●Getalltheearthmeteoritesco-ordinateswhofellbeforetheyear1970 \\n●Assumingthatthemassoftheearthmeteoriteswasinkg,getallthosewhosemasswasmorethan10000kg'"
      ]
     },
     "execution_count": 1,
     "metadata": {},
     "output_type": "execute_result"
    }
   ],
   "source": [
    "import PyPDF2 as pdf\n",
    "pdfFileObj = open(\"Data Science.pdf\",'rb')  # open pdf\n",
    "pdfReader = pdf.PdfReader(pdfFileObj)   # read pdf\n",
    "# print(pdfReader.pages[4].extract_text())\n",
    "pageObj = pdfReader.pages[4]\n",
    "pageObj.extract_text() "
   ]
  },
  {
   "cell_type": "markdown",
   "id": "67501886",
   "metadata": {},
   "source": [
    "### Q3. What PdfFileReader variable stores the number of pages in the PDF document?"
   ]
  },
  {
   "cell_type": "markdown",
   "id": "48bb8298",
   "metadata": {},
   "source": [
    "**Ans**"
   ]
  },
  {
   "cell_type": "code",
   "execution_count": 2,
   "id": "35977933",
   "metadata": {},
   "outputs": [
    {
     "data": {
      "text/plain": [
       "21"
      ]
     },
     "execution_count": 2,
     "metadata": {},
     "output_type": "execute_result"
    }
   ],
   "source": [
    "import PyPDF2 as pdf\n",
    "pdfFileObj = open(\"Data Science.pdf\",'rb')  # open pdf\n",
    "pdfReader = pdf.PdfReader(pdfFileObj) # read pdf\n",
    "len(pdfReader.pages)"
   ]
  },
  {
   "cell_type": "markdown",
   "id": "0e40d724",
   "metadata": {},
   "source": [
    "### Q4. If a PdfFileReader object’s PDF is encrypted with the password swordfish, what must you do before you can obtain Page objects from it?"
   ]
  },
  {
   "cell_type": "markdown",
   "id": "0c605e10",
   "metadata": {},
   "source": [
    "**Ans**"
   ]
  },
  {
   "cell_type": "markdown",
   "id": "01248189",
   "metadata": {},
   "source": [
    "Before we obtain the page object, the pdf has to be decrypted by calling .decrypt('swordfish')"
   ]
  },
  {
   "cell_type": "code",
   "execution_count": null,
   "id": "a974ded7",
   "metadata": {},
   "outputs": [],
   "source": [
    "#Example Code:\n",
    "from PyPDF2 import PdfFileReader\n",
    "pdf_reader = PdfFileReader(file_path)\n",
    "if pdf_reader.isEncrypted: # to check whether the pdf is encrypted or not\n",
    "    pdf_reader.decrypt(\"swordfish\")\n",
    "for page in pdf_reader.pages:\n",
    "    print(page.extractText()) # to print the text data of a page from pdf"
   ]
  },
  {
   "cell_type": "markdown",
   "id": "6abe6ec7",
   "metadata": {},
   "source": [
    "### Q5. What methods do you use to rotate a page?"
   ]
  },
  {
   "cell_type": "markdown",
   "id": "2a19b15b",
   "metadata": {},
   "source": [
    "**Ans**"
   ]
  },
  {
   "cell_type": "markdown",
   "id": "59b1ef93",
   "metadata": {},
   "source": [
    "* PyPDF2 Package provides 2 methods to rotate a page:<br>\n",
    "      * rotateClockWise() -> For Clockwise rotation<br>\n",
    "      * rotateCounterClockWise() -> For Counter Clockwise rotation"
   ]
  },
  {
   "cell_type": "markdown",
   "id": "14dc921c",
   "metadata": {},
   "source": [
    "### Q6. What is the difference between a Run object and a Paragraph object?"
   ]
  },
  {
   "cell_type": "markdown",
   "id": "bb6ae14d",
   "metadata": {},
   "source": [
    "**Ans**"
   ]
  },
  {
   "cell_type": "markdown",
   "id": "9f378b08",
   "metadata": {},
   "source": [
    "* Paragraph Object :  A document contains multiple paragraphs. A paragraph begins on a new line and contains multiple \n",
    "runs. \n",
    "* The Document object contains a list of Paragraph objects for the paragraphs in the document. (A new paragraph begins \n",
    "whenever the user presses ENTER or RETURN while typing in a Word document.)\n",
    "\n",
    "* Run Objects :\n",
    "Runs are contiguous groups of characters within a paragraph with the same style"
   ]
  },
  {
   "cell_type": "markdown",
   "id": "716c2933",
   "metadata": {},
   "source": [
    "### Q7. How do you obtain a list of Paragraph objects for a Document object that’s stored in a variable named doc?"
   ]
  },
  {
   "cell_type": "markdown",
   "id": "6296ff7a",
   "metadata": {},
   "source": [
    "**Ans**"
   ]
  },
  {
   "cell_type": "markdown",
   "id": "904ae435",
   "metadata": {},
   "source": [
    "By using doc.paragraphs"
   ]
  },
  {
   "cell_type": "markdown",
   "id": "b72d60d9",
   "metadata": {},
   "source": [
    "import docx<br>\n",
    "doc = docx.Document('demo.docx')<br>\n",
    "doc.paragraphs"
   ]
  },
  {
   "cell_type": "markdown",
   "id": "3599fb89",
   "metadata": {},
   "source": [
    "### Q8. What type of object has bold, underline, italic, strike, and outline variables?"
   ]
  },
  {
   "cell_type": "markdown",
   "id": "d390b2d6",
   "metadata": {},
   "source": [
    "**Ans**"
   ]
  },
  {
   "cell_type": "markdown",
   "id": "61415fac",
   "metadata": {},
   "source": [
    "* A Run object has bold, underline,italic,strike and outline variables"
   ]
  },
  {
   "cell_type": "markdown",
   "id": "55be55ec",
   "metadata": {},
   "source": [
    "### Q9. What is the difference between False, True, and None for the bold variable?"
   ]
  },
  {
   "cell_type": "markdown",
   "id": "e9d41fb6",
   "metadata": {},
   "source": [
    "**Ans**"
   ]
  },
  {
   "cell_type": "markdown",
   "id": "9310cde4",
   "metadata": {},
   "source": [
    "* Runs can be further styled using text attributes. Each attribute can be set to one of three values: \n",
    "   * True (the attribute is always enabled, no matter what other styles are applied to the run), \n",
    "   * False (the attribute is always disabled),\n",
    "   * None (defaults to whatever the run’s style is set to)\n",
    "\n",
    "* True always makes the Run object bolded and \n",
    "* False makes it always not bolded, no matter what the style’s bold setting is. \n",
    "* None will make the Run object just use the style’s bold setting"
   ]
  },
  {
   "cell_type": "markdown",
   "id": "f6d56c6e",
   "metadata": {},
   "source": [
    "### Q10. How do you create a Document object for a new Word document?"
   ]
  },
  {
   "cell_type": "markdown",
   "id": "0050b4bf",
   "metadata": {},
   "source": [
    "**Ans**"
   ]
  },
  {
   "cell_type": "markdown",
   "id": "1398236e",
   "metadata": {},
   "source": [
    "By Calling the docx.Document() function."
   ]
  },
  {
   "cell_type": "markdown",
   "id": "709ae014",
   "metadata": {},
   "source": [
    "### Q11. How do you add a paragraph with the text &#39;Hello, there!&#39; to a Document object stored in a variable named doc?\n"
   ]
  },
  {
   "cell_type": "markdown",
   "id": "0f8111e7",
   "metadata": {},
   "source": [
    "**Ans**"
   ]
  },
  {
   "cell_type": "code",
   "execution_count": 4,
   "id": "492d4c26",
   "metadata": {},
   "outputs": [],
   "source": [
    "import docx\n",
    "doc = docx.Document()   # create document\n",
    "\n",
    "doc.add_paragraph('Hello there!') # add paragraph\n",
    "doc.save('hellothere.docx') # save file"
   ]
  },
  {
   "cell_type": "markdown",
   "id": "d7c32a79",
   "metadata": {},
   "source": [
    "### Q12. What integers represent the levels of headings available in Word documents?"
   ]
  },
  {
   "cell_type": "markdown",
   "id": "03cff07b",
   "metadata": {},
   "source": [
    "**Ans**"
   ]
  },
  {
   "cell_type": "markdown",
   "id": "9ecb8cc8",
   "metadata": {},
   "source": [
    "0 to 4"
   ]
  },
  {
   "cell_type": "markdown",
   "id": "c804c942",
   "metadata": {},
   "source": [
    "The levels for a heading in a word document can be specified by using the level attribute inside the add_heading method. There are a total of 5 levels statring for 0 to 4. where level 0 makes a headline with the horizontal line below the text, whereas the heading level 1 is the main heading. Similarly, the other headings are sub-heading with their's font-sizes in decreasing order."
   ]
  },
  {
   "cell_type": "markdown",
   "id": "5f1c14a8",
   "metadata": {},
   "source": []
  },
  {
   "cell_type": "markdown",
   "id": "6dbd209f",
   "metadata": {},
   "source": []
  },
  {
   "cell_type": "markdown",
   "id": "6d3df41a",
   "metadata": {},
   "source": []
  },
  {
   "cell_type": "markdown",
   "id": "9aabbb1d",
   "metadata": {},
   "source": []
  },
  {
   "cell_type": "markdown",
   "id": "63a36fdf",
   "metadata": {},
   "source": []
  }
 ],
 "metadata": {
  "kernelspec": {
   "display_name": "Python 3 (ipykernel)",
   "language": "python",
   "name": "python3"
  },
  "language_info": {
   "codemirror_mode": {
    "name": "ipython",
    "version": 3
   },
   "file_extension": ".py",
   "mimetype": "text/x-python",
   "name": "python",
   "nbconvert_exporter": "python",
   "pygments_lexer": "ipython3",
   "version": "3.9.13"
  }
 },
 "nbformat": 4,
 "nbformat_minor": 5
}
