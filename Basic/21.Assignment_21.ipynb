{
 "cells": [
  {
   "cell_type": "markdown",
   "id": "3d6bf769",
   "metadata": {},
   "source": [
    "# Assignment_21"
   ]
  },
  {
   "cell_type": "markdown",
   "id": "0ca8b0e1",
   "metadata": {},
   "source": [
    "### Q1. Add the current date to the text file today.txt as a string."
   ]
  },
  {
   "cell_type": "markdown",
   "id": "729b41bb",
   "metadata": {},
   "source": [
    "**Ans**"
   ]
  },
  {
   "cell_type": "code",
   "execution_count": 4,
   "id": "c62f0906",
   "metadata": {},
   "outputs": [
    {
     "data": {
      "text/plain": [
       "'2023-06-09'"
      ]
     },
     "execution_count": 4,
     "metadata": {},
     "output_type": "execute_result"
    }
   ],
   "source": [
    "import datetime\n",
    "from datetime import date\n",
    "now = date.today()\n",
    "cur_date = now.isoformat() # get current date\n",
    "cur_date"
   ]
  },
  {
   "cell_type": "code",
   "execution_count": 5,
   "id": "57f8352a",
   "metadata": {},
   "outputs": [],
   "source": [
    "with open('today.txt','w') as file: # add current date\n",
    "    file.write(cur_date)"
   ]
  },
  {
   "cell_type": "markdown",
   "id": "360edc7a",
   "metadata": {},
   "source": [
    "### Q2. Read the text file today.txt into the string today_string."
   ]
  },
  {
   "cell_type": "markdown",
   "id": "b0c91a86",
   "metadata": {},
   "source": [
    "**Ans**"
   ]
  },
  {
   "cell_type": "code",
   "execution_count": 6,
   "id": "2e661388",
   "metadata": {},
   "outputs": [
    {
     "data": {
      "text/plain": [
       "'2023-06-09'"
      ]
     },
     "execution_count": 6,
     "metadata": {},
     "output_type": "execute_result"
    }
   ],
   "source": [
    "with open('today.txt','r') as file: # open and read file\n",
    "    today_string = file.read() # read file\n",
    "today_string"
   ]
  },
  {
   "cell_type": "markdown",
   "id": "a4fa906e",
   "metadata": {},
   "source": [
    "### Q3. Parse the date from today_string."
   ]
  },
  {
   "cell_type": "markdown",
   "id": "0b146758",
   "metadata": {},
   "source": [
    "**Ans**"
   ]
  },
  {
   "cell_type": "code",
   "execution_count": 7,
   "id": "168550f7",
   "metadata": {},
   "outputs": [
    {
     "name": "stdout",
     "output_type": "stream",
     "text": [
      "2023-06-09 00:00:00\n"
     ]
    }
   ],
   "source": [
    "from datetime import datetime\n",
    "print(datetime.strptime(today_string, '%Y-%m-%d')) # parse data using strptime() function"
   ]
  },
  {
   "cell_type": "markdown",
   "id": "581c87db",
   "metadata": {},
   "source": [
    "### Q4. List the files in your current directory"
   ]
  },
  {
   "cell_type": "markdown",
   "id": "fc480555",
   "metadata": {},
   "source": [
    "**Ans**"
   ]
  },
  {
   "cell_type": "code",
   "execution_count": 8,
   "id": "76783080",
   "metadata": {
    "scrolled": false
   },
   "outputs": [
    {
     "data": {
      "text/plain": [
       "['.ipynb_checkpoints',\n",
       " '01.Assignment_01.ipynb',\n",
       " '01Assignment_01.ipynb',\n",
       " '02.Assignment_02.ipynb',\n",
       " '03.Assignment_03.ipynb',\n",
       " '04.Assignment_04.ipynb',\n",
       " '05.Assignment_05.ipynb',\n",
       " '06.Assignment_06.ipynb',\n",
       " '07.Assignment_07.ipynb',\n",
       " '08.Assignment_08.ipynb',\n",
       " '09.Assignment_09.ipynb',\n",
       " '10.Assignment_10.ipynb',\n",
       " '11.Assignment_11.ipynb',\n",
       " '12.Assignment_12.ipynb',\n",
       " '13.Assignment_13.ipynb',\n",
       " '14.Assignment_14.ipynb',\n",
       " '15.Assignment_15.ipynb',\n",
       " '16.Assignment_16.ipynb',\n",
       " '17.Assignment_17.ipynb',\n",
       " '18.Assignment_18.ipynb',\n",
       " '19.Assignment_19.ipynb',\n",
       " '20.Assignment_20.ipynb',\n",
       " '21.Assignment_21.ipynb',\n",
       " 'application_log.txt',\n",
       " 'Assign_Questons',\n",
       " 'books.csv',\n",
       " 'books.db',\n",
       " 'Data Science.pdf',\n",
       " 'example.csv',\n",
       " 'example.tsv',\n",
       " 'hello.docx',\n",
       " 'hellothere.docx',\n",
       " 'Screenshot 2023-05-24 155907.png',\n",
       " 'Screenshot 2023-06-06 162028.png',\n",
       " 'test.txt',\n",
       " 'today.txt',\n",
       " 'university_records.csv',\n",
       " 'zoo.py',\n",
       " '__pycache__']"
      ]
     },
     "execution_count": 8,
     "metadata": {},
     "output_type": "execute_result"
    }
   ],
   "source": [
    "import os\n",
    "os.listdir('.') # use this to get files in  current directory"
   ]
  },
  {
   "cell_type": "markdown",
   "id": "62fd4bb9",
   "metadata": {},
   "source": [
    "### Q5. Create a list of all of the files in your parent directory (minimum five files should be available)."
   ]
  },
  {
   "cell_type": "markdown",
   "id": "b4744a73",
   "metadata": {},
   "source": [
    "**Ans**"
   ]
  },
  {
   "cell_type": "code",
   "execution_count": 9,
   "id": "7d4d1a19",
   "metadata": {},
   "outputs": [
    {
     "name": "stdout",
     "output_type": "stream",
     "text": [
      "<class 'list'>\n",
      "['Advanced', 'Assignment_Questions', 'Basic', 'Programming', 'Raw']\n",
      "Number of files: 5\n"
     ]
    }
   ],
   "source": [
    "os.listdir('..')   # get files parent directory\n",
    "lst_files = os.listdir('..')\n",
    "print(type(lst_files)) # type of files\n",
    "print(lst_files)# list \n",
    "print(f\"Number of files: {len(lst_files)}\") # length of number of files"
   ]
  },
  {
   "cell_type": "markdown",
   "id": "9bd1a104",
   "metadata": {},
   "source": [
    "### Q6. Use multiprocessing to create three separate processes. Make each one wait a random number of seconds between one and five, print the current time, and then exit."
   ]
  },
  {
   "cell_type": "markdown",
   "id": "5a7933a6",
   "metadata": {},
   "source": [
    "**Ans**"
   ]
  },
  {
   "cell_type": "code",
   "execution_count": 10,
   "id": "f12a0d95",
   "metadata": {},
   "outputs": [
    {
     "name": "stdout",
     "output_type": "stream",
     "text": [
      "starting processes\n",
      "Process 0 will sleep for 1\n",
      "wait 1 seconds, time is 2023-06-09 08:10:24.077883\n",
      "Finished Process!\n",
      "starting processes\n",
      "Process 1 will sleep for 7\n",
      "wait 7 seconds, time is 2023-06-09 08:10:25.084861\n",
      "Finished Process!\n",
      "starting processes\n",
      "Process 2 will sleep for 9\n",
      "wait 9 seconds, time is 2023-06-09 08:10:32.098696\n",
      "Finished Process!\n"
     ]
    }
   ],
   "source": [
    "import multiprocessing\n",
    "from datetime import datetime \n",
    "from time import sleep \n",
    "import random\n",
    "\n",
    "def now_sleep(seconds): \n",
    "    print('wait', seconds, 'seconds, time is', datetime.utcnow()) # wait and get date time at that time\n",
    "    sleep(seconds)   # sleep for seconds then run\n",
    "    print(\"Finished Process!\")\n",
    "\n",
    "if __name__ == '__main__':\n",
    "    for n in range(3): \n",
    "        print(\"starting processes\")\n",
    "        seconds = random.randint(1, 10)  # get seconds in random number\n",
    "        print(f\"Process {n} will sleep for {seconds}\") # process sleep for seconds\n",
    "        proc = multiprocessing.Process(target=now_sleep(seconds), args=(seconds,))  # multiprocess start\n",
    "        proc.start()"
   ]
  },
  {
   "cell_type": "markdown",
   "id": "a76ea1ef",
   "metadata": {},
   "source": [
    "### Q7. Create a date object of your day of birth."
   ]
  },
  {
   "cell_type": "markdown",
   "id": "87e0769f",
   "metadata": {},
   "source": [
    "**Ans**"
   ]
  },
  {
   "cell_type": "code",
   "execution_count": 11,
   "id": "10ce3d07",
   "metadata": {},
   "outputs": [
    {
     "name": "stdout",
     "output_type": "stream",
     "text": [
      "1993-08-29\n"
     ]
    }
   ],
   "source": [
    "my_birthday = date(1993, 8, 29)  # get date \n",
    "print(my_birthday)"
   ]
  },
  {
   "cell_type": "markdown",
   "id": "348323ad",
   "metadata": {},
   "source": [
    "### Q8. What day of the week was your day of birth?"
   ]
  },
  {
   "cell_type": "markdown",
   "id": "28530640",
   "metadata": {},
   "source": [
    "**Ans**"
   ]
  },
  {
   "cell_type": "code",
   "execution_count": 12,
   "id": "406c9d05",
   "metadata": {},
   "outputs": [
    {
     "name": "stdout",
     "output_type": "stream",
     "text": [
      "My birthday was on 7th day of the week\n"
     ]
    }
   ],
   "source": [
    "print(f\"My birthday was on {my_birthday.isoweekday()}th day of the week\") # use isoweekday() function"
   ]
  },
  {
   "cell_type": "code",
   "execution_count": 13,
   "id": "90e50a69",
   "metadata": {},
   "outputs": [
    {
     "data": {
      "text/plain": [
       "6"
      ]
     },
     "execution_count": 13,
     "metadata": {},
     "output_type": "execute_result"
    }
   ],
   "source": [
    "my_birthday.weekday()   # use weekday() function"
   ]
  },
  {
   "cell_type": "code",
   "execution_count": 16,
   "id": "8d31a6df",
   "metadata": {},
   "outputs": [
    {
     "data": {
      "text/plain": [
       "'Sunday'"
      ]
     },
     "execution_count": 16,
     "metadata": {},
     "output_type": "execute_result"
    }
   ],
   "source": [
    "mydob = datetime(1993,8,29)\n",
    "mydob.strftime(\"%A\") # get day of week"
   ]
  },
  {
   "cell_type": "markdown",
   "id": "8c9075bb",
   "metadata": {},
   "source": [
    "### Q9. When will you be (or when were you) 10,000 days old?"
   ]
  },
  {
   "cell_type": "markdown",
   "id": "150346f5",
   "metadata": {},
   "source": [
    "**Ans**"
   ]
  },
  {
   "cell_type": "code",
   "execution_count": 17,
   "id": "08eac273",
   "metadata": {},
   "outputs": [
    {
     "name": "stdout",
     "output_type": "stream",
     "text": [
      "2021-01-14\n"
     ]
    }
   ],
   "source": [
    "from datetime import timedelta  # import time delta\n",
    " \n",
    "ten_thousand_days = my_birthday + timedelta(days=10000)  # use time delta\n",
    "print(ten_thousand_days)"
   ]
  }
 ],
 "metadata": {
  "kernelspec": {
   "display_name": "Python 3 (ipykernel)",
   "language": "python",
   "name": "python3"
  },
  "language_info": {
   "codemirror_mode": {
    "name": "ipython",
    "version": 3
   },
   "file_extension": ".py",
   "mimetype": "text/x-python",
   "name": "python",
   "nbconvert_exporter": "python",
   "pygments_lexer": "ipython3",
   "version": "3.9.13"
  }
 },
 "nbformat": 4,
 "nbformat_minor": 5
}
