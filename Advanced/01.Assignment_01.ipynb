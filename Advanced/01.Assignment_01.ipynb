{
 "cells": [
  {
   "cell_type": "markdown",
   "id": "cf7f51d7",
   "metadata": {},
   "source": [
    "# Assignment_01"
   ]
  },
  {
   "cell_type": "markdown",
   "id": "1311c310",
   "metadata": {},
   "source": [
    "### Q1. What is the purpose of Python&#39;s OOP?"
   ]
  },
  {
   "cell_type": "markdown",
   "id": "fc063f63",
   "metadata": {},
   "source": [
    "**Ans**"
   ]
  },
  {
   "cell_type": "markdown",
   "id": "3c4d5cf7",
   "metadata": {},
   "source": [
    "* Object-Oriented Programming makes the program easy to understand as well as efficient.\n",
    "* Since the class is sharable, the code can be reused.\n",
    "* In Python, object-oriented Programming (OOPs) uses objects and classes in programming.\n",
    "* It aims to implement real-world entities like inheritance, polymorphisms, encapsulation, etc. in the programming.\n",
    "* The main concept of OOPs is to bind the data and the functions that work on that together as a single unit so that no other part of the code can access this data.\n",
    "* It helps to divide our over all program into different small segments and thus making it solving easy with the use of objects\n",
    "* Helps in easy maintenance and modification of existing program\n",
    "* Data is safe and secure with data abstraction."
   ]
  },
  {
   "cell_type": "markdown",
   "id": "47bfc351",
   "metadata": {},
   "source": [
    "### Q2. Where does an inheritance search look for an attribute?"
   ]
  },
  {
   "cell_type": "markdown",
   "id": "fb601493",
   "metadata": {},
   "source": [
    "**Ans**"
   ]
  },
  {
   "cell_type": "markdown",
   "id": "a4554cb4",
   "metadata": {},
   "source": [
    "* Python searches for an attribute in an upward tree of attributes. it first searches for the attribute in its instance and then looks in the class it is generated from, to all super classes listed in its class header"
   ]
  },
  {
   "cell_type": "markdown",
   "id": "3d3fb0e9",
   "metadata": {},
   "source": [
    "### Q3. How do you distinguish between a class object and an instance object?"
   ]
  },
  {
   "cell_type": "markdown",
   "id": "ec288732",
   "metadata": {},
   "source": [
    "**Ans**"
   ]
  },
  {
   "cell_type": "markdown",
   "id": "3b6e9976",
   "metadata": {},
   "source": [
    "* **Class objects** represent the class itself, while **instance objects** represent individual instances of the class.\n",
    "* **Class objects** can have class-level attributes and methods that are shared among all instances of the class, while **instance objects** have their own set of attributes and methods that are independent of other\n",
    "* **class object** inherits the attributes of its parent classes. **instance object** inherits the attributes of the class object from which it was created.\n",
    "* **the class object** comes from the ‘class’ statement in code. whenever we encounter a class statement then a class object will be created. **The instance object** comes from a call i.e. when we call the class. Actually, we are creating instance objects of that class. \n",
    "* **class object** is like a blueprint for intance object but instance object is a concrete item in out code. **instance objects** are new namespaces, thay start out empty but inherit object attributes that live in class object\n",
    "* The first argumetn of class functions(self) reference the **instance object** and assignments to attributes of self change data in the instance."
   ]
  },
  {
   "cell_type": "code",
   "execution_count": 1,
   "id": "e135c964",
   "metadata": {},
   "outputs": [
    {
     "name": "stdout",
     "output_type": "stream",
     "text": [
      "10\n"
     ]
    }
   ],
   "source": [
    "## Class object\n",
    "class test:\n",
    "    x = 10\n",
    "    def __init__(self,a,b):\n",
    "        self.a = a\n",
    "        self.b = b\n",
    "print(test.x)"
   ]
  },
  {
   "cell_type": "code",
   "execution_count": 2,
   "id": "c89079d6",
   "metadata": {},
   "outputs": [
    {
     "data": {
      "text/plain": [
       "3"
      ]
     },
     "execution_count": 2,
     "metadata": {},
     "output_type": "execute_result"
    }
   ],
   "source": [
    "## instance object\n",
    "instObj = test(3,4)\n",
    "instObj.a"
   ]
  },
  {
   "cell_type": "markdown",
   "id": "7cb39163",
   "metadata": {},
   "source": [
    "### Q4. What makes the first argument in a class’s method function special?"
   ]
  },
  {
   "cell_type": "markdown",
   "id": "b70fd4f2",
   "metadata": {},
   "source": [
    "**Ans**"
   ]
  },
  {
   "cell_type": "markdown",
   "id": "5d1f8bde",
   "metadata": {},
   "source": [
    "* **cls** is the first argument for class methods which **refers to the class itself**"
   ]
  },
  {
   "cell_type": "markdown",
   "id": "bba1c582",
   "metadata": {},
   "source": [
    "### Q5. What is the purpose of the __init__ method?"
   ]
  },
  {
   "cell_type": "markdown",
   "id": "9e3545d9",
   "metadata": {},
   "source": [
    "**Ans**"
   ]
  },
  {
   "cell_type": "markdown",
   "id": "2de838f3",
   "metadata": {},
   "source": [
    "* The init method is a special method in Python classes that is called when an instance of the class is created. It is used to initialize the attributes of the instance object with default or user-specified values.\n",
    "*  It serves the role of a constructor in object oriented terminology"
   ]
  },
  {
   "cell_type": "markdown",
   "id": "b519b0f8",
   "metadata": {},
   "source": [
    "### Q6. What is the process for creating a class instance?"
   ]
  },
  {
   "cell_type": "markdown",
   "id": "1c89ffe0",
   "metadata": {},
   "source": [
    "**Ans**"
   ]
  },
  {
   "cell_type": "markdown",
   "id": "8b55fd02",
   "metadata": {},
   "source": [
    "* To create instances of a class,\n",
    "\n",
    "  * Create a class\n",
    "  * call the class using class name and assign it to a variable (object variable)\n",
    "  * pass in whatever arguments its init method accepts"
   ]
  },
  {
   "cell_type": "code",
   "execution_count": 6,
   "id": "2d9e51b8",
   "metadata": {},
   "outputs": [
    {
     "name": "stdout",
     "output_type": "stream",
     "text": [
      "120000\n"
     ]
    }
   ],
   "source": [
    "class Employee: # class\n",
    "    empCount = 0  # class variable\n",
    "\n",
    "    def __init__(self, name, salary):\n",
    "        self.name = name\n",
    "        self.salary = salary\n",
    "        Employee.empCount += 1\n",
    "        \n",
    "objClass = Employee('Ravi','120000') # instance of class\n",
    "\n",
    "print(objClass.salary)"
   ]
  },
  {
   "cell_type": "markdown",
   "id": "34536bf3",
   "metadata": {},
   "source": [
    "### Q7. What is the process for creating a class?"
   ]
  },
  {
   "cell_type": "markdown",
   "id": "cdcda54d",
   "metadata": {},
   "source": [
    "**Ans**"
   ]
  },
  {
   "cell_type": "markdown",
   "id": "ca57763e",
   "metadata": {},
   "source": [
    "* class definition starts with keyword class\n",
    "* follwed by classname and ':'\n",
    "* class will have doc string\n",
    "* class should have at least one statements."
   ]
  },
  {
   "cell_type": "code",
   "execution_count": 4,
   "id": "3ab32bb2",
   "metadata": {},
   "outputs": [],
   "source": [
    "class MyNewClass:\n",
    "    '''This is a docstring. I have created a new class'''\n",
    "    pass"
   ]
  },
  {
   "cell_type": "markdown",
   "id": "2289e410",
   "metadata": {},
   "source": [
    "### Q8. How would you define the superclasses of a class?"
   ]
  },
  {
   "cell_type": "markdown",
   "id": "72279b2b",
   "metadata": {},
   "source": [
    "**Ans**"
   ]
  },
  {
   "cell_type": "markdown",
   "id": "dddb39d2",
   "metadata": {},
   "source": [
    "* The class from which a class inherits is called the parent or superclass\n",
    "* Superclass/Parent class is given as a arugment to the child class"
   ]
  },
  {
   "cell_type": "code",
   "execution_count": 3,
   "id": "8f606417",
   "metadata": {},
   "outputs": [
    {
     "name": "stdout",
     "output_type": "stream",
     "text": [
      "This is a parent method.\n",
      "This is a child method.\n"
     ]
    }
   ],
   "source": [
    "class ParentClass: # superclasses /parent class\n",
    "    \n",
    "    def method1(self):\n",
    "        print(\"This is a parent method.\")\n",
    "        \n",
    "\n",
    "class ChildClass(ParentClass):  \n",
    "    \n",
    "    def method2(self):\n",
    "        print(\"This is a child method.\")\n",
    "\n",
    "obj = ChildClass()\n",
    "obj.method1()  # This is a parent method.\n",
    "obj.method2()  # This is a child method."
   ]
  },
  {
   "cell_type": "code",
   "execution_count": null,
   "id": "774e5108",
   "metadata": {},
   "outputs": [],
   "source": []
  }
 ],
 "metadata": {
  "kernelspec": {
   "display_name": "Python 3 (ipykernel)",
   "language": "python",
   "name": "python3"
  },
  "language_info": {
   "codemirror_mode": {
    "name": "ipython",
    "version": 3
   },
   "file_extension": ".py",
   "mimetype": "text/x-python",
   "name": "python",
   "nbconvert_exporter": "python",
   "pygments_lexer": "ipython3",
   "version": "3.9.13"
  }
 },
 "nbformat": 4,
 "nbformat_minor": 5
}
