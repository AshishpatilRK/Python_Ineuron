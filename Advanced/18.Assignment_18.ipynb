{
 "cells": [
  {
   "cell_type": "markdown",
   "id": "4150990e",
   "metadata": {},
   "source": [
    "# Assignment_18"
   ]
  },
  {
   "cell_type": "markdown",
   "id": "ef58d43c",
   "metadata": {},
   "source": [
    "### Q1. Describe the differences between text and binary files in a single paragraph."
   ]
  },
  {
   "cell_type": "markdown",
   "id": "a3230d47",
   "metadata": {},
   "source": [
    "**Ans**"
   ]
  },
  {
   "cell_type": "markdown",
   "id": "c86f425a",
   "metadata": {},
   "source": [
    "* The differences between Text Files and Binary Files are:\n",
    "\n",
    "* **Text files** are special subset of binary files that are used to store human readable characters as a rich text document or plain text document. Text files also store data in sequential bytes but bits in text file represents characters.\n",
    "\n",
    "* **Binary files** are those typical files that store data in the form of sequence of bytes grouped into eight bits or sometimes sixteen bits. These bits represent custom data and such files can store multiple types of data (images, audio, text, etc) under a single file."
   ]
  },
  {
   "cell_type": "markdown",
   "id": "da1939fa",
   "metadata": {},
   "source": [
    "### Q2. What are some scenarios where using text files will be the better option? When would you like to use binary files instead of text files?"
   ]
  },
  {
   "cell_type": "markdown",
   "id": "4ca13c54",
   "metadata": {},
   "source": [
    "**Ans**"
   ]
  },
  {
   "cell_type": "markdown",
   "id": "da70b0c1",
   "metadata": {},
   "source": [
    "* Text files are less prone to get corrupted as any undesired change may just show up once the file is opend and then can easily be removed whareas binary files can be used instead of text files for image data/video/audio. \n",
    "* For many types of data, binary representations are such more spance-efficient. For instance, you could represent an images as a text file. But any color represented as a 24-bit RGB value in a binary file has to be represented as a six-character code (e.g. FFFFFF for white) in text, which is literally twice as many bits. \n",
    "* Another reason for using binary formats is that they can map directly onto the internal representation of the data that the program is using.\n",
    "* If my program uses a complex data structure that's full of integer, float, and byte values, when I read it in from a text file i have to parse every character of text and interpret it, spending processing time (and writiong logic) to figure how to converrt the 88 bits in \"2983102931\", into the 32-bit integer that the text represents. If I read from a binary file, the program just copies those 32 bits from the file into memory.\n",
    "\n",
    " "
   ]
  },
  {
   "cell_type": "markdown",
   "id": "17619c6f",
   "metadata": {},
   "source": [
    "### Q3. What are some of the issues with using binary operations to read and write a Python integer directly to disc?"
   ]
  },
  {
   "cell_type": "markdown",
   "id": "57352546",
   "metadata": {},
   "source": [
    "**Ans**"
   ]
  },
  {
   "cell_type": "markdown",
   "id": "be1d145d",
   "metadata": {},
   "source": [
    "When we read or write a python integer using binary operations\n",
    "\n",
    " * Binary operations deal with raw data\n",
    "\n",
    " * One needs to identify how many bytes one would read or write"
   ]
  },
  {
   "cell_type": "markdown",
   "id": "21b8538d",
   "metadata": {},
   "source": [
    "### Q4. Describe a benefit of using the with keyword instead of explicitly opening a file."
   ]
  },
  {
   "cell_type": "markdown",
   "id": "be1c74a3",
   "metadata": {},
   "source": [
    "**Ans**"
   ]
  },
  {
   "cell_type": "markdown",
   "id": "a8504dc6",
   "metadata": {},
   "source": [
    "* When a file is opened using the with keyword, it automatically the file if some exceptions occur after opening a file, or at the end of the file. Thereby not leaving a file in open mode and also there would no need to explicitly close a file. \n",
    "* Using with means that the file will be closed as soon as you leave the block. This is beneficial because closing a file is something that can easily be forgotten and tipes up resources that you no longer need."
   ]
  },
  {
   "cell_type": "markdown",
   "id": "ee3872fa",
   "metadata": {},
   "source": [
    "### Q5. Does Python have the trailing newline while reading a line of text? Does Python append a newline when you write a line of text?"
   ]
  },
  {
   "cell_type": "markdown",
   "id": "b576573d",
   "metadata": {},
   "source": [
    "**Ans**"
   ]
  },
  {
   "cell_type": "markdown",
   "id": "faa5b902",
   "metadata": {},
   "source": [
    "* Yes, Python have the trailing newline while reading a line of text. when we write, a newline has to be provided in python explicitly to append a newline. Hence Python does not append a newline implicitly."
   ]
  },
  {
   "cell_type": "markdown",
   "id": "0642537c",
   "metadata": {},
   "source": [
    "### Q6. What file operations enable for random-access operation?"
   ]
  },
  {
   "cell_type": "markdown",
   "id": "8ec7d573",
   "metadata": {},
   "source": [
    "**Ans**"
   ]
  },
  {
   "cell_type": "markdown",
   "id": "3f8a8f2a",
   "metadata": {},
   "source": [
    "* The file operations enable for random-access operation are **seek() and tell()**"
   ]
  },
  {
   "cell_type": "markdown",
   "id": "8a36c55d",
   "metadata": {},
   "source": [
    "### Q7. When do you think you&#39;ll use the struct package the most?"
   ]
  },
  {
   "cell_type": "markdown",
   "id": "568cbdd2",
   "metadata": {},
   "source": [
    "**Ans**"
   ]
  },
  {
   "cell_type": "markdown",
   "id": "9a6e3d8d",
   "metadata": {},
   "source": [
    "*  The struct package is mostly used while converting a common python language types into C language type."
   ]
  },
  {
   "cell_type": "markdown",
   "id": "7b582b5a",
   "metadata": {},
   "source": [
    "### Q8. When is pickling the best option?"
   ]
  },
  {
   "cell_type": "markdown",
   "id": "5d39d05f",
   "metadata": {},
   "source": [
    "**Ans**"
   ]
  },
  {
   "cell_type": "markdown",
   "id": "9223a85b",
   "metadata": {},
   "source": [
    "* Pickling is best option for creating a new binary file using python. \n",
    "* Pickle in Python is primarily used in serializing and deserializing a Python object structure. \n",
    "* In other words, it's process of converting a Python object into a bytes stream to store it in a file/database, maintain program state across sessions, or transport data over the network. \n",
    "* The pickled bytes steram can be used to re-create the original object hierarchy bt unpickling the stream. This whole process is similar to object serialization in java or.Net."
   ]
  },
  {
   "cell_type": "markdown",
   "id": "4aeb4964",
   "metadata": {},
   "source": [
    "### Q9. When will it be best to use the shelve package?"
   ]
  },
  {
   "cell_type": "markdown",
   "id": "00556fd2",
   "metadata": {},
   "source": [
    "**Ans**"
   ]
  },
  {
   "cell_type": "markdown",
   "id": "eb1260d2",
   "metadata": {},
   "source": [
    "* Shelve package is used to pickle data but treats the entire file as dictionary. \n",
    "* A \"shelf\" is a persistent, dictionary-like object. The difference with \"dbm\" databases is that the values (not the keys) in a shelf can be essentially arbitray Python objects -- anything that the pickle module can handle. \n",
    "* This includes most class instances, recursive data types, and objects containing lots of shared sub-objects. The keys are ordinary strings.<br>\n",
    "                \n",
    "                \n",
    "                Syntax: shelve.open(filename, flag='c', protocol=None, writeback=False\n",
    " "
   ]
  },
  {
   "cell_type": "markdown",
   "id": "f7274f71",
   "metadata": {},
   "source": [
    "### Q10. What is a special restriction when using the shelve package, as opposed to using other data dictionaries?"
   ]
  },
  {
   "cell_type": "markdown",
   "id": "7341b9d6",
   "metadata": {},
   "source": [
    "**Ans**"
   ]
  },
  {
   "cell_type": "markdown",
   "id": "c19e6de6",
   "metadata": {},
   "source": [
    "* Only **string data type** can be used as key in this special dictionary (shelvepackage obect, whereas any pickle Python object can be used as value."
   ]
  },
  {
   "cell_type": "markdown",
   "id": "77e1e7f4",
   "metadata": {},
   "source": []
  },
  {
   "cell_type": "markdown",
   "id": "db03e816",
   "metadata": {},
   "source": []
  }
 ],
 "metadata": {
  "kernelspec": {
   "display_name": "Python 3 (ipykernel)",
   "language": "python",
   "name": "python3"
  },
  "language_info": {
   "codemirror_mode": {
    "name": "ipython",
    "version": 3
   },
   "file_extension": ".py",
   "mimetype": "text/x-python",
   "name": "python",
   "nbconvert_exporter": "python",
   "pygments_lexer": "ipython3",
   "version": "3.9.13"
  }
 },
 "nbformat": 4,
 "nbformat_minor": 5
}
