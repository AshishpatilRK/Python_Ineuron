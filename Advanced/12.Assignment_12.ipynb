{
 "cells": [
  {
   "cell_type": "markdown",
   "id": "916096f9",
   "metadata": {},
   "source": [
    "# Assignment_12"
   ]
  },
  {
   "cell_type": "markdown",
   "id": "fb69b1a2",
   "metadata": {},
   "source": [
    "### Q1. Does assigning a value to a string&#39;s indexed character violate Python&#39;s string immutability?"
   ]
  },
  {
   "cell_type": "markdown",
   "id": "47528d78",
   "metadata": {},
   "source": [
    "**Ans**"
   ]
  },
  {
   "cell_type": "markdown",
   "id": "3276ee74",
   "metadata": {},
   "source": [
    "* String's indexed character cannot to be assigned a New value as String are immutable."
   ]
  },
  {
   "cell_type": "code",
   "execution_count": 2,
   "id": "cf40c95f",
   "metadata": {},
   "outputs": [
    {
     "name": "stdout",
     "output_type": "stream",
     "text": [
      "2712861060784\n"
     ]
    },
    {
     "ename": "TypeError",
     "evalue": "'str' object does not support item assignment",
     "output_type": "error",
     "traceback": [
      "\u001b[1;31m---------------------------------------------------------------------------\u001b[0m",
      "\u001b[1;31mTypeError\u001b[0m                                 Traceback (most recent call last)",
      "Cell \u001b[1;32mIn[2], line 4\u001b[0m\n\u001b[0;32m      2\u001b[0m name \u001b[38;5;241m=\u001b[39m \u001b[38;5;124m\"\u001b[39m\u001b[38;5;124mReinforcement\u001b[39m\u001b[38;5;124m\"\u001b[39m\n\u001b[0;32m      3\u001b[0m \u001b[38;5;28mprint\u001b[39m(\u001b[38;5;28mid\u001b[39m(name)) \u001b[38;5;66;03m#73472\u001b[39;00m\n\u001b[1;32m----> 4\u001b[0m name[\u001b[38;5;241m0\u001b[39m] \u001b[38;5;241m=\u001b[39m \u001b[38;5;124m\"\u001b[39m\u001b[38;5;124mV\u001b[39m\u001b[38;5;124m\"\u001b[39m\n",
      "\u001b[1;31mTypeError\u001b[0m: 'str' object does not support item assignment"
     ]
    }
   ],
   "source": [
    "#Example:\n",
    "name = \"Reinforcement\"\n",
    "print(id(name)) #73472\n",
    "name[0] = \"V\" # Raise TypeError"
   ]
  },
  {
   "cell_type": "markdown",
   "id": "e9f9c3ce",
   "metadata": {},
   "source": [
    "### Q2. Does using the += operator to concatenate strings violate Python&#39;s string immutability? Why or why not?"
   ]
  },
  {
   "cell_type": "markdown",
   "id": "908b2342",
   "metadata": {},
   "source": [
    "**Ans**"
   ]
  },
  {
   "cell_type": "markdown",
   "id": "ef93085e",
   "metadata": {},
   "source": [
    "* **+=** operator is used to concatenate strings. It does not violate Python's string immutability Property beacause doing so creates a new association with data and variable.E.g.str_1=\"a\" and str_1+=\"b\". Effect of this statement is to create string ab and reassign it to variable str_1. Any string data is not actually modified."
   ]
  },
  {
   "cell_type": "code",
   "execution_count": 3,
   "id": "29df5662",
   "metadata": {},
   "outputs": [
    {
     "name": "stdout",
     "output_type": "stream",
     "text": [
      "2712782686128\n",
      "2712861332720\n"
     ]
    }
   ],
   "source": [
    "str_1 = \"a\"\n",
    "print(id(str_1))\n",
    "str_1 += \"b\"\n",
    "print(id(str_1)) # Does not Modify existing string, Create a New String Object"
   ]
  },
  {
   "cell_type": "markdown",
   "id": "4c9a9833",
   "metadata": {},
   "source": [
    "### Q3. In Python, how many different ways are there to index a character?"
   ]
  },
  {
   "cell_type": "markdown",
   "id": "a5836e20",
   "metadata": {},
   "source": [
    "**Ans**"
   ]
  },
  {
   "cell_type": "markdown",
   "id": "797741c0",
   "metadata": {},
   "source": [
    "* A Character in string can be indexed using string name followed by index number of character in square bracket. **Positive Indexing** i.e. first index is 0 an so on, or **Negative Indexing** i.e. last letter is -1 and so on can be used to index a character"
   ]
  },
  {
   "cell_type": "code",
   "execution_count": 4,
   "id": "32bdd465",
   "metadata": {},
   "outputs": [
    {
     "name": "stdout",
     "output_type": "stream",
     "text": [
      "u l e\n",
      "e i c\n"
     ]
    }
   ],
   "source": [
    "in_string = \"iNeuron Full Stack Data Science\"\n",
    "print(in_string[9],in_string[10],in_string[2]) # Positive Indexing\n",
    "print(in_string[-1],in_string[-5],in_string[-2]) # Negative Indexing"
   ]
  },
  {
   "cell_type": "markdown",
   "id": "2594a00e",
   "metadata": {},
   "source": [
    "### Q4. What is the relationship between indexing and slicing?"
   ]
  },
  {
   "cell_type": "markdown",
   "id": "b6b16533",
   "metadata": {},
   "source": [
    "**Ans**"
   ]
  },
  {
   "cell_type": "markdown",
   "id": "481b240c",
   "metadata": {},
   "source": [
    "* We can access elements of sequence datatype by using slicing and indexing. Indexing is used to obtaining individual element while slicing for sequence of elements."
   ]
  },
  {
   "cell_type": "code",
   "execution_count": 5,
   "id": "3efc950f",
   "metadata": {},
   "outputs": [
    {
     "name": "stdout",
     "output_type": "stream",
     "text": [
      "N u o\n",
      "Neuron Full St\n"
     ]
    }
   ],
   "source": [
    "in_string = \"iNeuron Full Stack Data Science\"\n",
    "print(in_string[1],in_string[3],in_string[5]) # Indexing\n",
    "print(in_string[1:15]) # Slicing"
   ]
  },
  {
   "cell_type": "markdown",
   "id": "e69dfe62",
   "metadata": {},
   "source": [
    "### Q5. What is an indexed character&#39;s exact data type? What is the data form of a slicing-generated substring?"
   ]
  },
  {
   "cell_type": "markdown",
   "id": "97dc1b02",
   "metadata": {},
   "source": [
    "**Ans**"
   ]
  },
  {
   "cell_type": "markdown",
   "id": "d9e8692c",
   "metadata": {},
   "source": [
    "*  Indexed characters and sliced substrings have datatype **String.**"
   ]
  },
  {
   "cell_type": "code",
   "execution_count": 7,
   "id": "4e4bf664",
   "metadata": {},
   "outputs": [
    {
     "name": "stdout",
     "output_type": "stream",
     "text": [
      "<class 'str'>\n",
      "<class 'str'>\n"
     ]
    }
   ],
   "source": [
    "in_string = \"iNeuron Full Stack Science\"\n",
    "print(type(in_string[3])) # Indexing -> str\n",
    "print(type(in_string[1:10])) # Indexing -> str"
   ]
  },
  {
   "cell_type": "markdown",
   "id": "976953ec",
   "metadata": {},
   "source": [
    "### Q6. What is the relationship between string and character &quot;types&quot; in Python?"
   ]
  },
  {
   "cell_type": "markdown",
   "id": "90fd9e58",
   "metadata": {},
   "source": [
    "**Ans**"
   ]
  },
  {
   "cell_type": "markdown",
   "id": "63a96ca5",
   "metadata": {},
   "source": [
    "* Object that contains sequence of character datatypes are called String"
   ]
  },
  {
   "cell_type": "markdown",
   "id": "072dd0d6",
   "metadata": {},
   "source": [
    "### Q7. Identify at least two operators and one method that allow you to combine one or more smaller strings to create a larger string."
   ]
  },
  {
   "cell_type": "markdown",
   "id": "7e41a842",
   "metadata": {},
   "source": [
    "**Ans**"
   ]
  },
  {
   "cell_type": "markdown",
   "id": "60dfde02",
   "metadata": {},
   "source": [
    "*  +, += and * allows to combine one or more smaller string to create a larger string. .joins element of iterable type like list and tuple to get a combined string."
   ]
  },
  {
   "cell_type": "code",
   "execution_count": 10,
   "id": "1ba383e8",
   "metadata": {},
   "outputs": [
    {
     "name": "stdout",
     "output_type": "stream",
     "text": [
      "iNeuron Full Stack Data Science FSDS\n",
      "FSDS FSDS FSDS \n",
      "I N E U R O N\n",
      "i n e u r o n\n"
     ]
    }
   ],
   "source": [
    "in_string = 'iNeuron '\n",
    "in_string += 'Full Stack Data Science'\n",
    "print(in_string + ' FSDS')\n",
    "print('FSDS '*3)\n",
    "print(\" \".join(['I','N','E','U','R','O','N'])) # List Iterable\n",
    "print(\" \".join(('I','N','E','U','R','O','N')).lower()) # Tuple Iterable"
   ]
  },
  {
   "cell_type": "markdown",
   "id": "c30c09b9",
   "metadata": {},
   "source": [
    "### Q8. What is the benefit of first checking the target string with in or not in before using the index method to find a substring?"
   ]
  },
  {
   "cell_type": "markdown",
   "id": "b04c4c9f",
   "metadata": {},
   "source": [
    "**Ans**"
   ]
  },
  {
   "cell_type": "markdown",
   "id": "67bb3350",
   "metadata": {},
   "source": [
    "* Checking the target string with **inor not** Operators before using the index method to find a substring just helps confirming availbility of substring and thus avoid raising of **ValueError**."
   ]
  },
  {
   "cell_type": "code",
   "execution_count": null,
   "id": "2444851d",
   "metadata": {},
   "outputs": [],
   "source": [
    "Example:\n",
    "in_string = \"ineuron\"\n",
    "in_string('x') # Raises ValueError\n",
    "in_string.index('u') # 3"
   ]
  },
  {
   "cell_type": "markdown",
   "id": "aa1f63c9",
   "metadata": {},
   "source": [
    "### Q9. Which operators and built-in string methods produce simple Boolean (true/false) results?"
   ]
  },
  {
   "cell_type": "markdown",
   "id": "0a331d1c",
   "metadata": {},
   "source": [
    "**Ans**"
   ]
  },
  {
   "cell_type": "markdown",
   "id": "fb69343c",
   "metadata": {},
   "source": [
    "The String Operator and built-in methods to Produce Simple Boolean(True/False) results are:\n",
    "    \n",
    "        in\n",
    "\n",
    "        not\n",
    "\n",
    "        <string>.isalpha()\n",
    "\n",
    "        <string>.isalnum()\n",
    "\n",
    "        <string>.isdecimal()\n",
    "\n",
    "        <string>.isdigit()\n",
    "\n",
    "        <string>.islower()\n",
    "\n",
    "        <string>.isnumeric()\n",
    "\n",
    "        <string>.isprintable()\n",
    "\n",
    "        <string>.isspace()\n",
    "\n",
    "        <string>.istitle()"
   ]
  },
  {
   "cell_type": "code",
   "execution_count": null,
   "id": "1402558f",
   "metadata": {},
   "outputs": [],
   "source": []
  }
 ],
 "metadata": {
  "kernelspec": {
   "display_name": "Python 3 (ipykernel)",
   "language": "python",
   "name": "python3"
  },
  "language_info": {
   "codemirror_mode": {
    "name": "ipython",
    "version": 3
   },
   "file_extension": ".py",
   "mimetype": "text/x-python",
   "name": "python",
   "nbconvert_exporter": "python",
   "pygments_lexer": "ipython3",
   "version": "3.9.13"
  }
 },
 "nbformat": 4,
 "nbformat_minor": 5
}
