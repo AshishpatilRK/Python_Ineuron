{
 "cells": [
  {
   "cell_type": "markdown",
   "id": "7d914bfc",
   "metadata": {},
   "source": [
    "# Assignment_04"
   ]
  },
  {
   "cell_type": "markdown",
   "id": "256cbc4d",
   "metadata": {},
   "source": [
    "### Q1. Which two operator overloading methods can you use in your classes to support iteration?"
   ]
  },
  {
   "cell_type": "markdown",
   "id": "290d0dcf",
   "metadata": {},
   "source": [
    "**Ans**"
   ]
  },
  {
   "cell_type": "markdown",
   "id": "9982b9d8",
   "metadata": {},
   "source": [
    "* __iter__ and __next__ are the operator overloading methods in python that support iteration and are collectively called iterator protocol.\n",
    "\n",
    "* __iter__ returns the iterator object and is called at the start of loop in our respective class.\n",
    "* __next__ is called at each loop increment, it returns the incremented value. Also Stopiteration is raised when there is no value to return."
   ]
  },
  {
   "cell_type": "code",
   "execution_count": 1,
   "id": "742276c4",
   "metadata": {},
   "outputs": [
    {
     "name": "stdout",
     "output_type": "stream",
     "text": [
      "5 6 7 8 9 10 11 12 13 14 15 "
     ]
    }
   ],
   "source": [
    "class Counter:\n",
    "    def __init__(self,low,high):\n",
    "        self.current = low\n",
    "        self.high = high\n",
    "    def __iter__(self):\n",
    "        return self\n",
    "    def __next__(self):\n",
    "        if self.current > self.high:\n",
    "            raise StopIteration\n",
    "        else:\n",
    "            self.current += 1\n",
    "            return self.current - 1\n",
    "for ele in Counter(5,15):\n",
    "    print(ele, end=\" \")"
   ]
  },
  {
   "cell_type": "markdown",
   "id": "e47ce491",
   "metadata": {},
   "source": [
    "### Q2. In what contexts do the two operator overloading methods manage printing?"
   ]
  },
  {
   "cell_type": "markdown",
   "id": "56f51b11",
   "metadata": {},
   "source": [
    "**Ans**"
   ]
  },
  {
   "cell_type": "markdown",
   "id": "6c311ce0",
   "metadata": {},
   "source": [
    "__str__ and __repr__ are two operator overloading methods that manage printing."
   ]
  },
  {
   "cell_type": "code",
   "execution_count": null,
   "id": "39ddcaa7",
   "metadata": {},
   "outputs": [],
   "source": [
    "class Student:\n",
    "    def __init__(self,name,roll_no):\n",
    "        self.name = name\n",
    "        self.roll_no = roll_no\n",
    "        \n",
    "s1 = Student(\"Khushi\",1)\n",
    "print(str(s1))\n",
    "\n",
    "class Student:\n",
    "    def __init__(self,name,roll_no):\n",
    "        self.name = name\n",
    "        self.roll_no = roll_no\n",
    "    def __str__(self):\n",
    "        return f'Student Name: {self.name} and Roll No: {self.roll_no}'\n",
    "    \n",
    "s1 = Student(\"Khushi\",1)\n",
    "print(str(s1))\n",
    "\n",
    "import datetime\n",
    "today = datetime.datetime.now()\n",
    "\n",
    "s = str(today) # converting datetime object to presentable str\n",
    "print(s)\n",
    "try: d = eval(s) # converting str back to datetime object\n",
    "except: print(\"Unable to convert back to original object\")\n",
    "    \n",
    "u = repr(today) # converting datetime object to str\n",
    "print(u)\n",
    "e = eval(u) # converting str back to datetime object\n",
    "print(e)"
   ]
  },
  {
   "cell_type": "markdown",
   "id": "cf0ca98f",
   "metadata": {},
   "source": [
    "### Q3. In a class, how do you intercept slice operations?"
   ]
  },
  {
   "cell_type": "markdown",
   "id": "9cdb930e",
   "metadata": {},
   "source": [
    "**Ans**"
   ]
  },
  {
   "cell_type": "markdown",
   "id": "a88001a3",
   "metadata": {},
   "source": [
    "* n a class use of slice() in __getitem__ method is used for intercept slice operation. This slice method is provided with start integer number, stop integer number and step integer number."
   ]
  },
  {
   "cell_type": "code",
   "execution_count": null,
   "id": "bca1bf96",
   "metadata": {},
   "outputs": [],
   "source": [
    "Example: __getitem__(slice(start,stop,step))"
   ]
  },
  {
   "cell_type": "markdown",
   "id": "fb1c2281",
   "metadata": {},
   "source": [
    "### Q4. In a class, how do you capture in-place addition?"
   ]
  },
  {
   "cell_type": "markdown",
   "id": "9f236b81",
   "metadata": {},
   "source": [
    "**Ans**"
   ]
  },
  {
   "cell_type": "markdown",
   "id": "96b07bd9",
   "metadata": {},
   "source": [
    "a+b is normal addition. Whereas a+=b is inplace addition operation. In this in-place addition a itself will store the value of addition. In a class __iadd__ method is used for this in-place operation"
   ]
  },
  {
   "cell_type": "code",
   "execution_count": 6,
   "id": "242d955d",
   "metadata": {},
   "outputs": [
    {
     "name": "stdout",
     "output_type": "stream",
     "text": [
      "300\n"
     ]
    }
   ],
   "source": [
    "class Book:\n",
    "    def __init__(self,pages):\n",
    "        self.pages = pages\n",
    "    def __iadd__(self,other):\n",
    "        self.pages += other.pages\n",
    "        return self.pages\n",
    "        \n",
    "b1 = Book(100)\n",
    "b2 = Book(200)\n",
    "b1+=b2\n",
    "print(b1)"
   ]
  },
  {
   "cell_type": "markdown",
   "id": "5d4db30d",
   "metadata": {},
   "source": [
    "### Q5. When is it appropriate to use operator overloading?"
   ]
  },
  {
   "cell_type": "markdown",
   "id": "51c5d578",
   "metadata": {},
   "source": [
    " * Operator overloading is used when we want to use an operator other than its normal operation to have different meaning according to the context required in user defined function."
   ]
  },
  {
   "cell_type": "code",
   "execution_count": 7,
   "id": "0174b132",
   "metadata": {},
   "outputs": [
    {
     "name": "stdout",
     "output_type": "stream",
     "text": [
      "Total Number of Pages -> 300\n"
     ]
    }
   ],
   "source": [
    "class Book:\n",
    "    def __init__(self,pages):\n",
    "        self.pages = pages\n",
    "    def __add__(self,other):\n",
    "        return self.pages+other.pages\n",
    "b1 = Book(100)\n",
    "b2 = Book(200)\n",
    "print(f'Total Number of Pages -> {b1+b2}')"
   ]
  },
  {
   "cell_type": "code",
   "execution_count": null,
   "id": "eda49cb8",
   "metadata": {},
   "outputs": [],
   "source": []
  }
 ],
 "metadata": {
  "kernelspec": {
   "display_name": "Python 3 (ipykernel)",
   "language": "python",
   "name": "python3"
  },
  "language_info": {
   "codemirror_mode": {
    "name": "ipython",
    "version": 3
   },
   "file_extension": ".py",
   "mimetype": "text/x-python",
   "name": "python",
   "nbconvert_exporter": "python",
   "pygments_lexer": "ipython3",
   "version": "3.9.13"
  }
 },
 "nbformat": 4,
 "nbformat_minor": 5
}
