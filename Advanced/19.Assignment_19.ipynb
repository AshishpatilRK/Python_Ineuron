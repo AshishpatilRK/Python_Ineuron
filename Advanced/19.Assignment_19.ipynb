{
 "cells": [
  {
   "cell_type": "markdown",
   "id": "dccadf8c",
   "metadata": {},
   "source": [
    "# Assignment_19"
   ]
  },
  {
   "cell_type": "markdown",
   "id": "41467e2c",
   "metadata": {},
   "source": [
    "### Q1. Define the relationship between a class and its instances. Is it a one-to-one or a one-to-many partnership, for example?"
   ]
  },
  {
   "cell_type": "markdown",
   "id": "d3c2e01f",
   "metadata": {},
   "source": [
    "**Ans**"
   ]
  },
  {
   "cell_type": "markdown",
   "id": "b6ee9d55",
   "metadata": {},
   "source": [
    "* Relationship between a class and its instances is a one to many partnership. \n",
    "* Object is a physical entity or real word entity. An object occupies space in memory. \n",
    "* Example:- banana,Chair,pen etc objects. Class is a logical entity which does not exist in real world. Or we can say that class is a blueprint to create objects of similiar types. A class does not take space in memory. \n",
    "* Example:-Fruits, furniture, vehicles etc."
   ]
  },
  {
   "cell_type": "markdown",
   "id": "0cc80e82",
   "metadata": {},
   "source": [
    "### Q2. What kind of data is held only in an instance?"
   ]
  },
  {
   "cell_type": "markdown",
   "id": "e01d3aa5",
   "metadata": {},
   "source": [
    "**Ans**"
   ]
  },
  {
   "cell_type": "markdown",
   "id": "8396ed31",
   "metadata": {},
   "source": [
    "* Instance objects contains the Instance variables which are specific to that specific Instance object."
   ]
  },
  {
   "cell_type": "markdown",
   "id": "fdde6d52",
   "metadata": {},
   "source": [
    "### Q3. What kind of knowledge is stored in a class?"
   ]
  },
  {
   "cell_type": "markdown",
   "id": "e9523dab",
   "metadata": {},
   "source": [
    "**Ans**"
   ]
  },
  {
   "cell_type": "markdown",
   "id": "05f23fe4",
   "metadata": {},
   "source": [
    "* Class creates a user-defined data structure, which holds its own data members and member functions, which can be accessed and used by creating an instance of that class. A class is like a blueprint for an object. \n",
    "* we can say that class is a blueprint to create objects of similiar types.  Example:- fruits,furniture,vehicles etc."
   ]
  },
  {
   "cell_type": "markdown",
   "id": "6d382f70",
   "metadata": {},
   "source": [
    "### Q4. What exactly is a method, and how is it different from a regular function?"
   ]
  },
  {
   "cell_type": "markdown",
   "id": "2cb74327",
   "metadata": {},
   "source": [
    "**Ans**"
   ]
  },
  {
   "cell_type": "markdown",
   "id": "4e9dd113",
   "metadata": {},
   "source": [
    "* The methods with a class can be used to access the instance variables of its instance. So, the object's state can be modified by its method. \n",
    "* Function can't access the attributes of an instance of a class or can't modify the state of the object. \n",
    "* A Function is independent, whereas a method is a function liked with an object. \n",
    "* Explicit data is passed on to a function, whears a method completely passes the object on which it was called in the program. \n",
    "* A method is Object- Oriented-Programming while a function has standalone functionality.\n",
    "\n",
    " "
   ]
  },
  {
   "cell_type": "markdown",
   "id": "136efbbd",
   "metadata": {},
   "source": [
    "### Q5. Is inheritance supported in Python, and if so, what is the syntax?"
   ]
  },
  {
   "cell_type": "markdown",
   "id": "5ed4cb78",
   "metadata": {},
   "source": [
    "**Ans**"
   ]
  },
  {
   "cell_type": "markdown",
   "id": "1d5db49b",
   "metadata": {},
   "source": [
    "Yes, Python supports inheritance. The Types of inheritence Supported by Python are:\n",
    "\n",
    " * Simple Inheritance\n",
    "\n",
    " * Multiple Inheritance\n",
    "\n",
    " * Multilevel IInheritence\n",
    "\n",
    " * Hybrid Inheritance\n",
    "\n",
    " * Hierracial Inheritence"
   ]
  },
  {
   "cell_type": "code",
   "execution_count": 3,
   "id": "44454226",
   "metadata": {},
   "outputs": [],
   "source": [
    "class Person:\n",
    "    def __init__(self, fname, lname):\n",
    "        self.first_name = fname\n",
    "        self.last_name = lname\n",
    "class Student(Person):\n",
    "    pass"
   ]
  },
  {
   "cell_type": "markdown",
   "id": "67980cbc",
   "metadata": {},
   "source": [
    "### Q6. How much encapsulation (making instance or class variables private) does Python support?"
   ]
  },
  {
   "cell_type": "markdown",
   "id": "ca322f0a",
   "metadata": {},
   "source": [
    "**Ans**"
   ]
  },
  {
   "cell_type": "markdown",
   "id": "34ba246c",
   "metadata": {},
   "source": [
    "* Encapsulation describes the idea of wrapping data and the methods that work on data within one unit. \n",
    "* This puts restrictions on accessing variables and methods directly and can prevent the accidental modification of data. \n",
    "* To prevent accidental change, an objects variable can only be changed by an objects method."
   ]
  },
  {
   "cell_type": "markdown",
   "id": "21f603c6",
   "metadata": {},
   "source": [
    "### Q7. How do you distinguish between a class variable and an instance variable?"
   ]
  },
  {
   "cell_type": "markdown",
   "id": "6da34346",
   "metadata": {},
   "source": [
    "**Ans**"
   ]
  },
  {
   "cell_type": "markdown",
   "id": "f214c0a3",
   "metadata": {},
   "source": [
    "* The **Class Attribute** is available to all the instance objects of that class. whereas **Instance Attributes** are accessible only to the object or Instance of that class.\n",
    "* A single copy of Class attributes is maintained by pvm at the class level. Whereas difference copies of instance attributes are maintained by pvm at objects/instance level."
   ]
  },
  {
   "cell_type": "markdown",
   "id": "8f4ce5ff",
   "metadata": {},
   "source": [
    "### Q8. When, if ever, can self be included in a class&#39;s method definitions?"
   ]
  },
  {
   "cell_type": "markdown",
   "id": "4766174b",
   "metadata": {},
   "source": [
    "**Ans**"
   ]
  },
  {
   "cell_type": "markdown",
   "id": "6e0876f1",
   "metadata": {},
   "source": [
    "*  Yes, self can be included in class method definitions to access the instance variables inside class methods."
   ]
  },
  {
   "cell_type": "markdown",
   "id": "9dcd68f6",
   "metadata": {},
   "source": [
    "### Q9. What is the difference between the _ _add_ _ and the _ _radd_ _ methods?"
   ]
  },
  {
   "cell_type": "markdown",
   "id": "3bd72022",
   "metadata": {},
   "source": [
    "**Ans**"
   ]
  },
  {
   "cell_type": "markdown",
   "id": "55a1417a",
   "metadata": {},
   "source": [
    "*  Entering radd Python will first try **`__add__`**, and if that returns Not Implemented Python will check if the right-hand operand implements **`__radd__`**, and if it does, it will call **`__radd__`** rather than raising a **TypeError**.\n",
    "* The expression a+b is internally translated to the method call a.add(b). But if a and b are of different types, it is          possible that a's implementation of addition cannot deal with objects of b's type (or maybe a does not have a add method,      at all). \n",
    "* So, if a.add(b) fails, Python tries b.radd(a) instead, to see if b's implementation can deal with objects of a's      type.\n",
    " "
   ]
  },
  {
   "cell_type": "markdown",
   "id": "c1917d56",
   "metadata": {},
   "source": [
    "### Q10. When is it necessary to use a reflection method? When do you not need it, even though you  support the operation in question?"
   ]
  },
  {
   "cell_type": "markdown",
   "id": "363525b0",
   "metadata": {},
   "source": [
    "**Ans**"
   ]
  },
  {
   "cell_type": "markdown",
   "id": "783535aa",
   "metadata": {},
   "source": [
    "* Reflection refers to the ability for code to be able to examine attributes about objects that might be passed as parameters to a function. \n",
    "* For example, if we write type(obj) then Python will return an object which represents the type of obj. Using reflection, we can write one recursive reverse function that will work for strings, lists, and any other sequence that supports slicing and concatenation. \n",
    "* If an obj is a reference to a string, then Python will return the str type object. Further, if we write str() we get a string which is the empty string. In other words, writing str() is the same thing as writing “”. Likewise, writing list() is the same thing as writing `[]`."
   ]
  },
  {
   "cell_type": "code",
   "execution_count": 4,
   "id": "f2af2096",
   "metadata": {},
   "outputs": [
    {
     "name": "stdout",
     "output_type": "stream",
     "text": [
      "x is not callable\n",
      "y is callable\n"
     ]
    }
   ],
   "source": [
    "x = 5\n",
    "\n",
    "def testFunction():\n",
    "    print(\"Test\")\n",
    "    \n",
    "y = testFunction\n",
    "\n",
    "if (callable(x)):\n",
    "    print(\"x is callable\")\n",
    "else:\n",
    "    print(\"x is not callable\")\n",
    "    \n",
    "if (callable(y)):\n",
    "    print(\"y is callable\")\n",
    "else:\n",
    "    print(\"y is not callable\")\n",
    "    "
   ]
  },
  {
   "cell_type": "markdown",
   "id": "976fc693",
   "metadata": {},
   "source": [
    "### Q11. What is the _ _iadd_ _ method called?"
   ]
  },
  {
   "cell_type": "markdown",
   "id": "27e0cde7",
   "metadata": {},
   "source": [
    "**Ans**"
   ]
  },
  {
   "cell_type": "markdown",
   "id": "21def5d7",
   "metadata": {},
   "source": [
    "* **`__iadd__`** method is called when we use implementation like a+=b which is **a.__iadd__(b)**."
   ]
  },
  {
   "cell_type": "markdown",
   "id": "0bce7281",
   "metadata": {},
   "source": [
    "### Q12. Is the _ _init_ _ method inherited by subclasses? What do you do if you need to customize its behavior within a subclass?"
   ]
  },
  {
   "cell_type": "markdown",
   "id": "1d0161d0",
   "metadata": {},
   "source": [
    "**Ans**"
   ]
  },
  {
   "cell_type": "markdown",
   "id": "b69e50ac",
   "metadata": {},
   "source": [
    "*  Yes, init method will be inherited by subclasses. if we want to customize its behaviour within a subclass we can use super() method."
   ]
  }
 ],
 "metadata": {
  "kernelspec": {
   "display_name": "Python 3 (ipykernel)",
   "language": "python",
   "name": "python3"
  },
  "language_info": {
   "codemirror_mode": {
    "name": "ipython",
    "version": 3
   },
   "file_extension": ".py",
   "mimetype": "text/x-python",
   "name": "python",
   "nbconvert_exporter": "python",
   "pygments_lexer": "ipython3",
   "version": "3.9.13"
  }
 },
 "nbformat": 4,
 "nbformat_minor": 5
}
