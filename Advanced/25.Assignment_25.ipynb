{
 "cells": [
  {
   "cell_type": "markdown",
   "id": "29715ea9",
   "metadata": {},
   "source": [
    "# Assignment_25"
   ]
  },
  {
   "cell_type": "markdown",
   "id": "663d64db",
   "metadata": {},
   "source": [
    "### Q1. What is the distinction between a numpy array and a pandas data frame? Is there a way to convert between the two if there is?"
   ]
  },
  {
   "cell_type": "markdown",
   "id": "b1bd8f17",
   "metadata": {},
   "source": [
    "**Ans**"
   ]
  },
  {
   "cell_type": "markdown",
   "id": "c7c91fbe",
   "metadata": {},
   "source": [
    "* Numpy Ndarray provides a lot of convenient and optimized methods for performing several mathematical operations on vectors.\n",
    "\n",
    "* Pandas Dataframe is an in-memory 2-dimensional tabular representation of data. In simpler words, it can be seen as a spreadsheet having rows and columns.\n",
    "\n",
    "* Conversion : Dataframe=pandas.DataFrame(array)"
   ]
  },
  {
   "cell_type": "markdown",
   "id": "5f922cfc",
   "metadata": {},
   "source": [
    "### Q2. What can go wrong when an user enters in a stock-ticker symbol, and how do you handle it?"
   ]
  },
  {
   "cell_type": "markdown",
   "id": "c337bf77",
   "metadata": {},
   "source": [
    "**Ans**"
   ]
  },
  {
   "cell_type": "markdown",
   "id": "67440e8a",
   "metadata": {},
   "source": [
    "* Bar chart, Line chart, Candlestick chart (using mplfinance module) are used for plotting stock market chart."
   ]
  },
  {
   "cell_type": "markdown",
   "id": "01434654",
   "metadata": {},
   "source": [
    "### Q3. Identify some of the plotting techniques that are used to produce a stock-market chart."
   ]
  },
  {
   "cell_type": "markdown",
   "id": "4f6f8456",
   "metadata": {},
   "source": [
    "**Ans**"
   ]
  },
  {
   "cell_type": "markdown",
   "id": "0f6141a0",
   "metadata": {},
   "source": [
    "* The four types that are most common are--line chart, bar chart, point and figure chart and candlestick chart.\n",
    "\n",
    " Creating a Stock Market Chart\n",
    "\n",
    " * Click the Insert on the ribbon.\n",
    "\n",
    " * Click Recommended Charts.\n",
    "\n",
    " * Go to the All Charts tab.\n",
    "\n",
    " * Select Stock in the list of chart types.\n",
    "\n",
    " * Click Volume-High-Low-Close.\n",
    "\n",
    " * Click Ok."
   ]
  },
  {
   "cell_type": "markdown",
   "id": "8de2ac38",
   "metadata": {},
   "source": [
    "### Q4. Why is it essential to print a legend on a stock market chart?"
   ]
  },
  {
   "cell_type": "markdown",
   "id": "5a770d81",
   "metadata": {},
   "source": [
    "**Ans**"
   ]
  },
  {
   "cell_type": "markdown",
   "id": "74b00b8b",
   "metadata": {},
   "source": [
    "* Legend will help us in comparing different stocks in a stock market chart. Each plot of a Stock chart has a legend, its items representing the series on the plot. \n",
    "* In addition, the legend displays information about the points that are currently hovered over or, if none are hovered over, about the last points shown on the plot. \n",
    "* The text of a legend item includes the name of a series and, depending on the series type, the value or values of the current or last point. The legend title, enabled by default, shows the current or last date (x-value)."
   ]
  },
  {
   "cell_type": "markdown",
   "id": "953b883b",
   "metadata": {},
   "source": [
    "### Q5. What is the best way to limit the length of a pandas data frame to less than a year?"
   ]
  },
  {
   "cell_type": "markdown",
   "id": "acbd0532",
   "metadata": {},
   "source": [
    "**Ans**"
   ]
  },
  {
   "cell_type": "markdown",
   "id": "6047e475",
   "metadata": {},
   "source": [
    "* We can use start and end parameters for that. In start, we write the date from where we are starting and at the end, we write the end date. SO within this span we can restrict the duration. \n",
    "* Also, we can use the parameters like periods i.e for how much times we need the duration and we can also use the frequency parameter for that."
   ]
  },
  {
   "cell_type": "markdown",
   "id": "5754d9b2",
   "metadata": {},
   "source": [
    "### Q6. What is the definition of a 180-day moving average?"
   ]
  },
  {
   "cell_type": "markdown",
   "id": "b601b30c",
   "metadata": {},
   "source": [
    "**Ans**"
   ]
  },
  {
   "cell_type": "markdown",
   "id": "184e4f2d",
   "metadata": {},
   "source": [
    "* The 180-day moving average is represented as a line on charts and represents the average price over the past 180 days. The moving average can give traders a sense regarding whether the trend is up or down, while also identifying potential support or resistance areas. \n",
    "* A moving average (MA) is a stock indicator that is commonly used in technical analysis. \n",
    "* The reason for calculating the moving average of a stock is to help smooth out the price data over a specified period of time by creating a constantly updated average price. \n",
    "* A simple moving average (SMA) is a calculation that takes the arithmetic mean of a given set of prices over the specific number of days in the past; for example, in this case over 180 days."
   ]
  },
  {
   "cell_type": "markdown",
   "id": "8ef2bdc2",
   "metadata": {},
   "source": []
  },
  {
   "cell_type": "markdown",
   "id": "1beb85fd",
   "metadata": {},
   "source": []
  },
  {
   "cell_type": "markdown",
   "id": "38626f9a",
   "metadata": {},
   "source": []
  },
  {
   "cell_type": "markdown",
   "id": "00aea8f2",
   "metadata": {},
   "source": []
  },
  {
   "cell_type": "markdown",
   "id": "482746d7",
   "metadata": {},
   "source": []
  },
  {
   "cell_type": "markdown",
   "id": "2cf00ecf",
   "metadata": {},
   "source": []
  }
 ],
 "metadata": {
  "kernelspec": {
   "display_name": "Python 3 (ipykernel)",
   "language": "python",
   "name": "python3"
  },
  "language_info": {
   "codemirror_mode": {
    "name": "ipython",
    "version": 3
   },
   "file_extension": ".py",
   "mimetype": "text/x-python",
   "name": "python",
   "nbconvert_exporter": "python",
   "pygments_lexer": "ipython3",
   "version": "3.9.13"
  }
 },
 "nbformat": 4,
 "nbformat_minor": 5
}
