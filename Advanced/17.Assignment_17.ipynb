{
 "cells": [
  {
   "cell_type": "markdown",
   "id": "1b4e9f6c",
   "metadata": {},
   "source": [
    "# Assignment_17"
   ]
  },
  {
   "cell_type": "markdown",
   "id": "a67360a7",
   "metadata": {},
   "source": [
    "### Q1. Explain the difference between greedy and non-greedy syntax with visual terms in as few words as possible. What is the bare minimum effort required to transform a greedy pattern into a non-greedy one? What characters or characters can you introduce or change?"
   ]
  },
  {
   "cell_type": "markdown",
   "id": "a807288c",
   "metadata": {},
   "source": [
    "**Ans**"
   ]
  },
  {
   "cell_type": "markdown",
   "id": "d5fddb13",
   "metadata": {},
   "source": [
    "* The Main difference between Greedy and Non Greedy Match Syntax is that the Greedy Match will try to match as many repetitions of the quantified pattern as possible \n",
    "* Whereas the Non Greedy Match as few repetitions of the quantified pattern as possible so that it stil can match the pattern in given string."
   ]
  },
  {
   "cell_type": "code",
   "execution_count": 1,
   "id": "620130db",
   "metadata": {},
   "outputs": [
    {
     "name": "stdout",
     "output_type": "stream",
     "text": [
      "['aaaaaa', '']\n",
      "['', 'a', '', 'a', '', 'a', '', 'a', '', 'a', '']\n"
     ]
    }
   ],
   "source": [
    "import re\n",
    "print(re.findall(\"a*\", \"aaaaaa\")) # Greedy Match Syntax\n",
    "print(re.findall(\"a*?\", \"aaaaa\")) # Non Greddy Syntax"
   ]
  },
  {
   "cell_type": "markdown",
   "id": "fc81bece",
   "metadata": {},
   "source": [
    "### Q2. When exactly does greedy versus non-greedy make a difference?  What if you&#39;re looking for a non-greedy match but the only one available is greedy?"
   ]
  },
  {
   "cell_type": "markdown",
   "id": "c553ad14",
   "metadata": {},
   "source": [
    "**Ans**"
   ]
  },
  {
   "cell_type": "markdown",
   "id": "2f4901e5",
   "metadata": {},
   "source": [
    "* The Greedy Match will try to match as many repetitions of the quantified pattern as possible. The Non Greedy Match will try to match as few repetitions of the quantified pattern as possible. \n",
    "* If only Non Greedy Match is available, we can use other filtering or pattern matching methods of regex and further identify the required pattern."
   ]
  },
  {
   "cell_type": "markdown",
   "id": "bb7fb7c7",
   "metadata": {},
   "source": [
    "### Q3. In a simple match of a string, which looks only for one match and does not do any replacement, is the use of a nontagged group likely to make any practical difference?"
   ]
  },
  {
   "cell_type": "markdown",
   "id": "1f8b0d56",
   "metadata": {},
   "source": [
    "**Ans**"
   ]
  },
  {
   "cell_type": "markdown",
   "id": "ad78bf53",
   "metadata": {},
   "source": [
    "*  In this Case, the Non-Tagged Group will not make any difference. This is shown below:"
   ]
  },
  {
   "cell_type": "code",
   "execution_count": 3,
   "id": "f1e69979",
   "metadata": {},
   "outputs": [
    {
     "name": "stdout",
     "output_type": "stream",
     "text": [
      "Phone number found -> 123\n",
      "Phone number found -> 123\n"
     ]
    }
   ],
   "source": [
    "import re\n",
    "phoneNumRegex = re.compile(r'\\d\\d\\d')\n",
    "num = phoneNumRegex.search('My number is 123-456-7891.')\n",
    "print(f'Phone number found -> {num.group()}') # Non Tagged group\n",
    "print(f'Phone number found -> {num.group()}') # Tagged Group"
   ]
  },
  {
   "cell_type": "markdown",
   "id": "ea980136",
   "metadata": {},
   "source": [
    "### Q4. Describe a scenario in which using a nontagged category would have a significant impact on the program&#39;s outcomes."
   ]
  },
  {
   "cell_type": "markdown",
   "id": "e0b05a7e",
   "metadata": {},
   "source": [
    "**Ans**"
   ]
  },
  {
   "cell_type": "markdown",
   "id": "e5fe837b",
   "metadata": {},
   "source": [
    "* Here in the below Code Snippet . decimal is not tagged or captured. Hence, it will be useful in scenarios where the separator of value in string is of no use and we need to capture only the values."
   ]
  },
  {
   "cell_type": "markdown",
   "id": "546e49d1",
   "metadata": {},
   "source": [
    "import re \n",
    "text='123.456'\n",
    "pattern=r'(\\d+)(?:.)(\\d+)'\n",
    "regobj=re.compile(pattern)\n",
    "matobj=regobj.search(text)\n",
    "matobj.groups()"
   ]
  },
  {
   "cell_type": "markdown",
   "id": "be084743",
   "metadata": {},
   "source": [
    "### Q5. Unlike a normal regex pattern, a look-ahead condition does not consume the characters it examines. Describe a situation in which this could make a difference in the results of your programme."
   ]
  },
  {
   "cell_type": "markdown",
   "id": "43926780",
   "metadata": {},
   "source": [
    "**Ans**"
   ]
  },
  {
   "cell_type": "markdown",
   "id": "a50852ff",
   "metadata": {},
   "source": [
    "* While counting the number of multiple lines or multiple sentences in a string, the positive look ahead makes a difference, without which we will not be able to get the correct count of lines or sentences in string."
   ]
  },
  {
   "cell_type": "markdown",
   "id": "d1840b2b",
   "metadata": {},
   "source": [
    "### Q6. In standard expressions, what is the difference between positive look-ahead and negative look-ahead?"
   ]
  },
  {
   "cell_type": "markdown",
   "id": "1d2e4ad8",
   "metadata": {},
   "source": [
    "**Ans**"
   ]
  },
  {
   "cell_type": "markdown",
   "id": "8f337417",
   "metadata": {},
   "source": [
    "* Positive Look-ahead allows to add a condition for what follows. Negative Lookahead is similar,but it looks behind. That is, it allows to match a pattern only if there's something before it.\n",
    "\n",
    " Syntax Positive Look-Ahead:X(?=Y) syntax Negative Look-Ahead:X(?!Y)"
   ]
  },
  {
   "cell_type": "code",
   "execution_count": 5,
   "id": "efb3de6b",
   "metadata": {},
   "outputs": [
    {
     "name": "stdout",
     "output_type": "stream",
     "text": [
      "4\n"
     ]
    }
   ],
   "source": [
    "#Positive Look Ahead\n",
    "import re \n",
    "\n",
    "s = '1 Python is about 4 feet long'\n",
    "pattern = '\\d+(?=\\s*feet)'\n",
    "\n",
    "matches = re.finditer(pattern,s)\n",
    "for match in matches:\n",
    "    print(match.group())"
   ]
  },
  {
   "cell_type": "code",
   "execution_count": 6,
   "id": "1c4b2145",
   "metadata": {},
   "outputs": [
    {
     "name": "stdout",
     "output_type": "stream",
     "text": [
      "1\n"
     ]
    }
   ],
   "source": [
    "#Negative Look Ahead\n",
    "import re \n",
    "\n",
    "s = '1 Python is about 4 feet long'\n",
    "pattern = '\\d+(?!\\s*feet)'\n",
    "\n",
    "matches = re.finditer(pattern,s)\n",
    "for match in matches:\n",
    "    print(match.group())"
   ]
  },
  {
   "cell_type": "markdown",
   "id": "e4d3efe0",
   "metadata": {},
   "source": [
    "### Q7. What is the benefit of referring to groups by name rather than by number in a standard expression?"
   ]
  },
  {
   "cell_type": "markdown",
   "id": "c84d65a7",
   "metadata": {},
   "source": [
    "**Ans**"
   ]
  },
  {
   "cell_type": "markdown",
   "id": "967c3e71",
   "metadata": {},
   "source": [
    "* The advantage to named groups is that it adds readability and understandability to the code, so that you can easily see what part of a regular expression match is being referenced."
   ]
  },
  {
   "cell_type": "markdown",
   "id": "cc270701",
   "metadata": {},
   "source": [
    "### Q8. Can you identify repeated items within a target string using named groups, as in &quot;The cow jumped over the moon&quot;?"
   ]
  },
  {
   "cell_type": "markdown",
   "id": "d40e4d0a",
   "metadata": {},
   "source": [
    "**Ans**"
   ]
  },
  {
   "cell_type": "code",
   "execution_count": 7,
   "id": "2f79ad8f",
   "metadata": {},
   "outputs": [
    {
     "data": {
      "text/plain": [
       "['The', 'the']"
      ]
     },
     "execution_count": 7,
     "metadata": {},
     "output_type": "execute_result"
    }
   ],
   "source": [
    "import re \n",
    "text = \"The cow jumped over the moon\"\n",
    "regobj=re.compile(r'(?P<w1>The)',re.I)\n",
    "regobj.findall(text)"
   ]
  },
  {
   "cell_type": "markdown",
   "id": "ae27ab79",
   "metadata": {},
   "source": [
    "### Q9. When parsing a string, what is at least one thing that the Scanner interface does for you that the re.findall feature does not?"
   ]
  },
  {
   "cell_type": "markdown",
   "id": "1ade41d5",
   "metadata": {},
   "source": [
    "**Ans**"
   ]
  },
  {
   "cell_type": "markdown",
   "id": "f13577f0",
   "metadata": {},
   "source": [
    "* re.findall()module is used to search for all occurrences the match a given pattern. In contrast, re.search() will only return the first occurrence that matches the specified overlapping matches of pattern in single step."
   ]
  },
  {
   "cell_type": "markdown",
   "id": "261fdaf9",
   "metadata": {},
   "source": [
    "### Q10. Does a scanner object have to be named scanner?"
   ]
  },
  {
   "cell_type": "markdown",
   "id": "7dd10cf5",
   "metadata": {},
   "source": [
    "**Ans**"
   ]
  },
  {
   "cell_type": "markdown",
   "id": "6a8e0ff8",
   "metadata": {},
   "source": [
    "* Yes, It may have any name."
   ]
  },
  {
   "cell_type": "code",
   "execution_count": null,
   "id": "402efba9",
   "metadata": {},
   "outputs": [],
   "source": []
  }
 ],
 "metadata": {
  "kernelspec": {
   "display_name": "Python 3 (ipykernel)",
   "language": "python",
   "name": "python3"
  },
  "language_info": {
   "codemirror_mode": {
    "name": "ipython",
    "version": 3
   },
   "file_extension": ".py",
   "mimetype": "text/x-python",
   "name": "python",
   "nbconvert_exporter": "python",
   "pygments_lexer": "ipython3",
   "version": "3.9.13"
  }
 },
 "nbformat": 4,
 "nbformat_minor": 5
}
