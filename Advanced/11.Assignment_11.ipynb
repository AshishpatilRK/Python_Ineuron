{
 "cells": [
  {
   "cell_type": "markdown",
   "id": "b8a2b20b",
   "metadata": {},
   "source": [
    "# Assignment_11"
   ]
  },
  {
   "cell_type": "markdown",
   "id": "b605a68f",
   "metadata": {},
   "source": [
    "### Q1. What is the concept of a metaclass?"
   ]
  },
  {
   "cell_type": "markdown",
   "id": "73484046",
   "metadata": {},
   "source": [
    "**Ans**"
   ]
  },
  {
   "cell_type": "markdown",
   "id": "b6e2ed1a",
   "metadata": {},
   "source": [
    " Metaclass in Python is a class of a class that defines how a class behaves. A class is itself a instance of Metaclass, and any Instance of class Python is an Instance of type metaclass. E.g.Type of int,str,float,list,tuple and many more is of metaclass type."
   ]
  },
  {
   "cell_type": "code",
   "execution_count": null,
   "id": "dbf52d2f",
   "metadata": {},
   "outputs": [],
   "source": [
    "# our metaclass\n",
    "class MultiBases(type):\n",
    "        # overriding __new__ method\n",
    "        def __new__(cls, clsname, bases, clsdict):\n",
    "                # if no of base classes is greater than 1\n",
    "                # raise error\n",
    "                if len(bases)>1:\n",
    "                        raise TypeError(\"Inherited multiple base classes!!!\")\n",
    "\n",
    "                # else execute __new__ method of super class, ie.\n",
    "                # call __init__ of type class\n",
    "                return super().__new__(cls, clsname, bases, clsdict)\n",
    "\n",
    "# metaclass can be specified by 'metaclass' keyword argument\n",
    "# now MultiBase class is used for creating classes\n",
    "# this will be propagated to all subclasses of Base\n",
    "class Base(metaclass=MultiBases):\n",
    "        pass\n",
    "\n",
    "# no error is raised\n",
    "class A(Base):\n",
    "        pass\n",
    "\n",
    "# no error is raised\n",
    "class B(Base):\n",
    "        pass\n",
    "\n",
    "# This will raise an error!\n",
    "class C(A, B):\n",
    "       pass"
   ]
  },
  {
   "cell_type": "markdown",
   "id": "dd477023",
   "metadata": {},
   "source": [
    "### Q2. What is the best way to declare a class&#39;s metaclass?"
   ]
  },
  {
   "cell_type": "markdown",
   "id": "bc982f87",
   "metadata": {},
   "source": [
    "**Ans**"
   ]
  },
  {
   "cell_type": "markdown",
   "id": "8e6d221d",
   "metadata": {},
   "source": [
    "* : A way to declare a class'metaclass is by using metaclass keyword in class definition"
   ]
  },
  {
   "cell_type": "code",
   "execution_count": 3,
   "id": "f24f0616",
   "metadata": {},
   "outputs": [
    {
     "name": "stdout",
     "output_type": "stream",
     "text": [
      "<class 'type'>\n",
      "<class '__main__.meta'>\n"
     ]
    }
   ],
   "source": [
    "class meta(type):\n",
    "    pass\n",
    "class class_meta(metaclass=meta):\n",
    "    pass\n",
    "print(type(meta))\n",
    "print(type(class_meta))"
   ]
  },
  {
   "cell_type": "markdown",
   "id": "44743dbc",
   "metadata": {},
   "source": [
    "### Q3. How do class decorators overlap with metaclasses for handling classes?"
   ]
  },
  {
   "cell_type": "markdown",
   "id": "3b24a440",
   "metadata": {},
   "source": [
    "**Ans**"
   ]
  },
  {
   "cell_type": "markdown",
   "id": "d0e96940",
   "metadata": {},
   "source": [
    " Anything you can do with a class decorator, you can of course do with a custom metaclasses (just apply the functionality of the \"decorator function\", i.e., the one that takes a class object and modifies it, in the course of the metaclass's **`__new__`** or **`__init__`** that make the class object!)."
   ]
  },
  {
   "cell_type": "markdown",
   "id": "732ed20f",
   "metadata": {},
   "source": [
    "### Q4. How do class decorators overlap with metaclasses for handling instances?"
   ]
  },
  {
   "cell_type": "markdown",
   "id": "6c6be367",
   "metadata": {},
   "source": [
    "**Ans**"
   ]
  },
  {
   "cell_type": "markdown",
   "id": "2f7b748c",
   "metadata": {},
   "source": [
    " Anything you can do with a class decorator, you can of course do with a custom metaclasses (just apply the functionality of the \"decorator function\", i.e., the one that takes a class object and modifies it, in the course of the metaclass's __new__ or __init__ that make the class object!)."
   ]
  },
  {
   "cell_type": "markdown",
   "id": "e243f42f",
   "metadata": {},
   "source": []
  },
  {
   "cell_type": "markdown",
   "id": "2df2b688",
   "metadata": {},
   "source": []
  },
  {
   "cell_type": "markdown",
   "id": "2d96b0f2",
   "metadata": {},
   "source": []
  },
  {
   "cell_type": "markdown",
   "id": "c55a6a7a",
   "metadata": {},
   "source": []
  }
 ],
 "metadata": {
  "kernelspec": {
   "display_name": "Python 3 (ipykernel)",
   "language": "python",
   "name": "python3"
  },
  "language_info": {
   "codemirror_mode": {
    "name": "ipython",
    "version": 3
   },
   "file_extension": ".py",
   "mimetype": "text/x-python",
   "name": "python",
   "nbconvert_exporter": "python",
   "pygments_lexer": "ipython3",
   "version": "3.9.13"
  }
 },
 "nbformat": 4,
 "nbformat_minor": 5
}
