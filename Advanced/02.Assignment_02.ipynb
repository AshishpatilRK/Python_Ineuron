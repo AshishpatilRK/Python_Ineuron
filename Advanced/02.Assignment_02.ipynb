{
 "cells": [
  {
   "cell_type": "markdown",
   "id": "3081240a",
   "metadata": {},
   "source": [
    "# Assignment_02"
   ]
  },
  {
   "cell_type": "markdown",
   "id": "a3de0cbf",
   "metadata": {},
   "source": [
    "### Q1. What is the relationship between classes and modules?"
   ]
  },
  {
   "cell_type": "markdown",
   "id": "c754e767",
   "metadata": {},
   "source": [
    "**Ans**"
   ]
  },
  {
   "cell_type": "markdown",
   "id": "fe3ac956",
   "metadata": {},
   "source": [
    "* Module is a file containing all python functions, classes, variables, etc.\n",
    "* class is a blueprint for creating objects. We can define multiple classes in a module."
   ]
  },
  {
   "cell_type": "markdown",
   "id": "b6267a84",
   "metadata": {},
   "source": [
    "### Q2. How do you make instances and classes?"
   ]
  },
  {
   "cell_type": "markdown",
   "id": "63c3c962",
   "metadata": {},
   "source": [
    "**Ans**"
   ]
  },
  {
   "cell_type": "markdown",
   "id": "d7083104",
   "metadata": {},
   "source": [
    "* Class :\n",
    "    * Creating a class, we use the Class keyword. Class keyword is followed by classname and semicolon.<br>\n",
    "* Instances :    \n",
    "    * For creating a class instance. we call a class by its name and pass the arguments which its init method accepts.\n",
    "                "
   ]
  },
  {
   "cell_type": "code",
   "execution_count": 1,
   "id": "0161c634",
   "metadata": {},
   "outputs": [],
   "source": [
    "class Car:  # class\n",
    "    def __init__(self,name,model):\n",
    "        self.name = name\n",
    "        self.model = model\n",
    "        \n",
    "car1 = Car('Tata','tiago')   # car1 - instance of class"
   ]
  },
  {
   "cell_type": "markdown",
   "id": "b50d8741",
   "metadata": {},
   "source": [
    "### Q3. Where and how should be class attributes created?"
   ]
  },
  {
   "cell_type": "markdown",
   "id": "4f257980",
   "metadata": {},
   "source": [
    "**Ans**"
   ]
  },
  {
   "cell_type": "markdown",
   "id": "85d8463d",
   "metadata": {},
   "source": [
    "* A class attribute is a Python variable that belongs to a class rather than a particular object. It is shared between all the objects of this class and it is defined outside the constructor function, init(self,...), of the class.\n",
    "* Hence these attributes are usually created/defined in the top of class definiation outside all methods."
   ]
  },
  {
   "cell_type": "code",
   "execution_count": 2,
   "id": "4ee70a56",
   "metadata": {},
   "outputs": [],
   "source": [
    "class ExampleClass(object):\n",
    "  class_attr = 0   # class attribute\n",
    "\n",
    "  def __init__(self, instance_attr):\n",
    "    self.instance_attr = instance_attr"
   ]
  },
  {
   "cell_type": "markdown",
   "id": "8697186e",
   "metadata": {},
   "source": [
    "* The class attribute (class_attr) is accessible as both a property of the class and as a property of objects, as it is shared between all of them"
   ]
  },
  {
   "cell_type": "markdown",
   "id": "63ae3735",
   "metadata": {},
   "source": [
    "### Q4. Where and how are instance attributes created?"
   ]
  },
  {
   "cell_type": "markdown",
   "id": "4b7b2641",
   "metadata": {},
   "source": [
    "**Ans**"
   ]
  },
  {
   "cell_type": "markdown",
   "id": "5c408237",
   "metadata": {},
   "source": [
    "* In Python's OOP, instance attributes are created inside the class's methods.\n",
    "* Instances attributes are passed to the class when an object of the class is created.\n",
    "* Unlike class attributes, instance attributes are not shared by all objects of the classs. instead each object maintains its own copy of instance attributes at object level. \n",
    "* Usually instance attributes are defined within the init method of class"
   ]
  },
  {
   "cell_type": "code",
   "execution_count": 4,
   "id": "a998c469",
   "metadata": {},
   "outputs": [],
   "source": [
    "class Cars:\n",
    "    def __init__(self,color,price,engine): \n",
    "        self.color = color  # All this are instance attributes \n",
    "        self.price = price  # All this are instance attributes \n",
    "        self.engine = engine # All this are instance attributes \n",
    "        \n",
    "nexon_ev = Cars('Indigo Blue', 1400000, 'electric') \n",
    "safari = Cars('Pearl White',2100000, 'petrol')"
   ]
  },
  {
   "cell_type": "markdown",
   "id": "19cf4cca",
   "metadata": {},
   "source": [
    "### Q5. What does the term &quot;self&quot; in a Python class mean?"
   ]
  },
  {
   "cell_type": "markdown",
   "id": "ccd907e9",
   "metadata": {},
   "source": [
    "**Ans**"
   ]
  },
  {
   "cell_type": "markdown",
   "id": "d44a4a8c",
   "metadata": {},
   "source": [
    "* **self** represents the instance of the class (it represents the object itself). By using the “self” keyword we can access the attributes and methods of the class with in the class in python. It binds the attributes with the given arguments.\n",
    "* We can write any word other than 'self'. 'self' is just a naming convention."
   ]
  },
  {
   "cell_type": "code",
   "execution_count": 5,
   "id": "c7abeef7",
   "metadata": {},
   "outputs": [
    {
     "name": "stdout",
     "output_type": "stream",
     "text": [
      "{'color': 'Indigo Blue', 'price': 1400000, 'engine': 'electric'}\n",
      "{'color': 'Pearl White', 'price': 2100000, 'engine': 'petrol'}\n"
     ]
    }
   ],
   "source": [
    "class Car:\n",
    "    def __init__(self,color,price,engine):\n",
    "        self.color = color # All this are instance attributes\n",
    "        self.price = price\n",
    "        self.engine = engine\n",
    "\n",
    "nexon_ev = Car('Indigo Blue', 1400000, 'electric')\n",
    "safari = Car('Pearl White',2100000, 'petrol')\n",
    "\n",
    "print(nexon_ev.__dict__)\n",
    "print(safari.__dict__)"
   ]
  },
  {
   "cell_type": "markdown",
   "id": "ee5869b7",
   "metadata": {},
   "source": [
    "### Q6. How does a Python class handle operator overloading?"
   ]
  },
  {
   "cell_type": "markdown",
   "id": "a1e3313b",
   "metadata": {},
   "source": [
    "**Ans**"
   ]
  },
  {
   "cell_type": "markdown",
   "id": "915f7471",
   "metadata": {},
   "source": [
    "* Python Classes handle operator overloading by using special methods called Magic methods. these special methods usually begin and end with __ (double underscore) Example: Magic methods for basic arithmetic operators are:"
   ]
  },
  {
   "cell_type": "markdown",
   "id": "d159dee5",
   "metadata": {},
   "source": [
    "* Following are some of the operator overloading magic function from python\n",
    "\n",
    "            +\t__add__(self, other)\n",
    "            –\t__sub__(self, other)\n",
    "            *\t__mul__(self, other)\n",
    "            /\t__truediv__(self, other)\n",
    "            //\t__floordiv__(self, other)\n",
    "            %\t__mod__(self, other)\n",
    "            **\t__pow__(self, other)"
   ]
  },
  {
   "cell_type": "code",
   "execution_count": 6,
   "id": "63a3590c",
   "metadata": {},
   "outputs": [
    {
     "name": "stdout",
     "output_type": "stream",
     "text": [
      "The total number of pages in 2 books is 300\n"
     ]
    }
   ],
   "source": [
    "class Book:\n",
    "    def __init__(self,pages):\n",
    "        self.pages = pages\n",
    "    def __add__(self,other): # magic function\n",
    "        return self.pages + other.pages\n",
    "b1 = Book(100)\n",
    "b2 = Book(200)\n",
    "print(f'The total number of pages in 2 books is {b1+b2}')"
   ]
  },
  {
   "cell_type": "markdown",
   "id": "76964318",
   "metadata": {},
   "source": [
    "The + operator is overloaded using a special method named add() . This method is implemented by both the int and str classes."
   ]
  },
  {
   "cell_type": "markdown",
   "id": "bb4bbcec",
   "metadata": {},
   "source": [
    "### Q7. When do you consider allowing operator overloading of your classes?"
   ]
  },
  {
   "cell_type": "markdown",
   "id": "56674a89",
   "metadata": {},
   "source": [
    "**Ans**"
   ]
  },
  {
   "cell_type": "markdown",
   "id": "78fe2c4c",
   "metadata": {},
   "source": [
    "* When we want to have different meaning for the same operator according to the context we use operator overloading.\n",
    "* Consider that we have two objects which are a physical representation of a class (user-defined data type) and we have to add two objects with binary ‘+’ operator it throws an error, because compiler don’t know how to add two objects. \n",
    "* So we define a method for an operator and that process is called operator overloading. Now the + operator will perform arithmetic addition on two numbers, merge two lists, or concatenate two strings.\n",
    "* Operator overloading can be useful when you want to define custom behavior for built-in operators in your own classes. This can make your code more expressive and easier to read, especially when working with complex data structures or mathematical operations."
   ]
  },
  {
   "cell_type": "markdown",
   "id": "614feea4",
   "metadata": {},
   "source": [
    "### Q8. What is the most popular form of operator overloading?"
   ]
  },
  {
   "cell_type": "markdown",
   "id": "8456d826",
   "metadata": {},
   "source": [
    "**Ans**"
   ]
  },
  {
   "cell_type": "markdown",
   "id": "7d2cf759",
   "metadata": {},
   "source": [
    "* This feature in Python that allows the same operator to have different meaning according to the context is called operator overloading.\n",
    "* The + Operator is most popular operator overloding. When we use + operator, the magic method add is automatically invoked in which the operation for + operator is defined. \n",
    "* There by changing this magic method’s code, we can give extra meaning to the + operator. Python operators work for built-in classes. But the same operator behaves differently with different types. \n",
    "* For example, the + operator will perform arithmetic addition on two numbers, merge two lists, or concatenate two strings."
   ]
  },
  {
   "cell_type": "code",
   "execution_count": 8,
   "id": "ecb7667a",
   "metadata": {},
   "outputs": [
    {
     "name": "stdout",
     "output_type": "stream",
     "text": [
      "Sum -> 3\n",
      "String Concatenation -> Ashish Patil\n"
     ]
    }
   ],
   "source": [
    "class A:\n",
    "    def __init__(self,a):\n",
    "        self.a = a\n",
    "    def __add__(self,o):\n",
    "        return self.a+o.a\n",
    "obj1 = A(1)\n",
    "obj2 = A(2)\n",
    "obj3 = A('Ashish')\n",
    "obj4 = A(' Patil')\n",
    "print(f'Sum -> {obj1+obj2}')\n",
    "print(f'String Concatenation -> {obj3+obj4}')"
   ]
  },
  {
   "cell_type": "markdown",
   "id": "deaef792",
   "metadata": {},
   "source": [
    "### Q9. What are the two most important concepts to grasp in order to comprehend Python OOP code?"
   ]
  },
  {
   "cell_type": "markdown",
   "id": "8ac74365",
   "metadata": {},
   "source": [
    "**Ans**"
   ]
  },
  {
   "cell_type": "markdown",
   "id": "cc1fc2bc",
   "metadata": {},
   "source": [
    "* Classes and objects are the two concepts to comprehend python OOP code as more formally objects are entities that represent instances of general abstract concept called class. where as Class is template for objects.\n",
    "* Along with classes and objects the important concepts to grasp are:\n",
    "\n",
    "    * Inheritence\n",
    "    * Abstraction\n",
    "    * Polymorphism\n",
    "    * Encapsulation"
   ]
  },
  {
   "cell_type": "code",
   "execution_count": null,
   "id": "8b489f92",
   "metadata": {},
   "outputs": [],
   "source": []
  }
 ],
 "metadata": {
  "kernelspec": {
   "display_name": "Python 3 (ipykernel)",
   "language": "python",
   "name": "python3"
  },
  "language_info": {
   "codemirror_mode": {
    "name": "ipython",
    "version": 3
   },
   "file_extension": ".py",
   "mimetype": "text/x-python",
   "name": "python",
   "nbconvert_exporter": "python",
   "pygments_lexer": "ipython3",
   "version": "3.9.13"
  }
 },
 "nbformat": 4,
 "nbformat_minor": 5
}
